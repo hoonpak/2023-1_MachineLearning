{
 "cells": [
  {
   "cell_type": "code",
   "execution_count": 1,
   "id": "4cab1236",
   "metadata": {
    "_cell_guid": "b1076dfc-b9ad-4769-8c92-a6c4dae69d19",
    "_uuid": "8f2839f25d086af736a60e9eeb907d3b93b6e0e5",
    "execution": {
     "iopub.execute_input": "2023-04-02T15:21:37.692602Z",
     "iopub.status.busy": "2023-04-02T15:21:37.691106Z",
     "iopub.status.idle": "2023-04-02T15:21:37.712061Z",
     "shell.execute_reply": "2023-04-02T15:21:37.710260Z"
    },
    "papermill": {
     "duration": 0.032257,
     "end_time": "2023-04-02T15:21:37.715199",
     "exception": false,
     "start_time": "2023-04-02T15:21:37.682942",
     "status": "completed"
    },
    "tags": []
   },
   "outputs": [
    {
     "name": "stdout",
     "output_type": "stream",
     "text": [
      "/kaggle/input/2023-ml-w5p2/trainX.csv\n",
      "/kaggle/input/2023-ml-w5p2/testX.csv\n",
      "/kaggle/input/2023-ml-w5p2/trainY.csv\n",
      "/kaggle/input/2023-ml-w5p2/submit.csv\n"
     ]
    }
   ],
   "source": [
    "# This Python 3 environment comes with many helpful analytics libraries installed\n",
    "# It is defined by the kaggle/python Docker image: https://github.com/kaggle/docker-python\n",
    "# For example, here's several helpful packages to load\n",
    "\n",
    "import numpy as np # linear algebra\n",
    "import pandas as pd # data processing, CSV file I/O (e.g. pd.read_csv)\n",
    "\n",
    "# Input data files are available in the read-only \"../input/\" directory\n",
    "# For example, running this (by clicking run or pressing Shift+Enter) will list all files under the input directory\n",
    "\n",
    "import os\n",
    "for dirname, _, filenames in os.walk('/kaggle/input'):\n",
    "    for filename in filenames:\n",
    "        print(os.path.join(dirname, filename))\n",
    "\n",
    "# You can write up to 20GB to the current directory (/kaggle/working/) that gets preserved as output when you create a version using \"Save & Run All\" \n",
    "# You can also write temporary files to /kaggle/temp/, but they won't be saved outside of the current session"
   ]
  },
  {
   "cell_type": "code",
   "execution_count": 2,
   "id": "4fad1a84",
   "metadata": {
    "execution": {
     "iopub.execute_input": "2023-04-02T15:21:37.727829Z",
     "iopub.status.busy": "2023-04-02T15:21:37.726859Z",
     "iopub.status.idle": "2023-04-02T15:21:37.734144Z",
     "shell.execute_reply": "2023-04-02T15:21:37.732653Z"
    },
    "papermill": {
     "duration": 0.016387,
     "end_time": "2023-04-02T15:21:37.736590",
     "exception": false,
     "start_time": "2023-04-02T15:21:37.720203",
     "status": "completed"
    },
    "tags": []
   },
   "outputs": [],
   "source": [
    "import random\n",
    "import os\n",
    "\n",
    "seed = 42\n",
    "\n",
    "random.seed(seed)\n",
    "np.random.seed(seed)\n",
    "os.environ[\"PYTHONHASHSEED\"] = str(seed)"
   ]
  },
  {
   "cell_type": "code",
   "execution_count": 3,
   "id": "fc8499be",
   "metadata": {
    "execution": {
     "iopub.execute_input": "2023-04-02T15:21:37.748766Z",
     "iopub.status.busy": "2023-04-02T15:21:37.748206Z",
     "iopub.status.idle": "2023-04-02T15:21:37.785387Z",
     "shell.execute_reply": "2023-04-02T15:21:37.783950Z"
    },
    "papermill": {
     "duration": 0.046889,
     "end_time": "2023-04-02T15:21:37.788214",
     "exception": false,
     "start_time": "2023-04-02T15:21:37.741325",
     "status": "completed"
    },
    "tags": []
   },
   "outputs": [],
   "source": [
    "x = pd.read_csv(\"/kaggle/input/2023-ml-w5p2/trainX.csv\")\n",
    "y = pd.read_csv(\"/kaggle/input/2023-ml-w5p2/trainY.csv\")\n",
    "test = pd.read_csv(\"/kaggle/input/2023-ml-w5p2/testX.csv\")\n",
    "submit = pd.read_csv(\"/kaggle/input/2023-ml-w5p2/submit.csv\")"
   ]
  },
  {
   "cell_type": "code",
   "execution_count": 4,
   "id": "f858fa96",
   "metadata": {
    "execution": {
     "iopub.execute_input": "2023-04-02T15:21:37.801271Z",
     "iopub.status.busy": "2023-04-02T15:21:37.799478Z",
     "iopub.status.idle": "2023-04-02T15:21:37.841845Z",
     "shell.execute_reply": "2023-04-02T15:21:37.840258Z"
    },
    "papermill": {
     "duration": 0.052015,
     "end_time": "2023-04-02T15:21:37.845028",
     "exception": false,
     "start_time": "2023-04-02T15:21:37.793013",
     "status": "completed"
    },
    "tags": []
   },
   "outputs": [
    {
     "data": {
      "text/html": [
       "<div>\n",
       "<style scoped>\n",
       "    .dataframe tbody tr th:only-of-type {\n",
       "        vertical-align: middle;\n",
       "    }\n",
       "\n",
       "    .dataframe tbody tr th {\n",
       "        vertical-align: top;\n",
       "    }\n",
       "\n",
       "    .dataframe thead th {\n",
       "        text-align: right;\n",
       "    }\n",
       "</style>\n",
       "<table border=\"1\" class=\"dataframe\">\n",
       "  <thead>\n",
       "    <tr style=\"text-align: right;\">\n",
       "      <th></th>\n",
       "      <th>sleep_time_mean</th>\n",
       "      <th>sleep_time_std</th>\n",
       "      <th>sleep_time_min</th>\n",
       "      <th>sleep_time_25</th>\n",
       "      <th>sleep_time_50</th>\n",
       "      <th>sleep_time_75</th>\n",
       "      <th>sleep_time_max</th>\n",
       "      <th>sleep_quality_mean</th>\n",
       "      <th>sleep_quality_std</th>\n",
       "      <th>sleep_quality_min</th>\n",
       "      <th>sleep_quality_25</th>\n",
       "      <th>sleep_quality_50</th>\n",
       "      <th>sleep_quality_75</th>\n",
       "      <th>sleep_quality_max</th>\n",
       "    </tr>\n",
       "  </thead>\n",
       "  <tbody>\n",
       "    <tr>\n",
       "      <th>0</th>\n",
       "      <td>6.250000</td>\n",
       "      <td>0.689202</td>\n",
       "      <td>5.0</td>\n",
       "      <td>6.125</td>\n",
       "      <td>6.5</td>\n",
       "      <td>6.50</td>\n",
       "      <td>7.0</td>\n",
       "      <td>3.500000</td>\n",
       "      <td>0.836660</td>\n",
       "      <td>2.0</td>\n",
       "      <td>3.25</td>\n",
       "      <td>4.0</td>\n",
       "      <td>4.0</td>\n",
       "      <td>4.0</td>\n",
       "    </tr>\n",
       "    <tr>\n",
       "      <th>1</th>\n",
       "      <td>6.418182</td>\n",
       "      <td>1.169693</td>\n",
       "      <td>3.0</td>\n",
       "      <td>6.000</td>\n",
       "      <td>6.5</td>\n",
       "      <td>6.75</td>\n",
       "      <td>9.5</td>\n",
       "      <td>3.345455</td>\n",
       "      <td>0.672700</td>\n",
       "      <td>1.0</td>\n",
       "      <td>3.00</td>\n",
       "      <td>3.0</td>\n",
       "      <td>4.0</td>\n",
       "      <td>4.0</td>\n",
       "    </tr>\n",
       "    <tr>\n",
       "      <th>2</th>\n",
       "      <td>7.034483</td>\n",
       "      <td>1.127262</td>\n",
       "      <td>5.5</td>\n",
       "      <td>6.500</td>\n",
       "      <td>6.5</td>\n",
       "      <td>8.00</td>\n",
       "      <td>11.0</td>\n",
       "      <td>3.862069</td>\n",
       "      <td>0.347839</td>\n",
       "      <td>3.0</td>\n",
       "      <td>4.00</td>\n",
       "      <td>4.0</td>\n",
       "      <td>4.0</td>\n",
       "      <td>4.0</td>\n",
       "    </tr>\n",
       "    <tr>\n",
       "      <th>3</th>\n",
       "      <td>6.453846</td>\n",
       "      <td>1.070642</td>\n",
       "      <td>3.0</td>\n",
       "      <td>6.000</td>\n",
       "      <td>6.5</td>\n",
       "      <td>7.00</td>\n",
       "      <td>9.0</td>\n",
       "      <td>3.061538</td>\n",
       "      <td>0.768052</td>\n",
       "      <td>1.0</td>\n",
       "      <td>3.00</td>\n",
       "      <td>3.0</td>\n",
       "      <td>4.0</td>\n",
       "      <td>4.0</td>\n",
       "    </tr>\n",
       "    <tr>\n",
       "      <th>4</th>\n",
       "      <td>5.902439</td>\n",
       "      <td>1.817345</td>\n",
       "      <td>3.5</td>\n",
       "      <td>4.500</td>\n",
       "      <td>5.5</td>\n",
       "      <td>7.00</td>\n",
       "      <td>10.0</td>\n",
       "      <td>2.975610</td>\n",
       "      <td>0.961452</td>\n",
       "      <td>1.0</td>\n",
       "      <td>2.00</td>\n",
       "      <td>3.0</td>\n",
       "      <td>4.0</td>\n",
       "      <td>4.0</td>\n",
       "    </tr>\n",
       "  </tbody>\n",
       "</table>\n",
       "</div>"
      ],
      "text/plain": [
       "   sleep_time_mean  sleep_time_std  sleep_time_min  sleep_time_25  \\\n",
       "0         6.250000        0.689202             5.0          6.125   \n",
       "1         6.418182        1.169693             3.0          6.000   \n",
       "2         7.034483        1.127262             5.5          6.500   \n",
       "3         6.453846        1.070642             3.0          6.000   \n",
       "4         5.902439        1.817345             3.5          4.500   \n",
       "\n",
       "   sleep_time_50  sleep_time_75  sleep_time_max  sleep_quality_mean  \\\n",
       "0            6.5           6.50             7.0            3.500000   \n",
       "1            6.5           6.75             9.5            3.345455   \n",
       "2            6.5           8.00            11.0            3.862069   \n",
       "3            6.5           7.00             9.0            3.061538   \n",
       "4            5.5           7.00            10.0            2.975610   \n",
       "\n",
       "   sleep_quality_std  sleep_quality_min  sleep_quality_25  sleep_quality_50  \\\n",
       "0           0.836660                2.0              3.25               4.0   \n",
       "1           0.672700                1.0              3.00               3.0   \n",
       "2           0.347839                3.0              4.00               4.0   \n",
       "3           0.768052                1.0              3.00               3.0   \n",
       "4           0.961452                1.0              2.00               3.0   \n",
       "\n",
       "   sleep_quality_75  sleep_quality_max  \n",
       "0               4.0                4.0  \n",
       "1               4.0                4.0  \n",
       "2               4.0                4.0  \n",
       "3               4.0                4.0  \n",
       "4               4.0                4.0  "
      ]
     },
     "execution_count": 4,
     "metadata": {},
     "output_type": "execute_result"
    }
   ],
   "source": [
    "x.head()"
   ]
  },
  {
   "cell_type": "code",
   "execution_count": 5,
   "id": "6d225dd0",
   "metadata": {
    "execution": {
     "iopub.execute_input": "2023-04-02T15:21:37.860870Z",
     "iopub.status.busy": "2023-04-02T15:21:37.859288Z",
     "iopub.status.idle": "2023-04-02T15:21:37.890070Z",
     "shell.execute_reply": "2023-04-02T15:21:37.888136Z"
    },
    "papermill": {
     "duration": 0.042599,
     "end_time": "2023-04-02T15:21:37.893884",
     "exception": false,
     "start_time": "2023-04-02T15:21:37.851285",
     "status": "completed"
    },
    "tags": []
   },
   "outputs": [
    {
     "name": "stdout",
     "output_type": "stream",
     "text": [
      "<class 'pandas.core.frame.DataFrame'>\n",
      "RangeIndex: 23 entries, 0 to 22\n",
      "Data columns (total 14 columns):\n",
      " #   Column              Non-Null Count  Dtype  \n",
      "---  ------              --------------  -----  \n",
      " 0   sleep_time_mean     23 non-null     float64\n",
      " 1   sleep_time_std      23 non-null     float64\n",
      " 2   sleep_time_min      23 non-null     float64\n",
      " 3   sleep_time_25       23 non-null     float64\n",
      " 4   sleep_time_50       23 non-null     float64\n",
      " 5   sleep_time_75       23 non-null     float64\n",
      " 6   sleep_time_max      23 non-null     float64\n",
      " 7   sleep_quality_mean  23 non-null     float64\n",
      " 8   sleep_quality_std   23 non-null     float64\n",
      " 9   sleep_quality_min   23 non-null     float64\n",
      " 10  sleep_quality_25    23 non-null     float64\n",
      " 11  sleep_quality_50    23 non-null     float64\n",
      " 12  sleep_quality_75    23 non-null     float64\n",
      " 13  sleep_quality_max   23 non-null     float64\n",
      "dtypes: float64(14)\n",
      "memory usage: 2.6 KB\n"
     ]
    }
   ],
   "source": [
    "x.info()"
   ]
  },
  {
   "cell_type": "code",
   "execution_count": 6,
   "id": "59d54283",
   "metadata": {
    "execution": {
     "iopub.execute_input": "2023-04-02T15:21:37.909939Z",
     "iopub.status.busy": "2023-04-02T15:21:37.908802Z",
     "iopub.status.idle": "2023-04-02T15:21:37.919464Z",
     "shell.execute_reply": "2023-04-02T15:21:37.918096Z"
    },
    "papermill": {
     "duration": 0.021868,
     "end_time": "2023-04-02T15:21:37.922335",
     "exception": false,
     "start_time": "2023-04-02T15:21:37.900467",
     "status": "completed"
    },
    "tags": []
   },
   "outputs": [
    {
     "data": {
      "text/html": [
       "<div>\n",
       "<style scoped>\n",
       "    .dataframe tbody tr th:only-of-type {\n",
       "        vertical-align: middle;\n",
       "    }\n",
       "\n",
       "    .dataframe tbody tr th {\n",
       "        vertical-align: top;\n",
       "    }\n",
       "\n",
       "    .dataframe thead th {\n",
       "        text-align: right;\n",
       "    }\n",
       "</style>\n",
       "<table border=\"1\" class=\"dataframe\">\n",
       "  <thead>\n",
       "    <tr style=\"text-align: right;\">\n",
       "      <th></th>\n",
       "      <th>label</th>\n",
       "    </tr>\n",
       "  </thead>\n",
       "  <tbody>\n",
       "    <tr>\n",
       "      <th>0</th>\n",
       "      <td>0</td>\n",
       "    </tr>\n",
       "    <tr>\n",
       "      <th>1</th>\n",
       "      <td>0</td>\n",
       "    </tr>\n",
       "    <tr>\n",
       "      <th>2</th>\n",
       "      <td>0</td>\n",
       "    </tr>\n",
       "    <tr>\n",
       "      <th>3</th>\n",
       "      <td>1</td>\n",
       "    </tr>\n",
       "    <tr>\n",
       "      <th>4</th>\n",
       "      <td>0</td>\n",
       "    </tr>\n",
       "  </tbody>\n",
       "</table>\n",
       "</div>"
      ],
      "text/plain": [
       "   label\n",
       "0      0\n",
       "1      0\n",
       "2      0\n",
       "3      1\n",
       "4      0"
      ]
     },
     "execution_count": 6,
     "metadata": {},
     "output_type": "execute_result"
    }
   ],
   "source": [
    "y.head()"
   ]
  },
  {
   "cell_type": "code",
   "execution_count": 7,
   "id": "31ea86c5",
   "metadata": {
    "execution": {
     "iopub.execute_input": "2023-04-02T15:21:37.935994Z",
     "iopub.status.busy": "2023-04-02T15:21:37.935186Z",
     "iopub.status.idle": "2023-04-02T15:21:37.940766Z",
     "shell.execute_reply": "2023-04-02T15:21:37.939859Z"
    },
    "papermill": {
     "duration": 0.015165,
     "end_time": "2023-04-02T15:21:37.943195",
     "exception": false,
     "start_time": "2023-04-02T15:21:37.928030",
     "status": "completed"
    },
    "tags": []
   },
   "outputs": [],
   "source": [
    "y = np.squeeze(y)"
   ]
  },
  {
   "cell_type": "code",
   "execution_count": 8,
   "id": "cc87a81e",
   "metadata": {
    "execution": {
     "iopub.execute_input": "2023-04-02T15:21:37.956312Z",
     "iopub.status.busy": "2023-04-02T15:21:37.955890Z",
     "iopub.status.idle": "2023-04-02T15:21:39.277490Z",
     "shell.execute_reply": "2023-04-02T15:21:39.276084Z"
    },
    "papermill": {
     "duration": 1.332377,
     "end_time": "2023-04-02T15:21:39.280827",
     "exception": false,
     "start_time": "2023-04-02T15:21:37.948450",
     "status": "completed"
    },
    "tags": []
   },
   "outputs": [],
   "source": [
    "from sklearn.model_selection import train_test_split\n",
    "x_train, x_test, y_train, y_test = train_test_split(x, y, test_size=0.2, stratify=y)"
   ]
  },
  {
   "cell_type": "code",
   "execution_count": 9,
   "id": "63f362ca",
   "metadata": {
    "execution": {
     "iopub.execute_input": "2023-04-02T15:21:39.294530Z",
     "iopub.status.busy": "2023-04-02T15:21:39.294081Z",
     "iopub.status.idle": "2023-04-02T15:21:39.311171Z",
     "shell.execute_reply": "2023-04-02T15:21:39.309511Z"
    },
    "papermill": {
     "duration": 0.027234,
     "end_time": "2023-04-02T15:21:39.313929",
     "exception": false,
     "start_time": "2023-04-02T15:21:39.286695",
     "status": "completed"
    },
    "tags": []
   },
   "outputs": [],
   "source": [
    "from sklearn.preprocessing import StandardScaler\n",
    "ss = StandardScaler()\n",
    "x_train_ss = ss.fit_transform(x_train)\n",
    "x_test_ss = ss.transform(x_test)\n",
    "ss2 = StandardScaler()\n",
    "x_ss = ss2.fit_transform(x)\n",
    "test_ss = ss2.transform(test)"
   ]
  },
  {
   "cell_type": "code",
   "execution_count": 10,
   "id": "96c0d5bc",
   "metadata": {
    "execution": {
     "iopub.execute_input": "2023-04-02T15:21:39.326943Z",
     "iopub.status.busy": "2023-04-02T15:21:39.326454Z",
     "iopub.status.idle": "2023-04-02T15:21:39.435443Z",
     "shell.execute_reply": "2023-04-02T15:21:39.434120Z"
    },
    "papermill": {
     "duration": 0.119364,
     "end_time": "2023-04-02T15:21:39.438762",
     "exception": false,
     "start_time": "2023-04-02T15:21:39.319398",
     "status": "completed"
    },
    "tags": []
   },
   "outputs": [],
   "source": [
    "# Logistic regression\n",
    "from sklearn.linear_model import LogisticRegression\n",
    "lr2_10 = LogisticRegression(penalty='l2', solver='saga' ,C=10, max_iter=5000)    # L2 with C(=1/λ)=10\n",
    "lr2_1 = LogisticRegression(penalty='l2', solver='saga' ,C=1, max_iter=5000)    # L2 with C(=1/λ)=1\n",
    "lr2_0_1 = LogisticRegression(penalty='l2',solver='saga', C=0.1, max_iter=5000)    # L2 with C(=1/λ)=0.1\n",
    "lr2_00_1 = LogisticRegression(penalty='l2', solver='saga',C=0.01, max_iter=5000)  # L2 with C(=1/λ)=0.01\n",
    "lr2_000_1 = LogisticRegression(penalty='l2', solver='saga',C=0.001, max_iter=5000)  # L2 with C(=1/λ)=0.001\n",
    "\n",
    "lr1_10 = LogisticRegression(penalty='l1', solver='saga',C=10, max_iter=5000)    # L1 with C(=1/λ)=10\n",
    "lr1_1 = LogisticRegression(penalty='l1', solver='saga',C=1, max_iter=5000)    # L1 with C(=1/λ)=1\n",
    "lr1_0_1 = LogisticRegression(penalty='l1', solver='saga',C=0.1, max_iter=5000)  # L1 with C(=1/λ)=0.1\n",
    "lr1_00_1 = LogisticRegression(penalty='l1', solver='saga',C=0.01, max_iter=5000)    # L1 with C(=1/λ)=0.01\n",
    "lr1_000_1 = LogisticRegression(penalty='l1', solver='saga',C=0.001, max_iter=5000)  # L1 with C(=1/λ)=0.001"
   ]
  },
  {
   "cell_type": "code",
   "execution_count": 11,
   "id": "4fdfcb0f",
   "metadata": {
    "execution": {
     "iopub.execute_input": "2023-04-02T15:21:39.451616Z",
     "iopub.status.busy": "2023-04-02T15:21:39.451190Z",
     "iopub.status.idle": "2023-04-02T15:21:39.510108Z",
     "shell.execute_reply": "2023-04-02T15:21:39.507827Z"
    },
    "papermill": {
     "duration": 0.068866,
     "end_time": "2023-04-02T15:21:39.513205",
     "exception": false,
     "start_time": "2023-04-02T15:21:39.444339",
     "status": "completed"
    },
    "tags": []
   },
   "outputs": [
    {
     "name": "stdout",
     "output_type": "stream",
     "text": [
      "standardscaler\n",
      "L2 with C(=1/λ)=10\n",
      "0.9444444444444444\n",
      "0.8\n",
      "L2 with C(=1/λ)=1\n",
      "0.8333333333333334\n",
      "0.8\n",
      "L2 with C(=1/λ)=0.1\n",
      "0.7222222222222222\n",
      "0.8\n",
      "L2 with C(=1/λ)=0.01\n",
      "0.7222222222222222\n",
      "0.8\n",
      "L2 with C(=1/λ)=0.001\n",
      "0.7222222222222222\n",
      "0.8\n",
      "\n",
      "L1 with C(=1/λ)=10\n",
      "1.0\n",
      "0.8\n",
      "L1 with C(=1/λ)=1\n",
      "0.7777777777777778\n",
      "0.8\n",
      "L1 with C(=1/λ)=0.1\n",
      "0.7222222222222222\n",
      "0.8\n",
      "L1 with C(=1/λ)=0.01\n",
      "0.7222222222222222\n",
      "0.8\n",
      "L1 with C(=1/λ)=0.001\n",
      "0.7222222222222222\n",
      "0.8\n"
     ]
    }
   ],
   "source": [
    "print(\"standardscaler\")\n",
    "\n",
    "lr2_10.fit(x_train_ss,y_train)\n",
    "print(\"L2 with C(=1/λ)=10\")\n",
    "print(lr2_10.score(x_train_ss,y_train))\n",
    "print(lr2_10.score(x_test_ss,y_test))\n",
    "\n",
    "lr2_1.fit(x_train_ss,y_train)\n",
    "print(\"L2 with C(=1/λ)=1\")\n",
    "print(lr2_1.score(x_train_ss,y_train))\n",
    "print(lr2_1.score(x_test_ss,y_test))\n",
    "\n",
    "lr2_0_1.fit(x_train_ss,y_train)\n",
    "print(\"L2 with C(=1/λ)=0.1\")\n",
    "print(lr2_0_1.score(x_train_ss,y_train))\n",
    "print(lr2_0_1.score(x_test_ss,y_test))\n",
    "\n",
    "lr2_00_1.fit(x_train_ss,y_train)\n",
    "print(\"L2 with C(=1/λ)=0.01\")\n",
    "print(lr2_00_1.score(x_train_ss,y_train))\n",
    "print(lr2_00_1.score(x_test_ss,y_test))\n",
    "\n",
    "lr2_000_1.fit(x_train_ss,y_train)\n",
    "print(\"L2 with C(=1/λ)=0.001\")\n",
    "print(lr2_000_1.score(x_train_ss,y_train))\n",
    "print(lr2_000_1.score(x_test_ss,y_test))\n",
    "\n",
    "print()\n",
    "\n",
    "lr1_10.fit(x_train_ss,y_train)\n",
    "print(\"L1 with C(=1/λ)=10\")\n",
    "print(lr1_10.score(x_train_ss,y_train))\n",
    "print(lr1_10.score(x_test_ss,y_test))\n",
    "\n",
    "lr1_1.fit(x_train_ss,y_train)\n",
    "print(\"L1 with C(=1/λ)=1\")\n",
    "print(lr1_1.score(x_train_ss,y_train))\n",
    "print(lr1_1.score(x_test_ss,y_test))\n",
    "\n",
    "lr1_0_1.fit(x_train_ss,y_train)\n",
    "print(\"L1 with C(=1/λ)=0.1\")\n",
    "print(lr1_0_1.score(x_train_ss,y_train))\n",
    "print(lr1_0_1.score(x_test_ss,y_test))\n",
    "\n",
    "lr1_00_1.fit(x_train_ss,y_train)\n",
    "print(\"L1 with C(=1/λ)=0.01\")\n",
    "print(lr1_00_1.score(x_train_ss,y_train))\n",
    "print(lr1_00_1.score(x_test_ss,y_test))\n",
    "\n",
    "lr1_000_1.fit(x_train_ss,y_train)\n",
    "print(\"L1 with C(=1/λ)=0.001\")\n",
    "print(lr1_000_1.score(x_train_ss,y_train))\n",
    "print(lr1_000_1.score(x_test_ss,y_test))"
   ]
  },
  {
   "cell_type": "code",
   "execution_count": 12,
   "id": "32d7d74e",
   "metadata": {
    "execution": {
     "iopub.execute_input": "2023-04-02T15:21:39.528569Z",
     "iopub.status.busy": "2023-04-02T15:21:39.527013Z",
     "iopub.status.idle": "2023-04-02T15:21:39.692533Z",
     "shell.execute_reply": "2023-04-02T15:21:39.690712Z"
    },
    "papermill": {
     "duration": 0.176812,
     "end_time": "2023-04-02T15:21:39.696369",
     "exception": false,
     "start_time": "2023-04-02T15:21:39.519557",
     "status": "completed"
    },
    "tags": []
   },
   "outputs": [
    {
     "name": "stdout",
     "output_type": "stream",
     "text": [
      "nomal\n",
      "L2 with C(=1/λ)=10\n",
      "0.8333333333333334\n",
      "0.8\n",
      "L2 with C(=1/λ)=1\n",
      "0.7222222222222222\n",
      "0.8\n",
      "L2 with C(=1/λ)=0.1\n",
      "0.7222222222222222\n",
      "0.8\n",
      "L2 with C(=1/λ)=0.01\n",
      "0.7222222222222222\n",
      "0.8\n",
      "L2 with C(=1/λ)=0.001\n",
      "0.7222222222222222\n",
      "0.8\n",
      "\n",
      "L1 with C(=1/λ)=1\n",
      "0.8333333333333334\n",
      "0.8\n",
      "L1 with C(=1/λ)=1\n",
      "0.7222222222222222\n",
      "0.8\n",
      "L1 with C(=1/λ)=0.1\n",
      "0.7222222222222222\n",
      "0.8\n",
      "L1 with C(=1/λ)=0.01\n",
      "0.7222222222222222\n",
      "0.8\n",
      "L1 with C(=1/λ)=0.001\n",
      "0.7222222222222222\n",
      "0.8\n"
     ]
    }
   ],
   "source": [
    "print(\"nomal\")\n",
    "\n",
    "print(\"L2 with C(=1/λ)=10\")\n",
    "lr2_10.fit(x_train,y_train)\n",
    "print(lr2_10.score(x_train,y_train))\n",
    "print(lr2_10.score(x_test,y_test))\n",
    "\n",
    "print(\"L2 with C(=1/λ)=1\")\n",
    "lr2_1.fit(x_train,y_train)\n",
    "print(lr2_1.score(x_train,y_train))\n",
    "print(lr2_1.score(x_test,y_test))\n",
    "\n",
    "print(\"L2 with C(=1/λ)=0.1\")\n",
    "lr2_0_1.fit(x_train,y_train)\n",
    "print(lr2_0_1.score(x_train,y_train))\n",
    "print(lr2_0_1.score(x_test,y_test))\n",
    "\n",
    "print(\"L2 with C(=1/λ)=0.01\")\n",
    "lr2_00_1.fit(x_train,y_train)\n",
    "print(lr2_00_1.score(x_train,y_train))\n",
    "print(lr2_00_1.score(x_test,y_test))\n",
    "\n",
    "print(\"L2 with C(=1/λ)=0.001\")\n",
    "lr2_000_1.fit(x_train,y_train)\n",
    "print(lr2_000_1.score(x_train,y_train))\n",
    "print(lr2_000_1.score(x_test,y_test))\n",
    "\n",
    "print()\n",
    "\n",
    "lr1_10.fit(x_train,y_train)\n",
    "print(\"L1 with C(=1/λ)=1\")\n",
    "print(lr1_10.score(x_train,y_train))\n",
    "print(lr1_10.score(x_test,y_test))\n",
    "\n",
    "lr1_1.fit(x_train,y_train)\n",
    "print(\"L1 with C(=1/λ)=1\")\n",
    "print(lr1_1.score(x_train,y_train))\n",
    "print(lr1_1.score(x_test,y_test))\n",
    "\n",
    "lr1_0_1.fit(x_train,y_train)\n",
    "print(\"L1 with C(=1/λ)=0.1\")\n",
    "print(lr1_0_1.score(x_train,y_train))\n",
    "print(lr1_0_1.score(x_test,y_test))\n",
    "\n",
    "lr1_00_1.fit(x_train,y_train)\n",
    "print(\"L1 with C(=1/λ)=0.01\")\n",
    "print(lr1_00_1.score(x_train,y_train))\n",
    "print(lr1_00_1.score(x_test,y_test))\n",
    "\n",
    "lr1_000_1.fit(x_train,y_train)\n",
    "print(\"L1 with C(=1/λ)=0.001\")\n",
    "print(lr1_000_1.score(x_train,y_train))\n",
    "print(lr1_000_1.score(x_test,y_test))"
   ]
  },
  {
   "cell_type": "code",
   "execution_count": 13,
   "id": "8d23c122",
   "metadata": {
    "execution": {
     "iopub.execute_input": "2023-04-02T15:21:39.709907Z",
     "iopub.status.busy": "2023-04-02T15:21:39.709519Z",
     "iopub.status.idle": "2023-04-02T15:21:39.731597Z",
     "shell.execute_reply": "2023-04-02T15:21:39.729871Z"
    },
    "papermill": {
     "duration": 0.032346,
     "end_time": "2023-04-02T15:21:39.734791",
     "exception": false,
     "start_time": "2023-04-02T15:21:39.702445",
     "status": "completed"
    },
    "tags": []
   },
   "outputs": [],
   "source": [
    "lr1_10.fit(x_ss,y)\n",
    "predict=lr1_10.predict(test_ss)"
   ]
  },
  {
   "cell_type": "code",
   "execution_count": 14,
   "id": "43d6f451",
   "metadata": {
    "execution": {
     "iopub.execute_input": "2023-04-02T15:21:39.748473Z",
     "iopub.status.busy": "2023-04-02T15:21:39.747948Z",
     "iopub.status.idle": "2023-04-02T15:21:39.761740Z",
     "shell.execute_reply": "2023-04-02T15:21:39.760334Z"
    },
    "papermill": {
     "duration": 0.024654,
     "end_time": "2023-04-02T15:21:39.765063",
     "exception": false,
     "start_time": "2023-04-02T15:21:39.740409",
     "status": "completed"
    },
    "tags": []
   },
   "outputs": [],
   "source": [
    "submit['label']= predict\n",
    "submit.to_csv('submit.csv', mode='w', header= True, index= False)"
   ]
  },
  {
   "cell_type": "code",
   "execution_count": null,
   "id": "fe7599b5",
   "metadata": {
    "papermill": {
     "duration": 0.00529,
     "end_time": "2023-04-02T15:21:39.776027",
     "exception": false,
     "start_time": "2023-04-02T15:21:39.770737",
     "status": "completed"
    },
    "tags": []
   },
   "outputs": [],
   "source": []
  },
  {
   "cell_type": "code",
   "execution_count": null,
   "id": "92c7addc",
   "metadata": {
    "papermill": {
     "duration": 0.005275,
     "end_time": "2023-04-02T15:21:39.786966",
     "exception": false,
     "start_time": "2023-04-02T15:21:39.781691",
     "status": "completed"
    },
    "tags": []
   },
   "outputs": [],
   "source": []
  }
 ],
 "metadata": {
  "kernelspec": {
   "display_name": "Python 3",
   "language": "python",
   "name": "python3"
  },
  "language_info": {
   "codemirror_mode": {
    "name": "ipython",
    "version": 3
   },
   "file_extension": ".py",
   "mimetype": "text/x-python",
   "name": "python",
   "nbconvert_exporter": "python",
   "pygments_lexer": "ipython3",
   "version": "3.7.12"
  },
  "papermill": {
   "default_parameters": {},
   "duration": 15.678468,
   "end_time": "2023-04-02T15:21:40.918821",
   "environment_variables": {},
   "exception": null,
   "input_path": "__notebook__.ipynb",
   "output_path": "__notebook__.ipynb",
   "parameters": {},
   "start_time": "2023-04-02T15:21:25.240353",
   "version": "2.4.0"
  }
 },
 "nbformat": 4,
 "nbformat_minor": 5
}
