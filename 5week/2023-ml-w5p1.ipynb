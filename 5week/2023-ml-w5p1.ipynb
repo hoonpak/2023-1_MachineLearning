{
 "cells": [
  {
   "cell_type": "code",
   "execution_count": 1,
   "id": "1665408a",
   "metadata": {
    "_cell_guid": "b1076dfc-b9ad-4769-8c92-a6c4dae69d19",
    "_uuid": "8f2839f25d086af736a60e9eeb907d3b93b6e0e5",
    "execution": {
     "iopub.execute_input": "2023-03-30T04:29:25.836386Z",
     "iopub.status.busy": "2023-03-30T04:29:25.835988Z",
     "iopub.status.idle": "2023-03-30T04:29:25.850420Z",
     "shell.execute_reply": "2023-03-30T04:29:25.849243Z"
    },
    "papermill": {
     "duration": 0.025778,
     "end_time": "2023-03-30T04:29:25.853775",
     "exception": false,
     "start_time": "2023-03-30T04:29:25.827997",
     "status": "completed"
    },
    "tags": []
   },
   "outputs": [
    {
     "name": "stdout",
     "output_type": "stream",
     "text": [
      "/kaggle/input/2023-ml-w5p1/trainX.csv\n",
      "/kaggle/input/2023-ml-w5p1/testX.csv\n",
      "/kaggle/input/2023-ml-w5p1/trainY.csv\n",
      "/kaggle/input/2023-ml-w5p1/submit.csv\n"
     ]
    }
   ],
   "source": [
    "# This Python 3 environment comes with many helpful analytics libraries installed\n",
    "# It is defined by the kaggle/python Docker image: https://github.com/kaggle/docker-python\n",
    "# For example, here's several helpful packages to load\n",
    "\n",
    "import numpy as np # linear algebra\n",
    "import pandas as pd # data processing, CSV file I/O (e.g. pd.read_csv)\n",
    "\n",
    "# Input data files are available in the read-only \"../input/\" directory\n",
    "# For example, running this (by clicking run or pressing Shift+Enter) will list all files under the input directory\n",
    "\n",
    "import os\n",
    "for dirname, _, filenames in os.walk('/kaggle/input'):\n",
    "    for filename in filenames:\n",
    "        print(os.path.join(dirname, filename))\n",
    "\n",
    "# You can write up to 20GB to the current directory (/kaggle/working/) that gets preserved as output when you create a version using \"Save & Run All\" \n",
    "# You can also write temporary files to /kaggle/temp/, but they won't be saved outside of the current session"
   ]
  },
  {
   "cell_type": "code",
   "execution_count": 2,
   "id": "8066b3ac",
   "metadata": {
    "execution": {
     "iopub.execute_input": "2023-03-30T04:29:25.866214Z",
     "iopub.status.busy": "2023-03-30T04:29:25.865439Z",
     "iopub.status.idle": "2023-03-30T04:29:25.871259Z",
     "shell.execute_reply": "2023-03-30T04:29:25.870190Z"
    },
    "papermill": {
     "duration": 0.013858,
     "end_time": "2023-03-30T04:29:25.873422",
     "exception": false,
     "start_time": "2023-03-30T04:29:25.859564",
     "status": "completed"
    },
    "tags": []
   },
   "outputs": [],
   "source": [
    "import random\n",
    "import os\n",
    "\n",
    "seed = 42\n",
    "\n",
    "random.seed(seed)\n",
    "np.random.seed(seed)\n",
    "os.environ[\"PYTHONHASHSEED\"] = str(seed)"
   ]
  },
  {
   "cell_type": "code",
   "execution_count": 3,
   "id": "535ec10c",
   "metadata": {
    "execution": {
     "iopub.execute_input": "2023-03-30T04:29:25.884533Z",
     "iopub.status.busy": "2023-03-30T04:29:25.883886Z",
     "iopub.status.idle": "2023-03-30T04:29:26.134522Z",
     "shell.execute_reply": "2023-03-30T04:29:26.133048Z"
    },
    "papermill": {
     "duration": 0.258897,
     "end_time": "2023-03-30T04:29:26.137152",
     "exception": false,
     "start_time": "2023-03-30T04:29:25.878255",
     "status": "completed"
    },
    "tags": []
   },
   "outputs": [],
   "source": [
    "X = pd.read_csv(\"/kaggle/input/2023-ml-w5p1/trainX.csv\")\n",
    "Y = pd.read_csv(\"/kaggle/input/2023-ml-w5p1/trainY.csv\")\n",
    "test = pd.read_csv(\"/kaggle/input/2023-ml-w5p1/testX.csv\")\n",
    "submit = pd.read_csv(\"/kaggle/input/2023-ml-w5p1/submit.csv\")"
   ]
  },
  {
   "cell_type": "code",
   "execution_count": 4,
   "id": "590ba67f",
   "metadata": {
    "execution": {
     "iopub.execute_input": "2023-03-30T04:29:26.148528Z",
     "iopub.status.busy": "2023-03-30T04:29:26.148147Z",
     "iopub.status.idle": "2023-03-30T04:29:26.188987Z",
     "shell.execute_reply": "2023-03-30T04:29:26.186887Z"
    },
    "papermill": {
     "duration": 0.050962,
     "end_time": "2023-03-30T04:29:26.193084",
     "exception": false,
     "start_time": "2023-03-30T04:29:26.142122",
     "status": "completed"
    },
    "tags": []
   },
   "outputs": [
    {
     "name": "stdout",
     "output_type": "stream",
     "text": [
      "<class 'pandas.core.frame.DataFrame'>\n",
      "RangeIndex: 6000 entries, 0 to 5999\n",
      "Data columns (total 64 columns):\n",
      " #   Column  Non-Null Count  Dtype  \n",
      "---  ------  --------------  -----  \n",
      " 0   0       6000 non-null   float64\n",
      " 1   1       6000 non-null   float64\n",
      " 2   2       6000 non-null   float64\n",
      " 3   3       6000 non-null   float64\n",
      " 4   4       6000 non-null   float64\n",
      " 5   5       6000 non-null   float64\n",
      " 6   6       6000 non-null   float64\n",
      " 7   7       6000 non-null   float64\n",
      " 8   8       6000 non-null   float64\n",
      " 9   9       6000 non-null   float64\n",
      " 10  10      6000 non-null   float64\n",
      " 11  11      6000 non-null   float64\n",
      " 12  12      6000 non-null   float64\n",
      " 13  13      6000 non-null   float64\n",
      " 14  14      6000 non-null   float64\n",
      " 15  15      6000 non-null   float64\n",
      " 16  16      6000 non-null   float64\n",
      " 17  17      6000 non-null   float64\n",
      " 18  18      6000 non-null   float64\n",
      " 19  19      6000 non-null   float64\n",
      " 20  20      6000 non-null   float64\n",
      " 21  21      6000 non-null   float64\n",
      " 22  22      6000 non-null   float64\n",
      " 23  23      6000 non-null   float64\n",
      " 24  24      6000 non-null   float64\n",
      " 25  25      6000 non-null   float64\n",
      " 26  26      6000 non-null   float64\n",
      " 27  27      6000 non-null   float64\n",
      " 28  28      6000 non-null   float64\n",
      " 29  29      6000 non-null   float64\n",
      " 30  30      6000 non-null   float64\n",
      " 31  31      6000 non-null   float64\n",
      " 32  32      6000 non-null   float64\n",
      " 33  33      6000 non-null   float64\n",
      " 34  34      6000 non-null   float64\n",
      " 35  35      6000 non-null   float64\n",
      " 36  36      6000 non-null   float64\n",
      " 37  37      6000 non-null   float64\n",
      " 38  38      6000 non-null   float64\n",
      " 39  39      6000 non-null   float64\n",
      " 40  40      6000 non-null   float64\n",
      " 41  41      6000 non-null   float64\n",
      " 42  42      6000 non-null   float64\n",
      " 43  43      6000 non-null   float64\n",
      " 44  44      6000 non-null   float64\n",
      " 45  45      6000 non-null   float64\n",
      " 46  46      6000 non-null   float64\n",
      " 47  47      6000 non-null   float64\n",
      " 48  48      6000 non-null   float64\n",
      " 49  49      6000 non-null   float64\n",
      " 50  50      6000 non-null   float64\n",
      " 51  51      6000 non-null   float64\n",
      " 52  52      6000 non-null   float64\n",
      " 53  53      6000 non-null   float64\n",
      " 54  54      6000 non-null   float64\n",
      " 55  55      6000 non-null   float64\n",
      " 56  56      6000 non-null   float64\n",
      " 57  57      6000 non-null   float64\n",
      " 58  58      6000 non-null   float64\n",
      " 59  59      6000 non-null   float64\n",
      " 60  60      6000 non-null   float64\n",
      " 61  61      6000 non-null   float64\n",
      " 62  62      6000 non-null   float64\n",
      " 63  63      6000 non-null   float64\n",
      "dtypes: float64(64)\n",
      "memory usage: 2.9 MB\n"
     ]
    }
   ],
   "source": [
    "X.info()"
   ]
  },
  {
   "cell_type": "code",
   "execution_count": 5,
   "id": "f0d2b71e",
   "metadata": {
    "execution": {
     "iopub.execute_input": "2023-03-30T04:29:26.206281Z",
     "iopub.status.busy": "2023-03-30T04:29:26.205428Z",
     "iopub.status.idle": "2023-03-30T04:29:26.241831Z",
     "shell.execute_reply": "2023-03-30T04:29:26.240643Z"
    },
    "papermill": {
     "duration": 0.046414,
     "end_time": "2023-03-30T04:29:26.244921",
     "exception": false,
     "start_time": "2023-03-30T04:29:26.198507",
     "status": "completed"
    },
    "tags": []
   },
   "outputs": [
    {
     "data": {
      "text/html": [
       "<div>\n",
       "<style scoped>\n",
       "    .dataframe tbody tr th:only-of-type {\n",
       "        vertical-align: middle;\n",
       "    }\n",
       "\n",
       "    .dataframe tbody tr th {\n",
       "        vertical-align: top;\n",
       "    }\n",
       "\n",
       "    .dataframe thead th {\n",
       "        text-align: right;\n",
       "    }\n",
       "</style>\n",
       "<table border=\"1\" class=\"dataframe\">\n",
       "  <thead>\n",
       "    <tr style=\"text-align: right;\">\n",
       "      <th></th>\n",
       "      <th>0</th>\n",
       "      <th>1</th>\n",
       "      <th>2</th>\n",
       "      <th>3</th>\n",
       "      <th>4</th>\n",
       "      <th>5</th>\n",
       "      <th>6</th>\n",
       "      <th>7</th>\n",
       "      <th>8</th>\n",
       "      <th>9</th>\n",
       "      <th>...</th>\n",
       "      <th>54</th>\n",
       "      <th>55</th>\n",
       "      <th>56</th>\n",
       "      <th>57</th>\n",
       "      <th>58</th>\n",
       "      <th>59</th>\n",
       "      <th>60</th>\n",
       "      <th>61</th>\n",
       "      <th>62</th>\n",
       "      <th>63</th>\n",
       "    </tr>\n",
       "  </thead>\n",
       "  <tbody>\n",
       "    <tr>\n",
       "      <th>0</th>\n",
       "      <td>13.934082</td>\n",
       "      <td>-3.077109</td>\n",
       "      <td>-13.515020</td>\n",
       "      <td>-0.844135</td>\n",
       "      <td>3.097764</td>\n",
       "      <td>0.154635</td>\n",
       "      <td>5.615488</td>\n",
       "      <td>-8.032149</td>\n",
       "      <td>2.776431</td>\n",
       "      <td>1.469208</td>\n",
       "      <td>...</td>\n",
       "      <td>-0.834850</td>\n",
       "      <td>0.474123</td>\n",
       "      <td>-1.481585</td>\n",
       "      <td>-2.168011</td>\n",
       "      <td>-0.472213</td>\n",
       "      <td>1.542271</td>\n",
       "      <td>0.356707</td>\n",
       "      <td>0.530720</td>\n",
       "      <td>0.171594</td>\n",
       "      <td>-0.322960</td>\n",
       "    </tr>\n",
       "    <tr>\n",
       "      <th>1</th>\n",
       "      <td>18.757893</td>\n",
       "      <td>-0.304454</td>\n",
       "      <td>1.757282</td>\n",
       "      <td>10.702372</td>\n",
       "      <td>5.530047</td>\n",
       "      <td>-9.571358</td>\n",
       "      <td>9.296905</td>\n",
       "      <td>-2.858612</td>\n",
       "      <td>0.027188</td>\n",
       "      <td>3.768508</td>\n",
       "      <td>...</td>\n",
       "      <td>0.941480</td>\n",
       "      <td>1.776686</td>\n",
       "      <td>0.905478</td>\n",
       "      <td>-1.641744</td>\n",
       "      <td>0.734237</td>\n",
       "      <td>1.231368</td>\n",
       "      <td>0.179600</td>\n",
       "      <td>1.700099</td>\n",
       "      <td>-0.001509</td>\n",
       "      <td>1.077432</td>\n",
       "    </tr>\n",
       "    <tr>\n",
       "      <th>2</th>\n",
       "      <td>-8.063476</td>\n",
       "      <td>-3.259291</td>\n",
       "      <td>-16.577340</td>\n",
       "      <td>-5.497738</td>\n",
       "      <td>-6.616893</td>\n",
       "      <td>4.916349</td>\n",
       "      <td>-10.537728</td>\n",
       "      <td>5.398572</td>\n",
       "      <td>-1.091936</td>\n",
       "      <td>-2.561823</td>\n",
       "      <td>...</td>\n",
       "      <td>1.976522</td>\n",
       "      <td>-0.962800</td>\n",
       "      <td>-0.409117</td>\n",
       "      <td>0.497765</td>\n",
       "      <td>1.440391</td>\n",
       "      <td>-0.513098</td>\n",
       "      <td>-0.477530</td>\n",
       "      <td>2.724299</td>\n",
       "      <td>-0.663966</td>\n",
       "      <td>-1.755266</td>\n",
       "    </tr>\n",
       "    <tr>\n",
       "      <th>3</th>\n",
       "      <td>3.128894</td>\n",
       "      <td>16.911400</td>\n",
       "      <td>-10.434631</td>\n",
       "      <td>1.177685</td>\n",
       "      <td>3.228336</td>\n",
       "      <td>-1.875124</td>\n",
       "      <td>8.374058</td>\n",
       "      <td>-0.885263</td>\n",
       "      <td>5.068379</td>\n",
       "      <td>-6.400661</td>\n",
       "      <td>...</td>\n",
       "      <td>1.624901</td>\n",
       "      <td>0.775439</td>\n",
       "      <td>3.694294</td>\n",
       "      <td>0.438467</td>\n",
       "      <td>-0.148669</td>\n",
       "      <td>0.227370</td>\n",
       "      <td>3.004657</td>\n",
       "      <td>0.440074</td>\n",
       "      <td>-0.087064</td>\n",
       "      <td>1.925870</td>\n",
       "    </tr>\n",
       "    <tr>\n",
       "      <th>4</th>\n",
       "      <td>-15.744248</td>\n",
       "      <td>-1.022630</td>\n",
       "      <td>0.004898</td>\n",
       "      <td>6.656867</td>\n",
       "      <td>-2.534440</td>\n",
       "      <td>-8.309071</td>\n",
       "      <td>-1.379099</td>\n",
       "      <td>4.352854</td>\n",
       "      <td>8.783724</td>\n",
       "      <td>2.650707</td>\n",
       "      <td>...</td>\n",
       "      <td>0.231652</td>\n",
       "      <td>-1.151704</td>\n",
       "      <td>0.354604</td>\n",
       "      <td>0.752026</td>\n",
       "      <td>-1.192524</td>\n",
       "      <td>-0.910384</td>\n",
       "      <td>1.549595</td>\n",
       "      <td>-2.284629</td>\n",
       "      <td>0.672590</td>\n",
       "      <td>-0.606422</td>\n",
       "    </tr>\n",
       "  </tbody>\n",
       "</table>\n",
       "<p>5 rows × 64 columns</p>\n",
       "</div>"
      ],
      "text/plain": [
       "           0          1          2          3         4         5          6  \\\n",
       "0  13.934082  -3.077109 -13.515020  -0.844135  3.097764  0.154635   5.615488   \n",
       "1  18.757893  -0.304454   1.757282  10.702372  5.530047 -9.571358   9.296905   \n",
       "2  -8.063476  -3.259291 -16.577340  -5.497738 -6.616893  4.916349 -10.537728   \n",
       "3   3.128894  16.911400 -10.434631   1.177685  3.228336 -1.875124   8.374058   \n",
       "4 -15.744248  -1.022630   0.004898   6.656867 -2.534440 -8.309071  -1.379099   \n",
       "\n",
       "          7         8         9  ...        54        55        56        57  \\\n",
       "0 -8.032149  2.776431  1.469208  ... -0.834850  0.474123 -1.481585 -2.168011   \n",
       "1 -2.858612  0.027188  3.768508  ...  0.941480  1.776686  0.905478 -1.641744   \n",
       "2  5.398572 -1.091936 -2.561823  ...  1.976522 -0.962800 -0.409117  0.497765   \n",
       "3 -0.885263  5.068379 -6.400661  ...  1.624901  0.775439  3.694294  0.438467   \n",
       "4  4.352854  8.783724  2.650707  ...  0.231652 -1.151704  0.354604  0.752026   \n",
       "\n",
       "         58        59        60        61        62        63  \n",
       "0 -0.472213  1.542271  0.356707  0.530720  0.171594 -0.322960  \n",
       "1  0.734237  1.231368  0.179600  1.700099 -0.001509  1.077432  \n",
       "2  1.440391 -0.513098 -0.477530  2.724299 -0.663966 -1.755266  \n",
       "3 -0.148669  0.227370  3.004657  0.440074 -0.087064  1.925870  \n",
       "4 -1.192524 -0.910384  1.549595 -2.284629  0.672590 -0.606422  \n",
       "\n",
       "[5 rows x 64 columns]"
      ]
     },
     "execution_count": 5,
     "metadata": {},
     "output_type": "execute_result"
    }
   ],
   "source": [
    "X.head()"
   ]
  },
  {
   "cell_type": "code",
   "execution_count": 6,
   "id": "7a283221",
   "metadata": {
    "execution": {
     "iopub.execute_input": "2023-03-30T04:29:26.257619Z",
     "iopub.status.busy": "2023-03-30T04:29:26.257052Z",
     "iopub.status.idle": "2023-03-30T04:29:26.267760Z",
     "shell.execute_reply": "2023-03-30T04:29:26.266606Z"
    },
    "papermill": {
     "duration": 0.020003,
     "end_time": "2023-03-30T04:29:26.270324",
     "exception": false,
     "start_time": "2023-03-30T04:29:26.250321",
     "status": "completed"
    },
    "tags": []
   },
   "outputs": [
    {
     "data": {
      "text/html": [
       "<div>\n",
       "<style scoped>\n",
       "    .dataframe tbody tr th:only-of-type {\n",
       "        vertical-align: middle;\n",
       "    }\n",
       "\n",
       "    .dataframe tbody tr th {\n",
       "        vertical-align: top;\n",
       "    }\n",
       "\n",
       "    .dataframe thead th {\n",
       "        text-align: right;\n",
       "    }\n",
       "</style>\n",
       "<table border=\"1\" class=\"dataframe\">\n",
       "  <thead>\n",
       "    <tr style=\"text-align: right;\">\n",
       "      <th></th>\n",
       "      <th>Id</th>\n",
       "      <th>Category</th>\n",
       "    </tr>\n",
       "  </thead>\n",
       "  <tbody>\n",
       "    <tr>\n",
       "      <th>0</th>\n",
       "      <td>0</td>\n",
       "      <td>edge</td>\n",
       "    </tr>\n",
       "    <tr>\n",
       "      <th>1</th>\n",
       "      <td>1</td>\n",
       "      <td>edge</td>\n",
       "    </tr>\n",
       "    <tr>\n",
       "      <th>2</th>\n",
       "      <td>2</td>\n",
       "      <td>edge</td>\n",
       "    </tr>\n",
       "    <tr>\n",
       "      <th>3</th>\n",
       "      <td>3</td>\n",
       "      <td>edge</td>\n",
       "    </tr>\n",
       "    <tr>\n",
       "      <th>4</th>\n",
       "      <td>4</td>\n",
       "      <td>edge</td>\n",
       "    </tr>\n",
       "  </tbody>\n",
       "</table>\n",
       "</div>"
      ],
      "text/plain": [
       "   Id Category\n",
       "0   0     edge\n",
       "1   1     edge\n",
       "2   2     edge\n",
       "3   3     edge\n",
       "4   4     edge"
      ]
     },
     "execution_count": 6,
     "metadata": {},
     "output_type": "execute_result"
    }
   ],
   "source": [
    "Y.head()"
   ]
  },
  {
   "cell_type": "code",
   "execution_count": 7,
   "id": "02064495",
   "metadata": {
    "execution": {
     "iopub.execute_input": "2023-03-30T04:29:26.283810Z",
     "iopub.status.busy": "2023-03-30T04:29:26.283112Z",
     "iopub.status.idle": "2023-03-30T04:29:26.289262Z",
     "shell.execute_reply": "2023-03-30T04:29:26.288411Z"
    },
    "papermill": {
     "duration": 0.015438,
     "end_time": "2023-03-30T04:29:26.291487",
     "exception": false,
     "start_time": "2023-03-30T04:29:26.276049",
     "status": "completed"
    },
    "tags": []
   },
   "outputs": [],
   "source": [
    "Y.drop([\"Id\"],axis=1,inplace=True)"
   ]
  },
  {
   "cell_type": "code",
   "execution_count": 8,
   "id": "d51d930e",
   "metadata": {
    "execution": {
     "iopub.execute_input": "2023-03-30T04:29:26.304855Z",
     "iopub.status.busy": "2023-03-30T04:29:26.304160Z",
     "iopub.status.idle": "2023-03-30T04:29:27.315115Z",
     "shell.execute_reply": "2023-03-30T04:29:27.313999Z"
    },
    "papermill": {
     "duration": 1.021069,
     "end_time": "2023-03-30T04:29:27.318060",
     "exception": false,
     "start_time": "2023-03-30T04:29:26.296991",
     "status": "completed"
    },
    "tags": []
   },
   "outputs": [],
   "source": [
    "from sklearn.preprocessing import LabelEncoder\n",
    "le = LabelEncoder()\n",
    "Y=le.fit_transform(Y['Category'].values)"
   ]
  },
  {
   "cell_type": "code",
   "execution_count": 9,
   "id": "e949305c",
   "metadata": {
    "execution": {
     "iopub.execute_input": "2023-03-30T04:29:27.330869Z",
     "iopub.status.busy": "2023-03-30T04:29:27.330427Z",
     "iopub.status.idle": "2023-03-30T04:29:27.412990Z",
     "shell.execute_reply": "2023-03-30T04:29:27.412023Z"
    },
    "papermill": {
     "duration": 0.092219,
     "end_time": "2023-03-30T04:29:27.415905",
     "exception": false,
     "start_time": "2023-03-30T04:29:27.323686",
     "status": "completed"
    },
    "tags": []
   },
   "outputs": [],
   "source": [
    "from sklearn.model_selection import train_test_split\n",
    "x_train, x_test, y_train, y_test = train_test_split(X, Y, test_size=0.2, random_state=1, stratify=Y)"
   ]
  },
  {
   "cell_type": "code",
   "execution_count": 10,
   "id": "8f002580",
   "metadata": {
    "execution": {
     "iopub.execute_input": "2023-03-30T04:29:27.429824Z",
     "iopub.status.busy": "2023-03-30T04:29:27.428605Z",
     "iopub.status.idle": "2023-03-30T04:29:27.462306Z",
     "shell.execute_reply": "2023-03-30T04:29:27.461220Z"
    },
    "papermill": {
     "duration": 0.043322,
     "end_time": "2023-03-30T04:29:27.464893",
     "exception": false,
     "start_time": "2023-03-30T04:29:27.421571",
     "status": "completed"
    },
    "tags": []
   },
   "outputs": [],
   "source": [
    "from sklearn.preprocessing import StandardScaler\n",
    "ss = StandardScaler()\n",
    "x_train_ss = ss.fit_transform(x_train)\n",
    "x_test_ss = ss.transform(x_test)\n",
    "ss2 = StandardScaler()\n",
    "x_ss = ss2.fit_transform(X)\n",
    "test_ss = ss2.transform(test)"
   ]
  },
  {
   "cell_type": "code",
   "execution_count": 11,
   "id": "ae699794",
   "metadata": {
    "execution": {
     "iopub.execute_input": "2023-03-30T04:29:27.478211Z",
     "iopub.status.busy": "2023-03-30T04:29:27.477209Z",
     "iopub.status.idle": "2023-03-30T04:29:27.581620Z",
     "shell.execute_reply": "2023-03-30T04:29:27.580135Z"
    },
    "papermill": {
     "duration": 0.114315,
     "end_time": "2023-03-30T04:29:27.584769",
     "exception": false,
     "start_time": "2023-03-30T04:29:27.470454",
     "status": "completed"
    },
    "tags": []
   },
   "outputs": [],
   "source": [
    "# Logistic regression\n",
    "from sklearn.linear_model import LogisticRegression\n",
    "lr2_10 = LogisticRegression(penalty='l2', solver='saga' ,C=10,max_iter=1000)    # L2 with C(=1/λ)=10\n",
    "lr2_1 = LogisticRegression(penalty='l2', solver='saga' ,C=1,max_iter=1000)    # L2 with C(=1/λ)=1\n",
    "lr2_0_1 = LogisticRegression(penalty='l2',solver='saga', C=0.1,max_iter=1000)    # L2 with C(=1/λ)=0.1\n",
    "lr2_00_1 = LogisticRegression(penalty='l2', solver='saga',C=0.01,max_iter=1000)  # L2 with C(=1/λ)=0.01\n",
    "lr2_000_1 = LogisticRegression(penalty='l2', solver='saga',C=0.001,max_iter=1000)  # L2 with C(=1/λ)=0.001\n",
    "\n",
    "lr1_10 = LogisticRegression(penalty='l1', solver='saga',C=10,max_iter=1000)    # L1 with C(=1/λ)=10\n",
    "lr1_1 = LogisticRegression(penalty='l1', solver='saga',C=1,max_iter=1000)    # L1 with C(=1/λ)=1\n",
    "lr1_0_1 = LogisticRegression(penalty='l1', solver='saga',C=0.1,max_iter=1000)  # L1 with C(=1/λ)=0.1\n",
    "lr1_00_1 = LogisticRegression(penalty='l1', solver='saga',C=0.01,max_iter=1000)    # L1 with C(=1/λ)=0.01\n",
    "lr1_000_1 = LogisticRegression(penalty='l1', solver='saga',C=0.001,max_iter=1000)  # L1 with C(=1/λ)=0.001"
   ]
  },
  {
   "cell_type": "code",
   "execution_count": 12,
   "id": "c5f730e0",
   "metadata": {
    "execution": {
     "iopub.execute_input": "2023-03-30T04:29:27.598594Z",
     "iopub.status.busy": "2023-03-30T04:29:27.597795Z",
     "iopub.status.idle": "2023-03-30T04:29:41.124057Z",
     "shell.execute_reply": "2023-03-30T04:29:41.122354Z"
    },
    "papermill": {
     "duration": 13.537903,
     "end_time": "2023-03-30T04:29:41.128453",
     "exception": false,
     "start_time": "2023-03-30T04:29:27.590550",
     "status": "completed"
    },
    "tags": []
   },
   "outputs": [
    {
     "name": "stdout",
     "output_type": "stream",
     "text": [
      "standardscaler\n",
      "L2 with C(=1/λ)=10\n",
      "0.80375\n",
      "0.795\n",
      "L2 with C(=1/λ)=1\n",
      "0.80375\n",
      "0.795\n",
      "L2 with C(=1/λ)=0.1\n",
      "0.8016666666666666\n",
      "0.7966666666666666\n",
      "L2 with C(=1/λ)=0.01\n",
      "0.800625\n",
      "0.7916666666666666\n",
      "L2 with C(=1/λ)=0.001\n",
      "0.794375\n",
      "0.7841666666666667\n",
      "\n",
      "L1 with C(=1/λ)=10\n",
      "0.80375\n",
      "0.795\n",
      "L1 with C(=1/λ)=1\n",
      "0.8033333333333333\n",
      "0.7958333333333333\n",
      "L1 with C(=1/λ)=0.1\n",
      "0.8008333333333333\n",
      "0.795\n",
      "L1 with C(=1/λ)=0.01\n",
      "0.7575\n",
      "0.7633333333333333\n",
      "L1 with C(=1/λ)=0.001\n",
      "0.551875\n",
      "0.5641666666666667\n"
     ]
    }
   ],
   "source": [
    "print(\"standardscaler\")\n",
    "\n",
    "lr2_10.fit(x_train_ss,y_train)\n",
    "print(\"L2 with C(=1/λ)=10\")\n",
    "print(lr2_10.score(x_train_ss,y_train))\n",
    "print(lr2_10.score(x_test_ss,y_test))\n",
    "\n",
    "lr2_1.fit(x_train_ss,y_train)\n",
    "print(\"L2 with C(=1/λ)=1\")\n",
    "print(lr2_1.score(x_train_ss,y_train))\n",
    "print(lr2_1.score(x_test_ss,y_test))\n",
    "\n",
    "lr2_0_1.fit(x_train_ss,y_train)\n",
    "print(\"L2 with C(=1/λ)=0.1\")\n",
    "print(lr2_0_1.score(x_train_ss,y_train))\n",
    "print(lr2_0_1.score(x_test_ss,y_test))\n",
    "\n",
    "lr2_00_1.fit(x_train_ss,y_train)\n",
    "print(\"L2 with C(=1/λ)=0.01\")\n",
    "print(lr2_00_1.score(x_train_ss,y_train))\n",
    "print(lr2_00_1.score(x_test_ss,y_test))\n",
    "\n",
    "lr2_000_1.fit(x_train_ss,y_train)\n",
    "print(\"L2 with C(=1/λ)=0.001\")\n",
    "print(lr2_000_1.score(x_train_ss,y_train))\n",
    "print(lr2_000_1.score(x_test_ss,y_test))\n",
    "\n",
    "print()\n",
    "\n",
    "lr1_10.fit(x_train_ss,y_train)\n",
    "print(\"L1 with C(=1/λ)=10\")\n",
    "print(lr1_10.score(x_train_ss,y_train))\n",
    "print(lr1_10.score(x_test_ss,y_test))\n",
    "\n",
    "lr1_1.fit(x_train_ss,y_train)\n",
    "print(\"L1 with C(=1/λ)=1\")\n",
    "print(lr1_1.score(x_train_ss,y_train))\n",
    "print(lr1_1.score(x_test_ss,y_test))\n",
    "\n",
    "lr1_0_1.fit(x_train_ss,y_train)\n",
    "print(\"L1 with C(=1/λ)=0.1\")\n",
    "print(lr1_0_1.score(x_train_ss,y_train))\n",
    "print(lr1_0_1.score(x_test_ss,y_test))\n",
    "\n",
    "lr1_00_1.fit(x_train_ss,y_train)\n",
    "print(\"L1 with C(=1/λ)=0.01\")\n",
    "print(lr1_00_1.score(x_train_ss,y_train))\n",
    "print(lr1_00_1.score(x_test_ss,y_test))\n",
    "\n",
    "lr1_000_1.fit(x_train_ss,y_train)\n",
    "print(\"L1 with C(=1/λ)=0.001\")\n",
    "print(lr1_000_1.score(x_train_ss,y_train))\n",
    "print(lr1_000_1.score(x_test_ss,y_test))"
   ]
  },
  {
   "cell_type": "code",
   "execution_count": 13,
   "id": "eaaa93ce",
   "metadata": {
    "execution": {
     "iopub.execute_input": "2023-03-30T04:29:41.163321Z",
     "iopub.status.busy": "2023-03-30T04:29:41.162539Z",
     "iopub.status.idle": "2023-03-30T04:30:00.562115Z",
     "shell.execute_reply": "2023-03-30T04:30:00.559711Z"
    },
    "papermill": {
     "duration": 19.423602,
     "end_time": "2023-03-30T04:30:00.567935",
     "exception": false,
     "start_time": "2023-03-30T04:29:41.144333",
     "status": "completed"
    },
    "tags": []
   },
   "outputs": [
    {
     "name": "stdout",
     "output_type": "stream",
     "text": [
      "nomal\n",
      "L2 with C(=1/λ)=10\n",
      "0.80375\n",
      "0.7941666666666667\n",
      "L2 with C(=1/λ)=1\n",
      "0.80375\n",
      "0.795\n",
      "L2 with C(=1/λ)=0.1\n",
      "0.8035416666666667\n",
      "0.7958333333333333\n",
      "L2 with C(=1/λ)=0.01\n",
      "0.8027083333333334\n",
      "0.7991666666666667\n",
      "L2 with C(=1/λ)=0.001\n",
      "0.7985416666666667\n",
      "0.8008333333333333\n",
      "\n",
      "L1 with C(=1/λ)=1\n",
      "0.80375\n",
      "0.795\n"
     ]
    },
    {
     "name": "stderr",
     "output_type": "stream",
     "text": [
      "/opt/conda/lib/python3.7/site-packages/sklearn/linear_model/_sag.py:354: ConvergenceWarning: The max_iter was reached which means the coef_ did not converge\n",
      "  ConvergenceWarning,\n"
     ]
    },
    {
     "name": "stdout",
     "output_type": "stream",
     "text": [
      "L1 with C(=1/λ)=1\n",
      "0.8035416666666667\n",
      "0.7958333333333333\n",
      "L1 with C(=1/λ)=0.1\n",
      "0.8029166666666666\n",
      "0.7975\n",
      "L1 with C(=1/λ)=0.01\n",
      "0.7870833333333334\n",
      "0.7908333333333334\n",
      "L1 with C(=1/λ)=0.001\n",
      "0.721875\n",
      "0.7466666666666667\n"
     ]
    }
   ],
   "source": [
    "print(\"nomal\")\n",
    "\n",
    "print(\"L2 with C(=1/λ)=10\")\n",
    "lr2_10.fit(x_train,y_train)\n",
    "print(lr2_10.score(x_train,y_train))\n",
    "print(lr2_10.score(x_test,y_test))\n",
    "\n",
    "print(\"L2 with C(=1/λ)=1\")\n",
    "lr2_1.fit(x_train,y_train)\n",
    "print(lr2_1.score(x_train,y_train))\n",
    "print(lr2_1.score(x_test,y_test))\n",
    "\n",
    "print(\"L2 with C(=1/λ)=0.1\")\n",
    "lr2_0_1.fit(x_train,y_train)\n",
    "print(lr2_0_1.score(x_train,y_train))\n",
    "print(lr2_0_1.score(x_test,y_test))\n",
    "\n",
    "print(\"L2 with C(=1/λ)=0.01\")\n",
    "lr2_00_1.fit(x_train,y_train)\n",
    "print(lr2_00_1.score(x_train,y_train))\n",
    "print(lr2_00_1.score(x_test,y_test))\n",
    "\n",
    "print(\"L2 with C(=1/λ)=0.001\")\n",
    "lr2_000_1.fit(x_train,y_train)\n",
    "print(lr2_000_1.score(x_train,y_train))\n",
    "print(lr2_000_1.score(x_test,y_test))\n",
    "\n",
    "print()\n",
    "\n",
    "lr1_10.fit(x_train,y_train)\n",
    "print(\"L1 with C(=1/λ)=1\")\n",
    "print(lr1_10.score(x_train,y_train))\n",
    "print(lr1_10.score(x_test,y_test))\n",
    "\n",
    "lr1_1.fit(x_train,y_train)\n",
    "print(\"L1 with C(=1/λ)=1\")\n",
    "print(lr1_1.score(x_train,y_train))\n",
    "print(lr1_1.score(x_test,y_test))\n",
    "\n",
    "lr1_0_1.fit(x_train,y_train)\n",
    "print(\"L1 with C(=1/λ)=0.1\")\n",
    "print(lr1_0_1.score(x_train,y_train))\n",
    "print(lr1_0_1.score(x_test,y_test))\n",
    "\n",
    "lr1_00_1.fit(x_train,y_train)\n",
    "print(\"L1 with C(=1/λ)=0.01\")\n",
    "print(lr1_00_1.score(x_train,y_train))\n",
    "print(lr1_00_1.score(x_test,y_test))\n",
    "\n",
    "lr1_000_1.fit(x_train,y_train)\n",
    "print(\"L1 with C(=1/λ)=0.001\")\n",
    "print(lr1_000_1.score(x_train,y_train))\n",
    "print(lr1_000_1.score(x_test,y_test))"
   ]
  },
  {
   "cell_type": "code",
   "execution_count": 14,
   "id": "850b524d",
   "metadata": {
    "execution": {
     "iopub.execute_input": "2023-03-30T04:30:00.607028Z",
     "iopub.status.busy": "2023-03-30T04:30:00.606288Z",
     "iopub.status.idle": "2023-03-30T04:30:01.654346Z",
     "shell.execute_reply": "2023-03-30T04:30:01.652591Z"
    },
    "papermill": {
     "duration": 1.073632,
     "end_time": "2023-03-30T04:30:01.659760",
     "exception": false,
     "start_time": "2023-03-30T04:30:00.586128",
     "status": "completed"
    },
    "tags": []
   },
   "outputs": [],
   "source": [
    "lr2_00_1.fit(X,Y)\n",
    "predict=lr2_00_1.predict(test)"
   ]
  },
  {
   "cell_type": "code",
   "execution_count": 15,
   "id": "0f64cbff",
   "metadata": {
    "execution": {
     "iopub.execute_input": "2023-03-30T04:30:01.698414Z",
     "iopub.status.busy": "2023-03-30T04:30:01.697686Z",
     "iopub.status.idle": "2023-03-30T04:30:01.724632Z",
     "shell.execute_reply": "2023-03-30T04:30:01.722835Z"
    },
    "papermill": {
     "duration": 0.051984,
     "end_time": "2023-03-30T04:30:01.729880",
     "exception": false,
     "start_time": "2023-03-30T04:30:01.677896",
     "status": "completed"
    },
    "tags": []
   },
   "outputs": [],
   "source": [
    "sub = le.inverse_transform(predict)\n",
    "submit['Category']= sub\n",
    "submit.to_csv('submit.csv', mode='w', header= True, index= False)"
   ]
  },
  {
   "cell_type": "code",
   "execution_count": null,
   "id": "0776f43c",
   "metadata": {
    "papermill": {
     "duration": 0.016963,
     "end_time": "2023-03-30T04:30:01.764591",
     "exception": false,
     "start_time": "2023-03-30T04:30:01.747628",
     "status": "completed"
    },
    "tags": []
   },
   "outputs": [],
   "source": []
  },
  {
   "cell_type": "code",
   "execution_count": null,
   "id": "1a8b28f5",
   "metadata": {
    "papermill": {
     "duration": 0.006868,
     "end_time": "2023-03-30T04:30:01.783209",
     "exception": false,
     "start_time": "2023-03-30T04:30:01.776341",
     "status": "completed"
    },
    "tags": []
   },
   "outputs": [],
   "source": []
  }
 ],
 "metadata": {
  "kernelspec": {
   "display_name": "Python 3",
   "language": "python",
   "name": "python3"
  },
  "language_info": {
   "codemirror_mode": {
    "name": "ipython",
    "version": 3
   },
   "file_extension": ".py",
   "mimetype": "text/x-python",
   "name": "python",
   "nbconvert_exporter": "python",
   "pygments_lexer": "ipython3",
   "version": "3.7.12"
  },
  "papermill": {
   "default_parameters": {},
   "duration": 46.862357,
   "end_time": "2023-03-30T04:30:02.512200",
   "environment_variables": {},
   "exception": null,
   "input_path": "__notebook__.ipynb",
   "output_path": "__notebook__.ipynb",
   "parameters": {},
   "start_time": "2023-03-30T04:29:15.649843",
   "version": "2.4.0"
  }
 },
 "nbformat": 4,
 "nbformat_minor": 5
}
