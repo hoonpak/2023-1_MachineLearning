{
 "cells": [
  {
   "cell_type": "code",
   "execution_count": 1,
   "id": "720c22a1",
   "metadata": {
    "_cell_guid": "b1076dfc-b9ad-4769-8c92-a6c4dae69d19",
    "_uuid": "8f2839f25d086af736a60e9eeb907d3b93b6e0e5",
    "execution": {
     "iopub.execute_input": "2023-06-13T11:06:05.080249Z",
     "iopub.status.busy": "2023-06-13T11:06:05.079244Z",
     "iopub.status.idle": "2023-06-13T11:06:05.343862Z",
     "shell.execute_reply": "2023-06-13T11:06:05.342230Z"
    },
    "papermill": {
     "duration": 0.276607,
     "end_time": "2023-06-13T11:06:05.346813",
     "exception": false,
     "start_time": "2023-06-13T11:06:05.070206",
     "status": "completed"
    },
    "tags": []
   },
   "outputs": [],
   "source": [
    "# This Python 3 environment comes with many helpful analytics libraries installed\n",
    "# It is defined by the kaggle/python Docker image: https://github.com/kaggle/docker-python\n",
    "# For example, here's several helpful packages to load\n",
    "\n",
    "import numpy as np # linear algebra\n",
    "import pandas as pd # data processing, CSV file I/O (e.g. pd.read_csv)\n",
    "\n",
    "# Input data files are available in the read-only \"../input/\" directory\n",
    "# For example, running this (by clicking run or pressing Shift+Enter) will list all files under the input directory\n",
    "\n",
    "import os\n",
    "for dirname, _, filenames in os.walk('/kaggle/input'):\n",
    "    for filename in filenames:\n",
    "        continue\n",
    "        #print(os.path.join(dirname, filename))\n",
    "\n",
    "# You can write up to 20GB to the current directory (/kaggle/working/) that gets preserved as output when you create a version using \"Save & Run All\" \n",
    "# You can also write temporary files to /kaggle/temp/, but they won't be saved outside of the current session"
   ]
  },
  {
   "cell_type": "code",
   "execution_count": 2,
   "id": "2e6ce824",
   "metadata": {
    "execution": {
     "iopub.execute_input": "2023-06-13T11:06:05.362876Z",
     "iopub.status.busy": "2023-06-13T11:06:05.361930Z",
     "iopub.status.idle": "2023-06-13T11:06:05.379943Z",
     "shell.execute_reply": "2023-06-13T11:06:05.378963Z"
    },
    "papermill": {
     "duration": 0.029353,
     "end_time": "2023-06-13T11:06:05.382695",
     "exception": false,
     "start_time": "2023-06-13T11:06:05.353342",
     "status": "completed"
    },
    "tags": []
   },
   "outputs": [],
   "source": [
    "# 랜덤 시드 고정\n",
    "import random\n",
    "import librosa\n",
    "import matplotlib.pyplot as plt\n",
    "from tqdm import tqdm\n",
    "import time\n",
    "\n",
    "seed = 42\n",
    "\n",
    "random.seed(seed)\n",
    "np.random.seed(seed)\n",
    "os.environ[\"PYTHONHASHSEED\"] = str(seed)"
   ]
  },
  {
   "cell_type": "markdown",
   "id": "10861c42",
   "metadata": {
    "papermill": {
     "duration": 0.006048,
     "end_time": "2023-06-13T11:06:05.395609",
     "exception": false,
     "start_time": "2023-06-13T11:06:05.389561",
     "status": "completed"
    },
    "tags": []
   },
   "source": [
    "# 1. 학습 및 제출에 사용할 csv 파일 불러오기"
   ]
  },
  {
   "cell_type": "code",
   "execution_count": 3,
   "id": "c8a69e4f",
   "metadata": {
    "execution": {
     "iopub.execute_input": "2023-06-13T11:06:05.410158Z",
     "iopub.status.busy": "2023-06-13T11:06:05.409409Z",
     "iopub.status.idle": "2023-06-13T11:06:05.442231Z",
     "shell.execute_reply": "2023-06-13T11:06:05.441231Z"
    },
    "papermill": {
     "duration": 0.04333,
     "end_time": "2023-06-13T11:06:05.445122",
     "exception": false,
     "start_time": "2023-06-13T11:06:05.401792",
     "status": "completed"
    },
    "tags": []
   },
   "outputs": [],
   "source": [
    "# 학습할 음악들의 장르 정답 csv 파일 불러오기\n",
    "train_info_csv = pd.read_csv('/kaggle/input/2023-ml-finalexam-pp5/train_labels.csv')\n",
    "\n",
    "# 제출에 사용할 csv 파일 불러오기\n",
    "submit = pd.read_csv('/kaggle/input/2023-ml-finalexam-pp5/submit_sample.csv')\n",
    "test_info_csv = submit['id']"
   ]
  },
  {
   "cell_type": "code",
   "execution_count": 4,
   "id": "a800377f",
   "metadata": {
    "execution": {
     "iopub.execute_input": "2023-06-13T11:06:05.460944Z",
     "iopub.status.busy": "2023-06-13T11:06:05.459327Z",
     "iopub.status.idle": "2023-06-13T11:06:05.473903Z",
     "shell.execute_reply": "2023-06-13T11:06:05.472672Z"
    },
    "papermill": {
     "duration": 0.024809,
     "end_time": "2023-06-13T11:06:05.476558",
     "exception": false,
     "start_time": "2023-06-13T11:06:05.451749",
     "status": "completed"
    },
    "tags": []
   },
   "outputs": [
    {
     "data": {
      "text/plain": [
       "array(['rock', 'country', 'metal', 'hiphop', 'pop', 'classical', 'disco',\n",
       "       'reggae', 'blues', 'jazz'], dtype=object)"
      ]
     },
     "execution_count": 4,
     "metadata": {},
     "output_type": "execute_result"
    }
   ],
   "source": [
    "# 어떤 장르들을 분류해야 하는지 확인해보기\n",
    "train_info_csv['genre'].unique()"
   ]
  },
  {
   "cell_type": "markdown",
   "id": "a5313a1d",
   "metadata": {
    "papermill": {
     "duration": 0.00599,
     "end_time": "2023-06-13T11:06:05.488979",
     "exception": false,
     "start_time": "2023-06-13T11:06:05.482989",
     "status": "completed"
    },
    "tags": []
   },
   "source": [
    "# 2. 데이터 불러오기 및 Handcrafted-Feature(MFCC) 추출"
   ]
  },
  {
   "cell_type": "markdown",
   "id": "6de66113",
   "metadata": {
    "papermill": {
     "duration": 0.005995,
     "end_time": "2023-06-13T11:06:05.502887",
     "exception": false,
     "start_time": "2023-06-13T11:06:05.496892",
     "status": "completed"
    },
    "tags": []
   },
   "source": [
    "## Empty Module #1: extract_mfcc_feature()\n",
    "첫 번째 Empty Module에서는 각 음악 파일에 대한 MFCC feature를 추출하는 함수를 구현합니다.  \n",
    "단, 본 Empty Module에서는 **librosa, numpy 라이브러리의 함수를 통해 spectrum, spectrogram, power_spectrogram, melspectrogram, melspectrogram_db를 순차적으로 얻고,  \n",
    "이를 입력으로 주어 MFCC feature를 얻는 것을 목표**로 합니다.\n",
    "\n",
    "문제 Overview에 주어진 [안내 사항](https://www.kaggle.com/competitions/2023-ml-finalexam-pp5/overview)과 아래 붉은 글씨로 된 주의사항을 천천히 읽은 뒤 함수를 구현하시기 바랍니다.\n",
    "\n",
    "<span style=\"color:red\">    \n",
    "    \n",
    "- 만약 spectrum, spectrogram, power_spectrogram, melspectrogram, melspectrogram_db 구현 없이 time-series로부터 직접 MFCC feature를 추출하는 경우에는 베이스라인 성능을 달성하더라도 본 문제에 대한 점수를 인정받을 수 없습니다.  \n",
    "    \n",
    "- 즉, 아래 extract_mfcc_feature() 함수 내에 적혀 있는 변수 값들을 순차적으로 채워나가며 최종적인 MFCC feature를 추출하여 학습, 추론에 사용하시기 바랍니다.  \n",
    "    \n",
    "- 또한, 아래 함수에서 구현한 MFCC feature가 아닌 다른 feature로 베이스라인을 통과하는 경우 점수가 인정되지 않습니다.  \n",
    "</span>\n"
   ]
  },
  {
   "cell_type": "code",
   "execution_count": 5,
   "id": "a0867be4",
   "metadata": {
    "execution": {
     "iopub.execute_input": "2023-06-13T11:06:05.517651Z",
     "iopub.status.busy": "2023-06-13T11:06:05.517248Z",
     "iopub.status.idle": "2023-06-13T11:06:05.526241Z",
     "shell.execute_reply": "2023-06-13T11:06:05.525099Z"
    },
    "papermill": {
     "duration": 0.019418,
     "end_time": "2023-06-13T11:06:05.528634",
     "exception": false,
     "start_time": "2023-06-13T11:06:05.509216",
     "status": "completed"
    },
    "tags": []
   },
   "outputs": [],
   "source": [
    "# Empty Module #1\n",
    "\n",
    "def extract_mfcc_feature(file_path):\n",
    "    \n",
    "    feature = []\n",
    "    \n",
    "# 아래 빈 칸에 함수를 채워넣어 순차적으로 MFCC feature를 구현하세요.\n",
    "# -------------------------------------------------------------------------------------------------\n",
    "    y, sr = librosa.load(file_path, sr = 22050) #파일 불러오기\n",
    "    \n",
    "    spectrum = librosa.stft(y) #spectrogram으로 만들어주기\n",
    "\n",
    "    spectrogram = np.abs(spectrum) #spectrogram을 절대값 씌어주기\n",
    "\n",
    "    power_spectrogram = (spectrogram)**2 #제곱해주기\n",
    " \n",
    "    melspectrogram = librosa.feature.melspectrogram(S=power_spectrogram) #melspectrogram만들기\n",
    "    \n",
    "    melspectrogram_db = librosa.power_to_db(melspectrogram) #db로 만들기\n",
    "\n",
    "    mfcc = librosa.feature.mfcc(S=melspectrogram_db) #mfcc feature로 만들어주기\n",
    "# -------------------------------------------------------------------------------------------------\n",
    "     \n",
    "    # 2차원으로 추출된 mfcc 값을 분류기에 넣어주기 위해 1차원 벡터로 변경해주어야 합니다.\n",
    "    # 이는 아래 코드와 같이 시간축에 대한 평균을 내어 수행합니다.\n",
    "    mfcc_feature = np.mean(mfcc, axis=1) \n",
    "    \n",
    "    return mfcc_feature"
   ]
  },
  {
   "cell_type": "code",
   "execution_count": 6,
   "id": "9a2f1310",
   "metadata": {
    "execution": {
     "iopub.execute_input": "2023-06-13T11:06:05.543999Z",
     "iopub.status.busy": "2023-06-13T11:06:05.543345Z",
     "iopub.status.idle": "2023-06-13T11:06:05.554845Z",
     "shell.execute_reply": "2023-06-13T11:06:05.553655Z"
    },
    "papermill": {
     "duration": 0.022345,
     "end_time": "2023-06-13T11:06:05.557686",
     "exception": false,
     "start_time": "2023-06-13T11:06:05.535341",
     "status": "completed"
    },
    "tags": []
   },
   "outputs": [],
   "source": [
    "def feature_loader(data_info, split=None, rootpath=None):\n",
    "    split = split.upper()\n",
    "    info_dict = {}\n",
    "    \n",
    "    if split=='TRAIN':\n",
    "        train_path = os.path.join(rootpath, 'train')\n",
    "        file_list = data_info['id']\n",
    "        label_list = data_info['genre']\n",
    "        \n",
    "        for file, label in zip(tqdm(file_list), label_list):\n",
    "            # ----------------------------------------------\n",
    "            # 학습에 사용할 음성 중 손상된 wav 파일은 제외합니다.\n",
    "            # 아래의 조건문은 수정하실 필요 없습니다.\n",
    "            if file == 'train_412.wav':\n",
    "                continue    \n",
    "            # ----------------------------------------------\n",
    "            file_dict = {}     \n",
    "            file_dict['label'] = label\n",
    "            file_path = os.path.join(train_path, file)\n",
    "            features = extract_mfcc_feature(file_path)\n",
    "            file_dict['features'] = features\n",
    "            info_dict[file] = file_dict\n",
    "            \n",
    "        return info_dict\n",
    "        \n",
    "    elif split=='TEST':\n",
    "        test_path = os.path.join(rootpath, 'test')\n",
    "        file_list = data_info\n",
    "        \n",
    "        for file in tqdm(file_list):\n",
    "            file_dict = {}\n",
    "            file_path = os.path.join(test_path, file)\n",
    "            features = extract_mfcc_feature(file_path)   \n",
    "            file_dict['features'] = features\n",
    "            info_dict[file] = file_dict\n",
    "            \n",
    "        return info_dict"
   ]
  },
  {
   "cell_type": "code",
   "execution_count": 7,
   "id": "a12a9407",
   "metadata": {
    "execution": {
     "iopub.execute_input": "2023-06-13T11:06:05.572942Z",
     "iopub.status.busy": "2023-06-13T11:06:05.572514Z",
     "iopub.status.idle": "2023-06-13T11:08:43.117019Z",
     "shell.execute_reply": "2023-06-13T11:08:43.112123Z"
    },
    "papermill": {
     "duration": 157.556729,
     "end_time": "2023-06-13T11:08:43.121177",
     "exception": false,
     "start_time": "2023-06-13T11:06:05.564448",
     "status": "completed"
    },
    "tags": []
   },
   "outputs": [
    {
     "name": "stderr",
     "output_type": "stream",
     "text": [
      "100%|██████████| 800/800 [02:09<00:00,  6.19it/s]\n",
      "100%|██████████| 200/200 [00:28<00:00,  7.06it/s]\n"
     ]
    }
   ],
   "source": [
    "rootpath = '/kaggle/input/2023-ml-finalexam-pp5'\n",
    "\n",
    "train_data = feature_loader(train_info_csv, split='train', rootpath=rootpath)\n",
    "test_data = feature_loader(test_info_csv, split='test', rootpath=rootpath) "
   ]
  },
  {
   "cell_type": "markdown",
   "id": "95ef944c",
   "metadata": {
    "papermill": {
     "duration": 0.092413,
     "end_time": "2023-06-13T11:08:43.352345",
     "exception": false,
     "start_time": "2023-06-13T11:08:43.259932",
     "status": "completed"
    },
    "tags": []
   },
   "source": [
    "# 3. 학습, 테스트 데이터 구축 및 분류기 설계"
   ]
  },
  {
   "cell_type": "code",
   "execution_count": 8,
   "id": "b308ab2e",
   "metadata": {
    "execution": {
     "iopub.execute_input": "2023-06-13T11:08:43.540273Z",
     "iopub.status.busy": "2023-06-13T11:08:43.539554Z",
     "iopub.status.idle": "2023-06-13T11:08:43.548584Z",
     "shell.execute_reply": "2023-06-13T11:08:43.547697Z"
    },
    "papermill": {
     "duration": 0.106457,
     "end_time": "2023-06-13T11:08:43.551052",
     "exception": false,
     "start_time": "2023-06-13T11:08:43.444595",
     "status": "completed"
    },
    "tags": []
   },
   "outputs": [],
   "source": [
    "x_train = []\n",
    "y_train = []\n",
    "\n",
    "for key in train_data.keys():\n",
    "    x_train.append(train_data[key]['features'])\n",
    "    y_train.append(train_data[key]['label'])\n",
    "    \n",
    "x_train = np.asarray(x_train)\n",
    "y_train = np.asarray(y_train)"
   ]
  },
  {
   "cell_type": "code",
   "execution_count": 9,
   "id": "0c7a9f50",
   "metadata": {
    "execution": {
     "iopub.execute_input": "2023-06-13T11:08:43.745173Z",
     "iopub.status.busy": "2023-06-13T11:08:43.744048Z",
     "iopub.status.idle": "2023-06-13T11:08:43.873793Z",
     "shell.execute_reply": "2023-06-13T11:08:43.872418Z"
    },
    "papermill": {
     "duration": 0.229731,
     "end_time": "2023-06-13T11:08:43.877029",
     "exception": false,
     "start_time": "2023-06-13T11:08:43.647298",
     "status": "completed"
    },
    "tags": []
   },
   "outputs": [],
   "source": [
    "from sklearn.preprocessing import LabelEncoder\n",
    "\n",
    "# 문자열로 된 음악의 장르들을 수치형으로 변경하기 위해 LabelEncoder를 사용합니다.\n",
    "le = LabelEncoder()\n",
    "y_train = le.fit_transform(y_train)"
   ]
  },
  {
   "cell_type": "code",
   "execution_count": 10,
   "id": "4dc78e04",
   "metadata": {
    "execution": {
     "iopub.execute_input": "2023-06-13T11:08:44.067562Z",
     "iopub.status.busy": "2023-06-13T11:08:44.067142Z",
     "iopub.status.idle": "2023-06-13T11:08:44.073415Z",
     "shell.execute_reply": "2023-06-13T11:08:44.072246Z"
    },
    "papermill": {
     "duration": 0.103971,
     "end_time": "2023-06-13T11:08:44.076103",
     "exception": false,
     "start_time": "2023-06-13T11:08:43.972132",
     "status": "completed"
    },
    "tags": []
   },
   "outputs": [],
   "source": [
    "x_test = []\n",
    "\n",
    "for key in test_data.keys():\n",
    "    x_test.append(test_data[key]['features'])\n",
    "    \n",
    "x_test = np.asarray(x_test)"
   ]
  },
  {
   "cell_type": "markdown",
   "id": "f055a745",
   "metadata": {
    "papermill": {
     "duration": 0.092603,
     "end_time": "2023-06-13T11:08:44.262485",
     "exception": false,
     "start_time": "2023-06-13T11:08:44.169882",
     "status": "completed"
    },
    "tags": []
   },
   "source": [
    "## Empty Module #2: 분류기 선언, 학습, 예측 수행\n",
    "두 번째 Empty Module에서는 앞서 얻은 feature를 활용할 분류기를 설계합니다.  \n",
    "베이스라인의 분류기는 RandomForestClassifier(random_state=seed)로, 분류기에 대한 별다른 하이퍼파라미터 튜닝을 진행하지 않은 성능입니다.\n",
    "\n",
    "분류기를 선언하고 앞서 얻은 feature와 라벨로 fit, predict하는 과정을 구현하시면 됩니다.  "
   ]
  },
  {
   "cell_type": "code",
   "execution_count": 11,
   "id": "5b2c4fb9",
   "metadata": {
    "execution": {
     "iopub.execute_input": "2023-06-13T11:08:44.450801Z",
     "iopub.status.busy": "2023-06-13T11:08:44.450361Z",
     "iopub.status.idle": "2023-06-13T11:08:45.543259Z",
     "shell.execute_reply": "2023-06-13T11:08:45.541903Z"
    },
    "papermill": {
     "duration": 1.190656,
     "end_time": "2023-06-13T11:08:45.546420",
     "exception": false,
     "start_time": "2023-06-13T11:08:44.355764",
     "status": "completed"
    },
    "tags": []
   },
   "outputs": [],
   "source": [
    "# Empty Module #2\n",
    "\n",
    "# 아래 빈 칸에 함수를 채워넣어 학습 및 분류를 수행하세요.\n",
    "# -------------------------------------------------------------------------------------------------\n",
    "from sklearn.ensemble import RandomForestClassifier\n",
    "\n",
    "model = RandomForestClassifier()\n",
    "model.fit(x_train,y_train)\n",
    "pred_rfc = model.predict(x_test)"
   ]
  },
  {
   "cell_type": "code",
   "execution_count": 12,
   "id": "3bc860a2",
   "metadata": {
    "execution": {
     "iopub.execute_input": "2023-06-13T11:08:45.737117Z",
     "iopub.status.busy": "2023-06-13T11:08:45.736649Z",
     "iopub.status.idle": "2023-06-13T11:08:45.749225Z",
     "shell.execute_reply": "2023-06-13T11:08:45.748188Z"
    },
    "papermill": {
     "duration": 0.109655,
     "end_time": "2023-06-13T11:08:45.751618",
     "exception": false,
     "start_time": "2023-06-13T11:08:45.641963",
     "status": "completed"
    },
    "tags": []
   },
   "outputs": [],
   "source": [
    "# 'pred_rfc' 변수는 선언하신 예측값의 변수명에 맞게 수정해주세요.\n",
    "submit['genre'] = le.inverse_transform(pred_rfc)\n",
    "submit.to_csv('MFCC_feature_baseline.csv', index=False)"
   ]
  },
  {
   "cell_type": "code",
   "execution_count": null,
   "id": "2d22dcdc",
   "metadata": {
    "papermill": {
     "duration": 0.094164,
     "end_time": "2023-06-13T11:08:45.939863",
     "exception": false,
     "start_time": "2023-06-13T11:08:45.845699",
     "status": "completed"
    },
    "tags": []
   },
   "outputs": [],
   "source": []
  }
 ],
 "metadata": {
  "kernelspec": {
   "display_name": "Python 3",
   "language": "python",
   "name": "python3"
  },
  "language_info": {
   "codemirror_mode": {
    "name": "ipython",
    "version": 3
   },
   "file_extension": ".py",
   "mimetype": "text/x-python",
   "name": "python",
   "nbconvert_exporter": "python",
   "pygments_lexer": "ipython3",
   "version": "3.10.10"
  },
  "papermill": {
   "default_parameters": {},
   "duration": 175.906541,
   "end_time": "2023-06-13T11:08:47.559950",
   "environment_variables": {},
   "exception": null,
   "input_path": "__notebook__.ipynb",
   "output_path": "__notebook__.ipynb",
   "parameters": {},
   "start_time": "2023-06-13T11:05:51.653409",
   "version": "2.4.0"
  }
 },
 "nbformat": 4,
 "nbformat_minor": 5
}
