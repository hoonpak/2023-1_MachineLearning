{
 "cells": [
  {
   "cell_type": "code",
   "execution_count": 1,
   "id": "00b9567b",
   "metadata": {
    "_cell_guid": "b1076dfc-b9ad-4769-8c92-a6c4dae69d19",
    "_uuid": "8f2839f25d086af736a60e9eeb907d3b93b6e0e5",
    "execution": {
     "iopub.execute_input": "2023-06-13T11:45:02.923548Z",
     "iopub.status.busy": "2023-06-13T11:45:02.922687Z",
     "iopub.status.idle": "2023-06-13T11:45:02.938521Z",
     "shell.execute_reply": "2023-06-13T11:45:02.937555Z"
    },
    "papermill": {
     "duration": 0.027316,
     "end_time": "2023-06-13T11:45:02.940755",
     "exception": false,
     "start_time": "2023-06-13T11:45:02.913439",
     "status": "completed"
    },
    "tags": []
   },
   "outputs": [
    {
     "name": "stdout",
     "output_type": "stream",
     "text": [
      "/kaggle/input/2023-ml-finalexam-pp3/menu.json\n",
      "/kaggle/input/2023-ml-finalexam-pp3/train.csv\n",
      "/kaggle/input/2023-ml-finalexam-pp3/test.csv\n",
      "/kaggle/input/2023-ml-finalexam-pp3/sample_submit.csv\n"
     ]
    }
   ],
   "source": [
    "# This Python 3 environment comes with many helpful analytics libraries installed\n",
    "# It is defined by the kaggle/python Docker image: https://github.com/kaggle/docker-python\n",
    "# For example, here's several helpful packages to load\n",
    "\n",
    "import numpy as np # linear algebra\n",
    "import pandas as pd # data processing, CSV file I/O (e.g. pd.read_csv)\n",
    "\n",
    "# Input data files are available in the read-only \"../input/\" directory\n",
    "# For example, running this (by clicking run or pressing Shift+Enter) will list all files under the input directory\n",
    "\n",
    "import os\n",
    "for dirname, _, filenames in os.walk('/kaggle/input'):\n",
    "    for filename in filenames:\n",
    "        print(os.path.join(dirname, filename))\n",
    "\n",
    "# You can write up to 20GB to the current directory (/kaggle/working/) that gets preserved as output when you create a version using \"Save & Run All\" \n",
    "# You can also write temporary files to /kaggle/temp/, but they won't be saved outside of the current session"
   ]
  },
  {
   "cell_type": "code",
   "execution_count": 2,
   "id": "1e3d461c",
   "metadata": {
    "execution": {
     "iopub.execute_input": "2023-06-13T11:45:02.954773Z",
     "iopub.status.busy": "2023-06-13T11:45:02.954484Z",
     "iopub.status.idle": "2023-06-13T11:45:02.959366Z",
     "shell.execute_reply": "2023-06-13T11:45:02.958462Z"
    },
    "papermill": {
     "duration": 0.014339,
     "end_time": "2023-06-13T11:45:02.961424",
     "exception": false,
     "start_time": "2023-06-13T11:45:02.947085",
     "status": "completed"
    },
    "tags": []
   },
   "outputs": [],
   "source": [
    "#랜덤 시드 고정\n",
    "import random\n",
    "import os\n",
    "seed = 42\n",
    "random.seed(seed)\n",
    "np.random.seed(seed)\n",
    "os.environ[\"PYTHONHASHSEED\"] = str(seed)"
   ]
  },
  {
   "cell_type": "code",
   "execution_count": 3,
   "id": "bd82b9bd",
   "metadata": {
    "execution": {
     "iopub.execute_input": "2023-06-13T11:45:02.975329Z",
     "iopub.status.busy": "2023-06-13T11:45:02.975011Z",
     "iopub.status.idle": "2023-06-13T11:45:02.986104Z",
     "shell.execute_reply": "2023-06-13T11:45:02.985258Z"
    },
    "papermill": {
     "duration": 0.020531,
     "end_time": "2023-06-13T11:45:02.988127",
     "exception": false,
     "start_time": "2023-06-13T11:45:02.967596",
     "status": "completed"
    },
    "tags": []
   },
   "outputs": [],
   "source": [
    "#파일 불러오기\n",
    "import json\n",
    "\n",
    "with open(\"/kaggle/input/2023-ml-finalexam-pp3/menu.json\") as f:\n",
    "    total_menu = json.load(f)"
   ]
  },
  {
   "cell_type": "code",
   "execution_count": 4,
   "id": "473c6a17",
   "metadata": {
    "execution": {
     "iopub.execute_input": "2023-06-13T11:45:03.002117Z",
     "iopub.status.busy": "2023-06-13T11:45:03.001831Z",
     "iopub.status.idle": "2023-06-13T11:45:03.057676Z",
     "shell.execute_reply": "2023-06-13T11:45:03.056497Z"
    },
    "papermill": {
     "duration": 0.06592,
     "end_time": "2023-06-13T11:45:03.060386",
     "exception": false,
     "start_time": "2023-06-13T11:45:02.994466",
     "status": "completed"
    },
    "tags": []
   },
   "outputs": [],
   "source": [
    "#데이터 불러오기\n",
    "train=pd.read_csv('/kaggle/input/2023-ml-finalexam-pp3/train.csv')\n",
    "test = pd.read_csv(\"/kaggle/input/2023-ml-finalexam-pp3/test.csv\")\n",
    "submit = pd.read_csv(\"/kaggle/input/2023-ml-finalexam-pp3/sample_submit.csv\")"
   ]
  },
  {
   "cell_type": "code",
   "execution_count": 5,
   "id": "e17f995e",
   "metadata": {
    "execution": {
     "iopub.execute_input": "2023-06-13T11:45:03.075190Z",
     "iopub.status.busy": "2023-06-13T11:45:03.074371Z",
     "iopub.status.idle": "2023-06-13T11:45:03.961591Z",
     "shell.execute_reply": "2023-06-13T11:45:03.960632Z"
    },
    "papermill": {
     "duration": 0.897198,
     "end_time": "2023-06-13T11:45:03.964224",
     "exception": false,
     "start_time": "2023-06-13T11:45:03.067026",
     "status": "completed"
    },
    "tags": []
   },
   "outputs": [],
   "source": [
    "#bow 만들어주기\n",
    "train_BoW_feature = list()\n",
    "\n",
    "for idx in range(len(train)):\n",
    "    menu_list = list()\n",
    "    BoW = np.zeros((len(total_menu)))\n",
    "    for col in ['조식메뉴','중식메뉴','석식메뉴']:\n",
    "        menu_list.extend(train[col].iloc[idx].split(' '))\n",
    "    menu_list = set(menu_list)\n",
    "    menu_list.remove('')\n",
    "    for menu in menu_list:\n",
    "        idx_ = total_menu.index(menu) # 텀프로젝트 내용을 활용해서 필요한 코드를 작성하세요.\n",
    "        BoW[idx_] = 1# 텀프로젝트 내용을 활용해서 필요한 코드를 작성하세요.\n",
    "    train_BoW_feature.append(BoW)\n",
    "\n",
    "train_BoW_feature = np.array(train_BoW_feature)\n",
    "\n",
    "test_BoW_feature = list()\n",
    "\n",
    "for idx in range(len(test)):\n",
    "    menu_list = list()\n",
    "    BoW = np.zeros((len(total_menu)))\n",
    "    for col in ['조식메뉴','중식메뉴','석식메뉴']:\n",
    "        menu_list.extend(test[col].iloc[idx].split(' '))\n",
    "    menu_list = set(menu_list)\n",
    "    menu_list.remove('')\n",
    "    for menu in menu_list:\n",
    "        idx_ = total_menu.index(menu) # 텀프로젝트 내용을 활용해서 필요한 코드를 작성하세요.\n",
    "        BoW[idx_] = 1# 텀프로젝트 내용을 활용해서 필요한 코드를 작성하세요.\n",
    "    test_BoW_feature.append(BoW)\n",
    "\n",
    "test_BoW_feature = np.array(test_BoW_feature)"
   ]
  },
  {
   "cell_type": "code",
   "execution_count": 6,
   "id": "d8b05c2a",
   "metadata": {
    "execution": {
     "iopub.execute_input": "2023-06-13T11:45:03.981050Z",
     "iopub.status.busy": "2023-06-13T11:45:03.980042Z",
     "iopub.status.idle": "2023-06-13T11:45:03.987647Z",
     "shell.execute_reply": "2023-06-13T11:45:03.986730Z"
    },
    "papermill": {
     "duration": 0.018821,
     "end_time": "2023-06-13T11:45:03.989734",
     "exception": false,
     "start_time": "2023-06-13T11:45:03.970913",
     "status": "completed"
    },
    "tags": []
   },
   "outputs": [
    {
     "data": {
      "text/plain": [
       "(843, 3294)"
      ]
     },
     "execution_count": 6,
     "metadata": {},
     "output_type": "execute_result"
    }
   ],
   "source": [
    "#만들어진 bow shape확인하기\n",
    "train_BoW_feature.shape"
   ]
  },
  {
   "cell_type": "code",
   "execution_count": 7,
   "id": "cb23a4e1",
   "metadata": {
    "execution": {
     "iopub.execute_input": "2023-06-13T11:45:04.003949Z",
     "iopub.status.busy": "2023-06-13T11:45:04.003637Z",
     "iopub.status.idle": "2023-06-13T11:45:04.011161Z",
     "shell.execute_reply": "2023-06-13T11:45:04.010287Z"
    },
    "papermill": {
     "duration": 0.017238,
     "end_time": "2023-06-13T11:45:04.013426",
     "exception": false,
     "start_time": "2023-06-13T11:45:03.996188",
     "status": "completed"
    },
    "tags": []
   },
   "outputs": [
    {
     "data": {
      "text/plain": [
       "(362, 3294)"
      ]
     },
     "execution_count": 7,
     "metadata": {},
     "output_type": "execute_result"
    }
   ],
   "source": [
    "test_BoW_feature.shape"
   ]
  },
  {
   "cell_type": "code",
   "execution_count": 8,
   "id": "89353137",
   "metadata": {
    "execution": {
     "iopub.execute_input": "2023-06-13T11:45:04.027991Z",
     "iopub.status.busy": "2023-06-13T11:45:04.027696Z",
     "iopub.status.idle": "2023-06-13T11:45:04.047626Z",
     "shell.execute_reply": "2023-06-13T11:45:04.046699Z"
    },
    "papermill": {
     "duration": 0.029924,
     "end_time": "2023-06-13T11:45:04.049945",
     "exception": false,
     "start_time": "2023-06-13T11:45:04.020021",
     "status": "completed"
    },
    "tags": []
   },
   "outputs": [],
   "source": [
    "#pca진행하기 위해 합치기\n",
    "The_menu = np.concatenate((train_BoW_feature, test_BoW_feature),axis=0)"
   ]
  },
  {
   "cell_type": "code",
   "execution_count": 9,
   "id": "1be43528",
   "metadata": {
    "execution": {
     "iopub.execute_input": "2023-06-13T11:45:04.064656Z",
     "iopub.status.busy": "2023-06-13T11:45:04.064333Z",
     "iopub.status.idle": "2023-06-13T11:45:05.948230Z",
     "shell.execute_reply": "2023-06-13T11:45:05.946187Z"
    },
    "papermill": {
     "duration": 1.895549,
     "end_time": "2023-06-13T11:45:05.952228",
     "exception": false,
     "start_time": "2023-06-13T11:45:04.056679",
     "status": "completed"
    },
    "tags": []
   },
   "outputs": [],
   "source": [
    "#pca진행\n",
    "import numpy as np\n",
    "from sklearn.decomposition import PCA\n",
    "\n",
    "\n",
    "pca = PCA(n_components=10)\n",
    "pca.fit(The_menu)\n",
    "train_BoW_feature = pca.transform(train_BoW_feature)\n",
    "test_BoW_feature = pca.transform(test_BoW_feature)"
   ]
  },
  {
   "cell_type": "code",
   "execution_count": 10,
   "id": "fd0b791e",
   "metadata": {
    "execution": {
     "iopub.execute_input": "2023-06-13T11:45:05.995435Z",
     "iopub.status.busy": "2023-06-13T11:45:05.994804Z",
     "iopub.status.idle": "2023-06-13T11:45:06.049790Z",
     "shell.execute_reply": "2023-06-13T11:45:06.048424Z"
    },
    "papermill": {
     "duration": 0.086477,
     "end_time": "2023-06-13T11:45:06.054008",
     "exception": false,
     "start_time": "2023-06-13T11:45:05.967531",
     "status": "completed"
    },
    "tags": []
   },
   "outputs": [
    {
     "data": {
      "text/html": [
       "<div>\n",
       "<style scoped>\n",
       "    .dataframe tbody tr th:only-of-type {\n",
       "        vertical-align: middle;\n",
       "    }\n",
       "\n",
       "    .dataframe tbody tr th {\n",
       "        vertical-align: top;\n",
       "    }\n",
       "\n",
       "    .dataframe thead th {\n",
       "        text-align: right;\n",
       "    }\n",
       "</style>\n",
       "<table border=\"1\" class=\"dataframe\">\n",
       "  <thead>\n",
       "    <tr style=\"text-align: right;\">\n",
       "      <th></th>\n",
       "      <th>Unnamed: 0</th>\n",
       "      <th>일자</th>\n",
       "      <th>요일</th>\n",
       "      <th>본사정원수</th>\n",
       "      <th>본사휴가자수</th>\n",
       "      <th>본사출장자수</th>\n",
       "      <th>본사시간외근무명령서승인건수</th>\n",
       "      <th>현본사소속재택근무자수</th>\n",
       "      <th>조식메뉴</th>\n",
       "      <th>중식메뉴</th>\n",
       "      <th>석식메뉴</th>\n",
       "      <th>중식계</th>\n",
       "    </tr>\n",
       "  </thead>\n",
       "  <tbody>\n",
       "    <tr>\n",
       "      <th>0</th>\n",
       "      <td>0</td>\n",
       "      <td>2016-02-01</td>\n",
       "      <td>월</td>\n",
       "      <td>2601</td>\n",
       "      <td>50</td>\n",
       "      <td>150</td>\n",
       "      <td>238</td>\n",
       "      <td>0.0</td>\n",
       "      <td>모닝롤/찐빵  우유/두유/주스 계란후라이  호두죽/쌀밥 (쌀:국내산) 된장찌개  쥐...</td>\n",
       "      <td>쌀밥/잡곡밥 (쌀,현미흑미:국내산) 오징어찌개  쇠불고기 (쇠고기:호주산) 계란찜 ...</td>\n",
       "      <td>쌀밥/잡곡밥 (쌀,현미흑미:국내산) 육개장  자반고등어구이  두부조림  건파래무침 ...</td>\n",
       "      <td>1039.0</td>\n",
       "    </tr>\n",
       "    <tr>\n",
       "      <th>1</th>\n",
       "      <td>1</td>\n",
       "      <td>2016-02-02</td>\n",
       "      <td>화</td>\n",
       "      <td>2601</td>\n",
       "      <td>50</td>\n",
       "      <td>173</td>\n",
       "      <td>319</td>\n",
       "      <td>0.0</td>\n",
       "      <td>모닝롤/단호박샌드  우유/두유/주스 계란후라이  팥죽/쌀밥 (쌀:국내산) 호박젓국찌...</td>\n",
       "      <td>쌀밥/잡곡밥 (쌀,현미흑미:국내산) 김치찌개  가자미튀김  모둠소세지구이  마늘쫑무...</td>\n",
       "      <td>콩나물밥*양념장 (쌀,현미흑미:국내산) 어묵국  유산슬 (쇠고기:호주산) 아삭고추무...</td>\n",
       "      <td>867.0</td>\n",
       "    </tr>\n",
       "    <tr>\n",
       "      <th>2</th>\n",
       "      <td>2</td>\n",
       "      <td>2016-02-03</td>\n",
       "      <td>수</td>\n",
       "      <td>2601</td>\n",
       "      <td>56</td>\n",
       "      <td>180</td>\n",
       "      <td>111</td>\n",
       "      <td>0.0</td>\n",
       "      <td>모닝롤/베이글  우유/두유/주스 계란후라이  표고버섯죽/쌀밥 (쌀:국내산) 콩나물국...</td>\n",
       "      <td>카레덮밥 (쌀,현미흑미:국내산) 팽이장국  치킨핑거 (닭고기:국내산) 쫄면야채무침 ...</td>\n",
       "      <td>쌀밥/잡곡밥 (쌀,현미흑미:국내산) 청국장찌개  황태양념구이 (황태:러시아산) 고기...</td>\n",
       "      <td>1017.0</td>\n",
       "    </tr>\n",
       "    <tr>\n",
       "      <th>3</th>\n",
       "      <td>3</td>\n",
       "      <td>2016-02-04</td>\n",
       "      <td>목</td>\n",
       "      <td>2601</td>\n",
       "      <td>104</td>\n",
       "      <td>220</td>\n",
       "      <td>355</td>\n",
       "      <td>0.0</td>\n",
       "      <td>모닝롤/토마토샌드  우유/두유/주스 계란후라이  닭죽/쌀밥 (쌀,닭:국내산) 근대국...</td>\n",
       "      <td>쌀밥/잡곡밥 (쌀,현미흑미:국내산) 쇠고기무국  주꾸미볶음  부추전  시금치나물  ...</td>\n",
       "      <td>미니김밥*겨자장 (쌀,현미흑미:국내산) 우동  멕시칸샐러드  군고구마  무피클  포...</td>\n",
       "      <td>978.0</td>\n",
       "    </tr>\n",
       "    <tr>\n",
       "      <th>4</th>\n",
       "      <td>4</td>\n",
       "      <td>2016-02-05</td>\n",
       "      <td>금</td>\n",
       "      <td>2601</td>\n",
       "      <td>278</td>\n",
       "      <td>181</td>\n",
       "      <td>34</td>\n",
       "      <td>0.0</td>\n",
       "      <td>모닝롤/와플  우유/두유/주스 계란후라이  쇠고기죽/쌀밥 (쌀:국내산) 재첩국  방...</td>\n",
       "      <td>쌀밥/잡곡밥 (쌀,현미흑미:국내산) 떡국  돈육씨앗강정 (돼지고기:국내산) 우엉잡채...</td>\n",
       "      <td>쌀밥/잡곡밥 (쌀,현미흑미:국내산) 차돌박이찌개 (쇠고기:호주산) 닭갈비 (닭고기:...</td>\n",
       "      <td>925.0</td>\n",
       "    </tr>\n",
       "  </tbody>\n",
       "</table>\n",
       "</div>"
      ],
      "text/plain": [
       "   Unnamed: 0          일자 요일  본사정원수  본사휴가자수  본사출장자수  본사시간외근무명령서승인건수  \\\n",
       "0           0  2016-02-01  월   2601      50     150             238   \n",
       "1           1  2016-02-02  화   2601      50     173             319   \n",
       "2           2  2016-02-03  수   2601      56     180             111   \n",
       "3           3  2016-02-04  목   2601     104     220             355   \n",
       "4           4  2016-02-05  금   2601     278     181              34   \n",
       "\n",
       "   현본사소속재택근무자수                                               조식메뉴  \\\n",
       "0          0.0  모닝롤/찐빵  우유/두유/주스 계란후라이  호두죽/쌀밥 (쌀:국내산) 된장찌개  쥐...   \n",
       "1          0.0  모닝롤/단호박샌드  우유/두유/주스 계란후라이  팥죽/쌀밥 (쌀:국내산) 호박젓국찌...   \n",
       "2          0.0  모닝롤/베이글  우유/두유/주스 계란후라이  표고버섯죽/쌀밥 (쌀:국내산) 콩나물국...   \n",
       "3          0.0  모닝롤/토마토샌드  우유/두유/주스 계란후라이  닭죽/쌀밥 (쌀,닭:국내산) 근대국...   \n",
       "4          0.0  모닝롤/와플  우유/두유/주스 계란후라이  쇠고기죽/쌀밥 (쌀:국내산) 재첩국  방...   \n",
       "\n",
       "                                                중식메뉴  \\\n",
       "0  쌀밥/잡곡밥 (쌀,현미흑미:국내산) 오징어찌개  쇠불고기 (쇠고기:호주산) 계란찜 ...   \n",
       "1  쌀밥/잡곡밥 (쌀,현미흑미:국내산) 김치찌개  가자미튀김  모둠소세지구이  마늘쫑무...   \n",
       "2  카레덮밥 (쌀,현미흑미:국내산) 팽이장국  치킨핑거 (닭고기:국내산) 쫄면야채무침 ...   \n",
       "3  쌀밥/잡곡밥 (쌀,현미흑미:국내산) 쇠고기무국  주꾸미볶음  부추전  시금치나물  ...   \n",
       "4  쌀밥/잡곡밥 (쌀,현미흑미:국내산) 떡국  돈육씨앗강정 (돼지고기:국내산) 우엉잡채...   \n",
       "\n",
       "                                                석식메뉴     중식계  \n",
       "0  쌀밥/잡곡밥 (쌀,현미흑미:국내산) 육개장  자반고등어구이  두부조림  건파래무침 ...  1039.0  \n",
       "1  콩나물밥*양념장 (쌀,현미흑미:국내산) 어묵국  유산슬 (쇠고기:호주산) 아삭고추무...   867.0  \n",
       "2  쌀밥/잡곡밥 (쌀,현미흑미:국내산) 청국장찌개  황태양념구이 (황태:러시아산) 고기...  1017.0  \n",
       "3  미니김밥*겨자장 (쌀,현미흑미:국내산) 우동  멕시칸샐러드  군고구마  무피클  포...   978.0  \n",
       "4  쌀밥/잡곡밥 (쌀,현미흑미:국내산) 차돌박이찌개 (쇠고기:호주산) 닭갈비 (닭고기:...   925.0  "
      ]
     },
     "execution_count": 10,
     "metadata": {},
     "output_type": "execute_result"
    }
   ],
   "source": [
    "#train 형식 확인\n",
    "train.head()"
   ]
  },
  {
   "cell_type": "code",
   "execution_count": 11,
   "id": "9b500ceb",
   "metadata": {
    "execution": {
     "iopub.execute_input": "2023-06-13T11:45:06.074144Z",
     "iopub.status.busy": "2023-06-13T11:45:06.073822Z",
     "iopub.status.idle": "2023-06-13T11:45:06.079288Z",
     "shell.execute_reply": "2023-06-13T11:45:06.078627Z"
    },
    "papermill": {
     "duration": 0.014887,
     "end_time": "2023-06-13T11:45:06.081069",
     "exception": false,
     "start_time": "2023-06-13T11:45:06.066182",
     "status": "completed"
    },
    "tags": []
   },
   "outputs": [
    {
     "data": {
      "text/plain": [
       "Index(['Unnamed: 0', '일자', '요일', '본사정원수', '본사휴가자수', '본사출장자수', '본사시간외근무명령서승인건수',\n",
       "       '현본사소속재택근무자수', '조식메뉴', '중식메뉴', '석식메뉴', '중식계'],\n",
       "      dtype='object')"
      ]
     },
     "execution_count": 11,
     "metadata": {},
     "output_type": "execute_result"
    }
   ],
   "source": [
    "#열 정보 확인\n",
    "train.columns"
   ]
  },
  {
   "cell_type": "code",
   "execution_count": 12,
   "id": "7349dc8e",
   "metadata": {
    "execution": {
     "iopub.execute_input": "2023-06-13T11:45:06.096164Z",
     "iopub.status.busy": "2023-06-13T11:45:06.095605Z",
     "iopub.status.idle": "2023-06-13T11:45:06.106832Z",
     "shell.execute_reply": "2023-06-13T11:45:06.106106Z"
    },
    "papermill": {
     "duration": 0.021034,
     "end_time": "2023-06-13T11:45:06.108767",
     "exception": false,
     "start_time": "2023-06-13T11:45:06.087733",
     "status": "completed"
    },
    "tags": []
   },
   "outputs": [],
   "source": [
    "#데이터 분리\n",
    "y = train['중식계']\n",
    "train = train[['요일', '본사정원수', '본사휴가자수', '본사출장자수', '본사시간외근무명령서승인건수',\n",
    "       '현본사소속재택근무자수']]\n",
    "test = test[['요일', '본사정원수', '본사휴가자수', '본사출장자수', '본사시간외근무명령서승인건수',\n",
    "       '현본사소속재택근무자수']]"
   ]
  },
  {
   "cell_type": "code",
   "execution_count": 13,
   "id": "6d5352a1",
   "metadata": {
    "execution": {
     "iopub.execute_input": "2023-06-13T11:45:06.124205Z",
     "iopub.status.busy": "2023-06-13T11:45:06.123675Z",
     "iopub.status.idle": "2023-06-13T11:45:06.139692Z",
     "shell.execute_reply": "2023-06-13T11:45:06.138698Z"
    },
    "papermill": {
     "duration": 0.026319,
     "end_time": "2023-06-13T11:45:06.141648",
     "exception": false,
     "start_time": "2023-06-13T11:45:06.115329",
     "status": "completed"
    },
    "tags": []
   },
   "outputs": [
    {
     "name": "stdout",
     "output_type": "stream",
     "text": [
      "<class 'pandas.core.frame.DataFrame'>\n",
      "RangeIndex: 843 entries, 0 to 842\n",
      "Data columns (total 6 columns):\n",
      " #   Column          Non-Null Count  Dtype  \n",
      "---  ------          --------------  -----  \n",
      " 0   요일              843 non-null    object \n",
      " 1   본사정원수           843 non-null    int64  \n",
      " 2   본사휴가자수          843 non-null    int64  \n",
      " 3   본사출장자수          843 non-null    int64  \n",
      " 4   본사시간외근무명령서승인건수  843 non-null    int64  \n",
      " 5   현본사소속재택근무자수     843 non-null    float64\n",
      "dtypes: float64(1), int64(4), object(1)\n",
      "memory usage: 39.6+ KB\n"
     ]
    }
   ],
   "source": [
    "#데이터 형식 확인\n",
    "train.info()"
   ]
  },
  {
   "cell_type": "code",
   "execution_count": 14,
   "id": "a2a442ed",
   "metadata": {
    "execution": {
     "iopub.execute_input": "2023-06-13T11:45:06.157682Z",
     "iopub.status.busy": "2023-06-13T11:45:06.157327Z",
     "iopub.status.idle": "2023-06-13T11:45:06.164287Z",
     "shell.execute_reply": "2023-06-13T11:45:06.163331Z"
    },
    "papermill": {
     "duration": 0.017642,
     "end_time": "2023-06-13T11:45:06.166507",
     "exception": false,
     "start_time": "2023-06-13T11:45:06.148865",
     "status": "completed"
    },
    "tags": []
   },
   "outputs": [],
   "source": [
    "#데이터 전처리 - 요일 숫자로\n",
    "from sklearn.preprocessing import LabelEncoder\n",
    "le = LabelEncoder()\n",
    "le.fit(train['요일']) #train에만 하면 안될 수도 있지만, 이번 경우에 요일은 무조건 정해져 있으니까 일단 이렇게 함\n",
    "train['요일'] = le.transform(train['요일'])\n",
    "test['요일'] = le.transform(test['요일'])"
   ]
  },
  {
   "cell_type": "code",
   "execution_count": 15,
   "id": "b3723800",
   "metadata": {
    "execution": {
     "iopub.execute_input": "2023-06-13T11:45:06.182816Z",
     "iopub.status.busy": "2023-06-13T11:45:06.182455Z",
     "iopub.status.idle": "2023-06-13T11:45:06.188597Z",
     "shell.execute_reply": "2023-06-13T11:45:06.187568Z"
    },
    "papermill": {
     "duration": 0.016512,
     "end_time": "2023-06-13T11:45:06.190574",
     "exception": false,
     "start_time": "2023-06-13T11:45:06.174062",
     "status": "completed"
    },
    "tags": []
   },
   "outputs": [],
   "source": [
    "#np형식으로 변환\n",
    "train = np.array(train)\n",
    "test = np.array(test)"
   ]
  },
  {
   "cell_type": "code",
   "execution_count": 16,
   "id": "ba8c9c8f",
   "metadata": {
    "execution": {
     "iopub.execute_input": "2023-06-13T11:45:06.206078Z",
     "iopub.status.busy": "2023-06-13T11:45:06.205707Z",
     "iopub.status.idle": "2023-06-13T11:45:06.211163Z",
     "shell.execute_reply": "2023-06-13T11:45:06.210163Z"
    },
    "papermill": {
     "duration": 0.01563,
     "end_time": "2023-06-13T11:45:06.213408",
     "exception": false,
     "start_time": "2023-06-13T11:45:06.197778",
     "status": "completed"
    },
    "tags": []
   },
   "outputs": [],
   "source": [
    "#합치기\n",
    "train = np.concatenate((train, train_BoW_feature),axis=1)\n",
    "test = np.concatenate((test, test_BoW_feature),axis=1)"
   ]
  },
  {
   "cell_type": "code",
   "execution_count": 17,
   "id": "3182d90c",
   "metadata": {
    "execution": {
     "iopub.execute_input": "2023-06-13T11:45:06.228803Z",
     "iopub.status.busy": "2023-06-13T11:45:06.228462Z",
     "iopub.status.idle": "2023-06-13T11:45:06.237442Z",
     "shell.execute_reply": "2023-06-13T11:45:06.236420Z"
    },
    "papermill": {
     "duration": 0.019241,
     "end_time": "2023-06-13T11:45:06.239598",
     "exception": false,
     "start_time": "2023-06-13T11:45:06.220357",
     "status": "completed"
    },
    "tags": []
   },
   "outputs": [
    {
     "data": {
      "text/html": [
       "<div>\n",
       "<style scoped>\n",
       "    .dataframe tbody tr th:only-of-type {\n",
       "        vertical-align: middle;\n",
       "    }\n",
       "\n",
       "    .dataframe tbody tr th {\n",
       "        vertical-align: top;\n",
       "    }\n",
       "\n",
       "    .dataframe thead th {\n",
       "        text-align: right;\n",
       "    }\n",
       "</style>\n",
       "<table border=\"1\" class=\"dataframe\">\n",
       "  <thead>\n",
       "    <tr style=\"text-align: right;\">\n",
       "      <th></th>\n",
       "      <th>Id</th>\n",
       "      <th>prediction</th>\n",
       "    </tr>\n",
       "  </thead>\n",
       "  <tbody>\n",
       "    <tr>\n",
       "      <th>0</th>\n",
       "      <td>843</td>\n",
       "      <td>0</td>\n",
       "    </tr>\n",
       "    <tr>\n",
       "      <th>1</th>\n",
       "      <td>844</td>\n",
       "      <td>0</td>\n",
       "    </tr>\n",
       "    <tr>\n",
       "      <th>2</th>\n",
       "      <td>845</td>\n",
       "      <td>0</td>\n",
       "    </tr>\n",
       "    <tr>\n",
       "      <th>3</th>\n",
       "      <td>846</td>\n",
       "      <td>0</td>\n",
       "    </tr>\n",
       "    <tr>\n",
       "      <th>4</th>\n",
       "      <td>847</td>\n",
       "      <td>0</td>\n",
       "    </tr>\n",
       "  </tbody>\n",
       "</table>\n",
       "</div>"
      ],
      "text/plain": [
       "    Id  prediction\n",
       "0  843           0\n",
       "1  844           0\n",
       "2  845           0\n",
       "3  846           0\n",
       "4  847           0"
      ]
     },
     "execution_count": 17,
     "metadata": {},
     "output_type": "execute_result"
    }
   ],
   "source": [
    "#submit확인\n",
    "submit.head()"
   ]
  },
  {
   "cell_type": "code",
   "execution_count": 18,
   "id": "ab6c4c7c",
   "metadata": {
    "execution": {
     "iopub.execute_input": "2023-06-13T11:45:06.256733Z",
     "iopub.status.busy": "2023-06-13T11:45:06.256361Z",
     "iopub.status.idle": "2023-06-13T11:45:10.135635Z",
     "shell.execute_reply": "2023-06-13T11:45:10.134825Z"
    },
    "papermill": {
     "duration": 3.890822,
     "end_time": "2023-06-13T11:45:10.138173",
     "exception": false,
     "start_time": "2023-06-13T11:45:06.247351",
     "status": "completed"
    },
    "tags": []
   },
   "outputs": [],
   "source": [
    "#여러 모델 돌려보기\n",
    "from sklearn.linear_model import LinearRegression\n",
    "from lightgbm import LGBMRegressor\n",
    "from sklearn.ensemble import RandomForestRegressor, VotingRegressor\n",
    "from sklearn.neighbors import KNeighborsRegressor\n",
    "\n",
    "\n",
    "lrr = LinearRegression()\n",
    "lgr = LGBMRegressor()\n",
    "rfr = RandomForestRegressor()\n",
    "kmr = KNeighborsRegressor()\n",
    "vr = VotingRegressor(estimators=[(\"lrr\",lrr),('rfc',rfr),('lgr',lgr)])\n",
    "\n",
    "models = [lrr, lgr, rfr, kmr, vr]\n",
    "names = [\"lrr\",\"lgr\", \"rfr\", \"kmr\", 'vr']\n",
    "\n",
    "for model, name in zip(models,names):\n",
    "    model.fit(train, y)\n",
    "    pred = model.predict(test)\n",
    "    submit[\"prediction\"] = pred\n",
    "    submit.to_csv(\"submit_%s.csv\"%name,index=False)"
   ]
  },
  {
   "cell_type": "code",
   "execution_count": null,
   "id": "721b601b",
   "metadata": {
    "papermill": {
     "duration": 0.006893,
     "end_time": "2023-06-13T11:45:10.152754",
     "exception": false,
     "start_time": "2023-06-13T11:45:10.145861",
     "status": "completed"
    },
    "tags": []
   },
   "outputs": [],
   "source": []
  }
 ],
 "metadata": {
  "kernelspec": {
   "display_name": "Python 3",
   "language": "python",
   "name": "python3"
  },
  "language_info": {
   "codemirror_mode": {
    "name": "ipython",
    "version": 3
   },
   "file_extension": ".py",
   "mimetype": "text/x-python",
   "name": "python",
   "nbconvert_exporter": "python",
   "pygments_lexer": "ipython3",
   "version": "3.10.10"
  },
  "papermill": {
   "default_parameters": {},
   "duration": 19.113547,
   "end_time": "2023-06-13T11:45:11.081244",
   "environment_variables": {},
   "exception": null,
   "input_path": "__notebook__.ipynb",
   "output_path": "__notebook__.ipynb",
   "parameters": {},
   "start_time": "2023-06-13T11:44:51.967697",
   "version": "2.4.0"
  }
 },
 "nbformat": 4,
 "nbformat_minor": 5
}
