{
 "cells": [
  {
   "cell_type": "code",
   "execution_count": 1,
   "id": "a969c76e",
   "metadata": {
    "_cell_guid": "b1076dfc-b9ad-4769-8c92-a6c4dae69d19",
    "_uuid": "8f2839f25d086af736a60e9eeb907d3b93b6e0e5",
    "execution": {
     "iopub.execute_input": "2023-06-13T11:05:51.736272Z",
     "iopub.status.busy": "2023-06-13T11:05:51.735888Z",
     "iopub.status.idle": "2023-06-13T11:05:51.751283Z",
     "shell.execute_reply": "2023-06-13T11:05:51.750217Z"
    },
    "papermill": {
     "duration": 0.025098,
     "end_time": "2023-06-13T11:05:51.754615",
     "exception": false,
     "start_time": "2023-06-13T11:05:51.729517",
     "status": "completed"
    },
    "tags": []
   },
   "outputs": [
    {
     "name": "stdout",
     "output_type": "stream",
     "text": [
      "/kaggle/input/2023-ml-finalexam-pp1/train.csv\n",
      "/kaggle/input/2023-ml-finalexam-pp1/test.csv\n",
      "/kaggle/input/2023-ml-finalexam-pp1/submit_sample.csv\n"
     ]
    }
   ],
   "source": [
    "# This Python 3 environment comes with many helpful analytics libraries installed\n",
    "# It is defined by the kaggle/python Docker image: https://github.com/kaggle/docker-python\n",
    "# For example, here's several helpful packages to load\n",
    "\n",
    "import numpy as np # linear algebra\n",
    "import pandas as pd # data processing, CSV file I/O (e.g. pd.read_csv)\n",
    "\n",
    "# Input data files are available in the read-only \"../input/\" directory\n",
    "# For example, running this (by clicking run or pressing Shift+Enter) will list all files under the input directory\n",
    "\n",
    "import os\n",
    "for dirname, _, filenames in os.walk('/kaggle/input'):\n",
    "    for filename in filenames:\n",
    "        print(os.path.join(dirname, filename))\n",
    "\n",
    "# You can write up to 20GB to the current directory (/kaggle/working/) that gets preserved as output when you create a version using \"Save & Run All\" \n",
    "# You can also write temporary files to /kaggle/temp/, but they won't be saved outside of the current session"
   ]
  },
  {
   "cell_type": "code",
   "execution_count": 2,
   "id": "0551cd4d",
   "metadata": {
    "execution": {
     "iopub.execute_input": "2023-06-13T11:05:51.764137Z",
     "iopub.status.busy": "2023-06-13T11:05:51.763785Z",
     "iopub.status.idle": "2023-06-13T11:05:51.769136Z",
     "shell.execute_reply": "2023-06-13T11:05:51.768170Z"
    },
    "papermill": {
     "duration": 0.012399,
     "end_time": "2023-06-13T11:05:51.771251",
     "exception": false,
     "start_time": "2023-06-13T11:05:51.758852",
     "status": "completed"
    },
    "tags": []
   },
   "outputs": [],
   "source": [
    "#랜덤 시드 고정\n",
    "import random\n",
    "import os\n",
    "seed = 42\n",
    "random.seed(seed)\n",
    "np.random.seed(seed)\n",
    "os.environ[\"PYTHONHASHSEED\"] = str(seed)"
   ]
  },
  {
   "cell_type": "code",
   "execution_count": 3,
   "id": "c77018c1",
   "metadata": {
    "execution": {
     "iopub.execute_input": "2023-06-13T11:05:51.780959Z",
     "iopub.status.busy": "2023-06-13T11:05:51.780589Z",
     "iopub.status.idle": "2023-06-13T11:05:51.813804Z",
     "shell.execute_reply": "2023-06-13T11:05:51.812676Z"
    },
    "papermill": {
     "duration": 0.040929,
     "end_time": "2023-06-13T11:05:51.816351",
     "exception": false,
     "start_time": "2023-06-13T11:05:51.775422",
     "status": "completed"
    },
    "tags": []
   },
   "outputs": [],
   "source": [
    "#데이터 불러오기\n",
    "train = pd.read_csv(\"/kaggle/input/2023-ml-finalexam-pp1/train.csv\")\n",
    "test = pd.read_csv(\"/kaggle/input/2023-ml-finalexam-pp1/test.csv\")\n",
    "submit = pd.read_csv(\"/kaggle/input/2023-ml-finalexam-pp1/submit_sample.csv\")"
   ]
  },
  {
   "cell_type": "code",
   "execution_count": 4,
   "id": "ea94de93",
   "metadata": {
    "execution": {
     "iopub.execute_input": "2023-06-13T11:05:51.826125Z",
     "iopub.status.busy": "2023-06-13T11:05:51.825738Z",
     "iopub.status.idle": "2023-06-13T11:05:51.857543Z",
     "shell.execute_reply": "2023-06-13T11:05:51.856425Z"
    },
    "papermill": {
     "duration": 0.039434,
     "end_time": "2023-06-13T11:05:51.860031",
     "exception": false,
     "start_time": "2023-06-13T11:05:51.820597",
     "status": "completed"
    },
    "tags": []
   },
   "outputs": [
    {
     "data": {
      "text/html": [
       "<div>\n",
       "<style scoped>\n",
       "    .dataframe tbody tr th:only-of-type {\n",
       "        vertical-align: middle;\n",
       "    }\n",
       "\n",
       "    .dataframe tbody tr th {\n",
       "        vertical-align: top;\n",
       "    }\n",
       "\n",
       "    .dataframe thead th {\n",
       "        text-align: right;\n",
       "    }\n",
       "</style>\n",
       "<table border=\"1\" class=\"dataframe\">\n",
       "  <thead>\n",
       "    <tr style=\"text-align: right;\">\n",
       "      <th></th>\n",
       "      <th>PassengerId</th>\n",
       "      <th>Pclass</th>\n",
       "      <th>Name</th>\n",
       "      <th>Sex</th>\n",
       "      <th>Age</th>\n",
       "      <th>SibSp</th>\n",
       "      <th>Parch</th>\n",
       "      <th>Ticket</th>\n",
       "      <th>Fare</th>\n",
       "      <th>Cabin</th>\n",
       "      <th>Embarked</th>\n",
       "    </tr>\n",
       "  </thead>\n",
       "  <tbody>\n",
       "    <tr>\n",
       "      <th>0</th>\n",
       "      <td>892</td>\n",
       "      <td>3</td>\n",
       "      <td>Kelly, Mr. James</td>\n",
       "      <td>male</td>\n",
       "      <td>34.5</td>\n",
       "      <td>0</td>\n",
       "      <td>0</td>\n",
       "      <td>330911</td>\n",
       "      <td>7.8292</td>\n",
       "      <td>NaN</td>\n",
       "      <td>Q</td>\n",
       "    </tr>\n",
       "    <tr>\n",
       "      <th>1</th>\n",
       "      <td>893</td>\n",
       "      <td>3</td>\n",
       "      <td>Wilkes, Mrs. James (Ellen Needs)</td>\n",
       "      <td>female</td>\n",
       "      <td>47.0</td>\n",
       "      <td>1</td>\n",
       "      <td>0</td>\n",
       "      <td>363272</td>\n",
       "      <td>7.0000</td>\n",
       "      <td>NaN</td>\n",
       "      <td>S</td>\n",
       "    </tr>\n",
       "    <tr>\n",
       "      <th>2</th>\n",
       "      <td>894</td>\n",
       "      <td>2</td>\n",
       "      <td>Myles, Mr. Thomas Francis</td>\n",
       "      <td>male</td>\n",
       "      <td>62.0</td>\n",
       "      <td>0</td>\n",
       "      <td>0</td>\n",
       "      <td>240276</td>\n",
       "      <td>9.6875</td>\n",
       "      <td>NaN</td>\n",
       "      <td>Q</td>\n",
       "    </tr>\n",
       "    <tr>\n",
       "      <th>3</th>\n",
       "      <td>895</td>\n",
       "      <td>3</td>\n",
       "      <td>Wirz, Mr. Albert</td>\n",
       "      <td>male</td>\n",
       "      <td>27.0</td>\n",
       "      <td>0</td>\n",
       "      <td>0</td>\n",
       "      <td>315154</td>\n",
       "      <td>8.6625</td>\n",
       "      <td>NaN</td>\n",
       "      <td>S</td>\n",
       "    </tr>\n",
       "    <tr>\n",
       "      <th>4</th>\n",
       "      <td>896</td>\n",
       "      <td>3</td>\n",
       "      <td>Hirvonen, Mrs. Alexander (Helga E Lindqvist)</td>\n",
       "      <td>female</td>\n",
       "      <td>22.0</td>\n",
       "      <td>1</td>\n",
       "      <td>1</td>\n",
       "      <td>3101298</td>\n",
       "      <td>12.2875</td>\n",
       "      <td>NaN</td>\n",
       "      <td>S</td>\n",
       "    </tr>\n",
       "  </tbody>\n",
       "</table>\n",
       "</div>"
      ],
      "text/plain": [
       "   PassengerId  Pclass                                          Name     Sex  \\\n",
       "0          892       3                              Kelly, Mr. James    male   \n",
       "1          893       3              Wilkes, Mrs. James (Ellen Needs)  female   \n",
       "2          894       2                     Myles, Mr. Thomas Francis    male   \n",
       "3          895       3                              Wirz, Mr. Albert    male   \n",
       "4          896       3  Hirvonen, Mrs. Alexander (Helga E Lindqvist)  female   \n",
       "\n",
       "    Age  SibSp  Parch   Ticket     Fare Cabin Embarked  \n",
       "0  34.5      0      0   330911   7.8292   NaN        Q  \n",
       "1  47.0      1      0   363272   7.0000   NaN        S  \n",
       "2  62.0      0      0   240276   9.6875   NaN        Q  \n",
       "3  27.0      0      0   315154   8.6625   NaN        S  \n",
       "4  22.0      1      1  3101298  12.2875   NaN        S  "
      ]
     },
     "execution_count": 4,
     "metadata": {},
     "output_type": "execute_result"
    }
   ],
   "source": [
    "#데이터 확인\n",
    "test.head()"
   ]
  },
  {
   "cell_type": "code",
   "execution_count": 5,
   "id": "a6b5734c",
   "metadata": {
    "execution": {
     "iopub.execute_input": "2023-06-13T11:05:51.871160Z",
     "iopub.status.busy": "2023-06-13T11:05:51.870217Z",
     "iopub.status.idle": "2023-06-13T11:05:51.980200Z",
     "shell.execute_reply": "2023-06-13T11:05:51.978064Z"
    },
    "papermill": {
     "duration": 0.117945,
     "end_time": "2023-06-13T11:05:51.982512",
     "exception": false,
     "start_time": "2023-06-13T11:05:51.864567",
     "status": "completed"
    },
    "tags": []
   },
   "outputs": [
    {
     "name": "stderr",
     "output_type": "stream",
     "text": [
      "/tmp/ipykernel_20/1881066545.py:3: SettingWithCopyWarning: \n",
      "A value is trying to be set on a copy of a slice from a DataFrame\n",
      "\n",
      "See the caveats in the documentation: https://pandas.pydata.org/pandas-docs/stable/user_guide/indexing.html#returning-a-view-versus-a-copy\n",
      "  train['Cabin'][i] = train['Cabin'][i][0]\n",
      "/tmp/ipykernel_20/1881066545.py:5: SettingWithCopyWarning: \n",
      "A value is trying to be set on a copy of a slice from a DataFrame\n",
      "\n",
      "See the caveats in the documentation: https://pandas.pydata.org/pandas-docs/stable/user_guide/indexing.html#returning-a-view-versus-a-copy\n",
      "  test['Cabin'][i] = test['Cabin'][i][0]\n"
     ]
    }
   ],
   "source": [
    "#cabin 열 전처리 해주기\n",
    "for i in train[~train['Cabin'].isnull()].index:\n",
    "    train['Cabin'][i] = train['Cabin'][i][0]\n",
    "for i in test[~test['Cabin'].isnull()].index:\n",
    "        test['Cabin'][i] = test['Cabin'][i][0]"
   ]
  },
  {
   "cell_type": "code",
   "execution_count": 6,
   "id": "5c162d47",
   "metadata": {
    "execution": {
     "iopub.execute_input": "2023-06-13T11:05:51.992685Z",
     "iopub.status.busy": "2023-06-13T11:05:51.992323Z",
     "iopub.status.idle": "2023-06-13T11:05:52.000954Z",
     "shell.execute_reply": "2023-06-13T11:05:51.999972Z"
    },
    "papermill": {
     "duration": 0.01623,
     "end_time": "2023-06-13T11:05:52.003205",
     "exception": false,
     "start_time": "2023-06-13T11:05:51.986975",
     "status": "completed"
    },
    "tags": []
   },
   "outputs": [],
   "source": [
    "#데이터 필요없는 열 \n",
    "y = train['Survived']\n",
    "x_train = train.drop(['PassengerId', 'Name', 'Ticket', 'Survived','Cabin'],axis=1)\n",
    "test = test.drop(['PassengerId', 'Name', 'Ticket','Cabin'],axis=1)"
   ]
  },
  {
   "cell_type": "code",
   "execution_count": 7,
   "id": "96173bce",
   "metadata": {
    "execution": {
     "iopub.execute_input": "2023-06-13T11:05:52.014701Z",
     "iopub.status.busy": "2023-06-13T11:05:52.014337Z",
     "iopub.status.idle": "2023-06-13T11:05:52.038534Z",
     "shell.execute_reply": "2023-06-13T11:05:52.037385Z"
    },
    "papermill": {
     "duration": 0.031886,
     "end_time": "2023-06-13T11:05:52.040854",
     "exception": false,
     "start_time": "2023-06-13T11:05:52.008968",
     "status": "completed"
    },
    "tags": []
   },
   "outputs": [
    {
     "name": "stdout",
     "output_type": "stream",
     "text": [
      "<class 'pandas.core.frame.DataFrame'>\n",
      "RangeIndex: 891 entries, 0 to 890\n",
      "Data columns (total 7 columns):\n",
      " #   Column    Non-Null Count  Dtype  \n",
      "---  ------    --------------  -----  \n",
      " 0   Pclass    891 non-null    int64  \n",
      " 1   Sex       891 non-null    object \n",
      " 2   Age       714 non-null    float64\n",
      " 3   SibSp     891 non-null    int64  \n",
      " 4   Parch     891 non-null    int64  \n",
      " 5   Fare      891 non-null    float64\n",
      " 6   Embarked  889 non-null    object \n",
      "dtypes: float64(2), int64(3), object(2)\n",
      "memory usage: 48.9+ KB\n",
      "<class 'pandas.core.frame.DataFrame'>\n",
      "RangeIndex: 418 entries, 0 to 417\n",
      "Data columns (total 7 columns):\n",
      " #   Column    Non-Null Count  Dtype  \n",
      "---  ------    --------------  -----  \n",
      " 0   Pclass    418 non-null    int64  \n",
      " 1   Sex       418 non-null    object \n",
      " 2   Age       332 non-null    float64\n",
      " 3   SibSp     418 non-null    int64  \n",
      " 4   Parch     418 non-null    int64  \n",
      " 5   Fare      418 non-null    float64\n",
      " 6   Embarked  418 non-null    object \n",
      "dtypes: float64(2), int64(3), object(2)\n",
      "memory usage: 23.0+ KB\n"
     ]
    }
   ],
   "source": [
    "# 각 열 정보 확인하기\n",
    "x_train.info()\n",
    "test.info()"
   ]
  },
  {
   "cell_type": "code",
   "execution_count": 8,
   "id": "2fcff5bf",
   "metadata": {
    "execution": {
     "iopub.execute_input": "2023-06-13T11:05:52.051595Z",
     "iopub.status.busy": "2023-06-13T11:05:52.050615Z",
     "iopub.status.idle": "2023-06-13T11:05:53.329066Z",
     "shell.execute_reply": "2023-06-13T11:05:53.327652Z"
    },
    "papermill": {
     "duration": 1.2862,
     "end_time": "2023-06-13T11:05:53.331540",
     "exception": false,
     "start_time": "2023-06-13T11:05:52.045340",
     "status": "completed"
    },
    "tags": []
   },
   "outputs": [],
   "source": [
    "#라벨 인코더로 object형식 int형태로 \n",
    "from sklearn.preprocessing import LabelEncoder\n",
    "data = pd.concat([x_train, test],axis=0)\n",
    "for col in [\"Sex\",\"Embarked\"]:\n",
    "    le = LabelEncoder()\n",
    "    le.fit(data[col])\n",
    "    x_train[col] = le.transform(x_train[col])\n",
    "    test[col] = le.transform(test[col])"
   ]
  },
  {
   "cell_type": "code",
   "execution_count": 9,
   "id": "44736ca8",
   "metadata": {
    "execution": {
     "iopub.execute_input": "2023-06-13T11:05:53.342332Z",
     "iopub.status.busy": "2023-06-13T11:05:53.341947Z",
     "iopub.status.idle": "2023-06-13T11:05:53.360674Z",
     "shell.execute_reply": "2023-06-13T11:05:53.359358Z"
    },
    "papermill": {
     "duration": 0.026644,
     "end_time": "2023-06-13T11:05:53.362929",
     "exception": false,
     "start_time": "2023-06-13T11:05:53.336285",
     "status": "completed"
    },
    "tags": []
   },
   "outputs": [
    {
     "name": "stdout",
     "output_type": "stream",
     "text": [
      "<class 'pandas.core.frame.DataFrame'>\n",
      "RangeIndex: 891 entries, 0 to 890\n",
      "Data columns (total 7 columns):\n",
      " #   Column    Non-Null Count  Dtype  \n",
      "---  ------    --------------  -----  \n",
      " 0   Pclass    891 non-null    int64  \n",
      " 1   Sex       891 non-null    int64  \n",
      " 2   Age       714 non-null    float64\n",
      " 3   SibSp     891 non-null    int64  \n",
      " 4   Parch     891 non-null    int64  \n",
      " 5   Fare      891 non-null    float64\n",
      " 6   Embarked  891 non-null    int64  \n",
      "dtypes: float64(2), int64(5)\n",
      "memory usage: 48.9 KB\n",
      "<class 'pandas.core.frame.DataFrame'>\n",
      "RangeIndex: 418 entries, 0 to 417\n",
      "Data columns (total 7 columns):\n",
      " #   Column    Non-Null Count  Dtype  \n",
      "---  ------    --------------  -----  \n",
      " 0   Pclass    418 non-null    int64  \n",
      " 1   Sex       418 non-null    int64  \n",
      " 2   Age       332 non-null    float64\n",
      " 3   SibSp     418 non-null    int64  \n",
      " 4   Parch     418 non-null    int64  \n",
      " 5   Fare      418 non-null    float64\n",
      " 6   Embarked  418 non-null    int64  \n",
      "dtypes: float64(2), int64(5)\n",
      "memory usage: 23.0 KB\n"
     ]
    }
   ],
   "source": [
    "#데이터 정보 \n",
    "x_train.info()\n",
    "test.info()"
   ]
  },
  {
   "cell_type": "code",
   "execution_count": 10,
   "id": "cbe33fff",
   "metadata": {
    "execution": {
     "iopub.execute_input": "2023-06-13T11:05:53.373499Z",
     "iopub.status.busy": "2023-06-13T11:05:53.373135Z",
     "iopub.status.idle": "2023-06-13T11:05:53.383496Z",
     "shell.execute_reply": "2023-06-13T11:05:53.382367Z"
    },
    "papermill": {
     "duration": 0.018203,
     "end_time": "2023-06-13T11:05:53.385781",
     "exception": false,
     "start_time": "2023-06-13T11:05:53.367578",
     "status": "completed"
    },
    "tags": []
   },
   "outputs": [
    {
     "name": "stderr",
     "output_type": "stream",
     "text": [
      "/tmp/ipykernel_20/2262489541.py:2: SettingWithCopyWarning: \n",
      "A value is trying to be set on a copy of a slice from a DataFrame\n",
      "\n",
      "See the caveats in the documentation: https://pandas.pydata.org/pandas-docs/stable/user_guide/indexing.html#returning-a-view-versus-a-copy\n",
      "  x_train[\"Age\"][x_train[\"Age\"].isnull()] = data['Age'].mean()\n",
      "/tmp/ipykernel_20/2262489541.py:3: SettingWithCopyWarning: \n",
      "A value is trying to be set on a copy of a slice from a DataFrame\n",
      "\n",
      "See the caveats in the documentation: https://pandas.pydata.org/pandas-docs/stable/user_guide/indexing.html#returning-a-view-versus-a-copy\n",
      "  test[\"Age\"][test[\"Age\"].isnull()] = data['Age'].mean()\n"
     ]
    }
   ],
   "source": [
    "#age nan 값 평균으로 처리\n",
    "x_train[\"Age\"][x_train[\"Age\"].isnull()] = data['Age'].mean()\n",
    "test[\"Age\"][test[\"Age\"].isnull()] = data['Age'].mean()"
   ]
  },
  {
   "cell_type": "code",
   "execution_count": 11,
   "id": "1e68d885",
   "metadata": {
    "execution": {
     "iopub.execute_input": "2023-06-13T11:05:53.396358Z",
     "iopub.status.busy": "2023-06-13T11:05:53.396044Z",
     "iopub.status.idle": "2023-06-13T11:05:53.413893Z",
     "shell.execute_reply": "2023-06-13T11:05:53.412896Z"
    },
    "papermill": {
     "duration": 0.025509,
     "end_time": "2023-06-13T11:05:53.415995",
     "exception": false,
     "start_time": "2023-06-13T11:05:53.390486",
     "status": "completed"
    },
    "tags": []
   },
   "outputs": [
    {
     "name": "stdout",
     "output_type": "stream",
     "text": [
      "<class 'pandas.core.frame.DataFrame'>\n",
      "RangeIndex: 891 entries, 0 to 890\n",
      "Data columns (total 7 columns):\n",
      " #   Column    Non-Null Count  Dtype  \n",
      "---  ------    --------------  -----  \n",
      " 0   Pclass    891 non-null    int64  \n",
      " 1   Sex       891 non-null    int64  \n",
      " 2   Age       891 non-null    float64\n",
      " 3   SibSp     891 non-null    int64  \n",
      " 4   Parch     891 non-null    int64  \n",
      " 5   Fare      891 non-null    float64\n",
      " 6   Embarked  891 non-null    int64  \n",
      "dtypes: float64(2), int64(5)\n",
      "memory usage: 48.9 KB\n",
      "<class 'pandas.core.frame.DataFrame'>\n",
      "RangeIndex: 418 entries, 0 to 417\n",
      "Data columns (total 7 columns):\n",
      " #   Column    Non-Null Count  Dtype  \n",
      "---  ------    --------------  -----  \n",
      " 0   Pclass    418 non-null    int64  \n",
      " 1   Sex       418 non-null    int64  \n",
      " 2   Age       418 non-null    float64\n",
      " 3   SibSp     418 non-null    int64  \n",
      " 4   Parch     418 non-null    int64  \n",
      " 5   Fare      418 non-null    float64\n",
      " 6   Embarked  418 non-null    int64  \n",
      "dtypes: float64(2), int64(5)\n",
      "memory usage: 23.0 KB\n"
     ]
    }
   ],
   "source": [
    "#데이터 확인\n",
    "x_train.info()\n",
    "test.info()"
   ]
  },
  {
   "cell_type": "code",
   "execution_count": 12,
   "id": "9c727768",
   "metadata": {
    "execution": {
     "iopub.execute_input": "2023-06-13T11:05:53.427067Z",
     "iopub.status.busy": "2023-06-13T11:05:53.426749Z",
     "iopub.status.idle": "2023-06-13T11:05:53.435234Z",
     "shell.execute_reply": "2023-06-13T11:05:53.434133Z"
    },
    "papermill": {
     "duration": 0.016715,
     "end_time": "2023-06-13T11:05:53.437455",
     "exception": false,
     "start_time": "2023-06-13T11:05:53.420740",
     "status": "completed"
    },
    "tags": []
   },
   "outputs": [
    {
     "name": "stdout",
     "output_type": "stream",
     "text": [
      "<class 'pandas.core.series.Series'>\n",
      "RangeIndex: 891 entries, 0 to 890\n",
      "Series name: Survived\n",
      "Non-Null Count  Dtype\n",
      "--------------  -----\n",
      "891 non-null    int64\n",
      "dtypes: int64(1)\n",
      "memory usage: 7.1 KB\n"
     ]
    }
   ],
   "source": [
    "#라벨값 확인\n",
    "y.info()"
   ]
  },
  {
   "cell_type": "code",
   "execution_count": 13,
   "id": "8a2e9ee7",
   "metadata": {
    "execution": {
     "iopub.execute_input": "2023-06-13T11:05:53.448453Z",
     "iopub.status.busy": "2023-06-13T11:05:53.448090Z",
     "iopub.status.idle": "2023-06-13T11:05:53.459249Z",
     "shell.execute_reply": "2023-06-13T11:05:53.458254Z"
    },
    "papermill": {
     "duration": 0.019074,
     "end_time": "2023-06-13T11:05:53.461437",
     "exception": false,
     "start_time": "2023-06-13T11:05:53.442363",
     "status": "completed"
    },
    "tags": []
   },
   "outputs": [],
   "source": [
    "#정규화\n",
    "from sklearn.preprocessing import StandardScaler\n",
    "ss = StandardScaler()\n",
    "x_train = ss.fit_transform(x_train)\n",
    "test = ss.transform(test)"
   ]
  },
  {
   "cell_type": "code",
   "execution_count": 14,
   "id": "383ad3d9",
   "metadata": {
    "execution": {
     "iopub.execute_input": "2023-06-13T11:05:53.472361Z",
     "iopub.status.busy": "2023-06-13T11:05:53.472032Z",
     "iopub.status.idle": "2023-06-13T11:05:56.081409Z",
     "shell.execute_reply": "2023-06-13T11:05:56.080494Z"
    },
    "papermill": {
     "duration": 2.617509,
     "end_time": "2023-06-13T11:05:56.083793",
     "exception": false,
     "start_time": "2023-06-13T11:05:53.466284",
     "status": "completed"
    },
    "tags": []
   },
   "outputs": [],
   "source": [
    "#여러 모델 돌려보기\n",
    "from sklearn.linear_model import LogisticRegression\n",
    "from lightgbm import LGBMClassifier\n",
    "from sklearn.ensemble import RandomForestClassifier, VotingClassifier\n",
    "from sklearn.neighbors import KNeighborsClassifier\n",
    "from sklearn.svm import SVC\n",
    "\n",
    "\n",
    "lrc = LogisticRegression(max_iter = 1000)\n",
    "lgc = LGBMClassifier()\n",
    "rfc = RandomForestClassifier()\n",
    "svc = SVC()\n",
    "kmc = KNeighborsClassifier()\n",
    "vc = VotingClassifier(estimators=[(\"lrc\",lrc),('rfc',rfc),('svc',svc)])\n",
    "\n",
    "models = [lrc, lgc, rfc, svc, kmc, vc]\n",
    "names = [\"lrc\",\"lgc\", \"rfc\", \"svc\", \"kmc\", 'vc']\n",
    "\n",
    "for model, name in zip(models,names):\n",
    "    model.fit(x_train, y)\n",
    "    pred = model.predict(test)\n",
    "    submit[\"Survived\"] = pred\n",
    "    submit.to_csv(\"submit_%s.csv\"%name,index=False)"
   ]
  },
  {
   "cell_type": "code",
   "execution_count": null,
   "id": "8afa279b",
   "metadata": {
    "papermill": {
     "duration": 0.004744,
     "end_time": "2023-06-13T11:05:56.094161",
     "exception": false,
     "start_time": "2023-06-13T11:05:56.089417",
     "status": "completed"
    },
    "tags": []
   },
   "outputs": [],
   "source": []
  }
 ],
 "metadata": {
  "kernelspec": {
   "display_name": "Python 3",
   "language": "python",
   "name": "python3"
  },
  "language_info": {
   "codemirror_mode": {
    "name": "ipython",
    "version": 3
   },
   "file_extension": ".py",
   "mimetype": "text/x-python",
   "name": "python",
   "nbconvert_exporter": "python",
   "pygments_lexer": "ipython3",
   "version": "3.10.10"
  },
  "papermill": {
   "default_parameters": {},
   "duration": 15.072481,
   "end_time": "2023-06-13T11:05:57.120215",
   "environment_variables": {},
   "exception": null,
   "input_path": "__notebook__.ipynb",
   "output_path": "__notebook__.ipynb",
   "parameters": {},
   "start_time": "2023-06-13T11:05:42.047734",
   "version": "2.4.0"
  }
 },
 "nbformat": 4,
 "nbformat_minor": 5
}
