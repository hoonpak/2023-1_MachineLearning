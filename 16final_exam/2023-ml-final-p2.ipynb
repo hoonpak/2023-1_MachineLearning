{
 "cells": [
  {
   "cell_type": "code",
   "execution_count": 1,
   "id": "1a685344",
   "metadata": {
    "_cell_guid": "b1076dfc-b9ad-4769-8c92-a6c4dae69d19",
    "_uuid": "8f2839f25d086af736a60e9eeb907d3b93b6e0e5",
    "execution": {
     "iopub.execute_input": "2023-06-13T11:16:52.591797Z",
     "iopub.status.busy": "2023-06-13T11:16:52.590670Z",
     "iopub.status.idle": "2023-06-13T11:16:52.606420Z",
     "shell.execute_reply": "2023-06-13T11:16:52.604716Z"
    },
    "papermill": {
     "duration": 0.023948,
     "end_time": "2023-06-13T11:16:52.609016",
     "exception": false,
     "start_time": "2023-06-13T11:16:52.585068",
     "status": "completed"
    },
    "tags": []
   },
   "outputs": [
    {
     "name": "stdout",
     "output_type": "stream",
     "text": [
      "/kaggle/input/2023-ml-finalexam-pp2/train.csv\n",
      "/kaggle/input/2023-ml-finalexam-pp2/test.csv\n",
      "/kaggle/input/2023-ml-finalexam-pp2/submit_sample.csv\n"
     ]
    }
   ],
   "source": [
    "# This Python 3 environment comes with many helpful analytics libraries installed\n",
    "# It is defined by the kaggle/python Docker image: https://github.com/kaggle/docker-python\n",
    "# For example, here's several helpful packages to load\n",
    "\n",
    "import numpy as np # linear algebra\n",
    "import pandas as pd # data processing, CSV file I/O (e.g. pd.read_csv)\n",
    "\n",
    "# Input data files are available in the read-only \"../input/\" directory\n",
    "# For example, running this (by clicking run or pressing Shift+Enter) will list all files under the input directory\n",
    "\n",
    "import os\n",
    "for dirname, _, filenames in os.walk('/kaggle/input'):\n",
    "    for filename in filenames:\n",
    "        print(os.path.join(dirname, filename))\n",
    "\n",
    "# You can write up to 20GB to the current directory (/kaggle/working/) that gets preserved as output when you create a version using \"Save & Run All\" \n",
    "# You can also write temporary files to /kaggle/temp/, but they won't be saved outside of the current session"
   ]
  },
  {
   "cell_type": "code",
   "execution_count": 2,
   "id": "720cfebb",
   "metadata": {
    "execution": {
     "iopub.execute_input": "2023-06-13T11:16:52.618933Z",
     "iopub.status.busy": "2023-06-13T11:16:52.617480Z",
     "iopub.status.idle": "2023-06-13T11:16:52.623617Z",
     "shell.execute_reply": "2023-06-13T11:16:52.622623Z"
    },
    "papermill": {
     "duration": 0.01328,
     "end_time": "2023-06-13T11:16:52.626007",
     "exception": false,
     "start_time": "2023-06-13T11:16:52.612727",
     "status": "completed"
    },
    "tags": []
   },
   "outputs": [],
   "source": [
    "#랜덤 시드 고정\n",
    "import random\n",
    "import os\n",
    "seed = 42\n",
    "random.seed(seed)\n",
    "np.random.seed(seed)\n",
    "os.environ[\"PYTHONHASHSEED\"] = str(seed)"
   ]
  },
  {
   "cell_type": "code",
   "execution_count": 3,
   "id": "af5ae049",
   "metadata": {
    "execution": {
     "iopub.execute_input": "2023-06-13T11:16:52.635449Z",
     "iopub.status.busy": "2023-06-13T11:16:52.634041Z",
     "iopub.status.idle": "2023-06-13T11:16:55.143173Z",
     "shell.execute_reply": "2023-06-13T11:16:55.141922Z"
    },
    "papermill": {
     "duration": 2.517033,
     "end_time": "2023-06-13T11:16:55.146415",
     "exception": false,
     "start_time": "2023-06-13T11:16:52.629382",
     "status": "completed"
    },
    "tags": []
   },
   "outputs": [],
   "source": [
    "#데이터 불러오기\n",
    "train = pd.read_csv(\"/kaggle/input/2023-ml-finalexam-pp2/train.csv\")\n",
    "test = pd.read_csv(\"/kaggle/input/2023-ml-finalexam-pp2/test.csv\")\n",
    "submit = pd.read_csv(\"/kaggle/input/2023-ml-finalexam-pp2/submit_sample.csv\")"
   ]
  },
  {
   "cell_type": "code",
   "execution_count": 4,
   "id": "6e83b701",
   "metadata": {
    "execution": {
     "iopub.execute_input": "2023-06-13T11:16:55.155878Z",
     "iopub.status.busy": "2023-06-13T11:16:55.155454Z",
     "iopub.status.idle": "2023-06-13T11:16:55.209953Z",
     "shell.execute_reply": "2023-06-13T11:16:55.208585Z"
    },
    "papermill": {
     "duration": 0.062459,
     "end_time": "2023-06-13T11:16:55.212805",
     "exception": false,
     "start_time": "2023-06-13T11:16:55.150346",
     "status": "completed"
    },
    "tags": []
   },
   "outputs": [
    {
     "name": "stdout",
     "output_type": "stream",
     "text": [
      "<class 'pandas.core.frame.DataFrame'>\n",
      "RangeIndex: 10000 entries, 0 to 9999\n",
      "Columns: 785 entries, 0 to label\n",
      "dtypes: float64(784), object(1)\n",
      "memory usage: 59.9+ MB\n"
     ]
    }
   ],
   "source": [
    "#데이터 정보 확인\n",
    "train.info()"
   ]
  },
  {
   "cell_type": "code",
   "execution_count": 5,
   "id": "ed1144f2",
   "metadata": {
    "execution": {
     "iopub.execute_input": "2023-06-13T11:16:55.222289Z",
     "iopub.status.busy": "2023-06-13T11:16:55.221856Z",
     "iopub.status.idle": "2023-06-13T11:16:55.260245Z",
     "shell.execute_reply": "2023-06-13T11:16:55.258803Z"
    },
    "papermill": {
     "duration": 0.046915,
     "end_time": "2023-06-13T11:16:55.263373",
     "exception": false,
     "start_time": "2023-06-13T11:16:55.216458",
     "status": "completed"
    },
    "tags": []
   },
   "outputs": [],
   "source": [
    "#y와 학습 데이터 셋 분리\n",
    "y = train[\"label\"]\n",
    "train = train.drop(['label'],axis=1)"
   ]
  },
  {
   "cell_type": "code",
   "execution_count": 6,
   "id": "5ece2af1",
   "metadata": {
    "execution": {
     "iopub.execute_input": "2023-06-13T11:16:55.272608Z",
     "iopub.status.busy": "2023-06-13T11:16:55.272207Z",
     "iopub.status.idle": "2023-06-13T11:16:55.299951Z",
     "shell.execute_reply": "2023-06-13T11:16:55.298360Z"
    },
    "papermill": {
     "duration": 0.035967,
     "end_time": "2023-06-13T11:16:55.303090",
     "exception": false,
     "start_time": "2023-06-13T11:16:55.267123",
     "status": "completed"
    },
    "tags": []
   },
   "outputs": [],
   "source": [
    "#y라벨 전처리\n",
    "['5.0', '0.0', '4.0', '1.0', '9.0', '?', '3.0', '6.0', '7.0', '8.0']\n",
    "\n",
    "y[y == '0.0'] = 0\n",
    "y[y == '1.0'] = 1\n",
    "y[y == '?'] = 2\n",
    "y[y == '3.0'] = 3\n",
    "y[y == '4.0'] = 4\n",
    "y[y == '5.0'] = 5\n",
    "y[y == '6.0'] = 6\n",
    "y[y == '7.0'] = 7\n",
    "y[y == '8.0'] = 8\n",
    "y[y == '9.0'] = 9"
   ]
  },
  {
   "cell_type": "code",
   "execution_count": 7,
   "id": "78f5e613",
   "metadata": {
    "execution": {
     "iopub.execute_input": "2023-06-13T11:16:55.313158Z",
     "iopub.status.busy": "2023-06-13T11:16:55.312373Z",
     "iopub.status.idle": "2023-06-13T11:16:55.319014Z",
     "shell.execute_reply": "2023-06-13T11:16:55.317772Z"
    },
    "papermill": {
     "duration": 0.015229,
     "end_time": "2023-06-13T11:16:55.322160",
     "exception": false,
     "start_time": "2023-06-13T11:16:55.306931",
     "status": "completed"
    },
    "tags": []
   },
   "outputs": [],
   "source": [
    "#y를 숫자로!\n",
    "y=y.astype(\"int64\")"
   ]
  },
  {
   "cell_type": "code",
   "execution_count": 8,
   "id": "2aca279a",
   "metadata": {
    "execution": {
     "iopub.execute_input": "2023-06-13T11:16:55.332001Z",
     "iopub.status.busy": "2023-06-13T11:16:55.331616Z",
     "iopub.status.idle": "2023-06-13T11:16:55.392176Z",
     "shell.execute_reply": "2023-06-13T11:16:55.391077Z"
    },
    "papermill": {
     "duration": 0.068924,
     "end_time": "2023-06-13T11:16:55.395156",
     "exception": false,
     "start_time": "2023-06-13T11:16:55.326232",
     "status": "completed"
    },
    "tags": []
   },
   "outputs": [],
   "source": [
    "#pca를 위해 데이터 합치기\n",
    "data = pd.concat([train, test],axis=0)"
   ]
  },
  {
   "cell_type": "code",
   "execution_count": 9,
   "id": "48ebafeb",
   "metadata": {
    "execution": {
     "iopub.execute_input": "2023-06-13T11:16:55.404284Z",
     "iopub.status.busy": "2023-06-13T11:16:55.403923Z",
     "iopub.status.idle": "2023-06-13T11:16:59.764700Z",
     "shell.execute_reply": "2023-06-13T11:16:59.763219Z"
    },
    "papermill": {
     "duration": 4.369308,
     "end_time": "2023-06-13T11:16:59.768255",
     "exception": false,
     "start_time": "2023-06-13T11:16:55.398947",
     "status": "completed"
    },
    "tags": []
   },
   "outputs": [],
   "source": [
    "#pca진행\n",
    "import numpy as np\n",
    "from sklearn.decomposition import PCA\n",
    "\n",
    "\n",
    "pca = PCA(n_components=20)\n",
    "pca.fit(data)\n",
    "train = pca.transform(train)\n",
    "test = pca.transform(test)"
   ]
  },
  {
   "cell_type": "code",
   "execution_count": 10,
   "id": "29961eae",
   "metadata": {
    "execution": {
     "iopub.execute_input": "2023-06-13T11:16:59.781901Z",
     "iopub.status.busy": "2023-06-13T11:16:59.781261Z",
     "iopub.status.idle": "2023-06-13T11:17:57.743604Z",
     "shell.execute_reply": "2023-06-13T11:17:57.742701Z"
    },
    "papermill": {
     "duration": 57.972529,
     "end_time": "2023-06-13T11:17:57.746609",
     "exception": false,
     "start_time": "2023-06-13T11:16:59.774080",
     "status": "completed"
    },
    "tags": []
   },
   "outputs": [
    {
     "name": "stderr",
     "output_type": "stream",
     "text": [
      "/opt/conda/lib/python3.10/site-packages/sklearn/linear_model/_logistic.py:458: ConvergenceWarning: lbfgs failed to converge (status=1):\n",
      "STOP: TOTAL NO. of ITERATIONS REACHED LIMIT.\n",
      "\n",
      "Increase the number of iterations (max_iter) or scale the data as shown in:\n",
      "    https://scikit-learn.org/stable/modules/preprocessing.html\n",
      "Please also refer to the documentation for alternative solver options:\n",
      "    https://scikit-learn.org/stable/modules/linear_model.html#logistic-regression\n",
      "  n_iter_i = _check_optimize_result(\n",
      "/opt/conda/lib/python3.10/site-packages/sklearn/linear_model/_logistic.py:458: ConvergenceWarning: lbfgs failed to converge (status=1):\n",
      "STOP: TOTAL NO. of ITERATIONS REACHED LIMIT.\n",
      "\n",
      "Increase the number of iterations (max_iter) or scale the data as shown in:\n",
      "    https://scikit-learn.org/stable/modules/preprocessing.html\n",
      "Please also refer to the documentation for alternative solver options:\n",
      "    https://scikit-learn.org/stable/modules/linear_model.html#logistic-regression\n",
      "  n_iter_i = _check_optimize_result(\n"
     ]
    }
   ],
   "source": [
    "#여러 모델 돌려보기!\n",
    "from sklearn.linear_model import LogisticRegression\n",
    "from lightgbm import LGBMClassifier\n",
    "from sklearn.ensemble import RandomForestClassifier, VotingClassifier\n",
    "from sklearn.neighbors import KNeighborsClassifier\n",
    "from sklearn.svm import SVC\n",
    "\n",
    "\n",
    "lrc = LogisticRegression(max_iter = 2000)\n",
    "lgc = LGBMClassifier()\n",
    "rfc = RandomForestClassifier()\n",
    "svc = SVC()\n",
    "kmc = KNeighborsClassifier()\n",
    "vc = VotingClassifier(estimators=[(\"lrc\",lrc),('rfc',rfc),('svc',svc)])\n",
    "\n",
    "models = [lrc, lgc, rfc, svc, kmc, vc]\n",
    "names = [\"lrc\",\"lgc\", \"rfc\", \"svc\", \"kmc\", 'vc']\n",
    "\n",
    "for model, name in zip(models,names):\n",
    "    model.fit(train, y)\n",
    "    pred = model.predict(test)\n",
    "    submit[\"Label\"] = pred\n",
    "    submit.to_csv(\"submit_%s.csv\"%name,index=False)"
   ]
  }
 ],
 "metadata": {
  "kernelspec": {
   "display_name": "Python 3",
   "language": "python",
   "name": "python3"
  },
  "language_info": {
   "codemirror_mode": {
    "name": "ipython",
    "version": 3
   },
   "file_extension": ".py",
   "mimetype": "text/x-python",
   "name": "python",
   "nbconvert_exporter": "python",
   "pygments_lexer": "ipython3",
   "version": "3.10.10"
  },
  "papermill": {
   "default_parameters": {},
   "duration": 76.791444,
   "end_time": "2023-06-13T11:17:58.880330",
   "environment_variables": {},
   "exception": null,
   "input_path": "__notebook__.ipynb",
   "output_path": "__notebook__.ipynb",
   "parameters": {},
   "start_time": "2023-06-13T11:16:42.088886",
   "version": "2.4.0"
  }
 },
 "nbformat": 4,
 "nbformat_minor": 5
}
