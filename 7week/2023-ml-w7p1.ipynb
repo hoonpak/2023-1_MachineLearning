{
 "cells": [
  {
   "cell_type": "code",
   "execution_count": 1,
   "id": "6988d4ff",
   "metadata": {
    "_cell_guid": "b1076dfc-b9ad-4769-8c92-a6c4dae69d19",
    "_uuid": "8f2839f25d086af736a60e9eeb907d3b93b6e0e5",
    "execution": {
     "iopub.execute_input": "2023-04-13T03:53:41.141053Z",
     "iopub.status.busy": "2023-04-13T03:53:41.140580Z",
     "iopub.status.idle": "2023-04-13T03:53:41.155499Z",
     "shell.execute_reply": "2023-04-13T03:53:41.153977Z"
    },
    "papermill": {
     "duration": 0.025653,
     "end_time": "2023-04-13T03:53:41.158266",
     "exception": false,
     "start_time": "2023-04-13T03:53:41.132613",
     "status": "completed"
    },
    "tags": []
   },
   "outputs": [
    {
     "name": "stdout",
     "output_type": "stream",
     "text": [
      "/kaggle/input/2023-ml-w7p1/train.csv\n",
      "/kaggle/input/2023-ml-w7p1/test.csv\n",
      "/kaggle/input/2023-ml-w7p1/sample_submit.csv\n"
     ]
    }
   ],
   "source": [
    "# This Python 3 environment comes with many helpful analytics libraries installed\n",
    "# It is defined by the kaggle/python Docker image: https://github.com/kaggle/docker-python\n",
    "# For example, here's several helpful packages to load\n",
    "\n",
    "import numpy as np # linear algebra\n",
    "import pandas as pd # data processing, CSV file I/O (e.g. pd.read_csv)\n",
    "\n",
    "# Input data files are available in the read-only \"../input/\" directory\n",
    "# For example, running this (by clicking run or pressing Shift+Enter) will list all files under the input directory\n",
    "\n",
    "import os\n",
    "for dirname, _, filenames in os.walk('/kaggle/input'):\n",
    "    for filename in filenames:\n",
    "        print(os.path.join(dirname, filename))\n",
    "\n",
    "# You can write up to 20GB to the current directory (/kaggle/working/) that gets preserved as output when you create a version using \"Save & Run All\" \n",
    "# You can also write temporary files to /kaggle/temp/, but they won't be saved outside of the current session"
   ]
  },
  {
   "cell_type": "code",
   "execution_count": 2,
   "id": "0c7c3cac",
   "metadata": {
    "execution": {
     "iopub.execute_input": "2023-04-13T03:53:41.171365Z",
     "iopub.status.busy": "2023-04-13T03:53:41.170448Z",
     "iopub.status.idle": "2023-04-13T03:53:41.298101Z",
     "shell.execute_reply": "2023-04-13T03:53:41.296925Z"
    },
    "papermill": {
     "duration": 0.136982,
     "end_time": "2023-04-13T03:53:41.301150",
     "exception": false,
     "start_time": "2023-04-13T03:53:41.164168",
     "status": "completed"
    },
    "tags": []
   },
   "outputs": [],
   "source": [
    "train = pd.read_csv(\"/kaggle/input/2023-ml-w7p1/train.csv\")\n",
    "test = pd.read_csv(\"/kaggle/input/2023-ml-w7p1/test.csv\")\n",
    "submit = pd.read_csv(\"/kaggle/input/2023-ml-w7p1/sample_submit.csv\")"
   ]
  },
  {
   "cell_type": "code",
   "execution_count": 3,
   "id": "f2cd7faa",
   "metadata": {
    "execution": {
     "iopub.execute_input": "2023-04-13T03:53:41.314274Z",
     "iopub.status.busy": "2023-04-13T03:53:41.313228Z",
     "iopub.status.idle": "2023-04-13T03:53:41.351532Z",
     "shell.execute_reply": "2023-04-13T03:53:41.349387Z"
    },
    "papermill": {
     "duration": 0.048071,
     "end_time": "2023-04-13T03:53:41.354382",
     "exception": false,
     "start_time": "2023-04-13T03:53:41.306311",
     "status": "completed"
    },
    "tags": []
   },
   "outputs": [
    {
     "name": "stdout",
     "output_type": "stream",
     "text": [
      "<class 'pandas.core.frame.DataFrame'>\n",
      "RangeIndex: 15326 entries, 0 to 15325\n",
      "Data columns (total 15 columns):\n",
      " #   Column                  Non-Null Count  Dtype  \n",
      "---  ------                  --------------  -----  \n",
      " 0   index                   15326 non-null  int64  \n",
      " 1   enrollee_id             15326 non-null  int64  \n",
      " 2   city                    15326 non-null  object \n",
      " 3   city_development_index  15326 non-null  float64\n",
      " 4   gender                  11752 non-null  object \n",
      " 5   relevent_experience     15326 non-null  object \n",
      " 6   enrolled_university     15009 non-null  object \n",
      " 7   education_level         14964 non-null  object \n",
      " 8   major_discipline        13068 non-null  object \n",
      " 9   experience              15276 non-null  object \n",
      " 10  company_size            10612 non-null  object \n",
      " 11  company_type            10445 non-null  object \n",
      " 12  last_new_job            14983 non-null  object \n",
      " 13  training_hours          15326 non-null  int64  \n",
      " 14  target                  15326 non-null  float64\n",
      "dtypes: float64(2), int64(3), object(10)\n",
      "memory usage: 1.8+ MB\n"
     ]
    }
   ],
   "source": [
    "train.info()"
   ]
  },
  {
   "cell_type": "code",
   "execution_count": 4,
   "id": "67da9e49",
   "metadata": {
    "execution": {
     "iopub.execute_input": "2023-04-13T03:53:41.366494Z",
     "iopub.status.busy": "2023-04-13T03:53:41.366056Z",
     "iopub.status.idle": "2023-04-13T03:53:41.398860Z",
     "shell.execute_reply": "2023-04-13T03:53:41.397355Z"
    },
    "papermill": {
     "duration": 0.042365,
     "end_time": "2023-04-13T03:53:41.401870",
     "exception": false,
     "start_time": "2023-04-13T03:53:41.359505",
     "status": "completed"
    },
    "tags": []
   },
   "outputs": [
    {
     "data": {
      "text/html": [
       "<div>\n",
       "<style scoped>\n",
       "    .dataframe tbody tr th:only-of-type {\n",
       "        vertical-align: middle;\n",
       "    }\n",
       "\n",
       "    .dataframe tbody tr th {\n",
       "        vertical-align: top;\n",
       "    }\n",
       "\n",
       "    .dataframe thead th {\n",
       "        text-align: right;\n",
       "    }\n",
       "</style>\n",
       "<table border=\"1\" class=\"dataframe\">\n",
       "  <thead>\n",
       "    <tr style=\"text-align: right;\">\n",
       "      <th></th>\n",
       "      <th>index</th>\n",
       "      <th>enrollee_id</th>\n",
       "      <th>city</th>\n",
       "      <th>city_development_index</th>\n",
       "      <th>gender</th>\n",
       "      <th>relevent_experience</th>\n",
       "      <th>enrolled_university</th>\n",
       "      <th>education_level</th>\n",
       "      <th>major_discipline</th>\n",
       "      <th>experience</th>\n",
       "      <th>company_size</th>\n",
       "      <th>company_type</th>\n",
       "      <th>last_new_job</th>\n",
       "      <th>training_hours</th>\n",
       "      <th>target</th>\n",
       "    </tr>\n",
       "  </thead>\n",
       "  <tbody>\n",
       "    <tr>\n",
       "      <th>0</th>\n",
       "      <td>0</td>\n",
       "      <td>8949</td>\n",
       "      <td>city_103</td>\n",
       "      <td>0.920</td>\n",
       "      <td>Male</td>\n",
       "      <td>Has relevent experience</td>\n",
       "      <td>no_enrollment</td>\n",
       "      <td>Graduate</td>\n",
       "      <td>STEM</td>\n",
       "      <td>&gt;20</td>\n",
       "      <td>NaN</td>\n",
       "      <td>NaN</td>\n",
       "      <td>1</td>\n",
       "      <td>36</td>\n",
       "      <td>1.0</td>\n",
       "    </tr>\n",
       "    <tr>\n",
       "      <th>1</th>\n",
       "      <td>1</td>\n",
       "      <td>29725</td>\n",
       "      <td>city_40</td>\n",
       "      <td>0.776</td>\n",
       "      <td>Male</td>\n",
       "      <td>No relevent experience</td>\n",
       "      <td>no_enrollment</td>\n",
       "      <td>Graduate</td>\n",
       "      <td>STEM</td>\n",
       "      <td>15</td>\n",
       "      <td>50-99</td>\n",
       "      <td>Pvt Ltd</td>\n",
       "      <td>&gt;4</td>\n",
       "      <td>47</td>\n",
       "      <td>0.0</td>\n",
       "    </tr>\n",
       "    <tr>\n",
       "      <th>2</th>\n",
       "      <td>3</td>\n",
       "      <td>33241</td>\n",
       "      <td>city_115</td>\n",
       "      <td>0.789</td>\n",
       "      <td>NaN</td>\n",
       "      <td>No relevent experience</td>\n",
       "      <td>NaN</td>\n",
       "      <td>Graduate</td>\n",
       "      <td>Business Degree</td>\n",
       "      <td>&lt;1</td>\n",
       "      <td>NaN</td>\n",
       "      <td>Pvt Ltd</td>\n",
       "      <td>never</td>\n",
       "      <td>52</td>\n",
       "      <td>1.0</td>\n",
       "    </tr>\n",
       "    <tr>\n",
       "      <th>3</th>\n",
       "      <td>4</td>\n",
       "      <td>666</td>\n",
       "      <td>city_162</td>\n",
       "      <td>0.767</td>\n",
       "      <td>Male</td>\n",
       "      <td>Has relevent experience</td>\n",
       "      <td>no_enrollment</td>\n",
       "      <td>Masters</td>\n",
       "      <td>STEM</td>\n",
       "      <td>&gt;20</td>\n",
       "      <td>50-99</td>\n",
       "      <td>Funded Startup</td>\n",
       "      <td>4</td>\n",
       "      <td>8</td>\n",
       "      <td>0.0</td>\n",
       "    </tr>\n",
       "    <tr>\n",
       "      <th>4</th>\n",
       "      <td>5</td>\n",
       "      <td>21651</td>\n",
       "      <td>city_176</td>\n",
       "      <td>0.764</td>\n",
       "      <td>NaN</td>\n",
       "      <td>Has relevent experience</td>\n",
       "      <td>Part time course</td>\n",
       "      <td>Graduate</td>\n",
       "      <td>STEM</td>\n",
       "      <td>11</td>\n",
       "      <td>NaN</td>\n",
       "      <td>NaN</td>\n",
       "      <td>1</td>\n",
       "      <td>24</td>\n",
       "      <td>1.0</td>\n",
       "    </tr>\n",
       "  </tbody>\n",
       "</table>\n",
       "</div>"
      ],
      "text/plain": [
       "   index  enrollee_id      city  city_development_index gender  \\\n",
       "0      0         8949  city_103                   0.920   Male   \n",
       "1      1        29725   city_40                   0.776   Male   \n",
       "2      3        33241  city_115                   0.789    NaN   \n",
       "3      4          666  city_162                   0.767   Male   \n",
       "4      5        21651  city_176                   0.764    NaN   \n",
       "\n",
       "       relevent_experience enrolled_university education_level  \\\n",
       "0  Has relevent experience       no_enrollment        Graduate   \n",
       "1   No relevent experience       no_enrollment        Graduate   \n",
       "2   No relevent experience                 NaN        Graduate   \n",
       "3  Has relevent experience       no_enrollment         Masters   \n",
       "4  Has relevent experience    Part time course        Graduate   \n",
       "\n",
       "  major_discipline experience company_size    company_type last_new_job  \\\n",
       "0             STEM        >20          NaN             NaN            1   \n",
       "1             STEM         15        50-99         Pvt Ltd           >4   \n",
       "2  Business Degree         <1          NaN         Pvt Ltd        never   \n",
       "3             STEM        >20        50-99  Funded Startup            4   \n",
       "4             STEM         11          NaN             NaN            1   \n",
       "\n",
       "   training_hours  target  \n",
       "0              36     1.0  \n",
       "1              47     0.0  \n",
       "2              52     1.0  \n",
       "3               8     0.0  \n",
       "4              24     1.0  "
      ]
     },
     "execution_count": 4,
     "metadata": {},
     "output_type": "execute_result"
    }
   ],
   "source": [
    "train.head()"
   ]
  },
  {
   "cell_type": "code",
   "execution_count": 5,
   "id": "7c31c32c",
   "metadata": {
    "execution": {
     "iopub.execute_input": "2023-04-13T03:53:41.414674Z",
     "iopub.status.busy": "2023-04-13T03:53:41.414283Z",
     "iopub.status.idle": "2023-04-13T03:53:41.425307Z",
     "shell.execute_reply": "2023-04-13T03:53:41.424247Z"
    },
    "papermill": {
     "duration": 0.020333,
     "end_time": "2023-04-13T03:53:41.427851",
     "exception": false,
     "start_time": "2023-04-13T03:53:41.407518",
     "status": "completed"
    },
    "tags": []
   },
   "outputs": [],
   "source": [
    "train.drop(['index','enrollee_id'],axis=1,inplace=True)\n",
    "test.drop(['index','enrollee_id'],axis=1,inplace=True)"
   ]
  },
  {
   "cell_type": "code",
   "execution_count": 6,
   "id": "ac675529",
   "metadata": {
    "execution": {
     "iopub.execute_input": "2023-04-13T03:53:41.440516Z",
     "iopub.status.busy": "2023-04-13T03:53:41.440090Z",
     "iopub.status.idle": "2023-04-13T03:53:41.448198Z",
     "shell.execute_reply": "2023-04-13T03:53:41.447016Z"
    },
    "papermill": {
     "duration": 0.017364,
     "end_time": "2023-04-13T03:53:41.450697",
     "exception": false,
     "start_time": "2023-04-13T03:53:41.433333",
     "status": "completed"
    },
    "tags": []
   },
   "outputs": [],
   "source": [
    "x=train.drop(['target'],axis=1)\n",
    "y=train['target']"
   ]
  },
  {
   "cell_type": "code",
   "execution_count": 7,
   "id": "300a907e",
   "metadata": {
    "execution": {
     "iopub.execute_input": "2023-04-13T03:53:41.463761Z",
     "iopub.status.busy": "2023-04-13T03:53:41.463364Z",
     "iopub.status.idle": "2023-04-13T03:53:41.482582Z",
     "shell.execute_reply": "2023-04-13T03:53:41.481218Z"
    },
    "papermill": {
     "duration": 0.028765,
     "end_time": "2023-04-13T03:53:41.485101",
     "exception": false,
     "start_time": "2023-04-13T03:53:41.456336",
     "status": "completed"
    },
    "tags": []
   },
   "outputs": [
    {
     "data": {
      "text/html": [
       "<div>\n",
       "<style scoped>\n",
       "    .dataframe tbody tr th:only-of-type {\n",
       "        vertical-align: middle;\n",
       "    }\n",
       "\n",
       "    .dataframe tbody tr th {\n",
       "        vertical-align: top;\n",
       "    }\n",
       "\n",
       "    .dataframe thead th {\n",
       "        text-align: right;\n",
       "    }\n",
       "</style>\n",
       "<table border=\"1\" class=\"dataframe\">\n",
       "  <thead>\n",
       "    <tr style=\"text-align: right;\">\n",
       "      <th></th>\n",
       "      <th>city</th>\n",
       "      <th>city_development_index</th>\n",
       "      <th>gender</th>\n",
       "      <th>relevent_experience</th>\n",
       "      <th>enrolled_university</th>\n",
       "      <th>education_level</th>\n",
       "      <th>major_discipline</th>\n",
       "      <th>experience</th>\n",
       "      <th>company_size</th>\n",
       "      <th>company_type</th>\n",
       "      <th>last_new_job</th>\n",
       "      <th>training_hours</th>\n",
       "    </tr>\n",
       "  </thead>\n",
       "  <tbody>\n",
       "    <tr>\n",
       "      <th>0</th>\n",
       "      <td>city_103</td>\n",
       "      <td>0.920</td>\n",
       "      <td>Male</td>\n",
       "      <td>Has relevent experience</td>\n",
       "      <td>no_enrollment</td>\n",
       "      <td>Graduate</td>\n",
       "      <td>STEM</td>\n",
       "      <td>&gt;20</td>\n",
       "      <td>NaN</td>\n",
       "      <td>NaN</td>\n",
       "      <td>1</td>\n",
       "      <td>36</td>\n",
       "    </tr>\n",
       "    <tr>\n",
       "      <th>1</th>\n",
       "      <td>city_40</td>\n",
       "      <td>0.776</td>\n",
       "      <td>Male</td>\n",
       "      <td>No relevent experience</td>\n",
       "      <td>no_enrollment</td>\n",
       "      <td>Graduate</td>\n",
       "      <td>STEM</td>\n",
       "      <td>15</td>\n",
       "      <td>50-99</td>\n",
       "      <td>Pvt Ltd</td>\n",
       "      <td>&gt;4</td>\n",
       "      <td>47</td>\n",
       "    </tr>\n",
       "    <tr>\n",
       "      <th>2</th>\n",
       "      <td>city_115</td>\n",
       "      <td>0.789</td>\n",
       "      <td>NaN</td>\n",
       "      <td>No relevent experience</td>\n",
       "      <td>NaN</td>\n",
       "      <td>Graduate</td>\n",
       "      <td>Business Degree</td>\n",
       "      <td>&lt;1</td>\n",
       "      <td>NaN</td>\n",
       "      <td>Pvt Ltd</td>\n",
       "      <td>never</td>\n",
       "      <td>52</td>\n",
       "    </tr>\n",
       "    <tr>\n",
       "      <th>3</th>\n",
       "      <td>city_162</td>\n",
       "      <td>0.767</td>\n",
       "      <td>Male</td>\n",
       "      <td>Has relevent experience</td>\n",
       "      <td>no_enrollment</td>\n",
       "      <td>Masters</td>\n",
       "      <td>STEM</td>\n",
       "      <td>&gt;20</td>\n",
       "      <td>50-99</td>\n",
       "      <td>Funded Startup</td>\n",
       "      <td>4</td>\n",
       "      <td>8</td>\n",
       "    </tr>\n",
       "    <tr>\n",
       "      <th>4</th>\n",
       "      <td>city_176</td>\n",
       "      <td>0.764</td>\n",
       "      <td>NaN</td>\n",
       "      <td>Has relevent experience</td>\n",
       "      <td>Part time course</td>\n",
       "      <td>Graduate</td>\n",
       "      <td>STEM</td>\n",
       "      <td>11</td>\n",
       "      <td>NaN</td>\n",
       "      <td>NaN</td>\n",
       "      <td>1</td>\n",
       "      <td>24</td>\n",
       "    </tr>\n",
       "  </tbody>\n",
       "</table>\n",
       "</div>"
      ],
      "text/plain": [
       "       city  city_development_index gender      relevent_experience  \\\n",
       "0  city_103                   0.920   Male  Has relevent experience   \n",
       "1   city_40                   0.776   Male   No relevent experience   \n",
       "2  city_115                   0.789    NaN   No relevent experience   \n",
       "3  city_162                   0.767   Male  Has relevent experience   \n",
       "4  city_176                   0.764    NaN  Has relevent experience   \n",
       "\n",
       "  enrolled_university education_level major_discipline experience  \\\n",
       "0       no_enrollment        Graduate             STEM        >20   \n",
       "1       no_enrollment        Graduate             STEM         15   \n",
       "2                 NaN        Graduate  Business Degree         <1   \n",
       "3       no_enrollment         Masters             STEM        >20   \n",
       "4    Part time course        Graduate             STEM         11   \n",
       "\n",
       "  company_size    company_type last_new_job  training_hours  \n",
       "0          NaN             NaN            1              36  \n",
       "1        50-99         Pvt Ltd           >4              47  \n",
       "2          NaN         Pvt Ltd        never              52  \n",
       "3        50-99  Funded Startup            4               8  \n",
       "4          NaN             NaN            1              24  "
      ]
     },
     "execution_count": 7,
     "metadata": {},
     "output_type": "execute_result"
    }
   ],
   "source": [
    "x.head()"
   ]
  },
  {
   "cell_type": "code",
   "execution_count": 8,
   "id": "c380a02e",
   "metadata": {
    "execution": {
     "iopub.execute_input": "2023-04-13T03:53:41.498641Z",
     "iopub.status.busy": "2023-04-13T03:53:41.498262Z",
     "iopub.status.idle": "2023-04-13T03:53:41.753930Z",
     "shell.execute_reply": "2023-04-13T03:53:41.752453Z"
    },
    "papermill": {
     "duration": 0.266095,
     "end_time": "2023-04-13T03:53:41.757139",
     "exception": false,
     "start_time": "2023-04-13T03:53:41.491044",
     "status": "completed"
    },
    "tags": []
   },
   "outputs": [],
   "source": [
    "x = x.to_dict('records')\n",
    "test = test.to_dict('records')"
   ]
  },
  {
   "cell_type": "code",
   "execution_count": 9,
   "id": "63c6cb33",
   "metadata": {
    "execution": {
     "iopub.execute_input": "2023-04-13T03:53:41.770431Z",
     "iopub.status.busy": "2023-04-13T03:53:41.770013Z",
     "iopub.status.idle": "2023-04-13T03:53:43.169221Z",
     "shell.execute_reply": "2023-04-13T03:53:43.167923Z"
    },
    "papermill": {
     "duration": 1.409255,
     "end_time": "2023-04-13T03:53:43.172271",
     "exception": false,
     "start_time": "2023-04-13T03:53:41.763016",
     "status": "completed"
    },
    "tags": []
   },
   "outputs": [],
   "source": [
    "from sklearn.feature_extraction import DictVectorizer\n",
    "vec = DictVectorizer(sparse=False)\n",
    "x = vec.fit_transform(x)\n",
    "test = vec.transform(test)"
   ]
  },
  {
   "cell_type": "code",
   "execution_count": 10,
   "id": "ab1a7e4b",
   "metadata": {
    "execution": {
     "iopub.execute_input": "2023-04-13T03:53:43.188124Z",
     "iopub.status.busy": "2023-04-13T03:53:43.187697Z",
     "iopub.status.idle": "2023-04-13T03:53:43.584076Z",
     "shell.execute_reply": "2023-04-13T03:53:43.582714Z"
    },
    "papermill": {
     "duration": 0.40709,
     "end_time": "2023-04-13T03:53:43.586854",
     "exception": false,
     "start_time": "2023-04-13T03:53:43.179764",
     "status": "completed"
    },
    "tags": []
   },
   "outputs": [],
   "source": [
    "from sklearn.impute import SimpleImputer\n",
    "im = SimpleImputer()\n",
    "x=im.fit_transform(x)\n",
    "test=im.transform(test)"
   ]
  },
  {
   "cell_type": "code",
   "execution_count": 11,
   "id": "7aee74a4",
   "metadata": {
    "execution": {
     "iopub.execute_input": "2023-04-13T03:53:43.600632Z",
     "iopub.status.busy": "2023-04-13T03:53:43.599795Z",
     "iopub.status.idle": "2023-04-13T03:53:43.620916Z",
     "shell.execute_reply": "2023-04-13T03:53:43.619165Z"
    },
    "papermill": {
     "duration": 0.030918,
     "end_time": "2023-04-13T03:53:43.623582",
     "exception": false,
     "start_time": "2023-04-13T03:53:43.592664",
     "status": "completed"
    },
    "tags": []
   },
   "outputs": [
    {
     "name": "stdout",
     "output_type": "stream",
     "text": [
      "<class 'pandas.core.frame.DataFrame'>\n",
      "RangeIndex: 15326 entries, 0 to 15325\n",
      "Columns: 193 entries, 0 to 192\n",
      "dtypes: float64(193)\n",
      "memory usage: 22.6 MB\n"
     ]
    }
   ],
   "source": [
    "pd.DataFrame(x).info()"
   ]
  },
  {
   "cell_type": "code",
   "execution_count": 12,
   "id": "11336876",
   "metadata": {
    "execution": {
     "iopub.execute_input": "2023-04-13T03:53:43.637158Z",
     "iopub.status.busy": "2023-04-13T03:53:43.636572Z",
     "iopub.status.idle": "2023-04-13T03:53:43.691545Z",
     "shell.execute_reply": "2023-04-13T03:53:43.690080Z"
    },
    "papermill": {
     "duration": 0.065101,
     "end_time": "2023-04-13T03:53:43.694438",
     "exception": false,
     "start_time": "2023-04-13T03:53:43.629337",
     "status": "completed"
    },
    "tags": []
   },
   "outputs": [],
   "source": [
    "from sklearn.preprocessing import StandardScaler\n",
    "ss = StandardScaler()\n",
    "x=ss.fit_transform(x)\n",
    "test=ss.transform(test)"
   ]
  },
  {
   "cell_type": "code",
   "execution_count": 13,
   "id": "31a32ca9",
   "metadata": {
    "execution": {
     "iopub.execute_input": "2023-04-13T03:53:43.708313Z",
     "iopub.status.busy": "2023-04-13T03:53:43.707895Z",
     "iopub.status.idle": "2023-04-13T03:53:43.724319Z",
     "shell.execute_reply": "2023-04-13T03:53:43.722855Z"
    },
    "papermill": {
     "duration": 0.026721,
     "end_time": "2023-04-13T03:53:43.727405",
     "exception": false,
     "start_time": "2023-04-13T03:53:43.700684",
     "status": "completed"
    },
    "tags": []
   },
   "outputs": [
    {
     "data": {
      "text/plain": [
       "KNeighborsClassifier()"
      ]
     },
     "execution_count": 13,
     "metadata": {},
     "output_type": "execute_result"
    }
   ],
   "source": [
    "from sklearn.neighbors import KNeighborsClassifier\n",
    "model=KNeighborsClassifier()\n",
    "model.fit(x,y)"
   ]
  },
  {
   "cell_type": "code",
   "execution_count": 14,
   "id": "acc8c493",
   "metadata": {
    "execution": {
     "iopub.execute_input": "2023-04-13T03:53:43.741085Z",
     "iopub.status.busy": "2023-04-13T03:53:43.740653Z",
     "iopub.status.idle": "2023-04-13T03:53:48.232235Z",
     "shell.execute_reply": "2023-04-13T03:53:48.230582Z"
    },
    "papermill": {
     "duration": 4.502002,
     "end_time": "2023-04-13T03:53:48.235333",
     "exception": false,
     "start_time": "2023-04-13T03:53:43.733331",
     "status": "completed"
    },
    "tags": []
   },
   "outputs": [
    {
     "name": "stdout",
     "output_type": "stream",
     "text": [
      "0.827156466135978\n"
     ]
    }
   ],
   "source": [
    "from sklearn.metrics import accuracy_score\n",
    "print(accuracy_score(y,model.predict(x)))"
   ]
  },
  {
   "cell_type": "code",
   "execution_count": 15,
   "id": "ada7906b",
   "metadata": {
    "execution": {
     "iopub.execute_input": "2023-04-13T03:53:48.249182Z",
     "iopub.status.busy": "2023-04-13T03:53:48.248745Z",
     "iopub.status.idle": "2023-04-13T03:53:48.257658Z",
     "shell.execute_reply": "2023-04-13T03:53:48.256350Z"
    },
    "papermill": {
     "duration": 0.018568,
     "end_time": "2023-04-13T03:53:48.260117",
     "exception": false,
     "start_time": "2023-04-13T03:53:48.241549",
     "status": "completed"
    },
    "tags": []
   },
   "outputs": [
    {
     "data": {
      "text/plain": [
       "Index(['index', 'target'], dtype='object')"
      ]
     },
     "execution_count": 15,
     "metadata": {},
     "output_type": "execute_result"
    }
   ],
   "source": [
    "submit.columns"
   ]
  },
  {
   "cell_type": "code",
   "execution_count": null,
   "id": "573c1c47",
   "metadata": {
    "papermill": {
     "duration": 0.005552,
     "end_time": "2023-04-13T03:53:48.272736",
     "exception": false,
     "start_time": "2023-04-13T03:53:48.267184",
     "status": "completed"
    },
    "tags": []
   },
   "outputs": [],
   "source": []
  },
  {
   "cell_type": "code",
   "execution_count": 16,
   "id": "39f9a1a7",
   "metadata": {
    "execution": {
     "iopub.execute_input": "2023-04-13T03:53:48.286821Z",
     "iopub.status.busy": "2023-04-13T03:53:48.285591Z",
     "iopub.status.idle": "2023-04-13T03:53:49.430264Z",
     "shell.execute_reply": "2023-04-13T03:53:49.428878Z"
    },
    "papermill": {
     "duration": 1.15526,
     "end_time": "2023-04-13T03:53:49.433724",
     "exception": false,
     "start_time": "2023-04-13T03:53:48.278464",
     "status": "completed"
    },
    "tags": []
   },
   "outputs": [],
   "source": [
    "submit['target']=model.predict(test)\n",
    "submit['target'].astype('int')\n",
    "submit.to_csv(\"submit.csv\",mode='w',header=True,index=False)"
   ]
  },
  {
   "cell_type": "code",
   "execution_count": null,
   "id": "61230f52",
   "metadata": {
    "papermill": {
     "duration": 0.005631,
     "end_time": "2023-04-13T03:53:49.445439",
     "exception": false,
     "start_time": "2023-04-13T03:53:49.439808",
     "status": "completed"
    },
    "tags": []
   },
   "outputs": [],
   "source": []
  }
 ],
 "metadata": {
  "kernelspec": {
   "display_name": "Python 3",
   "language": "python",
   "name": "python3"
  },
  "language_info": {
   "codemirror_mode": {
    "name": "ipython",
    "version": 3
   },
   "file_extension": ".py",
   "mimetype": "text/x-python",
   "name": "python",
   "nbconvert_exporter": "python",
   "pygments_lexer": "ipython3",
   "version": "3.7.12"
  },
  "papermill": {
   "default_parameters": {},
   "duration": 19.744647,
   "end_time": "2023-04-13T03:53:50.278039",
   "environment_variables": {},
   "exception": null,
   "input_path": "__notebook__.ipynb",
   "output_path": "__notebook__.ipynb",
   "parameters": {},
   "start_time": "2023-04-13T03:53:30.533392",
   "version": "2.4.0"
  }
 },
 "nbformat": 4,
 "nbformat_minor": 5
}
