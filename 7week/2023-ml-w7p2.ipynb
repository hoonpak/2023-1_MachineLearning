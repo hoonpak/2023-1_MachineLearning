{
 "cells": [
  {
   "cell_type": "code",
   "execution_count": 1,
   "id": "74f05025",
   "metadata": {
    "_cell_guid": "b1076dfc-b9ad-4769-8c92-a6c4dae69d19",
    "_uuid": "8f2839f25d086af736a60e9eeb907d3b93b6e0e5",
    "execution": {
     "iopub.execute_input": "2023-04-17T16:03:48.397143Z",
     "iopub.status.busy": "2023-04-17T16:03:48.396472Z",
     "iopub.status.idle": "2023-04-17T16:03:48.413719Z",
     "shell.execute_reply": "2023-04-17T16:03:48.412119Z"
    },
    "papermill": {
     "duration": 0.030872,
     "end_time": "2023-04-17T16:03:48.417060",
     "exception": false,
     "start_time": "2023-04-17T16:03:48.386188",
     "status": "completed"
    },
    "tags": []
   },
   "outputs": [
    {
     "name": "stdout",
     "output_type": "stream",
     "text": [
      "/kaggle/input/2023-ml-w7p2/train.csv\n",
      "/kaggle/input/2023-ml-w7p2/test.csv\n",
      "/kaggle/input/2023-ml-w7p2/sample_submit.csv\n"
     ]
    }
   ],
   "source": [
    "# This Python 3 environment comes with many helpful analytics libraries installed\n",
    "# It is defined by the kaggle/python Docker image: https://github.com/kaggle/docker-python\n",
    "# For example, here's several helpful packages to load\n",
    "\n",
    "import numpy as np # linear algebra\n",
    "import pandas as pd # data processing, CSV file I/O (e.g. pd.read_csv)\n",
    "\n",
    "# Input data files are available in the read-only \"../input/\" directory\n",
    "# For example, running this (by clicking run or pressing Shift+Enter) will list all files under the input directory\n",
    "\n",
    "import os\n",
    "for dirname, _, filenames in os.walk('/kaggle/input'):\n",
    "    for filename in filenames:\n",
    "        print(os.path.join(dirname, filename))\n",
    "\n",
    "# You can write up to 20GB to the current directory (/kaggle/working/) that gets preserved as output when you create a version using \"Save & Run All\" \n",
    "# You can also write temporary files to /kaggle/temp/, but they won't be saved outside of the current session"
   ]
  },
  {
   "cell_type": "code",
   "execution_count": 2,
   "id": "1cb2a9bb",
   "metadata": {
    "execution": {
     "iopub.execute_input": "2023-04-17T16:03:48.431962Z",
     "iopub.status.busy": "2023-04-17T16:03:48.431453Z",
     "iopub.status.idle": "2023-04-17T16:03:48.501767Z",
     "shell.execute_reply": "2023-04-17T16:03:48.500559Z"
    },
    "papermill": {
     "duration": 0.081623,
     "end_time": "2023-04-17T16:03:48.504920",
     "exception": false,
     "start_time": "2023-04-17T16:03:48.423297",
     "status": "completed"
    },
    "tags": []
   },
   "outputs": [],
   "source": [
    "train = pd.read_csv(\"/kaggle/input/2023-ml-w7p2/train.csv\")\n",
    "test = pd.read_csv(\"/kaggle/input/2023-ml-w7p2/test.csv\")\n",
    "submit = pd.read_csv(\"/kaggle/input/2023-ml-w7p2/sample_submit.csv\")"
   ]
  },
  {
   "cell_type": "code",
   "execution_count": 3,
   "id": "0cab2d5d",
   "metadata": {
    "execution": {
     "iopub.execute_input": "2023-04-17T16:03:48.519316Z",
     "iopub.status.busy": "2023-04-17T16:03:48.518787Z",
     "iopub.status.idle": "2023-04-17T16:03:48.569404Z",
     "shell.execute_reply": "2023-04-17T16:03:48.568012Z"
    },
    "papermill": {
     "duration": 0.061437,
     "end_time": "2023-04-17T16:03:48.572489",
     "exception": false,
     "start_time": "2023-04-17T16:03:48.511052",
     "status": "completed"
    },
    "tags": []
   },
   "outputs": [
    {
     "data": {
      "text/html": [
       "<div>\n",
       "<style scoped>\n",
       "    .dataframe tbody tr th:only-of-type {\n",
       "        vertical-align: middle;\n",
       "    }\n",
       "\n",
       "    .dataframe tbody tr th {\n",
       "        vertical-align: top;\n",
       "    }\n",
       "\n",
       "    .dataframe thead th {\n",
       "        text-align: right;\n",
       "    }\n",
       "</style>\n",
       "<table border=\"1\" class=\"dataframe\">\n",
       "  <thead>\n",
       "    <tr style=\"text-align: right;\">\n",
       "      <th></th>\n",
       "      <th>index</th>\n",
       "      <th>Unnamed: 0</th>\n",
       "      <th>customerID</th>\n",
       "      <th>gender</th>\n",
       "      <th>SeniorCitizen</th>\n",
       "      <th>Partner</th>\n",
       "      <th>Dependents</th>\n",
       "      <th>tenure</th>\n",
       "      <th>PhoneService</th>\n",
       "      <th>MultipleLines</th>\n",
       "      <th>...</th>\n",
       "      <th>DeviceProtection</th>\n",
       "      <th>TechSupport</th>\n",
       "      <th>StreamingTV</th>\n",
       "      <th>StreamingMovies</th>\n",
       "      <th>Contract</th>\n",
       "      <th>PaperlessBilling</th>\n",
       "      <th>PaymentMethod</th>\n",
       "      <th>MonthlyCharges</th>\n",
       "      <th>TotalCharges</th>\n",
       "      <th>Churn</th>\n",
       "    </tr>\n",
       "  </thead>\n",
       "  <tbody>\n",
       "    <tr>\n",
       "      <th>0</th>\n",
       "      <td>0</td>\n",
       "      <td>1869</td>\n",
       "      <td>7010-BRBUU</td>\n",
       "      <td>Male</td>\n",
       "      <td>0</td>\n",
       "      <td>Yes</td>\n",
       "      <td>Yes</td>\n",
       "      <td>72</td>\n",
       "      <td>Yes</td>\n",
       "      <td>Yes</td>\n",
       "      <td>...</td>\n",
       "      <td>No internet service</td>\n",
       "      <td>No internet service</td>\n",
       "      <td>No internet service</td>\n",
       "      <td>No internet service</td>\n",
       "      <td>Two year</td>\n",
       "      <td>No</td>\n",
       "      <td>Credit card (automatic)</td>\n",
       "      <td>24.10</td>\n",
       "      <td>1734.65</td>\n",
       "      <td>No</td>\n",
       "    </tr>\n",
       "    <tr>\n",
       "      <th>1</th>\n",
       "      <td>1</td>\n",
       "      <td>4528</td>\n",
       "      <td>9688-YGXVR</td>\n",
       "      <td>Female</td>\n",
       "      <td>0</td>\n",
       "      <td>No</td>\n",
       "      <td>No</td>\n",
       "      <td>44</td>\n",
       "      <td>Yes</td>\n",
       "      <td>No</td>\n",
       "      <td>...</td>\n",
       "      <td>Yes</td>\n",
       "      <td>No</td>\n",
       "      <td>Yes</td>\n",
       "      <td>No</td>\n",
       "      <td>Month-to-month</td>\n",
       "      <td>Yes</td>\n",
       "      <td>Credit card (automatic)</td>\n",
       "      <td>88.15</td>\n",
       "      <td>3973.2</td>\n",
       "      <td>No</td>\n",
       "    </tr>\n",
       "    <tr>\n",
       "      <th>2</th>\n",
       "      <td>2</td>\n",
       "      <td>6344</td>\n",
       "      <td>9286-DOJGF</td>\n",
       "      <td>Female</td>\n",
       "      <td>1</td>\n",
       "      <td>Yes</td>\n",
       "      <td>No</td>\n",
       "      <td>38</td>\n",
       "      <td>Yes</td>\n",
       "      <td>Yes</td>\n",
       "      <td>...</td>\n",
       "      <td>No</td>\n",
       "      <td>No</td>\n",
       "      <td>No</td>\n",
       "      <td>No</td>\n",
       "      <td>Month-to-month</td>\n",
       "      <td>Yes</td>\n",
       "      <td>Bank transfer (automatic)</td>\n",
       "      <td>74.95</td>\n",
       "      <td>2869.85</td>\n",
       "      <td>Yes</td>\n",
       "    </tr>\n",
       "    <tr>\n",
       "      <th>3</th>\n",
       "      <td>3</td>\n",
       "      <td>6739</td>\n",
       "      <td>6994-KERXL</td>\n",
       "      <td>Male</td>\n",
       "      <td>0</td>\n",
       "      <td>No</td>\n",
       "      <td>No</td>\n",
       "      <td>4</td>\n",
       "      <td>Yes</td>\n",
       "      <td>No</td>\n",
       "      <td>...</td>\n",
       "      <td>No</td>\n",
       "      <td>No</td>\n",
       "      <td>No</td>\n",
       "      <td>Yes</td>\n",
       "      <td>Month-to-month</td>\n",
       "      <td>Yes</td>\n",
       "      <td>Electronic check</td>\n",
       "      <td>55.90</td>\n",
       "      <td>238.5</td>\n",
       "      <td>No</td>\n",
       "    </tr>\n",
       "    <tr>\n",
       "      <th>4</th>\n",
       "      <td>4</td>\n",
       "      <td>432</td>\n",
       "      <td>2181-UAESM</td>\n",
       "      <td>Male</td>\n",
       "      <td>0</td>\n",
       "      <td>No</td>\n",
       "      <td>No</td>\n",
       "      <td>2</td>\n",
       "      <td>Yes</td>\n",
       "      <td>No</td>\n",
       "      <td>...</td>\n",
       "      <td>Yes</td>\n",
       "      <td>No</td>\n",
       "      <td>No</td>\n",
       "      <td>No</td>\n",
       "      <td>Month-to-month</td>\n",
       "      <td>No</td>\n",
       "      <td>Electronic check</td>\n",
       "      <td>53.45</td>\n",
       "      <td>119.5</td>\n",
       "      <td>No</td>\n",
       "    </tr>\n",
       "  </tbody>\n",
       "</table>\n",
       "<p>5 rows × 23 columns</p>\n",
       "</div>"
      ],
      "text/plain": [
       "   index  Unnamed: 0  customerID  gender  SeniorCitizen Partner Dependents  \\\n",
       "0      0        1869  7010-BRBUU    Male              0     Yes        Yes   \n",
       "1      1        4528  9688-YGXVR  Female              0      No         No   \n",
       "2      2        6344  9286-DOJGF  Female              1     Yes         No   \n",
       "3      3        6739  6994-KERXL    Male              0      No         No   \n",
       "4      4         432  2181-UAESM    Male              0      No         No   \n",
       "\n",
       "   tenure PhoneService MultipleLines  ...     DeviceProtection  \\\n",
       "0      72          Yes           Yes  ...  No internet service   \n",
       "1      44          Yes            No  ...                  Yes   \n",
       "2      38          Yes           Yes  ...                   No   \n",
       "3       4          Yes            No  ...                   No   \n",
       "4       2          Yes            No  ...                  Yes   \n",
       "\n",
       "           TechSupport          StreamingTV      StreamingMovies  \\\n",
       "0  No internet service  No internet service  No internet service   \n",
       "1                   No                  Yes                   No   \n",
       "2                   No                   No                   No   \n",
       "3                   No                   No                  Yes   \n",
       "4                   No                   No                   No   \n",
       "\n",
       "         Contract PaperlessBilling              PaymentMethod MonthlyCharges  \\\n",
       "0        Two year               No    Credit card (automatic)          24.10   \n",
       "1  Month-to-month              Yes    Credit card (automatic)          88.15   \n",
       "2  Month-to-month              Yes  Bank transfer (automatic)          74.95   \n",
       "3  Month-to-month              Yes           Electronic check          55.90   \n",
       "4  Month-to-month               No           Electronic check          53.45   \n",
       "\n",
       "  TotalCharges Churn  \n",
       "0      1734.65    No  \n",
       "1       3973.2    No  \n",
       "2      2869.85   Yes  \n",
       "3        238.5    No  \n",
       "4        119.5    No  \n",
       "\n",
       "[5 rows x 23 columns]"
      ]
     },
     "execution_count": 3,
     "metadata": {},
     "output_type": "execute_result"
    }
   ],
   "source": [
    "train.head()"
   ]
  },
  {
   "cell_type": "code",
   "execution_count": 4,
   "id": "06698f1e",
   "metadata": {
    "execution": {
     "iopub.execute_input": "2023-04-17T16:03:48.587425Z",
     "iopub.status.busy": "2023-04-17T16:03:48.586938Z",
     "iopub.status.idle": "2023-04-17T16:03:48.624555Z",
     "shell.execute_reply": "2023-04-17T16:03:48.622828Z"
    },
    "papermill": {
     "duration": 0.048314,
     "end_time": "2023-04-17T16:03:48.627410",
     "exception": false,
     "start_time": "2023-04-17T16:03:48.579096",
     "status": "completed"
    },
    "tags": []
   },
   "outputs": [
    {
     "name": "stdout",
     "output_type": "stream",
     "text": [
      "<class 'pandas.core.frame.DataFrame'>\n",
      "RangeIndex: 4788 entries, 0 to 4787\n",
      "Data columns (total 23 columns):\n",
      " #   Column            Non-Null Count  Dtype  \n",
      "---  ------            --------------  -----  \n",
      " 0   index             4788 non-null   int64  \n",
      " 1   Unnamed: 0        4788 non-null   int64  \n",
      " 2   customerID        4788 non-null   object \n",
      " 3   gender            4788 non-null   object \n",
      " 4   SeniorCitizen     4788 non-null   int64  \n",
      " 5   Partner           4788 non-null   object \n",
      " 6   Dependents        4788 non-null   object \n",
      " 7   tenure            4788 non-null   int64  \n",
      " 8   PhoneService      4788 non-null   object \n",
      " 9   MultipleLines     4788 non-null   object \n",
      " 10  InternetService   4788 non-null   object \n",
      " 11  OnlineSecurity    4788 non-null   object \n",
      " 12  OnlineBackup      4788 non-null   object \n",
      " 13  DeviceProtection  4788 non-null   object \n",
      " 14  TechSupport       4788 non-null   object \n",
      " 15  StreamingTV       4788 non-null   object \n",
      " 16  StreamingMovies   4788 non-null   object \n",
      " 17  Contract          4788 non-null   object \n",
      " 18  PaperlessBilling  4788 non-null   object \n",
      " 19  PaymentMethod     4788 non-null   object \n",
      " 20  MonthlyCharges    4788 non-null   float64\n",
      " 21  TotalCharges      4788 non-null   object \n",
      " 22  Churn             4788 non-null   object \n",
      "dtypes: float64(1), int64(4), object(18)\n",
      "memory usage: 860.5+ KB\n"
     ]
    }
   ],
   "source": [
    "train.info()"
   ]
  },
  {
   "cell_type": "code",
   "execution_count": 5,
   "id": "81c78236",
   "metadata": {
    "execution": {
     "iopub.execute_input": "2023-04-17T16:03:48.642640Z",
     "iopub.status.busy": "2023-04-17T16:03:48.642149Z",
     "iopub.status.idle": "2023-04-17T16:03:48.652821Z",
     "shell.execute_reply": "2023-04-17T16:03:48.651530Z"
    },
    "papermill": {
     "duration": 0.02175,
     "end_time": "2023-04-17T16:03:48.655717",
     "exception": false,
     "start_time": "2023-04-17T16:03:48.633967",
     "status": "completed"
    },
    "tags": []
   },
   "outputs": [],
   "source": [
    "train.drop(['index','Unnamed: 0','customerID'],axis=1,inplace=True)\n",
    "test.drop(['index','Unnamed: 0','customerID'],axis=1,inplace=True)"
   ]
  },
  {
   "cell_type": "code",
   "execution_count": 6,
   "id": "edc22afb",
   "metadata": {
    "execution": {
     "iopub.execute_input": "2023-04-17T16:03:48.671105Z",
     "iopub.status.busy": "2023-04-17T16:03:48.670629Z",
     "iopub.status.idle": "2023-04-17T16:03:48.676584Z",
     "shell.execute_reply": "2023-04-17T16:03:48.675199Z"
    },
    "papermill": {
     "duration": 0.017024,
     "end_time": "2023-04-17T16:03:48.679284",
     "exception": false,
     "start_time": "2023-04-17T16:03:48.662260",
     "status": "completed"
    },
    "tags": []
   },
   "outputs": [],
   "source": [
    "# pd.to_numeric(train['TotalCharges'])"
   ]
  },
  {
   "cell_type": "code",
   "execution_count": 7,
   "id": "10a281ff",
   "metadata": {
    "execution": {
     "iopub.execute_input": "2023-04-17T16:03:48.695724Z",
     "iopub.status.busy": "2023-04-17T16:03:48.694276Z",
     "iopub.status.idle": "2023-04-17T16:03:48.711210Z",
     "shell.execute_reply": "2023-04-17T16:03:48.709800Z"
    },
    "papermill": {
     "duration": 0.028466,
     "end_time": "2023-04-17T16:03:48.714412",
     "exception": false,
     "start_time": "2023-04-17T16:03:48.685946",
     "status": "completed"
    },
    "tags": []
   },
   "outputs": [],
   "source": [
    "train.loc[train[train['TotalCharges'] == \" \"].index,['TotalCharges']] = np.nan\n",
    "test.loc[test[test['TotalCharges'] == \" \"].index,['TotalCharges']] = np.nan"
   ]
  },
  {
   "cell_type": "code",
   "execution_count": 8,
   "id": "0abf7428",
   "metadata": {
    "execution": {
     "iopub.execute_input": "2023-04-17T16:03:48.731484Z",
     "iopub.status.busy": "2023-04-17T16:03:48.730142Z",
     "iopub.status.idle": "2023-04-17T16:03:48.740809Z",
     "shell.execute_reply": "2023-04-17T16:03:48.739377Z"
    },
    "papermill": {
     "duration": 0.022862,
     "end_time": "2023-04-17T16:03:48.743834",
     "exception": false,
     "start_time": "2023-04-17T16:03:48.720972",
     "status": "completed"
    },
    "tags": []
   },
   "outputs": [],
   "source": [
    "train['TotalCharges']=train['TotalCharges'].astype('float64')\n",
    "test['TotalCharges']=test['TotalCharges'].astype('float64')"
   ]
  },
  {
   "cell_type": "code",
   "execution_count": 9,
   "id": "d37e7d5b",
   "metadata": {
    "execution": {
     "iopub.execute_input": "2023-04-17T16:03:48.760033Z",
     "iopub.status.busy": "2023-04-17T16:03:48.758713Z",
     "iopub.status.idle": "2023-04-17T16:03:48.768846Z",
     "shell.execute_reply": "2023-04-17T16:03:48.767492Z"
    },
    "papermill": {
     "duration": 0.021328,
     "end_time": "2023-04-17T16:03:48.771734",
     "exception": false,
     "start_time": "2023-04-17T16:03:48.750406",
     "status": "completed"
    },
    "tags": []
   },
   "outputs": [],
   "source": [
    "x=train.drop(['Churn'],axis=1)\n",
    "y=train[['Churn']]"
   ]
  },
  {
   "cell_type": "code",
   "execution_count": 10,
   "id": "d2dd8067",
   "metadata": {
    "execution": {
     "iopub.execute_input": "2023-04-17T16:03:48.787753Z",
     "iopub.status.busy": "2023-04-17T16:03:48.786400Z",
     "iopub.status.idle": "2023-04-17T16:03:48.808748Z",
     "shell.execute_reply": "2023-04-17T16:03:48.806891Z"
    },
    "papermill": {
     "duration": 0.033923,
     "end_time": "2023-04-17T16:03:48.812291",
     "exception": false,
     "start_time": "2023-04-17T16:03:48.778368",
     "status": "completed"
    },
    "tags": []
   },
   "outputs": [
    {
     "name": "stdout",
     "output_type": "stream",
     "text": [
      "<class 'pandas.core.frame.DataFrame'>\n",
      "RangeIndex: 4788 entries, 0 to 4787\n",
      "Data columns (total 19 columns):\n",
      " #   Column            Non-Null Count  Dtype  \n",
      "---  ------            --------------  -----  \n",
      " 0   gender            4788 non-null   object \n",
      " 1   SeniorCitizen     4788 non-null   int64  \n",
      " 2   Partner           4788 non-null   object \n",
      " 3   Dependents        4788 non-null   object \n",
      " 4   tenure            4788 non-null   int64  \n",
      " 5   PhoneService      4788 non-null   object \n",
      " 6   MultipleLines     4788 non-null   object \n",
      " 7   InternetService   4788 non-null   object \n",
      " 8   OnlineSecurity    4788 non-null   object \n",
      " 9   OnlineBackup      4788 non-null   object \n",
      " 10  DeviceProtection  4788 non-null   object \n",
      " 11  TechSupport       4788 non-null   object \n",
      " 12  StreamingTV       4788 non-null   object \n",
      " 13  StreamingMovies   4788 non-null   object \n",
      " 14  Contract          4788 non-null   object \n",
      " 15  PaperlessBilling  4788 non-null   object \n",
      " 16  PaymentMethod     4788 non-null   object \n",
      " 17  MonthlyCharges    4788 non-null   float64\n",
      " 18  TotalCharges      4778 non-null   float64\n",
      "dtypes: float64(2), int64(2), object(15)\n",
      "memory usage: 710.8+ KB\n"
     ]
    }
   ],
   "source": [
    "x.info()"
   ]
  },
  {
   "cell_type": "code",
   "execution_count": 11,
   "id": "1c57da1f",
   "metadata": {
    "execution": {
     "iopub.execute_input": "2023-04-17T16:03:48.829971Z",
     "iopub.status.busy": "2023-04-17T16:03:48.828652Z",
     "iopub.status.idle": "2023-04-17T16:03:48.841755Z",
     "shell.execute_reply": "2023-04-17T16:03:48.840193Z"
    },
    "papermill": {
     "duration": 0.026354,
     "end_time": "2023-04-17T16:03:48.845376",
     "exception": false,
     "start_time": "2023-04-17T16:03:48.819022",
     "status": "completed"
    },
    "tags": []
   },
   "outputs": [],
   "source": [
    "data=pd.concat([x,test],axis=0)"
   ]
  },
  {
   "cell_type": "code",
   "execution_count": 12,
   "id": "bb6792e9",
   "metadata": {
    "execution": {
     "iopub.execute_input": "2023-04-17T16:03:48.861411Z",
     "iopub.status.busy": "2023-04-17T16:03:48.860903Z",
     "iopub.status.idle": "2023-04-17T16:03:49.112230Z",
     "shell.execute_reply": "2023-04-17T16:03:49.110179Z"
    },
    "papermill": {
     "duration": 0.263587,
     "end_time": "2023-04-17T16:03:49.115714",
     "exception": false,
     "start_time": "2023-04-17T16:03:48.852127",
     "status": "completed"
    },
    "tags": []
   },
   "outputs": [],
   "source": [
    "data=data.to_dict('records')\n",
    "x=x.to_dict('records')\n",
    "test=test.to_dict('records')"
   ]
  },
  {
   "cell_type": "code",
   "execution_count": 13,
   "id": "4b30dba0",
   "metadata": {
    "execution": {
     "iopub.execute_input": "2023-04-17T16:03:49.131402Z",
     "iopub.status.busy": "2023-04-17T16:03:49.130835Z",
     "iopub.status.idle": "2023-04-17T16:03:50.767899Z",
     "shell.execute_reply": "2023-04-17T16:03:50.766478Z"
    },
    "papermill": {
     "duration": 1.648693,
     "end_time": "2023-04-17T16:03:50.771150",
     "exception": false,
     "start_time": "2023-04-17T16:03:49.122457",
     "status": "completed"
    },
    "tags": []
   },
   "outputs": [],
   "source": [
    "from sklearn.feature_extraction import DictVectorizer\n",
    "dv = DictVectorizer()\n",
    "dv.fit(data)\n",
    "x=dv.transform(x)\n",
    "test=dv.transform(test)\n",
    "data=dv.transform(data)"
   ]
  },
  {
   "cell_type": "code",
   "execution_count": 14,
   "id": "2a849686",
   "metadata": {
    "execution": {
     "iopub.execute_input": "2023-04-17T16:03:50.788227Z",
     "iopub.status.busy": "2023-04-17T16:03:50.786904Z",
     "iopub.status.idle": "2023-04-17T16:03:51.124217Z",
     "shell.execute_reply": "2023-04-17T16:03:51.122800Z"
    },
    "papermill": {
     "duration": 0.349495,
     "end_time": "2023-04-17T16:03:51.127418",
     "exception": false,
     "start_time": "2023-04-17T16:03:50.777923",
     "status": "completed"
    },
    "tags": []
   },
   "outputs": [],
   "source": [
    "from sklearn.impute import SimpleImputer\n",
    "si = SimpleImputer()\n",
    "si.fit(data)\n",
    "x=si.transform(x)\n",
    "test=si.transform(test)"
   ]
  },
  {
   "cell_type": "code",
   "execution_count": 15,
   "id": "898857d6",
   "metadata": {
    "execution": {
     "iopub.execute_input": "2023-04-17T16:03:51.143120Z",
     "iopub.status.busy": "2023-04-17T16:03:51.142613Z",
     "iopub.status.idle": "2023-04-17T16:03:51.152052Z",
     "shell.execute_reply": "2023-04-17T16:03:51.150560Z"
    },
    "papermill": {
     "duration": 0.021039,
     "end_time": "2023-04-17T16:03:51.155151",
     "exception": false,
     "start_time": "2023-04-17T16:03:51.134112",
     "status": "completed"
    },
    "tags": []
   },
   "outputs": [
    {
     "data": {
      "text/plain": [
       "array(['No', 'Yes'], dtype=object)"
      ]
     },
     "execution_count": 15,
     "metadata": {},
     "output_type": "execute_result"
    }
   ],
   "source": [
    "y['Churn'].unique()"
   ]
  },
  {
   "cell_type": "code",
   "execution_count": 16,
   "id": "5e09650c",
   "metadata": {
    "execution": {
     "iopub.execute_input": "2023-04-17T16:03:51.171265Z",
     "iopub.status.busy": "2023-04-17T16:03:51.170791Z",
     "iopub.status.idle": "2023-04-17T16:03:51.188136Z",
     "shell.execute_reply": "2023-04-17T16:03:51.186415Z"
    },
    "papermill": {
     "duration": 0.029655,
     "end_time": "2023-04-17T16:03:51.191726",
     "exception": false,
     "start_time": "2023-04-17T16:03:51.162071",
     "status": "completed"
    },
    "tags": []
   },
   "outputs": [
    {
     "name": "stderr",
     "output_type": "stream",
     "text": [
      "/opt/conda/lib/python3.7/site-packages/pandas/core/generic.py:6619: SettingWithCopyWarning: \n",
      "A value is trying to be set on a copy of a slice from a DataFrame\n",
      "\n",
      "See the caveats in the documentation: https://pandas.pydata.org/pandas-docs/stable/user_guide/indexing.html#returning-a-view-versus-a-copy\n",
      "  return self._update_inplace(result)\n"
     ]
    }
   ],
   "source": [
    "y['Churn'].replace({'No':0,'Yes':1},inplace=True)"
   ]
  },
  {
   "cell_type": "code",
   "execution_count": 17,
   "id": "1dcc1a2d",
   "metadata": {
    "execution": {
     "iopub.execute_input": "2023-04-17T16:03:51.208226Z",
     "iopub.status.busy": "2023-04-17T16:03:51.207407Z",
     "iopub.status.idle": "2023-04-17T16:03:51.326288Z",
     "shell.execute_reply": "2023-04-17T16:03:51.324923Z"
    },
    "papermill": {
     "duration": 0.131147,
     "end_time": "2023-04-17T16:03:51.329825",
     "exception": false,
     "start_time": "2023-04-17T16:03:51.198678",
     "status": "completed"
    },
    "tags": []
   },
   "outputs": [
    {
     "data": {
      "text/plain": [
       "LogisticRegression(max_iter=1000)"
      ]
     },
     "execution_count": 17,
     "metadata": {},
     "output_type": "execute_result"
    }
   ],
   "source": [
    "from sklearn.linear_model import LogisticRegression\n",
    "model = LogisticRegression(max_iter=1000)\n",
    "model.fit(x,y['Churn'])"
   ]
  },
  {
   "cell_type": "code",
   "execution_count": 18,
   "id": "f9ec5300",
   "metadata": {
    "execution": {
     "iopub.execute_input": "2023-04-17T16:03:51.346308Z",
     "iopub.status.busy": "2023-04-17T16:03:51.345809Z",
     "iopub.status.idle": "2023-04-17T16:03:51.355644Z",
     "shell.execute_reply": "2023-04-17T16:03:51.354190Z"
    },
    "papermill": {
     "duration": 0.021904,
     "end_time": "2023-04-17T16:03:51.358737",
     "exception": false,
     "start_time": "2023-04-17T16:03:51.336833",
     "status": "completed"
    },
    "tags": []
   },
   "outputs": [
    {
     "name": "stdout",
     "output_type": "stream",
     "text": [
      "0.8057644110275689\n"
     ]
    }
   ],
   "source": [
    "from sklearn.metrics import accuracy_score\n",
    "print(accuracy_score(y['Churn'],model.predict(x)))"
   ]
  },
  {
   "cell_type": "code",
   "execution_count": 19,
   "id": "0ee913ad",
   "metadata": {
    "execution": {
     "iopub.execute_input": "2023-04-17T16:03:51.376182Z",
     "iopub.status.busy": "2023-04-17T16:03:51.375676Z",
     "iopub.status.idle": "2023-04-17T16:03:51.392281Z",
     "shell.execute_reply": "2023-04-17T16:03:51.390951Z"
    },
    "papermill": {
     "duration": 0.028573,
     "end_time": "2023-04-17T16:03:51.395503",
     "exception": false,
     "start_time": "2023-04-17T16:03:51.366930",
     "status": "completed"
    },
    "tags": []
   },
   "outputs": [],
   "source": [
    "submit['Churn'] = model.predict(test)\n",
    "submit.to_csv(\"submit.csv\",mode='w',header=True,index=False)"
   ]
  },
  {
   "cell_type": "code",
   "execution_count": null,
   "id": "b38d9a7b",
   "metadata": {
    "papermill": {
     "duration": 0.006605,
     "end_time": "2023-04-17T16:03:51.409729",
     "exception": false,
     "start_time": "2023-04-17T16:03:51.403124",
     "status": "completed"
    },
    "tags": []
   },
   "outputs": [],
   "source": []
  },
  {
   "cell_type": "code",
   "execution_count": null,
   "id": "52e330ba",
   "metadata": {
    "papermill": {
     "duration": 0.007261,
     "end_time": "2023-04-17T16:03:51.424182",
     "exception": false,
     "start_time": "2023-04-17T16:03:51.416921",
     "status": "completed"
    },
    "tags": []
   },
   "outputs": [],
   "source": []
  },
  {
   "cell_type": "code",
   "execution_count": null,
   "id": "0acefbd3",
   "metadata": {
    "papermill": {
     "duration": 0.006546,
     "end_time": "2023-04-17T16:03:51.437783",
     "exception": false,
     "start_time": "2023-04-17T16:03:51.431237",
     "status": "completed"
    },
    "tags": []
   },
   "outputs": [],
   "source": []
  }
 ],
 "metadata": {
  "kernelspec": {
   "display_name": "Python 3",
   "language": "python",
   "name": "python3"
  },
  "language_info": {
   "codemirror_mode": {
    "name": "ipython",
    "version": 3
   },
   "file_extension": ".py",
   "mimetype": "text/x-python",
   "name": "python",
   "nbconvert_exporter": "python",
   "pygments_lexer": "ipython3",
   "version": "3.7.12"
  },
  "papermill": {
   "default_parameters": {},
   "duration": 16.037355,
   "end_time": "2023-04-17T16:03:52.571384",
   "environment_variables": {},
   "exception": null,
   "input_path": "__notebook__.ipynb",
   "output_path": "__notebook__.ipynb",
   "parameters": {},
   "start_time": "2023-04-17T16:03:36.534029",
   "version": "2.4.0"
  }
 },
 "nbformat": 4,
 "nbformat_minor": 5
}
