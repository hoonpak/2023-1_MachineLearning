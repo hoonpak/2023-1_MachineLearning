{
 "cells": [
  {
   "cell_type": "code",
   "execution_count": 1,
   "id": "807c0a26",
   "metadata": {
    "_cell_guid": "b1076dfc-b9ad-4769-8c92-a6c4dae69d19",
    "_uuid": "8f2839f25d086af736a60e9eeb907d3b93b6e0e5",
    "execution": {
     "iopub.execute_input": "2023-03-23T12:40:56.694575Z",
     "iopub.status.busy": "2023-03-23T12:40:56.694090Z",
     "iopub.status.idle": "2023-03-23T12:40:56.707118Z",
     "shell.execute_reply": "2023-03-23T12:40:56.706266Z"
    },
    "papermill": {
     "duration": 0.024187,
     "end_time": "2023-03-23T12:40:56.709754",
     "exception": false,
     "start_time": "2023-03-23T12:40:56.685567",
     "status": "completed"
    },
    "tags": []
   },
   "outputs": [
    {
     "name": "stdout",
     "output_type": "stream",
     "text": [
      "/kaggle/input/2023-ml-w4p2/train.csv\n",
      "/kaggle/input/2023-ml-w4p2/test.csv\n",
      "/kaggle/input/2023-ml-w4p2/sample_submit.csv\n"
     ]
    }
   ],
   "source": [
    "# This Python 3 environment comes with many helpful analytics libraries installed\n",
    "# It is defined by the kaggle/python Docker image: https://github.com/kaggle/docker-python\n",
    "# For example, here's several helpful packages to load\n",
    "\n",
    "import numpy as np # linear algebra\n",
    "import pandas as pd # data processing, CSV file I/O (e.g. pd.read_csv)\n",
    "\n",
    "# Input data files are available in the read-only \"../input/\" directory\n",
    "# For example, running this (by clicking run or pressing Shift+Enter) will list all files under the input directory\n",
    "\n",
    "import os\n",
    "for dirname, _, filenames in os.walk('/kaggle/input'):\n",
    "    for filename in filenames:\n",
    "        print(os.path.join(dirname, filename))\n",
    "\n",
    "# You can write up to 20GB to the current directory (/kaggle/working/) that gets preserved as output when you create a version using \"Save & Run All\" \n",
    "# You can also write temporary files to /kaggle/temp/, but they won't be saved outside of the current session"
   ]
  },
  {
   "cell_type": "code",
   "execution_count": 2,
   "id": "6a58acbe",
   "metadata": {
    "execution": {
     "iopub.execute_input": "2023-03-23T12:40:56.723068Z",
     "iopub.status.busy": "2023-03-23T12:40:56.722650Z",
     "iopub.status.idle": "2023-03-23T12:40:56.862641Z",
     "shell.execute_reply": "2023-03-23T12:40:56.861529Z"
    },
    "papermill": {
     "duration": 0.149714,
     "end_time": "2023-03-23T12:40:56.865412",
     "exception": false,
     "start_time": "2023-03-23T12:40:56.715698",
     "status": "completed"
    },
    "tags": []
   },
   "outputs": [],
   "source": [
    "train = pd.read_csv(\"/kaggle/input/2023-ml-w4p2/train.csv\")\n",
    "test = pd.read_csv(\"/kaggle/input/2023-ml-w4p2/test.csv\")\n",
    "submit = pd.read_csv(\"/kaggle/input/2023-ml-w4p2/sample_submit.csv\")"
   ]
  },
  {
   "cell_type": "code",
   "execution_count": 3,
   "id": "e197c685",
   "metadata": {
    "execution": {
     "iopub.execute_input": "2023-03-23T12:40:56.879191Z",
     "iopub.status.busy": "2023-03-23T12:40:56.878010Z",
     "iopub.status.idle": "2023-03-23T12:40:56.908311Z",
     "shell.execute_reply": "2023-03-23T12:40:56.906750Z"
    },
    "papermill": {
     "duration": 0.039971,
     "end_time": "2023-03-23T12:40:56.911175",
     "exception": false,
     "start_time": "2023-03-23T12:40:56.871204",
     "status": "completed"
    },
    "tags": []
   },
   "outputs": [
    {
     "name": "stdout",
     "output_type": "stream",
     "text": [
      "<class 'pandas.core.frame.DataFrame'>\n",
      "RangeIndex: 34170 entries, 0 to 34169\n",
      "Data columns (total 11 columns):\n",
      " #   Column        Non-Null Count  Dtype  \n",
      "---  ------        --------------  -----  \n",
      " 0   ID            34170 non-null  int64  \n",
      " 1   company       34170 non-null  int64  \n",
      " 2   model         34170 non-null  object \n",
      " 3   year          34170 non-null  int64  \n",
      " 4   transmission  34170 non-null  int64  \n",
      " 5   mileage       34170 non-null  int64  \n",
      " 6   fueltype      34170 non-null  int64  \n",
      " 7   tax           34170 non-null  int64  \n",
      " 8   mpg           34170 non-null  float64\n",
      " 9   engineSize    34170 non-null  float64\n",
      " 10  price         34170 non-null  int64  \n",
      "dtypes: float64(2), int64(8), object(1)\n",
      "memory usage: 2.9+ MB\n"
     ]
    }
   ],
   "source": [
    "train.info()"
   ]
  },
  {
   "cell_type": "code",
   "execution_count": 4,
   "id": "fb47b7b6",
   "metadata": {
    "execution": {
     "iopub.execute_input": "2023-03-23T12:40:56.924453Z",
     "iopub.status.busy": "2023-03-23T12:40:56.923988Z",
     "iopub.status.idle": "2023-03-23T12:40:56.951543Z",
     "shell.execute_reply": "2023-03-23T12:40:56.949907Z"
    },
    "papermill": {
     "duration": 0.037093,
     "end_time": "2023-03-23T12:40:56.954002",
     "exception": false,
     "start_time": "2023-03-23T12:40:56.916909",
     "status": "completed"
    },
    "tags": []
   },
   "outputs": [
    {
     "data": {
      "text/html": [
       "<div>\n",
       "<style scoped>\n",
       "    .dataframe tbody tr th:only-of-type {\n",
       "        vertical-align: middle;\n",
       "    }\n",
       "\n",
       "    .dataframe tbody tr th {\n",
       "        vertical-align: top;\n",
       "    }\n",
       "\n",
       "    .dataframe thead th {\n",
       "        text-align: right;\n",
       "    }\n",
       "</style>\n",
       "<table border=\"1\" class=\"dataframe\">\n",
       "  <thead>\n",
       "    <tr style=\"text-align: right;\">\n",
       "      <th></th>\n",
       "      <th>ID</th>\n",
       "      <th>company</th>\n",
       "      <th>model</th>\n",
       "      <th>year</th>\n",
       "      <th>transmission</th>\n",
       "      <th>mileage</th>\n",
       "      <th>fueltype</th>\n",
       "      <th>tax</th>\n",
       "      <th>mpg</th>\n",
       "      <th>engineSize</th>\n",
       "      <th>price</th>\n",
       "    </tr>\n",
       "  </thead>\n",
       "  <tbody>\n",
       "    <tr>\n",
       "      <th>0</th>\n",
       "      <td>0</td>\n",
       "      <td>4</td>\n",
       "      <td>Auris</td>\n",
       "      <td>2015</td>\n",
       "      <td>1</td>\n",
       "      <td>47541</td>\n",
       "      <td>4</td>\n",
       "      <td>145</td>\n",
       "      <td>46.3</td>\n",
       "      <td>1.6</td>\n",
       "      <td>8095</td>\n",
       "    </tr>\n",
       "    <tr>\n",
       "      <th>1</th>\n",
       "      <td>1</td>\n",
       "      <td>0</td>\n",
       "      <td>X2</td>\n",
       "      <td>2018</td>\n",
       "      <td>3</td>\n",
       "      <td>5000</td>\n",
       "      <td>0</td>\n",
       "      <td>145</td>\n",
       "      <td>50.4</td>\n",
       "      <td>2.0</td>\n",
       "      <td>21726</td>\n",
       "    </tr>\n",
       "    <tr>\n",
       "      <th>2</th>\n",
       "      <td>2</td>\n",
       "      <td>2</td>\n",
       "      <td>Focus</td>\n",
       "      <td>2017</td>\n",
       "      <td>3</td>\n",
       "      <td>47018</td>\n",
       "      <td>4</td>\n",
       "      <td>145</td>\n",
       "      <td>51.4</td>\n",
       "      <td>1.0</td>\n",
       "      <td>10490</td>\n",
       "    </tr>\n",
       "  </tbody>\n",
       "</table>\n",
       "</div>"
      ],
      "text/plain": [
       "   ID  company   model  year  transmission  mileage  fueltype  tax   mpg  \\\n",
       "0   0        4   Auris  2015             1    47541         4  145  46.3   \n",
       "1   1        0      X2  2018             3     5000         0  145  50.4   \n",
       "2   2        2   Focus  2017             3    47018         4  145  51.4   \n",
       "\n",
       "   engineSize  price  \n",
       "0         1.6   8095  \n",
       "1         2.0  21726  \n",
       "2         1.0  10490  "
      ]
     },
     "execution_count": 4,
     "metadata": {},
     "output_type": "execute_result"
    }
   ],
   "source": [
    "train.head(3)"
   ]
  },
  {
   "cell_type": "code",
   "execution_count": 5,
   "id": "e6650041",
   "metadata": {
    "execution": {
     "iopub.execute_input": "2023-03-23T12:40:56.967571Z",
     "iopub.status.busy": "2023-03-23T12:40:56.967146Z",
     "iopub.status.idle": "2023-03-23T12:40:56.981591Z",
     "shell.execute_reply": "2023-03-23T12:40:56.980525Z"
    },
    "papermill": {
     "duration": 0.023849,
     "end_time": "2023-03-23T12:40:56.983878",
     "exception": false,
     "start_time": "2023-03-23T12:40:56.960029",
     "status": "completed"
    },
    "tags": []
   },
   "outputs": [
    {
     "data": {
      "text/html": [
       "<div>\n",
       "<style scoped>\n",
       "    .dataframe tbody tr th:only-of-type {\n",
       "        vertical-align: middle;\n",
       "    }\n",
       "\n",
       "    .dataframe tbody tr th {\n",
       "        vertical-align: top;\n",
       "    }\n",
       "\n",
       "    .dataframe thead th {\n",
       "        text-align: right;\n",
       "    }\n",
       "</style>\n",
       "<table border=\"1\" class=\"dataframe\">\n",
       "  <thead>\n",
       "    <tr style=\"text-align: right;\">\n",
       "      <th></th>\n",
       "      <th>ID</th>\n",
       "      <th>company</th>\n",
       "      <th>model</th>\n",
       "      <th>year</th>\n",
       "      <th>transmission</th>\n",
       "      <th>mileage</th>\n",
       "      <th>fueltype</th>\n",
       "      <th>tax</th>\n",
       "      <th>mpg</th>\n",
       "      <th>engineSize</th>\n",
       "    </tr>\n",
       "  </thead>\n",
       "  <tbody>\n",
       "    <tr>\n",
       "      <th>0</th>\n",
       "      <td>0</td>\n",
       "      <td>2</td>\n",
       "      <td>Ka+</td>\n",
       "      <td>2017</td>\n",
       "      <td>1</td>\n",
       "      <td>10150</td>\n",
       "      <td>4</td>\n",
       "      <td>145</td>\n",
       "      <td>57.7</td>\n",
       "      <td>1.2</td>\n",
       "    </tr>\n",
       "    <tr>\n",
       "      <th>1</th>\n",
       "      <td>1</td>\n",
       "      <td>2</td>\n",
       "      <td>Kuga</td>\n",
       "      <td>2013</td>\n",
       "      <td>1</td>\n",
       "      <td>50216</td>\n",
       "      <td>0</td>\n",
       "      <td>145</td>\n",
       "      <td>53.3</td>\n",
       "      <td>2.0</td>\n",
       "    </tr>\n",
       "    <tr>\n",
       "      <th>2</th>\n",
       "      <td>2</td>\n",
       "      <td>3</td>\n",
       "      <td>Q5</td>\n",
       "      <td>2016</td>\n",
       "      <td>1</td>\n",
       "      <td>34189</td>\n",
       "      <td>0</td>\n",
       "      <td>200</td>\n",
       "      <td>47.9</td>\n",
       "      <td>2.0</td>\n",
       "    </tr>\n",
       "  </tbody>\n",
       "</table>\n",
       "</div>"
      ],
      "text/plain": [
       "   ID  company  model  year  transmission  mileage  fueltype  tax   mpg  \\\n",
       "0   0        2    Ka+  2017             1    10150         4  145  57.7   \n",
       "1   1        2   Kuga  2013             1    50216         0  145  53.3   \n",
       "2   2        3     Q5  2016             1    34189         0  200  47.9   \n",
       "\n",
       "   engineSize  \n",
       "0         1.2  \n",
       "1         2.0  \n",
       "2         2.0  "
      ]
     },
     "execution_count": 5,
     "metadata": {},
     "output_type": "execute_result"
    }
   ],
   "source": [
    "test.head(3)"
   ]
  },
  {
   "cell_type": "code",
   "execution_count": 6,
   "id": "5b816b27",
   "metadata": {
    "execution": {
     "iopub.execute_input": "2023-03-23T12:40:56.997883Z",
     "iopub.status.busy": "2023-03-23T12:40:56.997114Z",
     "iopub.status.idle": "2023-03-23T12:40:57.008117Z",
     "shell.execute_reply": "2023-03-23T12:40:57.006721Z"
    },
    "papermill": {
     "duration": 0.020558,
     "end_time": "2023-03-23T12:40:57.010402",
     "exception": false,
     "start_time": "2023-03-23T12:40:56.989844",
     "status": "completed"
    },
    "tags": []
   },
   "outputs": [],
   "source": [
    "X = train.drop(['ID','price'],axis=1)\n",
    "Y = train['price']\n",
    "test.drop(['ID'],axis=1,inplace=True)"
   ]
  },
  {
   "cell_type": "code",
   "execution_count": 7,
   "id": "3c0e9c2d",
   "metadata": {
    "execution": {
     "iopub.execute_input": "2023-03-23T12:40:57.024598Z",
     "iopub.status.busy": "2023-03-23T12:40:57.024153Z",
     "iopub.status.idle": "2023-03-23T12:40:57.038547Z",
     "shell.execute_reply": "2023-03-23T12:40:57.037257Z"
    },
    "papermill": {
     "duration": 0.024296,
     "end_time": "2023-03-23T12:40:57.040901",
     "exception": false,
     "start_time": "2023-03-23T12:40:57.016605",
     "status": "completed"
    },
    "tags": []
   },
   "outputs": [
    {
     "data": {
      "text/html": [
       "<div>\n",
       "<style scoped>\n",
       "    .dataframe tbody tr th:only-of-type {\n",
       "        vertical-align: middle;\n",
       "    }\n",
       "\n",
       "    .dataframe tbody tr th {\n",
       "        vertical-align: top;\n",
       "    }\n",
       "\n",
       "    .dataframe thead th {\n",
       "        text-align: right;\n",
       "    }\n",
       "</style>\n",
       "<table border=\"1\" class=\"dataframe\">\n",
       "  <thead>\n",
       "    <tr style=\"text-align: right;\">\n",
       "      <th></th>\n",
       "      <th>company</th>\n",
       "      <th>model</th>\n",
       "      <th>year</th>\n",
       "      <th>transmission</th>\n",
       "      <th>mileage</th>\n",
       "      <th>fueltype</th>\n",
       "      <th>tax</th>\n",
       "      <th>mpg</th>\n",
       "      <th>engineSize</th>\n",
       "    </tr>\n",
       "  </thead>\n",
       "  <tbody>\n",
       "    <tr>\n",
       "      <th>0</th>\n",
       "      <td>4</td>\n",
       "      <td>Auris</td>\n",
       "      <td>2015</td>\n",
       "      <td>1</td>\n",
       "      <td>47541</td>\n",
       "      <td>4</td>\n",
       "      <td>145</td>\n",
       "      <td>46.3</td>\n",
       "      <td>1.6</td>\n",
       "    </tr>\n",
       "    <tr>\n",
       "      <th>1</th>\n",
       "      <td>0</td>\n",
       "      <td>X2</td>\n",
       "      <td>2018</td>\n",
       "      <td>3</td>\n",
       "      <td>5000</td>\n",
       "      <td>0</td>\n",
       "      <td>145</td>\n",
       "      <td>50.4</td>\n",
       "      <td>2.0</td>\n",
       "    </tr>\n",
       "    <tr>\n",
       "      <th>2</th>\n",
       "      <td>2</td>\n",
       "      <td>Focus</td>\n",
       "      <td>2017</td>\n",
       "      <td>3</td>\n",
       "      <td>47018</td>\n",
       "      <td>4</td>\n",
       "      <td>145</td>\n",
       "      <td>51.4</td>\n",
       "      <td>1.0</td>\n",
       "    </tr>\n",
       "  </tbody>\n",
       "</table>\n",
       "</div>"
      ],
      "text/plain": [
       "   company   model  year  transmission  mileage  fueltype  tax   mpg  \\\n",
       "0        4   Auris  2015             1    47541         4  145  46.3   \n",
       "1        0      X2  2018             3     5000         0  145  50.4   \n",
       "2        2   Focus  2017             3    47018         4  145  51.4   \n",
       "\n",
       "   engineSize  \n",
       "0         1.6  \n",
       "1         2.0  \n",
       "2         1.0  "
      ]
     },
     "execution_count": 7,
     "metadata": {},
     "output_type": "execute_result"
    }
   ],
   "source": [
    "X.head(3)"
   ]
  },
  {
   "cell_type": "code",
   "execution_count": 8,
   "id": "6bdfb240",
   "metadata": {
    "execution": {
     "iopub.execute_input": "2023-03-23T12:40:57.056191Z",
     "iopub.status.busy": "2023-03-23T12:40:57.055401Z",
     "iopub.status.idle": "2023-03-23T12:40:57.069313Z",
     "shell.execute_reply": "2023-03-23T12:40:57.068219Z"
    },
    "papermill": {
     "duration": 0.024612,
     "end_time": "2023-03-23T12:40:57.071697",
     "exception": false,
     "start_time": "2023-03-23T12:40:57.047085",
     "status": "completed"
    },
    "tags": []
   },
   "outputs": [
    {
     "data": {
      "text/html": [
       "<div>\n",
       "<style scoped>\n",
       "    .dataframe tbody tr th:only-of-type {\n",
       "        vertical-align: middle;\n",
       "    }\n",
       "\n",
       "    .dataframe tbody tr th {\n",
       "        vertical-align: top;\n",
       "    }\n",
       "\n",
       "    .dataframe thead th {\n",
       "        text-align: right;\n",
       "    }\n",
       "</style>\n",
       "<table border=\"1\" class=\"dataframe\">\n",
       "  <thead>\n",
       "    <tr style=\"text-align: right;\">\n",
       "      <th></th>\n",
       "      <th>company</th>\n",
       "      <th>model</th>\n",
       "      <th>year</th>\n",
       "      <th>transmission</th>\n",
       "      <th>mileage</th>\n",
       "      <th>fueltype</th>\n",
       "      <th>tax</th>\n",
       "      <th>mpg</th>\n",
       "      <th>engineSize</th>\n",
       "    </tr>\n",
       "  </thead>\n",
       "  <tbody>\n",
       "    <tr>\n",
       "      <th>0</th>\n",
       "      <td>2</td>\n",
       "      <td>Ka+</td>\n",
       "      <td>2017</td>\n",
       "      <td>1</td>\n",
       "      <td>10150</td>\n",
       "      <td>4</td>\n",
       "      <td>145</td>\n",
       "      <td>57.7</td>\n",
       "      <td>1.2</td>\n",
       "    </tr>\n",
       "    <tr>\n",
       "      <th>1</th>\n",
       "      <td>2</td>\n",
       "      <td>Kuga</td>\n",
       "      <td>2013</td>\n",
       "      <td>1</td>\n",
       "      <td>50216</td>\n",
       "      <td>0</td>\n",
       "      <td>145</td>\n",
       "      <td>53.3</td>\n",
       "      <td>2.0</td>\n",
       "    </tr>\n",
       "    <tr>\n",
       "      <th>2</th>\n",
       "      <td>3</td>\n",
       "      <td>Q5</td>\n",
       "      <td>2016</td>\n",
       "      <td>1</td>\n",
       "      <td>34189</td>\n",
       "      <td>0</td>\n",
       "      <td>200</td>\n",
       "      <td>47.9</td>\n",
       "      <td>2.0</td>\n",
       "    </tr>\n",
       "  </tbody>\n",
       "</table>\n",
       "</div>"
      ],
      "text/plain": [
       "   company  model  year  transmission  mileage  fueltype  tax   mpg  \\\n",
       "0        2    Ka+  2017             1    10150         4  145  57.7   \n",
       "1        2   Kuga  2013             1    50216         0  145  53.3   \n",
       "2        3     Q5  2016             1    34189         0  200  47.9   \n",
       "\n",
       "   engineSize  \n",
       "0         1.2  \n",
       "1         2.0  \n",
       "2         2.0  "
      ]
     },
     "execution_count": 8,
     "metadata": {},
     "output_type": "execute_result"
    }
   ],
   "source": [
    "test.head(3)"
   ]
  },
  {
   "cell_type": "code",
   "execution_count": 9,
   "id": "ea0eaed2",
   "metadata": {
    "execution": {
     "iopub.execute_input": "2023-03-23T12:40:57.087047Z",
     "iopub.status.busy": "2023-03-23T12:40:57.086218Z",
     "iopub.status.idle": "2023-03-23T12:40:58.081522Z",
     "shell.execute_reply": "2023-03-23T12:40:58.080285Z"
    },
    "papermill": {
     "duration": 1.006214,
     "end_time": "2023-03-23T12:40:58.084542",
     "exception": false,
     "start_time": "2023-03-23T12:40:57.078328",
     "status": "completed"
    },
    "tags": []
   },
   "outputs": [],
   "source": [
    "from sklearn.preprocessing import LabelEncoder\n",
    "le = LabelEncoder()\n",
    "le.fit(X['model'])\n",
    "X['model']=le.transform(X['model'])\n",
    "test['model']=le.transform(test['model'])"
   ]
  },
  {
   "cell_type": "code",
   "execution_count": 10,
   "id": "5b881905",
   "metadata": {
    "execution": {
     "iopub.execute_input": "2023-03-23T12:40:58.099081Z",
     "iopub.status.busy": "2023-03-23T12:40:58.098677Z",
     "iopub.status.idle": "2023-03-23T12:40:58.176565Z",
     "shell.execute_reply": "2023-03-23T12:40:58.175288Z"
    },
    "papermill": {
     "duration": 0.088257,
     "end_time": "2023-03-23T12:40:58.179333",
     "exception": false,
     "start_time": "2023-03-23T12:40:58.091076",
     "status": "completed"
    },
    "tags": []
   },
   "outputs": [],
   "source": [
    "from sklearn.model_selection import train_test_split\n",
    "x_train, x_test, y_train, y_test = train_test_split(X,Y,test_size= 0.8,random_state=1)"
   ]
  },
  {
   "cell_type": "code",
   "execution_count": 11,
   "id": "94e30349",
   "metadata": {
    "execution": {
     "iopub.execute_input": "2023-03-23T12:40:58.195360Z",
     "iopub.status.busy": "2023-03-23T12:40:58.194918Z",
     "iopub.status.idle": "2023-03-23T12:40:58.214900Z",
     "shell.execute_reply": "2023-03-23T12:40:58.213917Z"
    },
    "papermill": {
     "duration": 0.031725,
     "end_time": "2023-03-23T12:40:58.217591",
     "exception": false,
     "start_time": "2023-03-23T12:40:58.185866",
     "status": "completed"
    },
    "tags": []
   },
   "outputs": [],
   "source": [
    "from sklearn.preprocessing import StandardScaler\n",
    "ss = StandardScaler()\n",
    "x_train_std = ss.fit_transform(x_train)\n",
    "x_test_std = ss.transform(x_test)\n",
    "test_std = ss.transform(test)"
   ]
  },
  {
   "cell_type": "code",
   "execution_count": 12,
   "id": "cf020052",
   "metadata": {
    "execution": {
     "iopub.execute_input": "2023-03-23T12:40:58.232650Z",
     "iopub.status.busy": "2023-03-23T12:40:58.232009Z",
     "iopub.status.idle": "2023-03-23T12:40:58.429936Z",
     "shell.execute_reply": "2023-03-23T12:40:58.428948Z"
    },
    "papermill": {
     "duration": 0.208533,
     "end_time": "2023-03-23T12:40:58.432648",
     "exception": false,
     "start_time": "2023-03-23T12:40:58.224115",
     "status": "completed"
    },
    "tags": []
   },
   "outputs": [],
   "source": [
    "from sklearn.neighbors import KNeighborsRegressor\n",
    "from sklearn.metrics import mean_absolute_error\n",
    "import matplotlib.pyplot as plt"
   ]
  },
  {
   "cell_type": "code",
   "execution_count": 13,
   "id": "2b76a5ff",
   "metadata": {
    "execution": {
     "iopub.execute_input": "2023-03-23T12:40:58.447516Z",
     "iopub.status.busy": "2023-03-23T12:40:58.446757Z",
     "iopub.status.idle": "2023-03-23T12:40:58.454594Z",
     "shell.execute_reply": "2023-03-23T12:40:58.453572Z"
    },
    "papermill": {
     "duration": 0.018052,
     "end_time": "2023-03-23T12:40:58.457166",
     "exception": false,
     "start_time": "2023-03-23T12:40:58.439114",
     "status": "completed"
    },
    "tags": []
   },
   "outputs": [],
   "source": [
    "def whats_the_best(path,x_train,x_test,y_train=y_train,y_test=y_test,neighbors_max=15,weights='distance'):\n",
    "    neighbors_list = range(1,neighbors_max+1)\n",
    "\n",
    "    train_accuracy_list=[]\n",
    "    test_accuracy_list=[]\n",
    "\n",
    "    for i in neighbors_list:\n",
    "        knn = KNeighborsRegressor(n_neighbors=i, p=path, weights=weights)\n",
    "        knn.fit(x_train, y_train)\n",
    "        train_predict = knn.predict(x_train)\n",
    "        test_predict = knn.predict(x_test)\n",
    "        train_MAE = mean_absolute_error(y_train,train_predict)\n",
    "        test_MAE = mean_absolute_error(y_test,test_predict)\n",
    "        train_accuracy_list.append(train_MAE)\n",
    "        test_accuracy_list.append(test_MAE)\n",
    "        print(i, train_MAE, test_MAE)\n",
    "    \n",
    "    return neighbors_list, train_accuracy_list, test_accuracy_list"
   ]
  },
  {
   "cell_type": "code",
   "execution_count": 14,
   "id": "26a17434",
   "metadata": {
    "execution": {
     "iopub.execute_input": "2023-03-23T12:40:58.472299Z",
     "iopub.status.busy": "2023-03-23T12:40:58.471894Z",
     "iopub.status.idle": "2023-03-23T12:40:58.476530Z",
     "shell.execute_reply": "2023-03-23T12:40:58.475418Z"
    },
    "papermill": {
     "duration": 0.014949,
     "end_time": "2023-03-23T12:40:58.479048",
     "exception": false,
     "start_time": "2023-03-23T12:40:58.464099",
     "status": "completed"
    },
    "tags": []
   },
   "outputs": [],
   "source": [
    "# neighbors_num, train_accuracy, test_accuracy = whats_the_best(1,x_train,x_test,weights='uniform')\n",
    "# plt.title('StandardScaler and Manhattan and uniform')\n",
    "# plt.plot(neighbors_num,train_accuracy)\n",
    "# plt.plot(neighbors_num,test_accuracy)\n",
    "# plt.xlabel('num of neighbors')\n",
    "# plt.ylabel('accuracy')\n",
    "# plt.legend(['train', 'test']) \n",
    "# plt.show()"
   ]
  },
  {
   "cell_type": "code",
   "execution_count": 15,
   "id": "4c940625",
   "metadata": {
    "execution": {
     "iopub.execute_input": "2023-03-23T12:40:58.494110Z",
     "iopub.status.busy": "2023-03-23T12:40:58.493301Z",
     "iopub.status.idle": "2023-03-23T12:40:58.498179Z",
     "shell.execute_reply": "2023-03-23T12:40:58.497409Z"
    },
    "papermill": {
     "duration": 0.015039,
     "end_time": "2023-03-23T12:40:58.500533",
     "exception": false,
     "start_time": "2023-03-23T12:40:58.485494",
     "status": "completed"
    },
    "tags": []
   },
   "outputs": [],
   "source": [
    "# neighbors_num, train_accuracy, test_accuracy = whats_the_best(1,x_train,x_test,weights='distance')\n",
    "# plt.title('StandardScaler and Manhattan and uniform')\n",
    "# plt.plot(neighbors_num,train_accuracy)\n",
    "# plt.plot(neighbors_num,test_accuracy)\n",
    "# plt.xlabel('num of neighbors')\n",
    "# plt.ylabel('accuracy')\n",
    "# plt.legend(['train', 'test']) \n",
    "# plt.show()"
   ]
  },
  {
   "cell_type": "code",
   "execution_count": 16,
   "id": "fdd62ed9",
   "metadata": {
    "execution": {
     "iopub.execute_input": "2023-03-23T12:40:58.515737Z",
     "iopub.status.busy": "2023-03-23T12:40:58.514895Z",
     "iopub.status.idle": "2023-03-23T12:40:58.519988Z",
     "shell.execute_reply": "2023-03-23T12:40:58.519225Z"
    },
    "papermill": {
     "duration": 0.015701,
     "end_time": "2023-03-23T12:40:58.522568",
     "exception": false,
     "start_time": "2023-03-23T12:40:58.506867",
     "status": "completed"
    },
    "tags": []
   },
   "outputs": [],
   "source": [
    "# neighbors_num, train_accuracy, test_accuracy = whats_the_best(2,x_train,x_test,weights='uniform')\n",
    "# plt.title('StandardScaler and Manhattan and uniform')\n",
    "# plt.plot(neighbors_num,train_accuracy)\n",
    "# plt.plot(neighbors_num,test_accuracy)\n",
    "# plt.xlabel('num of neighbors')\n",
    "# plt.ylabel('accuracy')\n",
    "# plt.legend(['train', 'test']) \n",
    "# plt.show()"
   ]
  },
  {
   "cell_type": "code",
   "execution_count": 17,
   "id": "564ae98a",
   "metadata": {
    "execution": {
     "iopub.execute_input": "2023-03-23T12:40:58.537659Z",
     "iopub.status.busy": "2023-03-23T12:40:58.536845Z",
     "iopub.status.idle": "2023-03-23T12:40:58.541926Z",
     "shell.execute_reply": "2023-03-23T12:40:58.541112Z"
    },
    "papermill": {
     "duration": 0.015358,
     "end_time": "2023-03-23T12:40:58.544265",
     "exception": false,
     "start_time": "2023-03-23T12:40:58.528907",
     "status": "completed"
    },
    "tags": []
   },
   "outputs": [],
   "source": [
    "# neighbors_num, train_accuracy, test_accuracy = whats_the_best(2,x_train,x_test,weights='distance')\n",
    "# plt.title('StandardScaler and Manhattan and uniform')\n",
    "# plt.plot(neighbors_num,train_accuracy)\n",
    "# plt.plot(neighbors_num,test_accuracy)\n",
    "# plt.xlabel('num of neighbors')\n",
    "# plt.ylabel('accuracy')\n",
    "# plt.legend(['train', 'test']) \n",
    "# plt.show()"
   ]
  },
  {
   "cell_type": "code",
   "execution_count": 18,
   "id": "ab9b10a8",
   "metadata": {
    "execution": {
     "iopub.execute_input": "2023-03-23T12:40:58.559434Z",
     "iopub.status.busy": "2023-03-23T12:40:58.558593Z",
     "iopub.status.idle": "2023-03-23T12:40:58.579790Z",
     "shell.execute_reply": "2023-03-23T12:40:58.578592Z"
    },
    "papermill": {
     "duration": 0.031832,
     "end_time": "2023-03-23T12:40:58.582466",
     "exception": false,
     "start_time": "2023-03-23T12:40:58.550634",
     "status": "completed"
    },
    "tags": []
   },
   "outputs": [],
   "source": [
    "ss2 = StandardScaler()\n",
    "X_std = ss2.fit_transform(X)\n",
    "test_std = ss2.transform(test)"
   ]
  },
  {
   "cell_type": "code",
   "execution_count": 19,
   "id": "0e7f28b4",
   "metadata": {
    "execution": {
     "iopub.execute_input": "2023-03-23T12:40:58.597530Z",
     "iopub.status.busy": "2023-03-23T12:40:58.597103Z",
     "iopub.status.idle": "2023-03-23T12:40:59.293659Z",
     "shell.execute_reply": "2023-03-23T12:40:59.292495Z"
    },
    "papermill": {
     "duration": 0.707414,
     "end_time": "2023-03-23T12:40:59.296458",
     "exception": false,
     "start_time": "2023-03-23T12:40:58.589044",
     "status": "completed"
    },
    "tags": []
   },
   "outputs": [],
   "source": [
    "knn = KNeighborsRegressor(n_neighbors=6, p=1, weights='distance')\n",
    "knn.fit(X_std, Y)\n",
    "predict = knn.predict(test_std)"
   ]
  },
  {
   "cell_type": "code",
   "execution_count": 20,
   "id": "5789d893",
   "metadata": {
    "execution": {
     "iopub.execute_input": "2023-03-23T12:40:59.311581Z",
     "iopub.status.busy": "2023-03-23T12:40:59.310684Z",
     "iopub.status.idle": "2023-03-23T12:40:59.341702Z",
     "shell.execute_reply": "2023-03-23T12:40:59.340642Z"
    },
    "papermill": {
     "duration": 0.041643,
     "end_time": "2023-03-23T12:40:59.344576",
     "exception": false,
     "start_time": "2023-03-23T12:40:59.302933",
     "status": "completed"
    },
    "tags": []
   },
   "outputs": [],
   "source": [
    "submit['price']= predict\n",
    "submit=submit.astype(np.int32)\n",
    "submit.to_csv('submit.csv', mode='w', header= True, index= False)"
   ]
  },
  {
   "cell_type": "code",
   "execution_count": null,
   "id": "d49c4670",
   "metadata": {
    "papermill": {
     "duration": 0.006358,
     "end_time": "2023-03-23T12:40:59.357531",
     "exception": false,
     "start_time": "2023-03-23T12:40:59.351173",
     "status": "completed"
    },
    "tags": []
   },
   "outputs": [],
   "source": []
  }
 ],
 "metadata": {
  "kernelspec": {
   "display_name": "Python 3",
   "language": "python",
   "name": "python3"
  },
  "language_info": {
   "codemirror_mode": {
    "name": "ipython",
    "version": 3
   },
   "file_extension": ".py",
   "mimetype": "text/x-python",
   "name": "python",
   "nbconvert_exporter": "python",
   "pygments_lexer": "ipython3",
   "version": "3.7.12"
  },
  "papermill": {
   "default_parameters": {},
   "duration": 13.330915,
   "end_time": "2023-03-23T12:41:00.085894",
   "environment_variables": {},
   "exception": null,
   "input_path": "__notebook__.ipynb",
   "output_path": "__notebook__.ipynb",
   "parameters": {},
   "start_time": "2023-03-23T12:40:46.754979",
   "version": "2.4.0"
  }
 },
 "nbformat": 4,
 "nbformat_minor": 5
}
