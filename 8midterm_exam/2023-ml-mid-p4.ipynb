{
 "cells": [
  {
   "cell_type": "code",
   "execution_count": 1,
   "id": "9cce3ba2",
   "metadata": {
    "_cell_guid": "b1076dfc-b9ad-4769-8c92-a6c4dae69d19",
    "_uuid": "8f2839f25d086af736a60e9eeb907d3b93b6e0e5",
    "execution": {
     "iopub.execute_input": "2023-04-18T12:51:39.753030Z",
     "iopub.status.busy": "2023-04-18T12:51:39.751754Z",
     "iopub.status.idle": "2023-04-18T12:51:39.775442Z",
     "shell.execute_reply": "2023-04-18T12:51:39.774432Z"
    },
    "papermill": {
     "duration": 0.034929,
     "end_time": "2023-04-18T12:51:39.778357",
     "exception": false,
     "start_time": "2023-04-18T12:51:39.743428",
     "status": "completed"
    },
    "tags": []
   },
   "outputs": [
    {
     "name": "stdout",
     "output_type": "stream",
     "text": [
      "/kaggle/input/2023-ml-midterm-p4/submit_sample.csv\n",
      "/kaggle/input/2023-ml-midterm-p4/test_data/test_2021.csv\n",
      "/kaggle/input/2023-ml-midterm-p4/test_data/test_2022.csv\n",
      "/kaggle/input/2023-ml-midterm-p4/train_data/train_2019.csv\n",
      "/kaggle/input/2023-ml-midterm-p4/train_data/train_2016.csv\n",
      "/kaggle/input/2023-ml-midterm-p4/train_data/train_2020.csv\n",
      "/kaggle/input/2023-ml-midterm-p4/train_data/train_2017.csv\n",
      "/kaggle/input/2023-ml-midterm-p4/train_data/train_2015.csv\n",
      "/kaggle/input/2023-ml-midterm-p4/train_data/train_2018.csv\n"
     ]
    }
   ],
   "source": [
    "# This Python 3 environment comes with many helpful analytics libraries installed\n",
    "# It is defined by the kaggle/python Docker image: https://github.com/kaggle/docker-python\n",
    "# For example, here's several helpful packages to load\n",
    "\n",
    "import numpy as np # linear algebra\n",
    "import pandas as pd # data processing, CSV file I/O (e.g. pd.read_csv)\n",
    "\n",
    "# Input data files are available in the read-only \"../input/\" directory\n",
    "# For example, running this (by clicking run or pressing Shift+Enter) will list all files under the input directory\n",
    "\n",
    "import os\n",
    "for dirname, _, filenames in os.walk('/kaggle/input'):\n",
    "    for filename in filenames:\n",
    "        print(os.path.join(dirname, filename))\n",
    "\n",
    "# You can write up to 20GB to the current directory (/kaggle/working/) that gets preserved as output when you create a version using \"Save & Run All\" \n",
    "# You can also write temporary files to /kaggle/temp/, but they won't be saved outside of the current session"
   ]
  },
  {
   "cell_type": "code",
   "execution_count": 2,
   "id": "897c39b9",
   "metadata": {
    "execution": {
     "iopub.execute_input": "2023-04-18T12:51:39.790894Z",
     "iopub.status.busy": "2023-04-18T12:51:39.790144Z",
     "iopub.status.idle": "2023-04-18T12:51:39.796393Z",
     "shell.execute_reply": "2023-04-18T12:51:39.795099Z"
    },
    "papermill": {
     "duration": 0.015714,
     "end_time": "2023-04-18T12:51:39.799430",
     "exception": false,
     "start_time": "2023-04-18T12:51:39.783716",
     "status": "completed"
    },
    "tags": []
   },
   "outputs": [],
   "source": [
    "#랜덤시드 고정\n",
    "import random\n",
    "import os\n",
    "seed = 42\n",
    "random.seed(seed)\n",
    "np.random.seed(seed)\n",
    "os.environ[\"PYTHONHASHSEED\"] = str(seed)"
   ]
  },
  {
   "cell_type": "code",
   "execution_count": 3,
   "id": "8d089253",
   "metadata": {
    "execution": {
     "iopub.execute_input": "2023-04-18T12:51:39.811857Z",
     "iopub.status.busy": "2023-04-18T12:51:39.811465Z",
     "iopub.status.idle": "2023-04-18T12:51:39.874844Z",
     "shell.execute_reply": "2023-04-18T12:51:39.873563Z"
    },
    "papermill": {
     "duration": 0.07282,
     "end_time": "2023-04-18T12:51:39.877575",
     "exception": false,
     "start_time": "2023-04-18T12:51:39.804755",
     "status": "completed"
    },
    "tags": []
   },
   "outputs": [],
   "source": [
    "#데이터 불러오기\n",
    "train_2015 = pd.read_csv(\"/kaggle/input/2023-ml-midterm-p4/train_data/train_2015.csv\")\n",
    "train_2016 = pd.read_csv(\"/kaggle/input/2023-ml-midterm-p4/train_data/train_2016.csv\")\n",
    "train_2017 = pd.read_csv(\"/kaggle/input/2023-ml-midterm-p4/train_data/train_2017.csv\")\n",
    "train_2018 = pd.read_csv(\"/kaggle/input/2023-ml-midterm-p4/train_data/train_2018.csv\")\n",
    "train_2019 = pd.read_csv(\"/kaggle/input/2023-ml-midterm-p4/train_data/train_2019.csv\")\n",
    "train_2020 = pd.read_csv(\"/kaggle/input/2023-ml-midterm-p4/train_data/train_2020.csv\")\n",
    "\n",
    "test_2021 = pd.read_csv(\"/kaggle/input/2023-ml-midterm-p4/test_data/test_2021.csv\")\n",
    "test_2022 = pd.read_csv(\"/kaggle/input/2023-ml-midterm-p4/test_data/test_2022.csv\")\n",
    "\n",
    "submit = pd.read_csv(\"/kaggle/input/2023-ml-midterm-p4/submit_sample.csv\")"
   ]
  },
  {
   "cell_type": "code",
   "execution_count": 4,
   "id": "5cf47106",
   "metadata": {
    "execution": {
     "iopub.execute_input": "2023-04-18T12:51:39.890293Z",
     "iopub.status.busy": "2023-04-18T12:51:39.889234Z",
     "iopub.status.idle": "2023-04-18T12:51:39.963730Z",
     "shell.execute_reply": "2023-04-18T12:51:39.962475Z"
    },
    "papermill": {
     "duration": 0.083842,
     "end_time": "2023-04-18T12:51:39.966677",
     "exception": false,
     "start_time": "2023-04-18T12:51:39.882835",
     "status": "completed"
    },
    "tags": []
   },
   "outputs": [],
   "source": [
    "# 소수점이 \".\" 이아니라 \",\" 로 되어있어 이를 바꿔줌\n",
    "test_2022 = test_2022[['GDP per capita', 'Healthy Life Expectancy', 'Social support', 'Freedom to make life choices', 'Generosity', 'Corruption Perception', 'Residual error']]\n",
    "for i in ['GDP per capita', 'Healthy Life Expectancy', 'Social support', 'Freedom to make life choices', 'Generosity', 'Corruption Perception', 'Residual error']:\n",
    "    for j in range(len(test_2022)):\n",
    "        test_2022[i][j] = '.'.join(test_2022[i][j].split(','))"
   ]
  },
  {
   "cell_type": "markdown",
   "id": "5984e7c9",
   "metadata": {
    "papermill": {
     "duration": 0.0049,
     "end_time": "2023-04-18T12:51:39.976821",
     "exception": false,
     "start_time": "2023-04-18T12:51:39.971921",
     "status": "completed"
    },
    "tags": []
   },
   "source": [
    "# 결측치 채우기\n",
    "### 문제 설명을 바탕으로 채움"
   ]
  },
  {
   "cell_type": "code",
   "execution_count": 5,
   "id": "a99ddbd7",
   "metadata": {
    "execution": {
     "iopub.execute_input": "2023-04-18T12:51:39.988883Z",
     "iopub.status.busy": "2023-04-18T12:51:39.988456Z",
     "iopub.status.idle": "2023-04-18T12:51:40.205825Z",
     "shell.execute_reply": "2023-04-18T12:51:40.204526Z"
    },
    "papermill": {
     "duration": 0.226459,
     "end_time": "2023-04-18T12:51:40.208350",
     "exception": false,
     "start_time": "2023-04-18T12:51:39.981891",
     "status": "completed"
    },
    "tags": []
   },
   "outputs": [
    {
     "name": "stderr",
     "output_type": "stream",
     "text": [
      "/opt/conda/lib/python3.7/site-packages/ipykernel_launcher.py:2: SettingWithCopyWarning: \n",
      "A value is trying to be set on a copy of a slice from a DataFrame\n",
      "\n",
      "See the caveats in the documentation: https://pandas.pydata.org/pandas-docs/stable/user_guide/indexing.html#returning-a-view-versus-a-copy\n",
      "  \n"
     ]
    }
   ],
   "source": [
    "for i in range(len(train_2018['Residual error'])):\n",
    "    train_2018['Residual error'][i] = train_2018.iloc[i]['Happiness Score'] - train_2018.iloc[i][['GDP per capita', 'Healthy Life Expectancy', 'Social support', 'Freedom to make life choices', 'Generosity', 'Corruption Perception']].sum()"
   ]
  },
  {
   "cell_type": "code",
   "execution_count": 6,
   "id": "37daf6f7",
   "metadata": {
    "execution": {
     "iopub.execute_input": "2023-04-18T12:51:40.220707Z",
     "iopub.status.busy": "2023-04-18T12:51:40.219991Z",
     "iopub.status.idle": "2023-04-18T12:51:40.425721Z",
     "shell.execute_reply": "2023-04-18T12:51:40.424365Z"
    },
    "papermill": {
     "duration": 0.21507,
     "end_time": "2023-04-18T12:51:40.428544",
     "exception": false,
     "start_time": "2023-04-18T12:51:40.213474",
     "status": "completed"
    },
    "tags": []
   },
   "outputs": [
    {
     "name": "stderr",
     "output_type": "stream",
     "text": [
      "/opt/conda/lib/python3.7/site-packages/ipykernel_launcher.py:2: SettingWithCopyWarning: \n",
      "A value is trying to be set on a copy of a slice from a DataFrame\n",
      "\n",
      "See the caveats in the documentation: https://pandas.pydata.org/pandas-docs/stable/user_guide/indexing.html#returning-a-view-versus-a-copy\n",
      "  \n"
     ]
    }
   ],
   "source": [
    "for i in range(len(train_2019['Residual error'])):\n",
    "    train_2019['Residual error'][i] = train_2019.iloc[i]['Happiness Score'] - train_2019.iloc[i][['GDP per capita', 'Healthy Life Expectancy', 'Social support', 'Freedom to make life choices', 'Generosity', 'Corruption Perception']].sum()"
   ]
  },
  {
   "cell_type": "markdown",
   "id": "07a07a5f",
   "metadata": {
    "papermill": {
     "duration": 0.004992,
     "end_time": "2023-04-18T12:51:40.438804",
     "exception": false,
     "start_time": "2023-04-18T12:51:40.433812",
     "status": "completed"
    },
    "tags": []
   },
   "source": [
    "# 데이터 합치기"
   ]
  },
  {
   "cell_type": "code",
   "execution_count": 7,
   "id": "c4805428",
   "metadata": {
    "execution": {
     "iopub.execute_input": "2023-04-18T12:51:40.450964Z",
     "iopub.status.busy": "2023-04-18T12:51:40.450545Z",
     "iopub.status.idle": "2023-04-18T12:51:40.467931Z",
     "shell.execute_reply": "2023-04-18T12:51:40.466716Z"
    },
    "papermill": {
     "duration": 0.026755,
     "end_time": "2023-04-18T12:51:40.470707",
     "exception": false,
     "start_time": "2023-04-18T12:51:40.443952",
     "status": "completed"
    },
    "tags": []
   },
   "outputs": [],
   "source": [
    "train = pd.concat([train_2015,train_2016,train_2017,train_2018,train_2019,train_2020],axis=0)\n",
    "test = pd.concat([test_2021,test_2022],axis=0)"
   ]
  },
  {
   "cell_type": "code",
   "execution_count": 8,
   "id": "b15ad825",
   "metadata": {
    "execution": {
     "iopub.execute_input": "2023-04-18T12:51:40.482920Z",
     "iopub.status.busy": "2023-04-18T12:51:40.482531Z",
     "iopub.status.idle": "2023-04-18T12:51:40.490875Z",
     "shell.execute_reply": "2023-04-18T12:51:40.489902Z"
    },
    "papermill": {
     "duration": 0.01747,
     "end_time": "2023-04-18T12:51:40.493407",
     "exception": false,
     "start_time": "2023-04-18T12:51:40.475937",
     "status": "completed"
    },
    "tags": []
   },
   "outputs": [],
   "source": [
    "train = train[['GDP per capita', 'Healthy Life Expectancy', 'Social support', 'Freedom to make life choices', 'Generosity', 'Corruption Perception', 'Residual error','Happiness Score']]\n",
    "test = test[['GDP per capita', 'Healthy Life Expectancy', 'Social support', 'Freedom to make life choices', 'Generosity', 'Corruption Perception', 'Residual error']]"
   ]
  },
  {
   "cell_type": "markdown",
   "id": "0f2caf04",
   "metadata": {
    "papermill": {
     "duration": 0.004934,
     "end_time": "2023-04-18T12:51:40.503720",
     "exception": false,
     "start_time": "2023-04-18T12:51:40.498786",
     "status": "completed"
    },
    "tags": []
   },
   "source": [
    "# 독립,종속 데이터 나누기"
   ]
  },
  {
   "cell_type": "code",
   "execution_count": 9,
   "id": "a65c9a82",
   "metadata": {
    "execution": {
     "iopub.execute_input": "2023-04-18T12:51:40.516238Z",
     "iopub.status.busy": "2023-04-18T12:51:40.515790Z",
     "iopub.status.idle": "2023-04-18T12:51:40.522694Z",
     "shell.execute_reply": "2023-04-18T12:51:40.521393Z"
    },
    "papermill": {
     "duration": 0.016264,
     "end_time": "2023-04-18T12:51:40.525179",
     "exception": false,
     "start_time": "2023-04-18T12:51:40.508915",
     "status": "completed"
    },
    "tags": []
   },
   "outputs": [],
   "source": [
    "x=train[['GDP per capita', 'Healthy Life Expectancy', 'Social support', 'Freedom to make life choices', 'Generosity', 'Corruption Perception', 'Residual error']]\n",
    "y=train['Happiness Score']"
   ]
  },
  {
   "cell_type": "code",
   "execution_count": 10,
   "id": "7fcd3212",
   "metadata": {
    "execution": {
     "iopub.execute_input": "2023-04-18T12:51:40.538248Z",
     "iopub.status.busy": "2023-04-18T12:51:40.537794Z",
     "iopub.status.idle": "2023-04-18T12:51:40.553786Z",
     "shell.execute_reply": "2023-04-18T12:51:40.552616Z"
    },
    "papermill": {
     "duration": 0.025328,
     "end_time": "2023-04-18T12:51:40.556510",
     "exception": false,
     "start_time": "2023-04-18T12:51:40.531182",
     "status": "completed"
    },
    "tags": []
   },
   "outputs": [
    {
     "name": "stdout",
     "output_type": "stream",
     "text": [
      "<class 'pandas.core.frame.DataFrame'>\n",
      "Int64Index: 935 entries, 0 to 152\n",
      "Data columns (total 7 columns):\n",
      " #   Column                        Non-Null Count  Dtype  \n",
      "---  ------                        --------------  -----  \n",
      " 0   GDP per capita                935 non-null    float64\n",
      " 1   Healthy Life Expectancy       935 non-null    float64\n",
      " 2   Social support                935 non-null    float64\n",
      " 3   Freedom to make life choices  935 non-null    float64\n",
      " 4   Generosity                    935 non-null    float64\n",
      " 5   Corruption Perception         934 non-null    float64\n",
      " 6   Residual error                935 non-null    float64\n",
      "dtypes: float64(7)\n",
      "memory usage: 58.4 KB\n"
     ]
    }
   ],
   "source": [
    "#데이터 type및 null 확인하기\n",
    "x.info()"
   ]
  },
  {
   "cell_type": "code",
   "execution_count": 11,
   "id": "63aaaf79",
   "metadata": {
    "execution": {
     "iopub.execute_input": "2023-04-18T12:51:40.569457Z",
     "iopub.status.busy": "2023-04-18T12:51:40.569063Z",
     "iopub.status.idle": "2023-04-18T12:51:41.872347Z",
     "shell.execute_reply": "2023-04-18T12:51:41.871084Z"
    },
    "papermill": {
     "duration": 1.314012,
     "end_time": "2023-04-18T12:51:41.876022",
     "exception": false,
     "start_time": "2023-04-18T12:51:40.562010",
     "status": "completed"
    },
    "tags": []
   },
   "outputs": [],
   "source": [
    "#결측치가 있음으로 채워주겠음\n",
    "from sklearn.impute import SimpleImputer\n",
    "si = SimpleImputer()\n",
    "x = si.fit_transform(x)"
   ]
  },
  {
   "cell_type": "code",
   "execution_count": 12,
   "id": "ee49c714",
   "metadata": {
    "execution": {
     "iopub.execute_input": "2023-04-18T12:51:41.895548Z",
     "iopub.status.busy": "2023-04-18T12:51:41.894501Z",
     "iopub.status.idle": "2023-04-18T12:51:41.909032Z",
     "shell.execute_reply": "2023-04-18T12:51:41.908108Z"
    },
    "papermill": {
     "duration": 0.026747,
     "end_time": "2023-04-18T12:51:41.911596",
     "exception": false,
     "start_time": "2023-04-18T12:51:41.884849",
     "status": "completed"
    },
    "tags": []
   },
   "outputs": [
    {
     "name": "stderr",
     "output_type": "stream",
     "text": [
      "/opt/conda/lib/python3.7/site-packages/sklearn/base.py:444: UserWarning: X has feature names, but StandardScaler was fitted without feature names\n",
      "  f\"X has feature names, but {self.__class__.__name__} was fitted without\"\n"
     ]
    }
   ],
   "source": [
    "#scaling 해주기\n",
    "from sklearn.preprocessing import StandardScaler\n",
    "ss = StandardScaler()\n",
    "x_st = ss.fit_transform(x)\n",
    "test_st = ss.transform(test)"
   ]
  },
  {
   "cell_type": "code",
   "execution_count": 13,
   "id": "eafc9fb6",
   "metadata": {
    "execution": {
     "iopub.execute_input": "2023-04-18T12:51:41.924731Z",
     "iopub.status.busy": "2023-04-18T12:51:41.923872Z",
     "iopub.status.idle": "2023-04-18T12:51:41.943432Z",
     "shell.execute_reply": "2023-04-18T12:51:41.941941Z"
    },
    "papermill": {
     "duration": 0.028945,
     "end_time": "2023-04-18T12:51:41.946027",
     "exception": false,
     "start_time": "2023-04-18T12:51:41.917082",
     "status": "completed"
    },
    "tags": []
   },
   "outputs": [
    {
     "name": "stdout",
     "output_type": "stream",
     "text": [
      "0.0\n"
     ]
    }
   ],
   "source": [
    "# 모델 학습 및 평가\n",
    "from sklearn.neighbors import KNeighborsRegressor\n",
    "from sklearn.metrics import mean_absolute_error\n",
    "model = KNeighborsRegressor(weights='distance')\n",
    "model.fit(x_st,y)\n",
    "print(mean_absolute_error(y,model.predict(x_st)))"
   ]
  },
  {
   "cell_type": "code",
   "execution_count": 14,
   "id": "24b4d62e",
   "metadata": {
    "execution": {
     "iopub.execute_input": "2023-04-18T12:51:41.959140Z",
     "iopub.status.busy": "2023-04-18T12:51:41.958700Z",
     "iopub.status.idle": "2023-04-18T12:51:41.983315Z",
     "shell.execute_reply": "2023-04-18T12:51:41.981896Z"
    },
    "papermill": {
     "duration": 0.034893,
     "end_time": "2023-04-18T12:51:41.986644",
     "exception": false,
     "start_time": "2023-04-18T12:51:41.951751",
     "status": "completed"
    },
    "tags": []
   },
   "outputs": [
    {
     "data": {
      "text/html": [
       "<div>\n",
       "<style scoped>\n",
       "    .dataframe tbody tr th:only-of-type {\n",
       "        vertical-align: middle;\n",
       "    }\n",
       "\n",
       "    .dataframe tbody tr th {\n",
       "        vertical-align: top;\n",
       "    }\n",
       "\n",
       "    .dataframe thead th {\n",
       "        text-align: right;\n",
       "    }\n",
       "</style>\n",
       "<table border=\"1\" class=\"dataframe\">\n",
       "  <thead>\n",
       "    <tr style=\"text-align: right;\">\n",
       "      <th></th>\n",
       "      <th>id</th>\n",
       "      <th>score</th>\n",
       "    </tr>\n",
       "  </thead>\n",
       "  <tbody>\n",
       "    <tr>\n",
       "      <th>0</th>\n",
       "      <td>0</td>\n",
       "      <td>0</td>\n",
       "    </tr>\n",
       "    <tr>\n",
       "      <th>1</th>\n",
       "      <td>1</td>\n",
       "      <td>0</td>\n",
       "    </tr>\n",
       "    <tr>\n",
       "      <th>2</th>\n",
       "      <td>2</td>\n",
       "      <td>0</td>\n",
       "    </tr>\n",
       "    <tr>\n",
       "      <th>3</th>\n",
       "      <td>3</td>\n",
       "      <td>0</td>\n",
       "    </tr>\n",
       "    <tr>\n",
       "      <th>4</th>\n",
       "      <td>4</td>\n",
       "      <td>0</td>\n",
       "    </tr>\n",
       "  </tbody>\n",
       "</table>\n",
       "</div>"
      ],
      "text/plain": [
       "   id  score\n",
       "0   0      0\n",
       "1   1      0\n",
       "2   2      0\n",
       "3   3      0\n",
       "4   4      0"
      ]
     },
     "execution_count": 14,
     "metadata": {},
     "output_type": "execute_result"
    }
   ],
   "source": [
    "#submit 형태 확인\n",
    "submit.head()"
   ]
  },
  {
   "cell_type": "code",
   "execution_count": 15,
   "id": "943e742e",
   "metadata": {
    "execution": {
     "iopub.execute_input": "2023-04-18T12:51:42.004763Z",
     "iopub.status.busy": "2023-04-18T12:51:42.003965Z",
     "iopub.status.idle": "2023-04-18T12:51:42.026066Z",
     "shell.execute_reply": "2023-04-18T12:51:42.024833Z"
    },
    "papermill": {
     "duration": 0.034889,
     "end_time": "2023-04-18T12:51:42.029297",
     "exception": false,
     "start_time": "2023-04-18T12:51:41.994408",
     "status": "completed"
    },
    "tags": []
   },
   "outputs": [],
   "source": [
    "# 제출\n",
    "submit['score']=model.predict(test_st)\n",
    "submit.to_csv(\"submit.csv\",mode='w',header=True,index=False)"
   ]
  },
  {
   "cell_type": "code",
   "execution_count": null,
   "id": "3d66ed0b",
   "metadata": {
    "papermill": {
     "duration": 0.005802,
     "end_time": "2023-04-18T12:51:42.043423",
     "exception": false,
     "start_time": "2023-04-18T12:51:42.037621",
     "status": "completed"
    },
    "tags": []
   },
   "outputs": [],
   "source": []
  }
 ],
 "metadata": {
  "kernelspec": {
   "display_name": "Python 3",
   "language": "python",
   "name": "python3"
  },
  "language_info": {
   "codemirror_mode": {
    "name": "ipython",
    "version": 3
   },
   "file_extension": ".py",
   "mimetype": "text/x-python",
   "name": "python",
   "nbconvert_exporter": "python",
   "pygments_lexer": "ipython3",
   "version": "3.7.12"
  },
  "papermill": {
   "default_parameters": {},
   "duration": 12.911325,
   "end_time": "2023-04-18T12:51:42.770713",
   "environment_variables": {},
   "exception": null,
   "input_path": "__notebook__.ipynb",
   "output_path": "__notebook__.ipynb",
   "parameters": {},
   "start_time": "2023-04-18T12:51:29.859388",
   "version": "2.4.0"
  }
 },
 "nbformat": 4,
 "nbformat_minor": 5
}
