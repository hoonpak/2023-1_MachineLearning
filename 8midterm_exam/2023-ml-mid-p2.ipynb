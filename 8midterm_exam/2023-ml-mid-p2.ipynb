{
 "cells": [
  {
   "cell_type": "code",
   "execution_count": 1,
   "id": "1894a9f3",
   "metadata": {
    "_cell_guid": "b1076dfc-b9ad-4769-8c92-a6c4dae69d19",
    "_uuid": "8f2839f25d086af736a60e9eeb907d3b93b6e0e5",
    "execution": {
     "iopub.execute_input": "2023-04-27T03:36:04.960524Z",
     "iopub.status.busy": "2023-04-27T03:36:04.960097Z",
     "iopub.status.idle": "2023-04-27T03:36:04.975484Z",
     "shell.execute_reply": "2023-04-27T03:36:04.974156Z"
    },
    "papermill": {
     "duration": 0.029728,
     "end_time": "2023-04-27T03:36:04.978232",
     "exception": false,
     "start_time": "2023-04-27T03:36:04.948504",
     "status": "completed"
    },
    "tags": []
   },
   "outputs": [
    {
     "name": "stdout",
     "output_type": "stream",
     "text": [
      "/kaggle/input/2023-ml-midterm-p2/train.csv\n",
      "/kaggle/input/2023-ml-midterm-p2/test.csv\n",
      "/kaggle/input/2023-ml-midterm-p2/submit_sample.csv\n"
     ]
    }
   ],
   "source": [
    "# This Python 3 environment comes with many helpful analytics libraries installed\n",
    "# It is defined by the kaggle/python Docker image: https://github.com/kaggle/docker-python\n",
    "# For example, here's several helpful packages to load\n",
    "\n",
    "import numpy as np # linear algebra\n",
    "import pandas as pd # data processing, CSV file I/O (e.g. pd.read_csv)\n",
    "\n",
    "# Input data files are available in the read-only \"../input/\" directory\n",
    "# For example, running this (by clicking run or pressing Shift+Enter) will list all files under the input directory\n",
    "\n",
    "import os\n",
    "for dirname, _, filenames in os.walk('/kaggle/input'):\n",
    "    for filename in filenames:\n",
    "        print(os.path.join(dirname, filename))\n",
    "\n",
    "# You can write up to 20GB to the current directory (/kaggle/working/) that gets preserved as output when you create a version using \"Save & Run All\" \n",
    "# You can also write temporary files to /kaggle/temp/, but they won't be saved outside of the current session"
   ]
  },
  {
   "cell_type": "code",
   "execution_count": 2,
   "id": "386538d1",
   "metadata": {
    "execution": {
     "iopub.execute_input": "2023-04-27T03:36:04.998042Z",
     "iopub.status.busy": "2023-04-27T03:36:04.997294Z",
     "iopub.status.idle": "2023-04-27T03:36:05.003223Z",
     "shell.execute_reply": "2023-04-27T03:36:05.001980Z"
    },
    "papermill": {
     "duration": 0.018737,
     "end_time": "2023-04-27T03:36:05.005902",
     "exception": false,
     "start_time": "2023-04-27T03:36:04.987165",
     "status": "completed"
    },
    "tags": []
   },
   "outputs": [],
   "source": [
    "#랜덤시드 고정\n",
    "import random\n",
    "import os\n",
    "seed = 42\n",
    "random.seed(seed)\n",
    "np.random.seed(seed)\n",
    "os.environ[\"PYTHONHASHSEED\"] = str(seed)"
   ]
  },
  {
   "cell_type": "code",
   "execution_count": 3,
   "id": "6d6b672d",
   "metadata": {
    "execution": {
     "iopub.execute_input": "2023-04-27T03:36:05.025125Z",
     "iopub.status.busy": "2023-04-27T03:36:05.024702Z",
     "iopub.status.idle": "2023-04-27T03:36:05.052632Z",
     "shell.execute_reply": "2023-04-27T03:36:05.051256Z"
    },
    "papermill": {
     "duration": 0.041238,
     "end_time": "2023-04-27T03:36:05.055643",
     "exception": false,
     "start_time": "2023-04-27T03:36:05.014405",
     "status": "completed"
    },
    "tags": []
   },
   "outputs": [],
   "source": [
    "#데이터 불러오기\n",
    "train = pd.read_csv(\"/kaggle/input/2023-ml-midterm-p2/train.csv\")\n",
    "test = pd.read_csv(\"/kaggle/input/2023-ml-midterm-p2/test.csv\")\n",
    "submit = pd.read_csv(\"/kaggle/input/2023-ml-midterm-p2/submit_sample.csv\")"
   ]
  },
  {
   "cell_type": "code",
   "execution_count": 4,
   "id": "a371de15",
   "metadata": {
    "execution": {
     "iopub.execute_input": "2023-04-27T03:36:05.075339Z",
     "iopub.status.busy": "2023-04-27T03:36:05.074031Z",
     "iopub.status.idle": "2023-04-27T03:36:05.107452Z",
     "shell.execute_reply": "2023-04-27T03:36:05.106171Z"
    },
    "papermill": {
     "duration": 0.046245,
     "end_time": "2023-04-27T03:36:05.110456",
     "exception": false,
     "start_time": "2023-04-27T03:36:05.064211",
     "status": "completed"
    },
    "tags": []
   },
   "outputs": [
    {
     "data": {
      "text/html": [
       "<div>\n",
       "<style scoped>\n",
       "    .dataframe tbody tr th:only-of-type {\n",
       "        vertical-align: middle;\n",
       "    }\n",
       "\n",
       "    .dataframe tbody tr th {\n",
       "        vertical-align: top;\n",
       "    }\n",
       "\n",
       "    .dataframe thead th {\n",
       "        text-align: right;\n",
       "    }\n",
       "</style>\n",
       "<table border=\"1\" class=\"dataframe\">\n",
       "  <thead>\n",
       "    <tr style=\"text-align: right;\">\n",
       "      <th></th>\n",
       "      <th>index</th>\n",
       "      <th>age</th>\n",
       "      <th>sex</th>\n",
       "      <th>cp</th>\n",
       "      <th>trestbps</th>\n",
       "      <th>chol</th>\n",
       "      <th>fbs</th>\n",
       "      <th>restecg</th>\n",
       "      <th>thalach</th>\n",
       "      <th>exang</th>\n",
       "      <th>oldpeak</th>\n",
       "      <th>slope</th>\n",
       "      <th>ca</th>\n",
       "      <th>thal</th>\n",
       "      <th>target</th>\n",
       "    </tr>\n",
       "  </thead>\n",
       "  <tbody>\n",
       "    <tr>\n",
       "      <th>0</th>\n",
       "      <td>0</td>\n",
       "      <td>63</td>\n",
       "      <td>1</td>\n",
       "      <td>1</td>\n",
       "      <td>145</td>\n",
       "      <td>233</td>\n",
       "      <td>1</td>\n",
       "      <td>2</td>\n",
       "      <td>150</td>\n",
       "      <td>0</td>\n",
       "      <td>2.3</td>\n",
       "      <td>3</td>\n",
       "      <td>0</td>\n",
       "      <td>6</td>\n",
       "      <td>0</td>\n",
       "    </tr>\n",
       "    <tr>\n",
       "      <th>1</th>\n",
       "      <td>1</td>\n",
       "      <td>67</td>\n",
       "      <td>1</td>\n",
       "      <td>4</td>\n",
       "      <td>160</td>\n",
       "      <td>286</td>\n",
       "      <td>0</td>\n",
       "      <td>2</td>\n",
       "      <td>108</td>\n",
       "      <td>1</td>\n",
       "      <td>1.5</td>\n",
       "      <td>2</td>\n",
       "      <td>3</td>\n",
       "      <td>3</td>\n",
       "      <td>2</td>\n",
       "    </tr>\n",
       "    <tr>\n",
       "      <th>2</th>\n",
       "      <td>2</td>\n",
       "      <td>67</td>\n",
       "      <td>1</td>\n",
       "      <td>4</td>\n",
       "      <td>120</td>\n",
       "      <td>229</td>\n",
       "      <td>0</td>\n",
       "      <td>2</td>\n",
       "      <td>129</td>\n",
       "      <td>1</td>\n",
       "      <td>2.6</td>\n",
       "      <td>2</td>\n",
       "      <td>2</td>\n",
       "      <td>7</td>\n",
       "      <td>1</td>\n",
       "    </tr>\n",
       "    <tr>\n",
       "      <th>3</th>\n",
       "      <td>4</td>\n",
       "      <td>41</td>\n",
       "      <td>0</td>\n",
       "      <td>2</td>\n",
       "      <td>130</td>\n",
       "      <td>204</td>\n",
       "      <td>0</td>\n",
       "      <td>2</td>\n",
       "      <td>172</td>\n",
       "      <td>0</td>\n",
       "      <td>1.4</td>\n",
       "      <td>1</td>\n",
       "      <td>0</td>\n",
       "      <td>3</td>\n",
       "      <td>0</td>\n",
       "    </tr>\n",
       "    <tr>\n",
       "      <th>4</th>\n",
       "      <td>5</td>\n",
       "      <td>56</td>\n",
       "      <td>1</td>\n",
       "      <td>2</td>\n",
       "      <td>120</td>\n",
       "      <td>236</td>\n",
       "      <td>0</td>\n",
       "      <td>0</td>\n",
       "      <td>178</td>\n",
       "      <td>0</td>\n",
       "      <td>0.8</td>\n",
       "      <td>1</td>\n",
       "      <td>0</td>\n",
       "      <td>3</td>\n",
       "      <td>0</td>\n",
       "    </tr>\n",
       "  </tbody>\n",
       "</table>\n",
       "</div>"
      ],
      "text/plain": [
       "   index  age  sex  cp  trestbps  chol  fbs  restecg  thalach  exang  oldpeak  \\\n",
       "0      0   63    1   1       145   233    1        2      150      0      2.3   \n",
       "1      1   67    1   4       160   286    0        2      108      1      1.5   \n",
       "2      2   67    1   4       120   229    0        2      129      1      2.6   \n",
       "3      4   41    0   2       130   204    0        2      172      0      1.4   \n",
       "4      5   56    1   2       120   236    0        0      178      0      0.8   \n",
       "\n",
       "   slope ca thal  target  \n",
       "0      3  0    6       0  \n",
       "1      2  3    3       2  \n",
       "2      2  2    7       1  \n",
       "3      1  0    3       0  \n",
       "4      1  0    3       0  "
      ]
     },
     "execution_count": 4,
     "metadata": {},
     "output_type": "execute_result"
    }
   ],
   "source": [
    "#데이터 생김새 확인하기\n",
    "train.head()"
   ]
  },
  {
   "cell_type": "code",
   "execution_count": 5,
   "id": "5f84860e",
   "metadata": {
    "execution": {
     "iopub.execute_input": "2023-04-27T03:36:05.130667Z",
     "iopub.status.busy": "2023-04-27T03:36:05.129951Z",
     "iopub.status.idle": "2023-04-27T03:36:05.142726Z",
     "shell.execute_reply": "2023-04-27T03:36:05.141466Z"
    },
    "papermill": {
     "duration": 0.025922,
     "end_time": "2023-04-27T03:36:05.145317",
     "exception": false,
     "start_time": "2023-04-27T03:36:05.119395",
     "status": "completed"
    },
    "tags": []
   },
   "outputs": [],
   "source": [
    "#데이터에 필요없는 칼럼 없애주기\n",
    "train.drop(['index'],axis=1,inplace=True)\n",
    "test.drop(['index'],axis=1,inplace=True)"
   ]
  },
  {
   "cell_type": "code",
   "execution_count": 6,
   "id": "48cc054b",
   "metadata": {
    "execution": {
     "iopub.execute_input": "2023-04-27T03:36:05.166761Z",
     "iopub.status.busy": "2023-04-27T03:36:05.165705Z",
     "iopub.status.idle": "2023-04-27T03:36:05.193846Z",
     "shell.execute_reply": "2023-04-27T03:36:05.192272Z"
    },
    "papermill": {
     "duration": 0.043441,
     "end_time": "2023-04-27T03:36:05.197568",
     "exception": false,
     "start_time": "2023-04-27T03:36:05.154127",
     "status": "completed"
    },
    "tags": []
   },
   "outputs": [
    {
     "name": "stdout",
     "output_type": "stream",
     "text": [
      "<class 'pandas.core.frame.DataFrame'>\n",
      "RangeIndex: 242 entries, 0 to 241\n",
      "Data columns (total 14 columns):\n",
      " #   Column    Non-Null Count  Dtype  \n",
      "---  ------    --------------  -----  \n",
      " 0   age       242 non-null    int64  \n",
      " 1   sex       242 non-null    int64  \n",
      " 2   cp        242 non-null    int64  \n",
      " 3   trestbps  242 non-null    int64  \n",
      " 4   chol      242 non-null    int64  \n",
      " 5   fbs       242 non-null    int64  \n",
      " 6   restecg   242 non-null    int64  \n",
      " 7   thalach   242 non-null    int64  \n",
      " 8   exang     242 non-null    int64  \n",
      " 9   oldpeak   242 non-null    float64\n",
      " 10  slope     242 non-null    int64  \n",
      " 11  ca        242 non-null    object \n",
      " 12  thal      242 non-null    object \n",
      " 13  target    242 non-null    int64  \n",
      "dtypes: float64(1), int64(11), object(2)\n",
      "memory usage: 26.6+ KB\n"
     ]
    }
   ],
   "source": [
    "#결측치 및 type확인하기\n",
    "train.info()"
   ]
  },
  {
   "cell_type": "code",
   "execution_count": 7,
   "id": "65bb9f8f",
   "metadata": {
    "execution": {
     "iopub.execute_input": "2023-04-27T03:36:05.223124Z",
     "iopub.status.busy": "2023-04-27T03:36:05.221818Z",
     "iopub.status.idle": "2023-04-27T03:36:05.230741Z",
     "shell.execute_reply": "2023-04-27T03:36:05.229536Z"
    },
    "papermill": {
     "duration": 0.026013,
     "end_time": "2023-04-27T03:36:05.233763",
     "exception": false,
     "start_time": "2023-04-27T03:36:05.207750",
     "status": "completed"
    },
    "tags": []
   },
   "outputs": [
    {
     "data": {
      "text/plain": [
       "array(['0', '3', '2', '1', '?'], dtype=object)"
      ]
     },
     "execution_count": 7,
     "metadata": {},
     "output_type": "execute_result"
    }
   ],
   "source": [
    "#ca 전처리하기\n",
    "#수치형인데 object여서 유일한 값들 확인\n",
    "train['ca'].unique()"
   ]
  },
  {
   "cell_type": "code",
   "execution_count": 8,
   "id": "7a8b7e69",
   "metadata": {
    "execution": {
     "iopub.execute_input": "2023-04-27T03:36:05.262062Z",
     "iopub.status.busy": "2023-04-27T03:36:05.260645Z",
     "iopub.status.idle": "2023-04-27T03:36:05.270765Z",
     "shell.execute_reply": "2023-04-27T03:36:05.269159Z"
    },
    "papermill": {
     "duration": 0.025288,
     "end_time": "2023-04-27T03:36:05.273490",
     "exception": false,
     "start_time": "2023-04-27T03:36:05.248202",
     "status": "completed"
    },
    "tags": []
   },
   "outputs": [
    {
     "name": "stdout",
     "output_type": "stream",
     "text": [
      "144\n",
      "53\n",
      "28\n",
      "16\n"
     ]
    }
   ],
   "source": [
    "#최빈값 확인\n",
    "print(sum(train['ca']=='0'))\n",
    "print(sum(train['ca']=='1'))\n",
    "print(sum(train['ca']=='2'))\n",
    "print(sum(train['ca']=='3'))"
   ]
  },
  {
   "cell_type": "code",
   "execution_count": 9,
   "id": "3db80c89",
   "metadata": {
    "execution": {
     "iopub.execute_input": "2023-04-27T03:36:05.293819Z",
     "iopub.status.busy": "2023-04-27T03:36:05.293007Z",
     "iopub.status.idle": "2023-04-27T03:36:05.301252Z",
     "shell.execute_reply": "2023-04-27T03:36:05.299951Z"
    },
    "papermill": {
     "duration": 0.02116,
     "end_time": "2023-04-27T03:36:05.303702",
     "exception": false,
     "start_time": "2023-04-27T03:36:05.282542",
     "status": "completed"
    },
    "tags": []
   },
   "outputs": [],
   "source": [
    "#\"?\"는 0으로 바꿀거임\n",
    "train.replace({\"?\":'0'},inplace=True)\n",
    "test.replace({\"?\":'0'},inplace=True)"
   ]
  },
  {
   "cell_type": "code",
   "execution_count": 10,
   "id": "df015b6d",
   "metadata": {
    "execution": {
     "iopub.execute_input": "2023-04-27T03:36:05.324615Z",
     "iopub.status.busy": "2023-04-27T03:36:05.323738Z",
     "iopub.status.idle": "2023-04-27T03:36:05.330509Z",
     "shell.execute_reply": "2023-04-27T03:36:05.329219Z"
    },
    "papermill": {
     "duration": 0.020007,
     "end_time": "2023-04-27T03:36:05.333165",
     "exception": false,
     "start_time": "2023-04-27T03:36:05.313158",
     "status": "completed"
    },
    "tags": []
   },
   "outputs": [
    {
     "name": "stdout",
     "output_type": "stream",
     "text": [
      "0\n"
     ]
    }
   ],
   "source": [
    "#\"?\"있는지 확인\n",
    "print(sum(train['ca']=='?'))"
   ]
  },
  {
   "cell_type": "code",
   "execution_count": 11,
   "id": "685b1c86",
   "metadata": {
    "execution": {
     "iopub.execute_input": "2023-04-27T03:36:05.353686Z",
     "iopub.status.busy": "2023-04-27T03:36:05.352917Z",
     "iopub.status.idle": "2023-04-27T03:36:05.361145Z",
     "shell.execute_reply": "2023-04-27T03:36:05.359761Z"
    },
    "papermill": {
     "duration": 0.021235,
     "end_time": "2023-04-27T03:36:05.363709",
     "exception": false,
     "start_time": "2023-04-27T03:36:05.342474",
     "status": "completed"
    },
    "tags": []
   },
   "outputs": [
    {
     "data": {
      "text/plain": [
       "array(['6', '3', '7', '0'], dtype=object)"
      ]
     },
     "execution_count": 11,
     "metadata": {},
     "output_type": "execute_result"
    }
   ],
   "source": [
    "#thal전처리하기\n",
    "#수치형인데 object여서 유일한 값들 확인\n",
    "train['thal'].unique()"
   ]
  },
  {
   "cell_type": "code",
   "execution_count": 12,
   "id": "48a3b8dc",
   "metadata": {
    "execution": {
     "iopub.execute_input": "2023-04-27T03:36:05.384632Z",
     "iopub.status.busy": "2023-04-27T03:36:05.384130Z",
     "iopub.status.idle": "2023-04-27T03:36:05.393425Z",
     "shell.execute_reply": "2023-04-27T03:36:05.392218Z"
    },
    "papermill": {
     "duration": 0.022844,
     "end_time": "2023-04-27T03:36:05.395955",
     "exception": false,
     "start_time": "2023-04-27T03:36:05.373111",
     "status": "completed"
    },
    "tags": []
   },
   "outputs": [],
   "source": [
    "#object모두 수치형으로 바꾸기\n",
    "train['ca'] = train['ca'].astype(\"int64\")\n",
    "test['ca'] = test['ca'].astype(\"int64\")\n",
    "train['thal'] = train['thal'].astype(\"int64\")\n",
    "test['thal'] = test['thal'].astype(\"int64\")"
   ]
  },
  {
   "cell_type": "code",
   "execution_count": 13,
   "id": "c30a29af",
   "metadata": {
    "execution": {
     "iopub.execute_input": "2023-04-27T03:36:05.416394Z",
     "iopub.status.busy": "2023-04-27T03:36:05.415985Z",
     "iopub.status.idle": "2023-04-27T03:36:05.431160Z",
     "shell.execute_reply": "2023-04-27T03:36:05.429385Z"
    },
    "papermill": {
     "duration": 0.028932,
     "end_time": "2023-04-27T03:36:05.434072",
     "exception": false,
     "start_time": "2023-04-27T03:36:05.405140",
     "status": "completed"
    },
    "tags": []
   },
   "outputs": [
    {
     "name": "stdout",
     "output_type": "stream",
     "text": [
      "<class 'pandas.core.frame.DataFrame'>\n",
      "RangeIndex: 242 entries, 0 to 241\n",
      "Data columns (total 14 columns):\n",
      " #   Column    Non-Null Count  Dtype  \n",
      "---  ------    --------------  -----  \n",
      " 0   age       242 non-null    int64  \n",
      " 1   sex       242 non-null    int64  \n",
      " 2   cp        242 non-null    int64  \n",
      " 3   trestbps  242 non-null    int64  \n",
      " 4   chol      242 non-null    int64  \n",
      " 5   fbs       242 non-null    int64  \n",
      " 6   restecg   242 non-null    int64  \n",
      " 7   thalach   242 non-null    int64  \n",
      " 8   exang     242 non-null    int64  \n",
      " 9   oldpeak   242 non-null    float64\n",
      " 10  slope     242 non-null    int64  \n",
      " 11  ca        242 non-null    int64  \n",
      " 12  thal      242 non-null    int64  \n",
      " 13  target    242 non-null    int64  \n",
      "dtypes: float64(1), int64(13)\n",
      "memory usage: 26.6 KB\n"
     ]
    }
   ],
   "source": [
    "#확인하기\n",
    "train.info()"
   ]
  },
  {
   "cell_type": "code",
   "execution_count": 14,
   "id": "408aec0a",
   "metadata": {
    "execution": {
     "iopub.execute_input": "2023-04-27T03:36:05.455430Z",
     "iopub.status.busy": "2023-04-27T03:36:05.454992Z",
     "iopub.status.idle": "2023-04-27T03:36:05.462282Z",
     "shell.execute_reply": "2023-04-27T03:36:05.460965Z"
    },
    "papermill": {
     "duration": 0.021404,
     "end_time": "2023-04-27T03:36:05.464938",
     "exception": false,
     "start_time": "2023-04-27T03:36:05.443534",
     "status": "completed"
    },
    "tags": []
   },
   "outputs": [],
   "source": [
    "#설명변수와 종속변수 나눠주기\n",
    "x = train.drop(['target'],axis=1)\n",
    "y = train['target']"
   ]
  },
  {
   "cell_type": "code",
   "execution_count": 15,
   "id": "2688e632",
   "metadata": {
    "execution": {
     "iopub.execute_input": "2023-04-27T03:36:05.485745Z",
     "iopub.status.busy": "2023-04-27T03:36:05.485298Z",
     "iopub.status.idle": "2023-04-27T03:36:05.493219Z",
     "shell.execute_reply": "2023-04-27T03:36:05.492334Z"
    },
    "papermill": {
     "duration": 0.020981,
     "end_time": "2023-04-27T03:36:05.495333",
     "exception": false,
     "start_time": "2023-04-27T03:36:05.474352",
     "status": "completed"
    },
    "tags": []
   },
   "outputs": [
    {
     "data": {
      "text/plain": [
       "array([0, 2, 1, 3, 4])"
      ]
     },
     "execution_count": 15,
     "metadata": {},
     "output_type": "execute_result"
    }
   ],
   "source": [
    "y.unique()"
   ]
  },
  {
   "cell_type": "code",
   "execution_count": 16,
   "id": "2c0dad39",
   "metadata": {
    "execution": {
     "iopub.execute_input": "2023-04-27T03:36:05.516167Z",
     "iopub.status.busy": "2023-04-27T03:36:05.515741Z",
     "iopub.status.idle": "2023-04-27T03:36:05.546873Z",
     "shell.execute_reply": "2023-04-27T03:36:05.545400Z"
    },
    "papermill": {
     "duration": 0.044859,
     "end_time": "2023-04-27T03:36:05.549426",
     "exception": false,
     "start_time": "2023-04-27T03:36:05.504567",
     "status": "completed"
    },
    "tags": []
   },
   "outputs": [
    {
     "name": "stderr",
     "output_type": "stream",
     "text": [
      "/opt/conda/lib/python3.7/site-packages/ipykernel_launcher.py:3: SettingWithCopyWarning: \n",
      "A value is trying to be set on a copy of a slice from a DataFrame\n",
      "\n",
      "See the caveats in the documentation: https://pandas.pydata.org/pandas-docs/stable/user_guide/indexing.html#returning-a-view-versus-a-copy\n",
      "  This is separate from the ipykernel package so we can avoid doing imports until\n"
     ]
    }
   ],
   "source": [
    "for i in range(len(y)):\n",
    "    if y[i] == 2 or y[i] == 3 or y[i] == 4:\n",
    "        y[i] = 1"
   ]
  },
  {
   "cell_type": "code",
   "execution_count": 17,
   "id": "74f3cd97",
   "metadata": {
    "execution": {
     "iopub.execute_input": "2023-04-27T03:36:05.570750Z",
     "iopub.status.busy": "2023-04-27T03:36:05.569924Z",
     "iopub.status.idle": "2023-04-27T03:36:05.577610Z",
     "shell.execute_reply": "2023-04-27T03:36:05.576335Z"
    },
    "papermill": {
     "duration": 0.020953,
     "end_time": "2023-04-27T03:36:05.580029",
     "exception": false,
     "start_time": "2023-04-27T03:36:05.559076",
     "status": "completed"
    },
    "tags": []
   },
   "outputs": [
    {
     "data": {
      "text/plain": [
       "array([0, 1])"
      ]
     },
     "execution_count": 17,
     "metadata": {},
     "output_type": "execute_result"
    }
   ],
   "source": [
    "y.unique()"
   ]
  },
  {
   "cell_type": "code",
   "execution_count": 18,
   "id": "532f4c33",
   "metadata": {
    "execution": {
     "iopub.execute_input": "2023-04-27T03:36:05.600793Z",
     "iopub.status.busy": "2023-04-27T03:36:05.600391Z",
     "iopub.status.idle": "2023-04-27T03:36:05.615045Z",
     "shell.execute_reply": "2023-04-27T03:36:05.614069Z"
    },
    "papermill": {
     "duration": 0.027699,
     "end_time": "2023-04-27T03:36:05.617226",
     "exception": false,
     "start_time": "2023-04-27T03:36:05.589527",
     "status": "completed"
    },
    "tags": []
   },
   "outputs": [
    {
     "data": {
      "text/html": [
       "<div>\n",
       "<style scoped>\n",
       "    .dataframe tbody tr th:only-of-type {\n",
       "        vertical-align: middle;\n",
       "    }\n",
       "\n",
       "    .dataframe tbody tr th {\n",
       "        vertical-align: top;\n",
       "    }\n",
       "\n",
       "    .dataframe thead th {\n",
       "        text-align: right;\n",
       "    }\n",
       "</style>\n",
       "<table border=\"1\" class=\"dataframe\">\n",
       "  <thead>\n",
       "    <tr style=\"text-align: right;\">\n",
       "      <th></th>\n",
       "      <th>age</th>\n",
       "      <th>sex</th>\n",
       "      <th>cp</th>\n",
       "      <th>trestbps</th>\n",
       "      <th>chol</th>\n",
       "      <th>fbs</th>\n",
       "      <th>restecg</th>\n",
       "      <th>thalach</th>\n",
       "      <th>exang</th>\n",
       "      <th>oldpeak</th>\n",
       "      <th>slope</th>\n",
       "      <th>ca</th>\n",
       "      <th>thal</th>\n",
       "    </tr>\n",
       "  </thead>\n",
       "  <tbody>\n",
       "    <tr>\n",
       "      <th>0</th>\n",
       "      <td>63</td>\n",
       "      <td>1</td>\n",
       "      <td>1</td>\n",
       "      <td>145</td>\n",
       "      <td>233</td>\n",
       "      <td>1</td>\n",
       "      <td>2</td>\n",
       "      <td>150</td>\n",
       "      <td>0</td>\n",
       "      <td>2.3</td>\n",
       "      <td>3</td>\n",
       "      <td>0</td>\n",
       "      <td>6</td>\n",
       "    </tr>\n",
       "    <tr>\n",
       "      <th>1</th>\n",
       "      <td>67</td>\n",
       "      <td>1</td>\n",
       "      <td>4</td>\n",
       "      <td>160</td>\n",
       "      <td>286</td>\n",
       "      <td>0</td>\n",
       "      <td>2</td>\n",
       "      <td>108</td>\n",
       "      <td>1</td>\n",
       "      <td>1.5</td>\n",
       "      <td>2</td>\n",
       "      <td>3</td>\n",
       "      <td>3</td>\n",
       "    </tr>\n",
       "    <tr>\n",
       "      <th>2</th>\n",
       "      <td>67</td>\n",
       "      <td>1</td>\n",
       "      <td>4</td>\n",
       "      <td>120</td>\n",
       "      <td>229</td>\n",
       "      <td>0</td>\n",
       "      <td>2</td>\n",
       "      <td>129</td>\n",
       "      <td>1</td>\n",
       "      <td>2.6</td>\n",
       "      <td>2</td>\n",
       "      <td>2</td>\n",
       "      <td>7</td>\n",
       "    </tr>\n",
       "    <tr>\n",
       "      <th>3</th>\n",
       "      <td>41</td>\n",
       "      <td>0</td>\n",
       "      <td>2</td>\n",
       "      <td>130</td>\n",
       "      <td>204</td>\n",
       "      <td>0</td>\n",
       "      <td>2</td>\n",
       "      <td>172</td>\n",
       "      <td>0</td>\n",
       "      <td>1.4</td>\n",
       "      <td>1</td>\n",
       "      <td>0</td>\n",
       "      <td>3</td>\n",
       "    </tr>\n",
       "    <tr>\n",
       "      <th>4</th>\n",
       "      <td>56</td>\n",
       "      <td>1</td>\n",
       "      <td>2</td>\n",
       "      <td>120</td>\n",
       "      <td>236</td>\n",
       "      <td>0</td>\n",
       "      <td>0</td>\n",
       "      <td>178</td>\n",
       "      <td>0</td>\n",
       "      <td>0.8</td>\n",
       "      <td>1</td>\n",
       "      <td>0</td>\n",
       "      <td>3</td>\n",
       "    </tr>\n",
       "  </tbody>\n",
       "</table>\n",
       "</div>"
      ],
      "text/plain": [
       "   age  sex  cp  trestbps  chol  fbs  restecg  thalach  exang  oldpeak  slope  \\\n",
       "0   63    1   1       145   233    1        2      150      0      2.3      3   \n",
       "1   67    1   4       160   286    0        2      108      1      1.5      2   \n",
       "2   67    1   4       120   229    0        2      129      1      2.6      2   \n",
       "3   41    0   2       130   204    0        2      172      0      1.4      1   \n",
       "4   56    1   2       120   236    0        0      178      0      0.8      1   \n",
       "\n",
       "   ca  thal  \n",
       "0   0     6  \n",
       "1   3     3  \n",
       "2   2     7  \n",
       "3   0     3  \n",
       "4   0     3  "
      ]
     },
     "execution_count": 18,
     "metadata": {},
     "output_type": "execute_result"
    }
   ],
   "source": [
    "x.head()"
   ]
  },
  {
   "cell_type": "code",
   "execution_count": 19,
   "id": "3e54aab0",
   "metadata": {
    "execution": {
     "iopub.execute_input": "2023-04-27T03:36:05.638491Z",
     "iopub.status.busy": "2023-04-27T03:36:05.638039Z",
     "iopub.status.idle": "2023-04-27T03:36:05.654047Z",
     "shell.execute_reply": "2023-04-27T03:36:05.652677Z"
    },
    "papermill": {
     "duration": 0.029506,
     "end_time": "2023-04-27T03:36:05.656524",
     "exception": false,
     "start_time": "2023-04-27T03:36:05.627018",
     "status": "completed"
    },
    "tags": []
   },
   "outputs": [
    {
     "data": {
      "text/html": [
       "<div>\n",
       "<style scoped>\n",
       "    .dataframe tbody tr th:only-of-type {\n",
       "        vertical-align: middle;\n",
       "    }\n",
       "\n",
       "    .dataframe tbody tr th {\n",
       "        vertical-align: top;\n",
       "    }\n",
       "\n",
       "    .dataframe thead th {\n",
       "        text-align: right;\n",
       "    }\n",
       "</style>\n",
       "<table border=\"1\" class=\"dataframe\">\n",
       "  <thead>\n",
       "    <tr style=\"text-align: right;\">\n",
       "      <th></th>\n",
       "      <th>age</th>\n",
       "      <th>sex</th>\n",
       "      <th>cp</th>\n",
       "      <th>trestbps</th>\n",
       "      <th>chol</th>\n",
       "      <th>fbs</th>\n",
       "      <th>restecg</th>\n",
       "      <th>thalach</th>\n",
       "      <th>exang</th>\n",
       "      <th>oldpeak</th>\n",
       "      <th>slope</th>\n",
       "      <th>ca</th>\n",
       "      <th>thal</th>\n",
       "    </tr>\n",
       "  </thead>\n",
       "  <tbody>\n",
       "    <tr>\n",
       "      <th>0</th>\n",
       "      <td>37</td>\n",
       "      <td>1</td>\n",
       "      <td>3</td>\n",
       "      <td>130</td>\n",
       "      <td>250</td>\n",
       "      <td>0</td>\n",
       "      <td>0</td>\n",
       "      <td>187</td>\n",
       "      <td>0</td>\n",
       "      <td>3.5</td>\n",
       "      <td>3</td>\n",
       "      <td>0</td>\n",
       "      <td>3</td>\n",
       "    </tr>\n",
       "    <tr>\n",
       "      <th>1</th>\n",
       "      <td>62</td>\n",
       "      <td>0</td>\n",
       "      <td>4</td>\n",
       "      <td>140</td>\n",
       "      <td>268</td>\n",
       "      <td>0</td>\n",
       "      <td>2</td>\n",
       "      <td>160</td>\n",
       "      <td>0</td>\n",
       "      <td>3.6</td>\n",
       "      <td>3</td>\n",
       "      <td>2</td>\n",
       "      <td>3</td>\n",
       "    </tr>\n",
       "    <tr>\n",
       "      <th>2</th>\n",
       "      <td>58</td>\n",
       "      <td>0</td>\n",
       "      <td>1</td>\n",
       "      <td>150</td>\n",
       "      <td>283</td>\n",
       "      <td>1</td>\n",
       "      <td>2</td>\n",
       "      <td>162</td>\n",
       "      <td>0</td>\n",
       "      <td>1.0</td>\n",
       "      <td>1</td>\n",
       "      <td>0</td>\n",
       "      <td>3</td>\n",
       "    </tr>\n",
       "    <tr>\n",
       "      <th>3</th>\n",
       "      <td>60</td>\n",
       "      <td>1</td>\n",
       "      <td>4</td>\n",
       "      <td>130</td>\n",
       "      <td>206</td>\n",
       "      <td>0</td>\n",
       "      <td>2</td>\n",
       "      <td>132</td>\n",
       "      <td>1</td>\n",
       "      <td>2.4</td>\n",
       "      <td>2</td>\n",
       "      <td>2</td>\n",
       "      <td>7</td>\n",
       "    </tr>\n",
       "    <tr>\n",
       "      <th>4</th>\n",
       "      <td>60</td>\n",
       "      <td>1</td>\n",
       "      <td>4</td>\n",
       "      <td>117</td>\n",
       "      <td>230</td>\n",
       "      <td>1</td>\n",
       "      <td>0</td>\n",
       "      <td>160</td>\n",
       "      <td>1</td>\n",
       "      <td>1.4</td>\n",
       "      <td>1</td>\n",
       "      <td>2</td>\n",
       "      <td>7</td>\n",
       "    </tr>\n",
       "  </tbody>\n",
       "</table>\n",
       "</div>"
      ],
      "text/plain": [
       "   age  sex  cp  trestbps  chol  fbs  restecg  thalach  exang  oldpeak  slope  \\\n",
       "0   37    1   3       130   250    0        0      187      0      3.5      3   \n",
       "1   62    0   4       140   268    0        2      160      0      3.6      3   \n",
       "2   58    0   1       150   283    1        2      162      0      1.0      1   \n",
       "3   60    1   4       130   206    0        2      132      1      2.4      2   \n",
       "4   60    1   4       117   230    1        0      160      1      1.4      1   \n",
       "\n",
       "   ca  thal  \n",
       "0   0     3  \n",
       "1   2     3  \n",
       "2   0     3  \n",
       "3   2     7  \n",
       "4   2     7  "
      ]
     },
     "execution_count": 19,
     "metadata": {},
     "output_type": "execute_result"
    }
   ],
   "source": [
    "test.head()"
   ]
  },
  {
   "cell_type": "code",
   "execution_count": 20,
   "id": "c8b74782",
   "metadata": {
    "execution": {
     "iopub.execute_input": "2023-04-27T03:36:05.678838Z",
     "iopub.status.busy": "2023-04-27T03:36:05.678396Z",
     "iopub.status.idle": "2023-04-27T03:36:06.697125Z",
     "shell.execute_reply": "2023-04-27T03:36:06.696056Z"
    },
    "papermill": {
     "duration": 1.033191,
     "end_time": "2023-04-27T03:36:06.699807",
     "exception": false,
     "start_time": "2023-04-27T03:36:05.666616",
     "status": "completed"
    },
    "tags": []
   },
   "outputs": [],
   "source": [
    "#scaling 해주기\n",
    "from sklearn.preprocessing import StandardScaler\n",
    "ss = StandardScaler()\n",
    "x_st = ss.fit_transform(x)\n",
    "test_st = ss.transform(test)"
   ]
  },
  {
   "cell_type": "code",
   "execution_count": 21,
   "id": "57685227",
   "metadata": {
    "execution": {
     "iopub.execute_input": "2023-04-27T03:36:06.722282Z",
     "iopub.status.busy": "2023-04-27T03:36:06.721371Z",
     "iopub.status.idle": "2023-04-27T03:36:06.726394Z",
     "shell.execute_reply": "2023-04-27T03:36:06.725405Z"
    },
    "papermill": {
     "duration": 0.019169,
     "end_time": "2023-04-27T03:36:06.728904",
     "exception": false,
     "start_time": "2023-04-27T03:36:06.709735",
     "status": "completed"
    },
    "tags": []
   },
   "outputs": [],
   "source": [
    "#다항 분류 문제이니 knn이나 logistic이나 da를 서야함.\n",
    "#데이터 수가 적으니 logistic먼저\n",
    "#모델 학습 및 평가도 할 거임\n",
    "# from sklearn.linear_model import LogisticRegression\n",
    "# from sklearn.metrics import accuracy_score\n",
    "# model=LogisticRegression()\n",
    "# model.fit(x_st,y)\n",
    "# accuracy_score(y, model.predict(x_st))"
   ]
  },
  {
   "cell_type": "markdown",
   "id": "989eccf9",
   "metadata": {
    "papermill": {
     "duration": 0.009733,
     "end_time": "2023-04-27T03:36:06.748690",
     "exception": false,
     "start_time": "2023-04-27T03:36:06.738957",
     "status": "completed"
    },
    "tags": []
   },
   "source": [
    "# 여러 모델 해보기"
   ]
  },
  {
   "cell_type": "code",
   "execution_count": 22,
   "id": "a7c9d50e",
   "metadata": {
    "execution": {
     "iopub.execute_input": "2023-04-27T03:36:06.770298Z",
     "iopub.status.busy": "2023-04-27T03:36:06.769809Z",
     "iopub.status.idle": "2023-04-27T03:36:06.774980Z",
     "shell.execute_reply": "2023-04-27T03:36:06.773592Z"
    },
    "papermill": {
     "duration": 0.019106,
     "end_time": "2023-04-27T03:36:06.777620",
     "exception": false,
     "start_time": "2023-04-27T03:36:06.758514",
     "status": "completed"
    },
    "tags": []
   },
   "outputs": [],
   "source": [
    "# # #가장 좋은 성능을 내는 모델\n",
    "# from sklearn.linear_model import LogisticRegression \n",
    "# from sklearn.metrics import accuracy_score\n",
    "# model=LogisticRegression(max_iter= 1000)\n",
    "# model.fit(x,y)\n",
    "# accuracy_score(y, model.predict(x))"
   ]
  },
  {
   "cell_type": "code",
   "execution_count": 23,
   "id": "70fd5961",
   "metadata": {
    "execution": {
     "iopub.execute_input": "2023-04-27T03:36:06.801549Z",
     "iopub.status.busy": "2023-04-27T03:36:06.800377Z",
     "iopub.status.idle": "2023-04-27T03:36:06.806143Z",
     "shell.execute_reply": "2023-04-27T03:36:06.804832Z"
    },
    "papermill": {
     "duration": 0.02072,
     "end_time": "2023-04-27T03:36:06.808693",
     "exception": false,
     "start_time": "2023-04-27T03:36:06.787973",
     "status": "completed"
    },
    "tags": []
   },
   "outputs": [],
   "source": [
    "# #가장 좋은 성능을 내는 모델\n",
    "# from sklearn.neighbors import KNeighborsClassifier\n",
    "# from sklearn.metrics import accuracy_score\n",
    "# model=KNeighborsClassifier(n_neighbors=10,weights='distance')\n",
    "# model.fit(x_st,y)\n",
    "# accuracy_score(y, model.predict(x_st))"
   ]
  },
  {
   "cell_type": "code",
   "execution_count": 24,
   "id": "c576439a",
   "metadata": {
    "execution": {
     "iopub.execute_input": "2023-04-27T03:36:06.831775Z",
     "iopub.status.busy": "2023-04-27T03:36:06.830643Z",
     "iopub.status.idle": "2023-04-27T03:36:06.836334Z",
     "shell.execute_reply": "2023-04-27T03:36:06.835071Z"
    },
    "papermill": {
     "duration": 0.020165,
     "end_time": "2023-04-27T03:36:06.838937",
     "exception": false,
     "start_time": "2023-04-27T03:36:06.818772",
     "status": "completed"
    },
    "tags": []
   },
   "outputs": [],
   "source": [
    "# from sklearn.discriminant_analysis import LinearDiscriminantAnalysis\n",
    "# model=LinearDiscriminantAnalysis()\n",
    "# model.fit(x,y)\n",
    "# accuracy_score(y, model.predict(x))"
   ]
  },
  {
   "cell_type": "code",
   "execution_count": 25,
   "id": "b73e9c69",
   "metadata": {
    "execution": {
     "iopub.execute_input": "2023-04-27T03:36:06.860697Z",
     "iopub.status.busy": "2023-04-27T03:36:06.860016Z",
     "iopub.status.idle": "2023-04-27T03:36:06.864544Z",
     "shell.execute_reply": "2023-04-27T03:36:06.863635Z"
    },
    "papermill": {
     "duration": 0.017795,
     "end_time": "2023-04-27T03:36:06.866667",
     "exception": false,
     "start_time": "2023-04-27T03:36:06.848872",
     "status": "completed"
    },
    "tags": []
   },
   "outputs": [],
   "source": [
    "# from sklearn.discriminant_analysis import QuadraticDiscriminantAnalysis\n",
    "# from sklearn.metrics import accuracy_score\n",
    "# model=QuadraticDiscriminantAnalysis()\n",
    "# model.fit(x,y)\n",
    "# accuracy_score(y, model.predict(x))"
   ]
  },
  {
   "cell_type": "code",
   "execution_count": 26,
   "id": "f76993a6",
   "metadata": {
    "execution": {
     "iopub.execute_input": "2023-04-27T03:36:06.888730Z",
     "iopub.status.busy": "2023-04-27T03:36:06.888274Z",
     "iopub.status.idle": "2023-04-27T03:36:07.197733Z",
     "shell.execute_reply": "2023-04-27T03:36:07.196246Z"
    },
    "papermill": {
     "duration": 0.323911,
     "end_time": "2023-04-27T03:36:07.200597",
     "exception": false,
     "start_time": "2023-04-27T03:36:06.876686",
     "status": "completed"
    },
    "tags": []
   },
   "outputs": [
    {
     "name": "stdout",
     "output_type": "stream",
     "text": [
      "0.8677685950413223\n"
     ]
    }
   ],
   "source": [
    "from sklearn import tree\n",
    "from sklearn.metrics import accuracy_score\n",
    "model = tree.DecisionTreeClassifier(max_depth=3)\n",
    "model.fit(x, y)\n",
    "print(accuracy_score(y, model.predict(x)))"
   ]
  },
  {
   "cell_type": "code",
   "execution_count": 27,
   "id": "283442e5",
   "metadata": {
    "execution": {
     "iopub.execute_input": "2023-04-27T03:36:07.223447Z",
     "iopub.status.busy": "2023-04-27T03:36:07.222214Z",
     "iopub.status.idle": "2023-04-27T03:36:07.229910Z",
     "shell.execute_reply": "2023-04-27T03:36:07.228926Z"
    },
    "papermill": {
     "duration": 0.021327,
     "end_time": "2023-04-27T03:36:07.232105",
     "exception": false,
     "start_time": "2023-04-27T03:36:07.210778",
     "status": "completed"
    },
    "tags": []
   },
   "outputs": [
    {
     "data": {
      "text/plain": [
       "3"
      ]
     },
     "execution_count": 27,
     "metadata": {},
     "output_type": "execute_result"
    }
   ],
   "source": [
    "model.get_depth()"
   ]
  },
  {
   "cell_type": "code",
   "execution_count": 28,
   "id": "77fd5237",
   "metadata": {
    "execution": {
     "iopub.execute_input": "2023-04-27T03:36:07.254271Z",
     "iopub.status.busy": "2023-04-27T03:36:07.253810Z",
     "iopub.status.idle": "2023-04-27T03:36:07.262738Z",
     "shell.execute_reply": "2023-04-27T03:36:07.261509Z"
    },
    "papermill": {
     "duration": 0.022689,
     "end_time": "2023-04-27T03:36:07.265000",
     "exception": false,
     "start_time": "2023-04-27T03:36:07.242311",
     "status": "completed"
    },
    "tags": []
   },
   "outputs": [
    {
     "data": {
      "text/plain": [
       "8"
      ]
     },
     "execution_count": 28,
     "metadata": {},
     "output_type": "execute_result"
    }
   ],
   "source": [
    "model.get_n_leaves()"
   ]
  },
  {
   "cell_type": "code",
   "execution_count": 29,
   "id": "f47b6606",
   "metadata": {
    "execution": {
     "iopub.execute_input": "2023-04-27T03:36:07.287651Z",
     "iopub.status.busy": "2023-04-27T03:36:07.287198Z",
     "iopub.status.idle": "2023-04-27T03:36:08.252590Z",
     "shell.execute_reply": "2023-04-27T03:36:08.251501Z"
    },
    "papermill": {
     "duration": 0.980453,
     "end_time": "2023-04-27T03:36:08.255760",
     "exception": false,
     "start_time": "2023-04-27T03:36:07.275307",
     "status": "completed"
    },
    "tags": []
   },
   "outputs": [
    {
     "data": {
      "image/png": "[encoded data removed]",
      "text/plain": [
       "<Figure size 2500x1200 with 1 Axes>"
      ]
     },
     "metadata": {},
     "output_type": "display_data"
    }
   ],
   "source": [
    "import matplotlib.pyplot as plt\n",
    "fit, ax = plt.subplots(figsize = (25,12))\n",
    "tree.plot_tree(model.fit(x,y),fontsize=10)\n",
    "plt.show()"
   ]
  },
  {
   "cell_type": "code",
   "execution_count": 30,
   "id": "1c0d527d",
   "metadata": {
    "execution": {
     "iopub.execute_input": "2023-04-27T03:36:08.283782Z",
     "iopub.status.busy": "2023-04-27T03:36:08.283316Z",
     "iopub.status.idle": "2023-04-27T03:36:08.293552Z",
     "shell.execute_reply": "2023-04-27T03:36:08.292642Z"
    },
    "papermill": {
     "duration": 0.026896,
     "end_time": "2023-04-27T03:36:08.295735",
     "exception": false,
     "start_time": "2023-04-27T03:36:08.268839",
     "status": "completed"
    },
    "tags": []
   },
   "outputs": [
    {
     "data": {
      "text/html": [
       "<div>\n",
       "<style scoped>\n",
       "    .dataframe tbody tr th:only-of-type {\n",
       "        vertical-align: middle;\n",
       "    }\n",
       "\n",
       "    .dataframe tbody tr th {\n",
       "        vertical-align: top;\n",
       "    }\n",
       "\n",
       "    .dataframe thead th {\n",
       "        text-align: right;\n",
       "    }\n",
       "</style>\n",
       "<table border=\"1\" class=\"dataframe\">\n",
       "  <thead>\n",
       "    <tr style=\"text-align: right;\">\n",
       "      <th></th>\n",
       "      <th>index</th>\n",
       "      <th>target</th>\n",
       "    </tr>\n",
       "  </thead>\n",
       "  <tbody>\n",
       "    <tr>\n",
       "      <th>0</th>\n",
       "      <td>3</td>\n",
       "      <td>NaN</td>\n",
       "    </tr>\n",
       "    <tr>\n",
       "      <th>1</th>\n",
       "      <td>6</td>\n",
       "      <td>NaN</td>\n",
       "    </tr>\n",
       "    <tr>\n",
       "      <th>2</th>\n",
       "      <td>21</td>\n",
       "      <td>NaN</td>\n",
       "    </tr>\n",
       "    <tr>\n",
       "      <th>3</th>\n",
       "      <td>24</td>\n",
       "      <td>NaN</td>\n",
       "    </tr>\n",
       "    <tr>\n",
       "      <th>4</th>\n",
       "      <td>31</td>\n",
       "      <td>NaN</td>\n",
       "    </tr>\n",
       "  </tbody>\n",
       "</table>\n",
       "</div>"
      ],
      "text/plain": [
       "   index  target\n",
       "0      3     NaN\n",
       "1      6     NaN\n",
       "2     21     NaN\n",
       "3     24     NaN\n",
       "4     31     NaN"
      ]
     },
     "execution_count": 30,
     "metadata": {},
     "output_type": "execute_result"
    }
   ],
   "source": [
    "#submit 형태 확인\n",
    "submit.head()"
   ]
  },
  {
   "cell_type": "code",
   "execution_count": 31,
   "id": "4a316fe0",
   "metadata": {
    "execution": {
     "iopub.execute_input": "2023-04-27T03:36:08.323367Z",
     "iopub.status.busy": "2023-04-27T03:36:08.322887Z",
     "iopub.status.idle": "2023-04-27T03:36:08.333433Z",
     "shell.execute_reply": "2023-04-27T03:36:08.332097Z"
    },
    "papermill": {
     "duration": 0.027391,
     "end_time": "2023-04-27T03:36:08.335998",
     "exception": false,
     "start_time": "2023-04-27T03:36:08.308607",
     "status": "completed"
    },
    "tags": []
   },
   "outputs": [
    {
     "data": {
      "text/plain": [
       "array([0, 1, 0, 1, 1, 0, 0, 1, 1, 0, 1, 1, 0, 0, 1, 0, 0, 0, 1, 0, 0, 0,\n",
       "       0, 1, 1, 1, 1, 1, 0, 0, 0, 0, 0, 1, 0, 0, 1, 0, 0, 0, 1, 0, 0, 1,\n",
       "       1, 0, 0, 1, 0, 1, 0, 1, 0, 1, 0, 0, 1, 0, 0, 0, 0])"
      ]
     },
     "execution_count": 31,
     "metadata": {},
     "output_type": "execute_result"
    }
   ],
   "source": [
    "model.predict(test)"
   ]
  },
  {
   "cell_type": "code",
   "execution_count": 32,
   "id": "fc5cfa5f",
   "metadata": {
    "execution": {
     "iopub.execute_input": "2023-04-27T03:36:08.364642Z",
     "iopub.status.busy": "2023-04-27T03:36:08.363869Z",
     "iopub.status.idle": "2023-04-27T03:36:08.377006Z",
     "shell.execute_reply": "2023-04-27T03:36:08.375686Z"
    },
    "papermill": {
     "duration": 0.030214,
     "end_time": "2023-04-27T03:36:08.379852",
     "exception": false,
     "start_time": "2023-04-27T03:36:08.349638",
     "status": "completed"
    },
    "tags": []
   },
   "outputs": [],
   "source": [
    "# 제출\n",
    "submit['target']=model.predict(test)\n",
    "submit.to_csv(\"submit.csv\",mode='w',header=True,index=False)"
   ]
  },
  {
   "cell_type": "code",
   "execution_count": null,
   "id": "22530eba",
   "metadata": {
    "papermill": {
     "duration": 0.012284,
     "end_time": "2023-04-27T03:36:08.404904",
     "exception": false,
     "start_time": "2023-04-27T03:36:08.392620",
     "status": "completed"
    },
    "tags": []
   },
   "outputs": [],
   "source": []
  }
 ],
 "metadata": {
  "kernelspec": {
   "display_name": "Python 3",
   "language": "python",
   "name": "python3"
  },
  "language_info": {
   "codemirror_mode": {
    "name": "ipython",
    "version": 3
   },
   "file_extension": ".py",
   "mimetype": "text/x-python",
   "name": "python",
   "nbconvert_exporter": "python",
   "pygments_lexer": "ipython3",
   "version": "3.7.12"
  },
  "papermill": {
   "default_parameters": {},
   "duration": 14.637788,
   "end_time": "2023-04-27T03:36:09.139546",
   "environment_variables": {},
   "exception": null,
   "input_path": "__notebook__.ipynb",
   "output_path": "__notebook__.ipynb",
   "parameters": {},
   "start_time": "2023-04-27T03:35:54.501758",
   "version": "2.4.0"
  }
 },
 "nbformat": 4,
 "nbformat_minor": 5
}
