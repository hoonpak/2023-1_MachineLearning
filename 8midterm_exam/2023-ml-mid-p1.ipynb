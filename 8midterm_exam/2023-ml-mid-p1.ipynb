{
 "cells": [
  {
   "cell_type": "code",
   "execution_count": 1,
   "id": "b0f6aa9c",
   "metadata": {
    "_cell_guid": "b1076dfc-b9ad-4769-8c92-a6c4dae69d19",
    "_uuid": "8f2839f25d086af736a60e9eeb907d3b93b6e0e5",
    "execution": {
     "iopub.execute_input": "2023-04-18T10:29:58.659720Z",
     "iopub.status.busy": "2023-04-18T10:29:58.658998Z",
     "iopub.status.idle": "2023-04-18T10:29:58.675804Z",
     "shell.execute_reply": "2023-04-18T10:29:58.674682Z"
    },
    "papermill": {
     "duration": 0.028255,
     "end_time": "2023-04-18T10:29:58.679092",
     "exception": false,
     "start_time": "2023-04-18T10:29:58.650837",
     "status": "completed"
    },
    "tags": []
   },
   "outputs": [
    {
     "name": "stdout",
     "output_type": "stream",
     "text": [
      "/kaggle/input/2023-ml-midterm-p1/train.csv\n",
      "/kaggle/input/2023-ml-midterm-p1/test.csv\n",
      "/kaggle/input/2023-ml-midterm-p1/submit_sample.csv\n"
     ]
    }
   ],
   "source": [
    "# This Python 3 environment comes with many helpful analytics libraries installed\n",
    "# It is defined by the kaggle/python Docker image: https://github.com/kaggle/docker-python\n",
    "# For example, here's several helpful packages to load\n",
    "\n",
    "import numpy as np # linear algebra\n",
    "import pandas as pd # data processing, CSV file I/O (e.g. pd.read_csv)\n",
    "\n",
    "# Input data files are available in the read-only \"../input/\" directory\n",
    "# For example, running this (by clicking run or pressing Shift+Enter) will list all files under the input directory\n",
    "\n",
    "import os\n",
    "for dirname, _, filenames in os.walk('/kaggle/input'):\n",
    "    for filename in filenames:\n",
    "        print(os.path.join(dirname, filename))\n",
    "\n",
    "# You can write up to 20GB to the current directory (/kaggle/working/) that gets preserved as output when you create a version using \"Save & Run All\" \n",
    "# You can also write temporary files to /kaggle/temp/, but they won't be saved outside of the current session"
   ]
  },
  {
   "cell_type": "code",
   "execution_count": 2,
   "id": "789566eb",
   "metadata": {
    "execution": {
     "iopub.execute_input": "2023-04-18T10:29:58.690167Z",
     "iopub.status.busy": "2023-04-18T10:29:58.689732Z",
     "iopub.status.idle": "2023-04-18T10:29:58.695792Z",
     "shell.execute_reply": "2023-04-18T10:29:58.694535Z"
    },
    "papermill": {
     "duration": 0.014089,
     "end_time": "2023-04-18T10:29:58.698249",
     "exception": false,
     "start_time": "2023-04-18T10:29:58.684160",
     "status": "completed"
    },
    "tags": []
   },
   "outputs": [],
   "source": [
    "#랜덤시드 고정\n",
    "import random\n",
    "import os\n",
    "seed = 42\n",
    "random.seed(seed)\n",
    "np.random.seed(seed)\n",
    "os.environ[\"PYTHONHASHSEED\"] = str(seed)"
   ]
  },
  {
   "cell_type": "code",
   "execution_count": 3,
   "id": "04068f01",
   "metadata": {
    "execution": {
     "iopub.execute_input": "2023-04-18T10:29:58.709117Z",
     "iopub.status.busy": "2023-04-18T10:29:58.708649Z",
     "iopub.status.idle": "2023-04-18T10:29:58.738565Z",
     "shell.execute_reply": "2023-04-18T10:29:58.737435Z"
    },
    "papermill": {
     "duration": 0.039466,
     "end_time": "2023-04-18T10:29:58.741767",
     "exception": false,
     "start_time": "2023-04-18T10:29:58.702301",
     "status": "completed"
    },
    "tags": []
   },
   "outputs": [],
   "source": [
    "#데이터 불러오기\n",
    "train = pd.read_csv(\"/kaggle/input/2023-ml-midterm-p1/train.csv\")\n",
    "test = pd.read_csv(\"/kaggle/input/2023-ml-midterm-p1/test.csv\")\n",
    "submit = pd.read_csv(\"/kaggle/input/2023-ml-midterm-p1/submit_sample.csv\")"
   ]
  },
  {
   "cell_type": "code",
   "execution_count": 4,
   "id": "556291a1",
   "metadata": {
    "execution": {
     "iopub.execute_input": "2023-04-18T10:29:58.752443Z",
     "iopub.status.busy": "2023-04-18T10:29:58.752051Z",
     "iopub.status.idle": "2023-04-18T10:29:58.788069Z",
     "shell.execute_reply": "2023-04-18T10:29:58.786918Z"
    },
    "papermill": {
     "duration": 0.04515,
     "end_time": "2023-04-18T10:29:58.791009",
     "exception": false,
     "start_time": "2023-04-18T10:29:58.745859",
     "status": "completed"
    },
    "tags": []
   },
   "outputs": [
    {
     "data": {
      "text/html": [
       "<div>\n",
       "<style scoped>\n",
       "    .dataframe tbody tr th:only-of-type {\n",
       "        vertical-align: middle;\n",
       "    }\n",
       "\n",
       "    .dataframe tbody tr th {\n",
       "        vertical-align: top;\n",
       "    }\n",
       "\n",
       "    .dataframe thead th {\n",
       "        text-align: right;\n",
       "    }\n",
       "</style>\n",
       "<table border=\"1\" class=\"dataframe\">\n",
       "  <thead>\n",
       "    <tr style=\"text-align: right;\">\n",
       "      <th></th>\n",
       "      <th>id</th>\n",
       "      <th>hour</th>\n",
       "      <th>hour_bef_temperature</th>\n",
       "      <th>hour_bef_precipitation</th>\n",
       "      <th>hour_bef_windspeed</th>\n",
       "      <th>hour_bef_humidity</th>\n",
       "      <th>hour_bef_visibility</th>\n",
       "      <th>hour_bef_ozone</th>\n",
       "      <th>hour_bef_pm10</th>\n",
       "      <th>hour_bef_pm2.5</th>\n",
       "      <th>count</th>\n",
       "    </tr>\n",
       "  </thead>\n",
       "  <tbody>\n",
       "    <tr>\n",
       "      <th>0</th>\n",
       "      <td>3</td>\n",
       "      <td>20</td>\n",
       "      <td>16.3</td>\n",
       "      <td>1.0</td>\n",
       "      <td>1.5</td>\n",
       "      <td>89.0</td>\n",
       "      <td>576.0</td>\n",
       "      <td>0.027</td>\n",
       "      <td>76.0</td>\n",
       "      <td>33.0</td>\n",
       "      <td>49.0</td>\n",
       "    </tr>\n",
       "    <tr>\n",
       "      <th>1</th>\n",
       "      <td>6</td>\n",
       "      <td>13</td>\n",
       "      <td>20.1</td>\n",
       "      <td>0.0</td>\n",
       "      <td>1.4</td>\n",
       "      <td>48.0</td>\n",
       "      <td>916.0</td>\n",
       "      <td>0.042</td>\n",
       "      <td>73.0</td>\n",
       "      <td>40.0</td>\n",
       "      <td>159.0</td>\n",
       "    </tr>\n",
       "    <tr>\n",
       "      <th>2</th>\n",
       "      <td>7</td>\n",
       "      <td>6</td>\n",
       "      <td>13.9</td>\n",
       "      <td>0.0</td>\n",
       "      <td>0.7</td>\n",
       "      <td>79.0</td>\n",
       "      <td>1382.0</td>\n",
       "      <td>0.033</td>\n",
       "      <td>32.0</td>\n",
       "      <td>19.0</td>\n",
       "      <td>26.0</td>\n",
       "    </tr>\n",
       "    <tr>\n",
       "      <th>3</th>\n",
       "      <td>8</td>\n",
       "      <td>23</td>\n",
       "      <td>8.1</td>\n",
       "      <td>0.0</td>\n",
       "      <td>2.7</td>\n",
       "      <td>54.0</td>\n",
       "      <td>946.0</td>\n",
       "      <td>0.040</td>\n",
       "      <td>75.0</td>\n",
       "      <td>64.0</td>\n",
       "      <td>57.0</td>\n",
       "    </tr>\n",
       "    <tr>\n",
       "      <th>4</th>\n",
       "      <td>9</td>\n",
       "      <td>18</td>\n",
       "      <td>29.5</td>\n",
       "      <td>0.0</td>\n",
       "      <td>4.8</td>\n",
       "      <td>7.0</td>\n",
       "      <td>2000.0</td>\n",
       "      <td>0.057</td>\n",
       "      <td>27.0</td>\n",
       "      <td>11.0</td>\n",
       "      <td>431.0</td>\n",
       "    </tr>\n",
       "  </tbody>\n",
       "</table>\n",
       "</div>"
      ],
      "text/plain": [
       "   id  hour  hour_bef_temperature  hour_bef_precipitation  hour_bef_windspeed  \\\n",
       "0   3    20                  16.3                     1.0                 1.5   \n",
       "1   6    13                  20.1                     0.0                 1.4   \n",
       "2   7     6                  13.9                     0.0                 0.7   \n",
       "3   8    23                   8.1                     0.0                 2.7   \n",
       "4   9    18                  29.5                     0.0                 4.8   \n",
       "\n",
       "   hour_bef_humidity  hour_bef_visibility  hour_bef_ozone  hour_bef_pm10  \\\n",
       "0               89.0                576.0           0.027           76.0   \n",
       "1               48.0                916.0           0.042           73.0   \n",
       "2               79.0               1382.0           0.033           32.0   \n",
       "3               54.0                946.0           0.040           75.0   \n",
       "4                7.0               2000.0           0.057           27.0   \n",
       "\n",
       "   hour_bef_pm2.5  count  \n",
       "0            33.0   49.0  \n",
       "1            40.0  159.0  \n",
       "2            19.0   26.0  \n",
       "3            64.0   57.0  \n",
       "4            11.0  431.0  "
      ]
     },
     "execution_count": 4,
     "metadata": {},
     "output_type": "execute_result"
    }
   ],
   "source": [
    "#데이터 생김새 확인하기\n",
    "train.head()"
   ]
  },
  {
   "cell_type": "code",
   "execution_count": 5,
   "id": "931415c0",
   "metadata": {
    "execution": {
     "iopub.execute_input": "2023-04-18T10:29:58.801706Z",
     "iopub.status.busy": "2023-04-18T10:29:58.801314Z",
     "iopub.status.idle": "2023-04-18T10:29:58.813313Z",
     "shell.execute_reply": "2023-04-18T10:29:58.811957Z"
    },
    "papermill": {
     "duration": 0.020516,
     "end_time": "2023-04-18T10:29:58.815930",
     "exception": false,
     "start_time": "2023-04-18T10:29:58.795414",
     "status": "completed"
    },
    "tags": []
   },
   "outputs": [],
   "source": [
    "#데이터에 필요없는 칼럼 없애주기\n",
    "train.drop(['id'],axis=1,inplace=True)\n",
    "test.drop(['id'],axis=1,inplace=True)"
   ]
  },
  {
   "cell_type": "code",
   "execution_count": 6,
   "id": "89013220",
   "metadata": {
    "execution": {
     "iopub.execute_input": "2023-04-18T10:29:58.827491Z",
     "iopub.status.busy": "2023-04-18T10:29:58.826512Z",
     "iopub.status.idle": "2023-04-18T10:29:58.851640Z",
     "shell.execute_reply": "2023-04-18T10:29:58.850750Z"
    },
    "papermill": {
     "duration": 0.033273,
     "end_time": "2023-04-18T10:29:58.854143",
     "exception": false,
     "start_time": "2023-04-18T10:29:58.820870",
     "status": "completed"
    },
    "tags": []
   },
   "outputs": [
    {
     "name": "stdout",
     "output_type": "stream",
     "text": [
      "<class 'pandas.core.frame.DataFrame'>\n",
      "RangeIndex: 1000 entries, 0 to 999\n",
      "Data columns (total 10 columns):\n",
      " #   Column                  Non-Null Count  Dtype  \n",
      "---  ------                  --------------  -----  \n",
      " 0   hour                    1000 non-null   int64  \n",
      " 1   hour_bef_temperature    1000 non-null   float64\n",
      " 2   hour_bef_precipitation  1000 non-null   float64\n",
      " 3   hour_bef_windspeed      1000 non-null   float64\n",
      " 4   hour_bef_humidity       1000 non-null   float64\n",
      " 5   hour_bef_visibility     1000 non-null   float64\n",
      " 6   hour_bef_ozone          1000 non-null   float64\n",
      " 7   hour_bef_pm10           1000 non-null   float64\n",
      " 8   hour_bef_pm2.5          1000 non-null   float64\n",
      " 9   count                   1000 non-null   float64\n",
      "dtypes: float64(9), int64(1)\n",
      "memory usage: 78.2 KB\n"
     ]
    }
   ],
   "source": [
    "#결측치 및 type확인하기\n",
    "train.info()"
   ]
  },
  {
   "cell_type": "code",
   "execution_count": 7,
   "id": "566250fd",
   "metadata": {
    "execution": {
     "iopub.execute_input": "2023-04-18T10:29:58.865412Z",
     "iopub.status.busy": "2023-04-18T10:29:58.864998Z",
     "iopub.status.idle": "2023-04-18T10:29:58.871816Z",
     "shell.execute_reply": "2023-04-18T10:29:58.870376Z"
    },
    "papermill": {
     "duration": 0.016487,
     "end_time": "2023-04-18T10:29:58.875041",
     "exception": false,
     "start_time": "2023-04-18T10:29:58.858554",
     "status": "completed"
    },
    "tags": []
   },
   "outputs": [],
   "source": [
    "#설명변수와 종속변수 나눠주기\n",
    "x = train.drop(['count'],axis=1)\n",
    "y = train['count']"
   ]
  },
  {
   "cell_type": "code",
   "execution_count": 8,
   "id": "62ad9e3f",
   "metadata": {
    "execution": {
     "iopub.execute_input": "2023-04-18T10:29:58.886154Z",
     "iopub.status.busy": "2023-04-18T10:29:58.885747Z",
     "iopub.status.idle": "2023-04-18T10:30:00.050248Z",
     "shell.execute_reply": "2023-04-18T10:30:00.049012Z"
    },
    "papermill": {
     "duration": 1.17364,
     "end_time": "2023-04-18T10:30:00.053168",
     "exception": false,
     "start_time": "2023-04-18T10:29:58.879528",
     "status": "completed"
    },
    "tags": []
   },
   "outputs": [],
   "source": [
    "#scaling 해주기\n",
    "from sklearn.preprocessing import StandardScaler\n",
    "ss = StandardScaler()\n",
    "x_st = ss.fit_transform(x)\n",
    "test_st = ss.transform(test)"
   ]
  },
  {
   "cell_type": "code",
   "execution_count": 9,
   "id": "f147d734",
   "metadata": {
    "execution": {
     "iopub.execute_input": "2023-04-18T10:30:00.065085Z",
     "iopub.status.busy": "2023-04-18T10:30:00.064632Z",
     "iopub.status.idle": "2023-04-18T10:30:00.394014Z",
     "shell.execute_reply": "2023-04-18T10:30:00.392624Z"
    },
    "papermill": {
     "duration": 0.338671,
     "end_time": "2023-04-18T10:30:00.397062",
     "exception": false,
     "start_time": "2023-04-18T10:30:00.058391",
     "status": "completed"
    },
    "tags": []
   },
   "outputs": [],
   "source": [
    "#model만들기 - 회귀 문제이니 knn회귀를 사용할 것이다.\n",
    "#model 학습과 검증\n",
    "from sklearn.neighbors import KNeighborsRegressor\n",
    "from sklearn.metrics import mean_absolute_error\n",
    "# model = KNeighborsRegressor()\n",
    "# model.fit(x_st,y)\n",
    "# print(mean_absolute_error(y,model.predict(x_st)))"
   ]
  },
  {
   "cell_type": "code",
   "execution_count": 10,
   "id": "e026bd5a",
   "metadata": {
    "execution": {
     "iopub.execute_input": "2023-04-18T10:30:00.409515Z",
     "iopub.status.busy": "2023-04-18T10:30:00.409040Z",
     "iopub.status.idle": "2023-04-18T10:30:00.438958Z",
     "shell.execute_reply": "2023-04-18T10:30:00.437087Z"
    },
    "papermill": {
     "duration": 0.040137,
     "end_time": "2023-04-18T10:30:00.442265",
     "exception": false,
     "start_time": "2023-04-18T10:30:00.402128",
     "status": "completed"
    },
    "tags": []
   },
   "outputs": [
    {
     "name": "stdout",
     "output_type": "stream",
     "text": [
      "0.0\n"
     ]
    }
   ],
   "source": [
    "#model 학습과 검증\n",
    "model = KNeighborsRegressor(weights='distance')\n",
    "model.fit(x_st,y)\n",
    "print(mean_absolute_error(y,model.predict(x_st)))"
   ]
  },
  {
   "cell_type": "code",
   "execution_count": 11,
   "id": "098f6d64",
   "metadata": {
    "execution": {
     "iopub.execute_input": "2023-04-18T10:30:00.455981Z",
     "iopub.status.busy": "2023-04-18T10:30:00.454294Z",
     "iopub.status.idle": "2023-04-18T10:30:00.468296Z",
     "shell.execute_reply": "2023-04-18T10:30:00.466241Z"
    },
    "papermill": {
     "duration": 0.024282,
     "end_time": "2023-04-18T10:30:00.471625",
     "exception": false,
     "start_time": "2023-04-18T10:30:00.447343",
     "status": "completed"
    },
    "tags": []
   },
   "outputs": [
    {
     "data": {
      "text/html": [
       "<div>\n",
       "<style scoped>\n",
       "    .dataframe tbody tr th:only-of-type {\n",
       "        vertical-align: middle;\n",
       "    }\n",
       "\n",
       "    .dataframe tbody tr th {\n",
       "        vertical-align: top;\n",
       "    }\n",
       "\n",
       "    .dataframe thead th {\n",
       "        text-align: right;\n",
       "    }\n",
       "</style>\n",
       "<table border=\"1\" class=\"dataframe\">\n",
       "  <thead>\n",
       "    <tr style=\"text-align: right;\">\n",
       "      <th></th>\n",
       "      <th>id</th>\n",
       "      <th>count</th>\n",
       "    </tr>\n",
       "  </thead>\n",
       "  <tbody>\n",
       "    <tr>\n",
       "      <th>0</th>\n",
       "      <td>0</td>\n",
       "      <td>0</td>\n",
       "    </tr>\n",
       "    <tr>\n",
       "      <th>1</th>\n",
       "      <td>1</td>\n",
       "      <td>1</td>\n",
       "    </tr>\n",
       "    <tr>\n",
       "      <th>2</th>\n",
       "      <td>2</td>\n",
       "      <td>2</td>\n",
       "    </tr>\n",
       "    <tr>\n",
       "      <th>3</th>\n",
       "      <td>3</td>\n",
       "      <td>3</td>\n",
       "    </tr>\n",
       "    <tr>\n",
       "      <th>4</th>\n",
       "      <td>4</td>\n",
       "      <td>4</td>\n",
       "    </tr>\n",
       "  </tbody>\n",
       "</table>\n",
       "</div>"
      ],
      "text/plain": [
       "   id  count\n",
       "0   0      0\n",
       "1   1      1\n",
       "2   2      2\n",
       "3   3      3\n",
       "4   4      4"
      ]
     },
     "execution_count": 11,
     "metadata": {},
     "output_type": "execute_result"
    }
   ],
   "source": [
    "#submit 형태 확인\n",
    "submit.head()"
   ]
  },
  {
   "cell_type": "code",
   "execution_count": 12,
   "id": "f20a5039",
   "metadata": {
    "execution": {
     "iopub.execute_input": "2023-04-18T10:30:00.484689Z",
     "iopub.status.busy": "2023-04-18T10:30:00.484178Z",
     "iopub.status.idle": "2023-04-18T10:30:00.505187Z",
     "shell.execute_reply": "2023-04-18T10:30:00.503406Z"
    },
    "papermill": {
     "duration": 0.031876,
     "end_time": "2023-04-18T10:30:00.508511",
     "exception": false,
     "start_time": "2023-04-18T10:30:00.476635",
     "status": "completed"
    },
    "tags": []
   },
   "outputs": [],
   "source": [
    "# 제출\n",
    "submit['count']=model.predict(test_st)\n",
    "submit.to_csv(\"submit.csv\",mode='w',header=True,index=False)"
   ]
  },
  {
   "cell_type": "code",
   "execution_count": null,
   "id": "2e61655f",
   "metadata": {
    "papermill": {
     "duration": 0.00533,
     "end_time": "2023-04-18T10:30:00.518760",
     "exception": false,
     "start_time": "2023-04-18T10:30:00.513430",
     "status": "completed"
    },
    "tags": []
   },
   "outputs": [],
   "source": []
  }
 ],
 "metadata": {
  "kernelspec": {
   "display_name": "Python 3",
   "language": "python",
   "name": "python3"
  },
  "language_info": {
   "codemirror_mode": {
    "name": "ipython",
    "version": 3
   },
   "file_extension": ".py",
   "mimetype": "text/x-python",
   "name": "python",
   "nbconvert_exporter": "python",
   "pygments_lexer": "ipython3",
   "version": "3.7.12"
  },
  "papermill": {
   "default_parameters": {},
   "duration": 13.510585,
   "end_time": "2023-04-18T10:30:01.349338",
   "environment_variables": {},
   "exception": null,
   "input_path": "__notebook__.ipynb",
   "output_path": "__notebook__.ipynb",
   "parameters": {},
   "start_time": "2023-04-18T10:29:47.838753",
   "version": "2.4.0"
  }
 },
 "nbformat": 4,
 "nbformat_minor": 5
}
