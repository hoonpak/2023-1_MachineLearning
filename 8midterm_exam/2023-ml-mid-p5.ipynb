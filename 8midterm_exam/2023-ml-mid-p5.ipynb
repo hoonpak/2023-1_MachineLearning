{
 "cells": [
  {
   "cell_type": "code",
   "execution_count": 1,
   "id": "cf33beff",
   "metadata": {
    "_cell_guid": "b1076dfc-b9ad-4769-8c92-a6c4dae69d19",
    "_uuid": "8f2839f25d086af736a60e9eeb907d3b93b6e0e5",
    "execution": {
     "iopub.execute_input": "2023-04-18T12:48:35.100317Z",
     "iopub.status.busy": "2023-04-18T12:48:35.098809Z",
     "iopub.status.idle": "2023-04-18T12:48:35.116823Z",
     "shell.execute_reply": "2023-04-18T12:48:35.115850Z"
    },
    "papermill": {
     "duration": 0.029385,
     "end_time": "2023-04-18T12:48:35.120254",
     "exception": false,
     "start_time": "2023-04-18T12:48:35.090869",
     "status": "completed"
    },
    "tags": []
   },
   "outputs": [
    {
     "name": "stdout",
     "output_type": "stream",
     "text": [
      "/kaggle/input/2023-ml-midterm-p5/train.csv\n",
      "/kaggle/input/2023-ml-midterm-p5/test.csv\n",
      "/kaggle/input/2023-ml-midterm-p5/submit_sample.csv\n"
     ]
    }
   ],
   "source": [
    "# This Python 3 environment comes with many helpful analytics libraries installed\n",
    "# It is defined by the kaggle/python Docker image: https://github.com/kaggle/docker-python\n",
    "# For example, here's several helpful packages to load\n",
    "\n",
    "import numpy as np # linear algebra\n",
    "import pandas as pd # data processing, CSV file I/O (e.g. pd.read_csv)\n",
    "\n",
    "# Input data files are available in the read-only \"../input/\" directory\n",
    "# For example, running this (by clicking run or pressing Shift+Enter) will list all files under the input directory\n",
    "\n",
    "import os\n",
    "for dirname, _, filenames in os.walk('/kaggle/input'):\n",
    "    for filename in filenames:\n",
    "        print(os.path.join(dirname, filename))\n",
    "\n",
    "# You can write up to 20GB to the current directory (/kaggle/working/) that gets preserved as output when you create a version using \"Save & Run All\" \n",
    "# You can also write temporary files to /kaggle/temp/, but they won't be saved outside of the current session"
   ]
  },
  {
   "cell_type": "code",
   "execution_count": 2,
   "id": "17761503",
   "metadata": {
    "execution": {
     "iopub.execute_input": "2023-04-18T12:48:35.132631Z",
     "iopub.status.busy": "2023-04-18T12:48:35.132221Z",
     "iopub.status.idle": "2023-04-18T12:48:35.138843Z",
     "shell.execute_reply": "2023-04-18T12:48:35.137601Z"
    },
    "papermill": {
     "duration": 0.015841,
     "end_time": "2023-04-18T12:48:35.141412",
     "exception": false,
     "start_time": "2023-04-18T12:48:35.125571",
     "status": "completed"
    },
    "tags": []
   },
   "outputs": [],
   "source": [
    "#랜덤시드 고정\n",
    "import random\n",
    "import os\n",
    "seed = 42\n",
    "random.seed(seed)\n",
    "np.random.seed(seed)\n",
    "os.environ[\"PYTHONHASHSEED\"] = str(seed)"
   ]
  },
  {
   "cell_type": "code",
   "execution_count": 3,
   "id": "be2b749e",
   "metadata": {
    "execution": {
     "iopub.execute_input": "2023-04-18T12:48:35.153279Z",
     "iopub.status.busy": "2023-04-18T12:48:35.152818Z",
     "iopub.status.idle": "2023-04-18T12:48:35.185957Z",
     "shell.execute_reply": "2023-04-18T12:48:35.184980Z"
    },
    "papermill": {
     "duration": 0.042427,
     "end_time": "2023-04-18T12:48:35.188889",
     "exception": false,
     "start_time": "2023-04-18T12:48:35.146462",
     "status": "completed"
    },
    "tags": []
   },
   "outputs": [],
   "source": [
    "#데이터 불러오기\n",
    "train = pd.read_csv(\"/kaggle/input/2023-ml-midterm-p5/train.csv\")\n",
    "test = pd.read_csv(\"/kaggle/input/2023-ml-midterm-p5/test.csv\")\n",
    "submit = pd.read_csv(\"/kaggle/input/2023-ml-midterm-p5/submit_sample.csv\")"
   ]
  },
  {
   "cell_type": "code",
   "execution_count": 4,
   "id": "445074c0",
   "metadata": {
    "execution": {
     "iopub.execute_input": "2023-04-18T12:48:35.200967Z",
     "iopub.status.busy": "2023-04-18T12:48:35.200582Z",
     "iopub.status.idle": "2023-04-18T12:48:35.237948Z",
     "shell.execute_reply": "2023-04-18T12:48:35.237062Z"
    },
    "papermill": {
     "duration": 0.047697,
     "end_time": "2023-04-18T12:48:35.241676",
     "exception": false,
     "start_time": "2023-04-18T12:48:35.193979",
     "status": "completed"
    },
    "tags": []
   },
   "outputs": [
    {
     "data": {
      "text/html": [
       "<div>\n",
       "<style scoped>\n",
       "    .dataframe tbody tr th:only-of-type {\n",
       "        vertical-align: middle;\n",
       "    }\n",
       "\n",
       "    .dataframe tbody tr th {\n",
       "        vertical-align: top;\n",
       "    }\n",
       "\n",
       "    .dataframe thead th {\n",
       "        text-align: right;\n",
       "    }\n",
       "</style>\n",
       "<table border=\"1\" class=\"dataframe\">\n",
       "  <thead>\n",
       "    <tr style=\"text-align: right;\">\n",
       "      <th></th>\n",
       "      <th>PassengerId</th>\n",
       "      <th>Survived</th>\n",
       "      <th>Pclass</th>\n",
       "      <th>Name</th>\n",
       "      <th>Sex</th>\n",
       "      <th>Age</th>\n",
       "      <th>SibSp</th>\n",
       "      <th>Parch</th>\n",
       "      <th>Ticket</th>\n",
       "      <th>Fare</th>\n",
       "      <th>Cabin</th>\n",
       "      <th>Embarked</th>\n",
       "    </tr>\n",
       "  </thead>\n",
       "  <tbody>\n",
       "    <tr>\n",
       "      <th>0</th>\n",
       "      <td>1</td>\n",
       "      <td>0</td>\n",
       "      <td>3</td>\n",
       "      <td>Braund, Mr. Owen Harris</td>\n",
       "      <td>male</td>\n",
       "      <td>22.0</td>\n",
       "      <td>1</td>\n",
       "      <td>0</td>\n",
       "      <td>A/5 21171</td>\n",
       "      <td>7.2500</td>\n",
       "      <td>NaN</td>\n",
       "      <td>S</td>\n",
       "    </tr>\n",
       "    <tr>\n",
       "      <th>1</th>\n",
       "      <td>2</td>\n",
       "      <td>1</td>\n",
       "      <td>1</td>\n",
       "      <td>Cumings, Mrs. John Bradley (Florence Briggs Th...</td>\n",
       "      <td>female</td>\n",
       "      <td>38.0</td>\n",
       "      <td>1</td>\n",
       "      <td>0</td>\n",
       "      <td>PC 17599</td>\n",
       "      <td>71.2833</td>\n",
       "      <td>C85</td>\n",
       "      <td>C</td>\n",
       "    </tr>\n",
       "    <tr>\n",
       "      <th>2</th>\n",
       "      <td>3</td>\n",
       "      <td>1</td>\n",
       "      <td>3</td>\n",
       "      <td>Heikkinen, Miss. Laina</td>\n",
       "      <td>female</td>\n",
       "      <td>26.0</td>\n",
       "      <td>0</td>\n",
       "      <td>0</td>\n",
       "      <td>STON/O2. 3101282</td>\n",
       "      <td>7.9250</td>\n",
       "      <td>NaN</td>\n",
       "      <td>S</td>\n",
       "    </tr>\n",
       "    <tr>\n",
       "      <th>3</th>\n",
       "      <td>4</td>\n",
       "      <td>1</td>\n",
       "      <td>1</td>\n",
       "      <td>Futrelle, Mrs. Jacques Heath (Lily May Peel)</td>\n",
       "      <td>female</td>\n",
       "      <td>35.0</td>\n",
       "      <td>1</td>\n",
       "      <td>0</td>\n",
       "      <td>113803</td>\n",
       "      <td>53.1000</td>\n",
       "      <td>C123</td>\n",
       "      <td>S</td>\n",
       "    </tr>\n",
       "    <tr>\n",
       "      <th>4</th>\n",
       "      <td>5</td>\n",
       "      <td>0</td>\n",
       "      <td>3</td>\n",
       "      <td>Allen, Mr. William Henry</td>\n",
       "      <td>male</td>\n",
       "      <td>35.0</td>\n",
       "      <td>0</td>\n",
       "      <td>0</td>\n",
       "      <td>373450</td>\n",
       "      <td>8.0500</td>\n",
       "      <td>NaN</td>\n",
       "      <td>S</td>\n",
       "    </tr>\n",
       "  </tbody>\n",
       "</table>\n",
       "</div>"
      ],
      "text/plain": [
       "   PassengerId  Survived  Pclass  \\\n",
       "0            1         0       3   \n",
       "1            2         1       1   \n",
       "2            3         1       3   \n",
       "3            4         1       1   \n",
       "4            5         0       3   \n",
       "\n",
       "                                                Name     Sex   Age  SibSp  \\\n",
       "0                            Braund, Mr. Owen Harris    male  22.0      1   \n",
       "1  Cumings, Mrs. John Bradley (Florence Briggs Th...  female  38.0      1   \n",
       "2                             Heikkinen, Miss. Laina  female  26.0      0   \n",
       "3       Futrelle, Mrs. Jacques Heath (Lily May Peel)  female  35.0      1   \n",
       "4                           Allen, Mr. William Henry    male  35.0      0   \n",
       "\n",
       "   Parch            Ticket     Fare Cabin Embarked  \n",
       "0      0         A/5 21171   7.2500   NaN        S  \n",
       "1      0          PC 17599  71.2833   C85        C  \n",
       "2      0  STON/O2. 3101282   7.9250   NaN        S  \n",
       "3      0            113803  53.1000  C123        S  \n",
       "4      0            373450   8.0500   NaN        S  "
      ]
     },
     "execution_count": 4,
     "metadata": {},
     "output_type": "execute_result"
    }
   ],
   "source": [
    "#데이터 생김새 확인하기\n",
    "train.head()"
   ]
  },
  {
   "cell_type": "code",
   "execution_count": 5,
   "id": "6310f4fb",
   "metadata": {
    "execution": {
     "iopub.execute_input": "2023-04-18T12:48:35.262026Z",
     "iopub.status.busy": "2023-04-18T12:48:35.261250Z",
     "iopub.status.idle": "2023-04-18T12:48:35.276836Z",
     "shell.execute_reply": "2023-04-18T12:48:35.275105Z"
    },
    "papermill": {
     "duration": 0.029029,
     "end_time": "2023-04-18T12:48:35.279820",
     "exception": false,
     "start_time": "2023-04-18T12:48:35.250791",
     "status": "completed"
    },
    "tags": []
   },
   "outputs": [],
   "source": [
    "#데이터에 필요없는 칼럼 없애주기\n",
    "train.drop(['PassengerId', 'Name', 'Ticket'],axis=1,inplace=True)\n",
    "test.drop(['PassengerId', 'Name', 'Ticket'],axis=1,inplace=True)"
   ]
  },
  {
   "cell_type": "code",
   "execution_count": 6,
   "id": "6b9945b8",
   "metadata": {
    "execution": {
     "iopub.execute_input": "2023-04-18T12:48:35.297769Z",
     "iopub.status.busy": "2023-04-18T12:48:35.297007Z",
     "iopub.status.idle": "2023-04-18T12:48:35.321609Z",
     "shell.execute_reply": "2023-04-18T12:48:35.319989Z"
    },
    "papermill": {
     "duration": 0.038538,
     "end_time": "2023-04-18T12:48:35.324209",
     "exception": false,
     "start_time": "2023-04-18T12:48:35.285671",
     "status": "completed"
    },
    "tags": []
   },
   "outputs": [
    {
     "name": "stdout",
     "output_type": "stream",
     "text": [
      "<class 'pandas.core.frame.DataFrame'>\n",
      "RangeIndex: 891 entries, 0 to 890\n",
      "Data columns (total 9 columns):\n",
      " #   Column    Non-Null Count  Dtype  \n",
      "---  ------    --------------  -----  \n",
      " 0   Survived  891 non-null    int64  \n",
      " 1   Pclass    891 non-null    int64  \n",
      " 2   Sex       891 non-null    object \n",
      " 3   Age       714 non-null    float64\n",
      " 4   SibSp     891 non-null    int64  \n",
      " 5   Parch     891 non-null    int64  \n",
      " 6   Fare      891 non-null    float64\n",
      " 7   Cabin     204 non-null    object \n",
      " 8   Embarked  889 non-null    object \n",
      "dtypes: float64(2), int64(4), object(3)\n",
      "memory usage: 62.8+ KB\n"
     ]
    }
   ],
   "source": [
    "#결측치 및 type확인하기\n",
    "train.info()"
   ]
  },
  {
   "cell_type": "code",
   "execution_count": 7,
   "id": "cc2b5dad",
   "metadata": {
    "execution": {
     "iopub.execute_input": "2023-04-18T12:48:35.336800Z",
     "iopub.status.busy": "2023-04-18T12:48:35.336419Z",
     "iopub.status.idle": "2023-04-18T12:48:35.343849Z",
     "shell.execute_reply": "2023-04-18T12:48:35.342379Z"
    },
    "papermill": {
     "duration": 0.016872,
     "end_time": "2023-04-18T12:48:35.346467",
     "exception": false,
     "start_time": "2023-04-18T12:48:35.329595",
     "status": "completed"
    },
    "tags": []
   },
   "outputs": [],
   "source": [
    "#결측치가 너무 많은 칼럼 드랍하기\n",
    "train.drop(['Cabin'],axis=1,inplace=True)\n",
    "test.drop(['Cabin'],axis=1,inplace=True)"
   ]
  },
  {
   "cell_type": "code",
   "execution_count": 8,
   "id": "6d729616",
   "metadata": {
    "execution": {
     "iopub.execute_input": "2023-04-18T12:48:35.359141Z",
     "iopub.status.busy": "2023-04-18T12:48:35.358696Z",
     "iopub.status.idle": "2023-04-18T12:48:35.373259Z",
     "shell.execute_reply": "2023-04-18T12:48:35.371961Z"
    },
    "papermill": {
     "duration": 0.024616,
     "end_time": "2023-04-18T12:48:35.376418",
     "exception": false,
     "start_time": "2023-04-18T12:48:35.351802",
     "status": "completed"
    },
    "tags": []
   },
   "outputs": [
    {
     "name": "stdout",
     "output_type": "stream",
     "text": [
      "<class 'pandas.core.frame.DataFrame'>\n",
      "RangeIndex: 891 entries, 0 to 890\n",
      "Data columns (total 8 columns):\n",
      " #   Column    Non-Null Count  Dtype  \n",
      "---  ------    --------------  -----  \n",
      " 0   Survived  891 non-null    int64  \n",
      " 1   Pclass    891 non-null    int64  \n",
      " 2   Sex       891 non-null    object \n",
      " 3   Age       714 non-null    float64\n",
      " 4   SibSp     891 non-null    int64  \n",
      " 5   Parch     891 non-null    int64  \n",
      " 6   Fare      891 non-null    float64\n",
      " 7   Embarked  889 non-null    object \n",
      "dtypes: float64(2), int64(4), object(2)\n",
      "memory usage: 55.8+ KB\n"
     ]
    }
   ],
   "source": [
    "#결측치 및 type확인하기\n",
    "train.info()"
   ]
  },
  {
   "cell_type": "code",
   "execution_count": 9,
   "id": "29ab7a29",
   "metadata": {
    "execution": {
     "iopub.execute_input": "2023-04-18T12:48:35.389386Z",
     "iopub.status.busy": "2023-04-18T12:48:35.388699Z",
     "iopub.status.idle": "2023-04-18T12:48:35.396215Z",
     "shell.execute_reply": "2023-04-18T12:48:35.394986Z"
    },
    "papermill": {
     "duration": 0.016803,
     "end_time": "2023-04-18T12:48:35.398723",
     "exception": false,
     "start_time": "2023-04-18T12:48:35.381920",
     "status": "completed"
    },
    "tags": []
   },
   "outputs": [],
   "source": [
    "#train데이터를 독립변수와 종속변수로 나눠주기\n",
    "x = train.drop(['Survived'],axis=1)\n",
    "y = train[['Survived']]"
   ]
  },
  {
   "cell_type": "code",
   "execution_count": 10,
   "id": "6615ced3",
   "metadata": {
    "execution": {
     "iopub.execute_input": "2023-04-18T12:48:35.411575Z",
     "iopub.status.busy": "2023-04-18T12:48:35.411163Z",
     "iopub.status.idle": "2023-04-18T12:48:35.421115Z",
     "shell.execute_reply": "2023-04-18T12:48:35.419791Z"
    },
    "papermill": {
     "duration": 0.019654,
     "end_time": "2023-04-18T12:48:35.423924",
     "exception": false,
     "start_time": "2023-04-18T12:48:35.404270",
     "status": "completed"
    },
    "tags": []
   },
   "outputs": [],
   "source": [
    "#x와 test데이터 합친 data만들어주기\n",
    "data = pd.concat([x,test],axis=0)"
   ]
  },
  {
   "cell_type": "code",
   "execution_count": 11,
   "id": "dd415e3a",
   "metadata": {
    "execution": {
     "iopub.execute_input": "2023-04-18T12:48:35.437678Z",
     "iopub.status.busy": "2023-04-18T12:48:35.437210Z",
     "iopub.status.idle": "2023-04-18T12:48:36.565345Z",
     "shell.execute_reply": "2023-04-18T12:48:36.563439Z"
    },
    "papermill": {
     "duration": 1.139132,
     "end_time": "2023-04-18T12:48:36.568979",
     "exception": false,
     "start_time": "2023-04-18T12:48:35.429847",
     "status": "completed"
    },
    "tags": []
   },
   "outputs": [],
   "source": [
    "from sklearn.preprocessing import LabelEncoder\n",
    "#sex를 수치형 데이터로 바꿔주기\n",
    "le_sex = LabelEncoder()\n",
    "le_sex.fit(data['Sex'])\n",
    "x['Sex']=le_sex.transform(x['Sex'])\n",
    "test['Sex'] =le_sex.transform(test['Sex'])\n",
    "\n",
    "#Embarked를 수치형 데이터로 바꿔주기\n",
    "le_Embarked = LabelEncoder()\n",
    "le_Embarked.fit(data['Embarked'])\n",
    "x['Embarked']=le_Embarked.transform(x['Embarked'])\n",
    "test['Embarked'] =le_Embarked.transform(test['Embarked'])"
   ]
  },
  {
   "cell_type": "code",
   "execution_count": 12,
   "id": "cc71ae0a",
   "metadata": {
    "execution": {
     "iopub.execute_input": "2023-04-18T12:48:36.582112Z",
     "iopub.status.busy": "2023-04-18T12:48:36.581543Z",
     "iopub.status.idle": "2023-04-18T12:48:36.891259Z",
     "shell.execute_reply": "2023-04-18T12:48:36.889644Z"
    },
    "papermill": {
     "duration": 0.320403,
     "end_time": "2023-04-18T12:48:36.894819",
     "exception": false,
     "start_time": "2023-04-18T12:48:36.574416",
     "status": "completed"
    },
    "tags": []
   },
   "outputs": [],
   "source": [
    "# 결측치 채우기\n",
    "from sklearn.impute import SimpleImputer\n",
    "si = SimpleImputer()\n",
    "si.fit(data[['Age']])\n",
    "x[['Age']] = si.transform(x[['Age']])\n",
    "test[['Age']] = si.transform(test[['Age']])"
   ]
  },
  {
   "cell_type": "code",
   "execution_count": 13,
   "id": "f4721ca1",
   "metadata": {
    "execution": {
     "iopub.execute_input": "2023-04-18T12:48:36.909882Z",
     "iopub.status.busy": "2023-04-18T12:48:36.908498Z",
     "iopub.status.idle": "2023-04-18T12:48:36.922994Z",
     "shell.execute_reply": "2023-04-18T12:48:36.921254Z"
    },
    "papermill": {
     "duration": 0.025804,
     "end_time": "2023-04-18T12:48:36.926609",
     "exception": false,
     "start_time": "2023-04-18T12:48:36.900805",
     "status": "completed"
    },
    "tags": []
   },
   "outputs": [],
   "source": [
    "#scaling 해주기\n",
    "from sklearn.preprocessing import StandardScaler\n",
    "ss = StandardScaler()\n",
    "x_st = ss.fit_transform(x)\n",
    "test_st = ss.transform(test)"
   ]
  },
  {
   "cell_type": "code",
   "execution_count": 14,
   "id": "9715c031",
   "metadata": {
    "execution": {
     "iopub.execute_input": "2023-04-18T12:48:36.943518Z",
     "iopub.status.busy": "2023-04-18T12:48:36.942386Z",
     "iopub.status.idle": "2023-04-18T12:48:36.965513Z",
     "shell.execute_reply": "2023-04-18T12:48:36.963553Z"
    },
    "papermill": {
     "duration": 0.035132,
     "end_time": "2023-04-18T12:48:36.969252",
     "exception": false,
     "start_time": "2023-04-18T12:48:36.934120",
     "status": "completed"
    },
    "tags": []
   },
   "outputs": [
    {
     "name": "stdout",
     "output_type": "stream",
     "text": [
      "0.8013468013468014\n"
     ]
    }
   ],
   "source": [
    "#모델 학습 및 정확도 확인\n",
    "from sklearn.linear_model import LogisticRegression\n",
    "from sklearn.metrics import accuracy_score\n",
    "model=LogisticRegression(max_iter=5000)\n",
    "model.fit(x_st,y['Survived'])\n",
    "print(accuracy_score(y['Survived'],model.predict(x_st)))"
   ]
  },
  {
   "cell_type": "code",
   "execution_count": 15,
   "id": "1683c0c6",
   "metadata": {
    "execution": {
     "iopub.execute_input": "2023-04-18T12:48:36.984025Z",
     "iopub.status.busy": "2023-04-18T12:48:36.982985Z",
     "iopub.status.idle": "2023-04-18T12:48:36.995671Z",
     "shell.execute_reply": "2023-04-18T12:48:36.994083Z"
    },
    "papermill": {
     "duration": 0.023227,
     "end_time": "2023-04-18T12:48:36.998684",
     "exception": false,
     "start_time": "2023-04-18T12:48:36.975457",
     "status": "completed"
    },
    "tags": []
   },
   "outputs": [
    {
     "data": {
      "text/html": [
       "<div>\n",
       "<style scoped>\n",
       "    .dataframe tbody tr th:only-of-type {\n",
       "        vertical-align: middle;\n",
       "    }\n",
       "\n",
       "    .dataframe tbody tr th {\n",
       "        vertical-align: top;\n",
       "    }\n",
       "\n",
       "    .dataframe thead th {\n",
       "        text-align: right;\n",
       "    }\n",
       "</style>\n",
       "<table border=\"1\" class=\"dataframe\">\n",
       "  <thead>\n",
       "    <tr style=\"text-align: right;\">\n",
       "      <th></th>\n",
       "      <th>PassengerId</th>\n",
       "      <th>Survived</th>\n",
       "    </tr>\n",
       "  </thead>\n",
       "  <tbody>\n",
       "    <tr>\n",
       "      <th>0</th>\n",
       "      <td>892</td>\n",
       "      <td>-1</td>\n",
       "    </tr>\n",
       "    <tr>\n",
       "      <th>1</th>\n",
       "      <td>893</td>\n",
       "      <td>-1</td>\n",
       "    </tr>\n",
       "    <tr>\n",
       "      <th>2</th>\n",
       "      <td>894</td>\n",
       "      <td>-1</td>\n",
       "    </tr>\n",
       "    <tr>\n",
       "      <th>3</th>\n",
       "      <td>895</td>\n",
       "      <td>-1</td>\n",
       "    </tr>\n",
       "    <tr>\n",
       "      <th>4</th>\n",
       "      <td>896</td>\n",
       "      <td>-1</td>\n",
       "    </tr>\n",
       "  </tbody>\n",
       "</table>\n",
       "</div>"
      ],
      "text/plain": [
       "   PassengerId  Survived\n",
       "0          892        -1\n",
       "1          893        -1\n",
       "2          894        -1\n",
       "3          895        -1\n",
       "4          896        -1"
      ]
     },
     "execution_count": 15,
     "metadata": {},
     "output_type": "execute_result"
    }
   ],
   "source": [
    "#submit형태확인\n",
    "submit.head()"
   ]
  },
  {
   "cell_type": "code",
   "execution_count": 16,
   "id": "996ab05b",
   "metadata": {
    "execution": {
     "iopub.execute_input": "2023-04-18T12:48:37.013882Z",
     "iopub.status.busy": "2023-04-18T12:48:37.013458Z",
     "iopub.status.idle": "2023-04-18T12:48:37.026894Z",
     "shell.execute_reply": "2023-04-18T12:48:37.025113Z"
    },
    "papermill": {
     "duration": 0.025091,
     "end_time": "2023-04-18T12:48:37.030443",
     "exception": false,
     "start_time": "2023-04-18T12:48:37.005352",
     "status": "completed"
    },
    "tags": []
   },
   "outputs": [],
   "source": [
    "# 제출\n",
    "submit['Survived']=model.predict(test_st)\n",
    "submit.to_csv(\"submit.csv\",mode='w',header=True,index=False)"
   ]
  },
  {
   "cell_type": "code",
   "execution_count": null,
   "id": "92ee9dd6",
   "metadata": {
    "papermill": {
     "duration": 0.006064,
     "end_time": "2023-04-18T12:48:37.043298",
     "exception": false,
     "start_time": "2023-04-18T12:48:37.037234",
     "status": "completed"
    },
    "tags": []
   },
   "outputs": [],
   "source": []
  }
 ],
 "metadata": {
  "kernelspec": {
   "display_name": "Python 3",
   "language": "python",
   "name": "python3"
  },
  "language_info": {
   "codemirror_mode": {
    "name": "ipython",
    "version": 3
   },
   "file_extension": ".py",
   "mimetype": "text/x-python",
   "name": "python",
   "nbconvert_exporter": "python",
   "pygments_lexer": "ipython3",
   "version": "3.7.12"
  },
  "papermill": {
   "default_parameters": {},
   "duration": 13.580353,
   "end_time": "2023-04-18T12:48:38.076292",
   "environment_variables": {},
   "exception": null,
   "input_path": "__notebook__.ipynb",
   "output_path": "__notebook__.ipynb",
   "parameters": {},
   "start_time": "2023-04-18T12:48:24.495939",
   "version": "2.4.0"
  }
 },
 "nbformat": 4,
 "nbformat_minor": 5
}
