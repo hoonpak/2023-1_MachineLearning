{
 "cells": [
  {
   "cell_type": "code",
   "execution_count": 1,
   "id": "e40e2dc1",
   "metadata": {
    "_cell_guid": "b1076dfc-b9ad-4769-8c92-a6c4dae69d19",
    "_uuid": "8f2839f25d086af736a60e9eeb907d3b93b6e0e5",
    "execution": {
     "iopub.execute_input": "2023-04-18T11:39:01.468955Z",
     "iopub.status.busy": "2023-04-18T11:39:01.468560Z",
     "iopub.status.idle": "2023-04-18T11:39:01.481589Z",
     "shell.execute_reply": "2023-04-18T11:39:01.480349Z"
    },
    "papermill": {
     "duration": 0.022456,
     "end_time": "2023-04-18T11:39:01.484158",
     "exception": false,
     "start_time": "2023-04-18T11:39:01.461702",
     "status": "completed"
    },
    "tags": []
   },
   "outputs": [
    {
     "name": "stdout",
     "output_type": "stream",
     "text": [
      "/kaggle/input/2023-ml-midterm-p3/train.csv\n",
      "/kaggle/input/2023-ml-midterm-p3/test.csv\n",
      "/kaggle/input/2023-ml-midterm-p3/submit_sample.csv\n"
     ]
    }
   ],
   "source": [
    "# This Python 3 environment comes with many helpful analytics libraries installed\n",
    "# It is defined by the kaggle/python Docker image: https://github.com/kaggle/docker-python\n",
    "# For example, here's several helpful packages to load\n",
    "\n",
    "import numpy as np # linear algebra\n",
    "import pandas as pd # data processing, CSV file I/O (e.g. pd.read_csv)\n",
    "\n",
    "# Input data files are available in the read-only \"../input/\" directory\n",
    "# For example, running this (by clicking run or pressing Shift+Enter) will list all files under the input directory\n",
    "\n",
    "import os\n",
    "for dirname, _, filenames in os.walk('/kaggle/input'):\n",
    "    for filename in filenames:\n",
    "        print(os.path.join(dirname, filename))\n",
    "\n",
    "# You can write up to 20GB to the current directory (/kaggle/working/) that gets preserved as output when you create a version using \"Save & Run All\" \n",
    "# You can also write temporary files to /kaggle/temp/, but they won't be saved outside of the current session"
   ]
  },
  {
   "cell_type": "code",
   "execution_count": 2,
   "id": "366e7784",
   "metadata": {
    "execution": {
     "iopub.execute_input": "2023-04-18T11:39:01.494259Z",
     "iopub.status.busy": "2023-04-18T11:39:01.493778Z",
     "iopub.status.idle": "2023-04-18T11:39:01.500522Z",
     "shell.execute_reply": "2023-04-18T11:39:01.499455Z"
    },
    "papermill": {
     "duration": 0.014716,
     "end_time": "2023-04-18T11:39:01.503095",
     "exception": false,
     "start_time": "2023-04-18T11:39:01.488379",
     "status": "completed"
    },
    "tags": []
   },
   "outputs": [],
   "source": [
    "#랜덤시드 고정\n",
    "import random\n",
    "import os\n",
    "seed = 42\n",
    "random.seed(seed)\n",
    "np.random.seed(seed)\n",
    "os.environ[\"PYTHONHASHSEED\"] = str(seed)"
   ]
  },
  {
   "cell_type": "code",
   "execution_count": 3,
   "id": "5932d2b8",
   "metadata": {
    "execution": {
     "iopub.execute_input": "2023-04-18T11:39:01.513629Z",
     "iopub.status.busy": "2023-04-18T11:39:01.513118Z",
     "iopub.status.idle": "2023-04-18T11:39:01.637136Z",
     "shell.execute_reply": "2023-04-18T11:39:01.635546Z"
    },
    "papermill": {
     "duration": 0.132909,
     "end_time": "2023-04-18T11:39:01.640324",
     "exception": false,
     "start_time": "2023-04-18T11:39:01.507415",
     "status": "completed"
    },
    "tags": []
   },
   "outputs": [],
   "source": [
    "#데이터 불러오기\n",
    "train = pd.read_csv(\"/kaggle/input/2023-ml-midterm-p3/train.csv\")\n",
    "test = pd.read_csv(\"/kaggle/input/2023-ml-midterm-p3/test.csv\")\n",
    "submit = pd.read_csv(\"/kaggle/input/2023-ml-midterm-p3/submit_sample.csv\")"
   ]
  },
  {
   "cell_type": "code",
   "execution_count": 4,
   "id": "308f8974",
   "metadata": {
    "execution": {
     "iopub.execute_input": "2023-04-18T11:39:01.650842Z",
     "iopub.status.busy": "2023-04-18T11:39:01.650416Z",
     "iopub.status.idle": "2023-04-18T11:39:01.685334Z",
     "shell.execute_reply": "2023-04-18T11:39:01.684183Z"
    },
    "papermill": {
     "duration": 0.043343,
     "end_time": "2023-04-18T11:39:01.687987",
     "exception": false,
     "start_time": "2023-04-18T11:39:01.644644",
     "status": "completed"
    },
    "tags": []
   },
   "outputs": [
    {
     "data": {
      "text/html": [
       "<div>\n",
       "<style scoped>\n",
       "    .dataframe tbody tr th:only-of-type {\n",
       "        vertical-align: middle;\n",
       "    }\n",
       "\n",
       "    .dataframe tbody tr th {\n",
       "        vertical-align: top;\n",
       "    }\n",
       "\n",
       "    .dataframe thead th {\n",
       "        text-align: right;\n",
       "    }\n",
       "</style>\n",
       "<table border=\"1\" class=\"dataframe\">\n",
       "  <thead>\n",
       "    <tr style=\"text-align: right;\">\n",
       "      <th></th>\n",
       "      <th>index</th>\n",
       "      <th>enrollee_id</th>\n",
       "      <th>city</th>\n",
       "      <th>city_development_index</th>\n",
       "      <th>gender</th>\n",
       "      <th>relevent_experience</th>\n",
       "      <th>enrolled_university</th>\n",
       "      <th>education_level</th>\n",
       "      <th>major_discipline</th>\n",
       "      <th>experience</th>\n",
       "      <th>company_size</th>\n",
       "      <th>company_type</th>\n",
       "      <th>last_new_job</th>\n",
       "      <th>training_hours</th>\n",
       "      <th>target</th>\n",
       "    </tr>\n",
       "  </thead>\n",
       "  <tbody>\n",
       "    <tr>\n",
       "      <th>0</th>\n",
       "      <td>0</td>\n",
       "      <td>8949</td>\n",
       "      <td>103</td>\n",
       "      <td>0.920</td>\n",
       "      <td>Male</td>\n",
       "      <td>Has relevent experience</td>\n",
       "      <td>no_enrollment</td>\n",
       "      <td>Graduate</td>\n",
       "      <td>STEM</td>\n",
       "      <td>&gt;20</td>\n",
       "      <td>NaN</td>\n",
       "      <td>NaN</td>\n",
       "      <td>1</td>\n",
       "      <td>36</td>\n",
       "      <td>1.0</td>\n",
       "    </tr>\n",
       "    <tr>\n",
       "      <th>1</th>\n",
       "      <td>1</td>\n",
       "      <td>29725</td>\n",
       "      <td>40</td>\n",
       "      <td>0.776</td>\n",
       "      <td>Male</td>\n",
       "      <td>No relevent experience</td>\n",
       "      <td>no_enrollment</td>\n",
       "      <td>Graduate</td>\n",
       "      <td>STEM</td>\n",
       "      <td>15</td>\n",
       "      <td>50-99</td>\n",
       "      <td>Pvt Ltd</td>\n",
       "      <td>&gt;4</td>\n",
       "      <td>47</td>\n",
       "      <td>0.0</td>\n",
       "    </tr>\n",
       "    <tr>\n",
       "      <th>2</th>\n",
       "      <td>3</td>\n",
       "      <td>33241</td>\n",
       "      <td>115</td>\n",
       "      <td>0.789</td>\n",
       "      <td>NaN</td>\n",
       "      <td>No relevent experience</td>\n",
       "      <td>NaN</td>\n",
       "      <td>Graduate</td>\n",
       "      <td>Business Degree</td>\n",
       "      <td>&lt;1</td>\n",
       "      <td>NaN</td>\n",
       "      <td>Pvt Ltd</td>\n",
       "      <td>never</td>\n",
       "      <td>52</td>\n",
       "      <td>1.0</td>\n",
       "    </tr>\n",
       "    <tr>\n",
       "      <th>3</th>\n",
       "      <td>4</td>\n",
       "      <td>666</td>\n",
       "      <td>162</td>\n",
       "      <td>0.767</td>\n",
       "      <td>Male</td>\n",
       "      <td>Has relevent experience</td>\n",
       "      <td>no_enrollment</td>\n",
       "      <td>Masters</td>\n",
       "      <td>STEM</td>\n",
       "      <td>&gt;20</td>\n",
       "      <td>50-99</td>\n",
       "      <td>Funded Startup</td>\n",
       "      <td>4</td>\n",
       "      <td>8</td>\n",
       "      <td>0.0</td>\n",
       "    </tr>\n",
       "    <tr>\n",
       "      <th>4</th>\n",
       "      <td>5</td>\n",
       "      <td>21651</td>\n",
       "      <td>176</td>\n",
       "      <td>0.764</td>\n",
       "      <td>NaN</td>\n",
       "      <td>Has relevent experience</td>\n",
       "      <td>Part time course</td>\n",
       "      <td>Graduate</td>\n",
       "      <td>STEM</td>\n",
       "      <td>11</td>\n",
       "      <td>NaN</td>\n",
       "      <td>NaN</td>\n",
       "      <td>1</td>\n",
       "      <td>24</td>\n",
       "      <td>1.0</td>\n",
       "    </tr>\n",
       "  </tbody>\n",
       "</table>\n",
       "</div>"
      ],
      "text/plain": [
       "   index  enrollee_id  city  city_development_index gender  \\\n",
       "0      0         8949   103                   0.920   Male   \n",
       "1      1        29725    40                   0.776   Male   \n",
       "2      3        33241   115                   0.789    NaN   \n",
       "3      4          666   162                   0.767   Male   \n",
       "4      5        21651   176                   0.764    NaN   \n",
       "\n",
       "       relevent_experience enrolled_university education_level  \\\n",
       "0  Has relevent experience       no_enrollment        Graduate   \n",
       "1   No relevent experience       no_enrollment        Graduate   \n",
       "2   No relevent experience                 NaN        Graduate   \n",
       "3  Has relevent experience       no_enrollment         Masters   \n",
       "4  Has relevent experience    Part time course        Graduate   \n",
       "\n",
       "  major_discipline experience company_size    company_type last_new_job  \\\n",
       "0             STEM        >20          NaN             NaN            1   \n",
       "1             STEM         15        50-99         Pvt Ltd           >4   \n",
       "2  Business Degree         <1          NaN         Pvt Ltd        never   \n",
       "3             STEM        >20        50-99  Funded Startup            4   \n",
       "4             STEM         11          NaN             NaN            1   \n",
       "\n",
       "   training_hours  target  \n",
       "0              36     1.0  \n",
       "1              47     0.0  \n",
       "2              52     1.0  \n",
       "3               8     0.0  \n",
       "4              24     1.0  "
      ]
     },
     "execution_count": 4,
     "metadata": {},
     "output_type": "execute_result"
    }
   ],
   "source": [
    "#데이터 확인하기\n",
    "train.head()"
   ]
  },
  {
   "cell_type": "code",
   "execution_count": 5,
   "id": "d34705a7",
   "metadata": {
    "execution": {
     "iopub.execute_input": "2023-04-18T11:39:01.699009Z",
     "iopub.status.busy": "2023-04-18T11:39:01.697980Z",
     "iopub.status.idle": "2023-04-18T11:39:01.711612Z",
     "shell.execute_reply": "2023-04-18T11:39:01.710379Z"
    },
    "papermill": {
     "duration": 0.021793,
     "end_time": "2023-04-18T11:39:01.714232",
     "exception": false,
     "start_time": "2023-04-18T11:39:01.692439",
     "status": "completed"
    },
    "tags": []
   },
   "outputs": [],
   "source": [
    "#데이터에 필요없는 칼럼 없애주기\n",
    "train.drop(['index','enrollee_id','city_development_index'],axis=1,inplace=True)\n",
    "test.drop(['index','enrollee_id','city_development_index'],axis=1,inplace=True)"
   ]
  },
  {
   "cell_type": "code",
   "execution_count": 6,
   "id": "2cb7173b",
   "metadata": {
    "execution": {
     "iopub.execute_input": "2023-04-18T11:39:01.726169Z",
     "iopub.status.busy": "2023-04-18T11:39:01.725210Z",
     "iopub.status.idle": "2023-04-18T11:39:01.737021Z",
     "shell.execute_reply": "2023-04-18T11:39:01.735777Z"
    },
    "papermill": {
     "duration": 0.020866,
     "end_time": "2023-04-18T11:39:01.739990",
     "exception": false,
     "start_time": "2023-04-18T11:39:01.719124",
     "status": "completed"
    },
    "tags": []
   },
   "outputs": [],
   "source": [
    "#독립변수와 종속변수 나눠주기\n",
    "x=train.drop(['target'],axis=1)\n",
    "y=train['target'].astype('int64')"
   ]
  },
  {
   "cell_type": "code",
   "execution_count": 7,
   "id": "e526ced6",
   "metadata": {
    "execution": {
     "iopub.execute_input": "2023-04-18T11:39:01.751559Z",
     "iopub.status.busy": "2023-04-18T11:39:01.750853Z",
     "iopub.status.idle": "2023-04-18T11:39:01.760772Z",
     "shell.execute_reply": "2023-04-18T11:39:01.759700Z"
    },
    "papermill": {
     "duration": 0.018909,
     "end_time": "2023-04-18T11:39:01.763606",
     "exception": false,
     "start_time": "2023-04-18T11:39:01.744697",
     "status": "completed"
    },
    "tags": []
   },
   "outputs": [],
   "source": [
    "#x와 test데이터 합친 data만들어주기\n",
    "data = pd.concat([x,test])"
   ]
  },
  {
   "cell_type": "code",
   "execution_count": 8,
   "id": "876143fe",
   "metadata": {
    "execution": {
     "iopub.execute_input": "2023-04-18T11:39:01.774431Z",
     "iopub.status.busy": "2023-04-18T11:39:01.774015Z",
     "iopub.status.idle": "2023-04-18T11:39:02.239415Z",
     "shell.execute_reply": "2023-04-18T11:39:02.238086Z"
    },
    "papermill": {
     "duration": 0.47429,
     "end_time": "2023-04-18T11:39:02.242291",
     "exception": false,
     "start_time": "2023-04-18T11:39:01.768001",
     "status": "completed"
    },
    "tags": []
   },
   "outputs": [],
   "source": [
    "#dict형태로 바꿔주기\n",
    "x=x.to_dict(\"records\")\n",
    "test=test.to_dict(\"records\")\n",
    "data=data.to_dict(\"records\")"
   ]
  },
  {
   "cell_type": "code",
   "execution_count": 9,
   "id": "9231e91d",
   "metadata": {
    "execution": {
     "iopub.execute_input": "2023-04-18T11:39:02.252860Z",
     "iopub.status.busy": "2023-04-18T11:39:02.252403Z",
     "iopub.status.idle": "2023-04-18T11:39:03.829745Z",
     "shell.execute_reply": "2023-04-18T11:39:03.828474Z"
    },
    "papermill": {
     "duration": 1.585781,
     "end_time": "2023-04-18T11:39:03.832617",
     "exception": false,
     "start_time": "2023-04-18T11:39:02.246836",
     "status": "completed"
    },
    "tags": []
   },
   "outputs": [],
   "source": [
    "#범주형 데이터 수치형으로 표현하기\n",
    "from sklearn.feature_extraction import DictVectorizer\n",
    "dv=DictVectorizer()\n",
    "data = dv.fit_transform(data)\n",
    "test = dv.transform(test)\n",
    "x = dv.transform(x)"
   ]
  },
  {
   "cell_type": "code",
   "execution_count": 10,
   "id": "3e05b912",
   "metadata": {
    "execution": {
     "iopub.execute_input": "2023-04-18T11:39:03.843104Z",
     "iopub.status.busy": "2023-04-18T11:39:03.842677Z",
     "iopub.status.idle": "2023-04-18T11:39:04.119666Z",
     "shell.execute_reply": "2023-04-18T11:39:04.118394Z"
    },
    "papermill": {
     "duration": 0.285572,
     "end_time": "2023-04-18T11:39:04.122569",
     "exception": false,
     "start_time": "2023-04-18T11:39:03.836997",
     "status": "completed"
    },
    "tags": []
   },
   "outputs": [],
   "source": [
    "# 결측치 채우기\n",
    "from sklearn.impute import SimpleImputer\n",
    "si = SimpleImputer()\n",
    "x = si.fit_transform(x)\n",
    "test = si.transform(test)"
   ]
  },
  {
   "cell_type": "code",
   "execution_count": 11,
   "id": "f1be2250",
   "metadata": {
    "execution": {
     "iopub.execute_input": "2023-04-18T11:39:04.133615Z",
     "iopub.status.busy": "2023-04-18T11:39:04.133151Z",
     "iopub.status.idle": "2023-04-18T11:39:05.367964Z",
     "shell.execute_reply": "2023-04-18T11:39:05.366499Z"
    },
    "papermill": {
     "duration": 1.243429,
     "end_time": "2023-04-18T11:39:05.370516",
     "exception": false,
     "start_time": "2023-04-18T11:39:04.127087",
     "status": "completed"
    },
    "tags": []
   },
   "outputs": [
    {
     "name": "stdout",
     "output_type": "stream",
     "text": [
      "0.7629518465352995\n"
     ]
    }
   ],
   "source": [
    "#모델 학습 및 정확도 확인\n",
    "from sklearn.linear_model import LogisticRegression\n",
    "from sklearn.metrics import accuracy_score\n",
    "model=LogisticRegression(max_iter=1000)\n",
    "model.fit(x,y)\n",
    "print(accuracy_score(y,model.predict(x)))"
   ]
  },
  {
   "cell_type": "code",
   "execution_count": 12,
   "id": "1bf1c985",
   "metadata": {
    "execution": {
     "iopub.execute_input": "2023-04-18T11:39:05.381666Z",
     "iopub.status.busy": "2023-04-18T11:39:05.380979Z",
     "iopub.status.idle": "2023-04-18T11:39:05.397186Z",
     "shell.execute_reply": "2023-04-18T11:39:05.396108Z"
    },
    "papermill": {
     "duration": 0.024175,
     "end_time": "2023-04-18T11:39:05.399585",
     "exception": false,
     "start_time": "2023-04-18T11:39:05.375410",
     "status": "completed"
    },
    "tags": []
   },
   "outputs": [],
   "source": [
    "# 제출\n",
    "submit['target']=model.predict(test)\n",
    "submit.to_csv(\"submit.csv\",mode='w',header=True,index=False)"
   ]
  },
  {
   "cell_type": "code",
   "execution_count": null,
   "id": "b9b49934",
   "metadata": {
    "papermill": {
     "duration": 0.004125,
     "end_time": "2023-04-18T11:39:05.408152",
     "exception": false,
     "start_time": "2023-04-18T11:39:05.404027",
     "status": "completed"
    },
    "tags": []
   },
   "outputs": [],
   "source": []
  }
 ],
 "metadata": {
  "kernelspec": {
   "display_name": "Python 3",
   "language": "python",
   "name": "python3"
  },
  "language_info": {
   "codemirror_mode": {
    "name": "ipython",
    "version": 3
   },
   "file_extension": ".py",
   "mimetype": "text/x-python",
   "name": "python",
   "nbconvert_exporter": "python",
   "pygments_lexer": "ipython3",
   "version": "3.7.12"
  },
  "papermill": {
   "default_parameters": {},
   "duration": 14.973839,
   "end_time": "2023-04-18T11:39:06.134114",
   "environment_variables": {},
   "exception": null,
   "input_path": "__notebook__.ipynb",
   "output_path": "__notebook__.ipynb",
   "parameters": {},
   "start_time": "2023-04-18T11:38:51.160275",
   "version": "2.4.0"
  }
 },
 "nbformat": 4,
 "nbformat_minor": 5
}
