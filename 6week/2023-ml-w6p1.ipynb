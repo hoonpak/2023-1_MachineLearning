{
 "cells": [
  {
   "cell_type": "code",
   "execution_count": 1,
   "id": "cbbe4c00",
   "metadata": {
    "_cell_guid": "b1076dfc-b9ad-4769-8c92-a6c4dae69d19",
    "_uuid": "8f2839f25d086af736a60e9eeb907d3b93b6e0e5",
    "execution": {
     "iopub.execute_input": "2023-04-09T19:20:23.621516Z",
     "iopub.status.busy": "2023-04-09T19:20:23.620490Z",
     "iopub.status.idle": "2023-04-09T19:20:23.639852Z",
     "shell.execute_reply": "2023-04-09T19:20:23.638133Z"
    },
    "papermill": {
     "duration": 0.031648,
     "end_time": "2023-04-09T19:20:23.643344",
     "exception": false,
     "start_time": "2023-04-09T19:20:23.611696",
     "status": "completed"
    },
    "tags": []
   },
   "outputs": [
    {
     "name": "stdout",
     "output_type": "stream",
     "text": [
      "/kaggle/input/2023-ml-w6p1/submit.csv\n",
      "/kaggle/input/2023-ml-w6p1/train.csv\n",
      "/kaggle/input/2023-ml-w6p1/test.csv\n",
      "/kaggle/input/2023-ml-w6p1/train_label.csv\n"
     ]
    }
   ],
   "source": [
    "# This Python 3 environment comes with many helpful analytics libraries installed\n",
    "# It is defined by the kaggle/python Docker image: https://github.com/kaggle/docker-python\n",
    "# For example, here's several helpful packages to load\n",
    "\n",
    "import numpy as np # linear algebra\n",
    "import pandas as pd # data processing, CSV file I/O (e.g. pd.read_csv)\n",
    "\n",
    "# Input data files are available in the read-only \"../input/\" directory\n",
    "# For example, running this (by clicking run or pressing Shift+Enter) will list all files under the input directory\n",
    "\n",
    "import os\n",
    "for dirname, _, filenames in os.walk('/kaggle/input'):\n",
    "    for filename in filenames:\n",
    "        print(os.path.join(dirname, filename))\n",
    "\n",
    "# You can write up to 20GB to the current directory (/kaggle/working/) that gets preserved as output when you create a version using \"Save & Run All\" \n",
    "# You can also write temporary files to /kaggle/temp/, but they won't be saved outside of the current session"
   ]
  },
  {
   "cell_type": "code",
   "execution_count": 2,
   "id": "75999d47",
   "metadata": {
    "execution": {
     "iopub.execute_input": "2023-04-09T19:20:23.655654Z",
     "iopub.status.busy": "2023-04-09T19:20:23.655258Z",
     "iopub.status.idle": "2023-04-09T19:20:23.660788Z",
     "shell.execute_reply": "2023-04-09T19:20:23.659247Z"
    },
    "papermill": {
     "duration": 0.014826,
     "end_time": "2023-04-09T19:20:23.663421",
     "exception": false,
     "start_time": "2023-04-09T19:20:23.648595",
     "status": "completed"
    },
    "tags": []
   },
   "outputs": [],
   "source": [
    "import random\n",
    "random.seed(123)"
   ]
  },
  {
   "cell_type": "code",
   "execution_count": 3,
   "id": "131e8a85",
   "metadata": {
    "execution": {
     "iopub.execute_input": "2023-04-09T19:20:23.676336Z",
     "iopub.status.busy": "2023-04-09T19:20:23.675008Z",
     "iopub.status.idle": "2023-04-09T19:20:29.341594Z",
     "shell.execute_reply": "2023-04-09T19:20:29.340471Z"
    },
    "papermill": {
     "duration": 5.676096,
     "end_time": "2023-04-09T19:20:29.344456",
     "exception": false,
     "start_time": "2023-04-09T19:20:23.668360",
     "status": "completed"
    },
    "tags": []
   },
   "outputs": [],
   "source": [
    "x = pd.read_csv(\"/kaggle/input/2023-ml-w6p1/train.csv\")\n",
    "test = pd.read_csv(\"/kaggle/input/2023-ml-w6p1/test.csv\")\n",
    "y = pd.read_csv(\"/kaggle/input/2023-ml-w6p1/train_label.csv\")\n",
    "submit = pd.read_csv(\"/kaggle/input/2023-ml-w6p1/submit.csv\")"
   ]
  },
  {
   "cell_type": "code",
   "execution_count": 4,
   "id": "1f73e324",
   "metadata": {
    "execution": {
     "iopub.execute_input": "2023-04-09T19:20:29.355920Z",
     "iopub.status.busy": "2023-04-09T19:20:29.355533Z",
     "iopub.status.idle": "2023-04-09T19:20:29.446585Z",
     "shell.execute_reply": "2023-04-09T19:20:29.445144Z"
    },
    "papermill": {
     "duration": 0.099914,
     "end_time": "2023-04-09T19:20:29.449323",
     "exception": false,
     "start_time": "2023-04-09T19:20:29.349409",
     "status": "completed"
    },
    "tags": []
   },
   "outputs": [],
   "source": [
    "y.drop(['id'],axis=1,inplace=True)"
   ]
  },
  {
   "cell_type": "code",
   "execution_count": 5,
   "id": "55dc326b",
   "metadata": {
    "execution": {
     "iopub.execute_input": "2023-04-09T19:20:29.461370Z",
     "iopub.status.busy": "2023-04-09T19:20:29.460934Z",
     "iopub.status.idle": "2023-04-09T19:20:29.466537Z",
     "shell.execute_reply": "2023-04-09T19:20:29.465353Z"
    },
    "papermill": {
     "duration": 0.01449,
     "end_time": "2023-04-09T19:20:29.468890",
     "exception": false,
     "start_time": "2023-04-09T19:20:29.454400",
     "status": "completed"
    },
    "tags": []
   },
   "outputs": [],
   "source": [
    "y = np.squeeze(y)"
   ]
  },
  {
   "cell_type": "code",
   "execution_count": 6,
   "id": "fe2b4d4a",
   "metadata": {
    "execution": {
     "iopub.execute_input": "2023-04-09T19:20:29.480324Z",
     "iopub.status.busy": "2023-04-09T19:20:29.479894Z",
     "iopub.status.idle": "2023-04-09T19:20:29.536153Z",
     "shell.execute_reply": "2023-04-09T19:20:29.535157Z"
    },
    "papermill": {
     "duration": 0.065169,
     "end_time": "2023-04-09T19:20:29.538980",
     "exception": false,
     "start_time": "2023-04-09T19:20:29.473811",
     "status": "completed"
    },
    "tags": []
   },
   "outputs": [],
   "source": [
    "group_num = {}\n",
    "for group in np.unique(y):\n",
    "    num = np.sum(y == group)\n",
    "    group_num[group] = num"
   ]
  },
  {
   "cell_type": "code",
   "execution_count": 7,
   "id": "09343808",
   "metadata": {
    "execution": {
     "iopub.execute_input": "2023-04-09T19:20:29.550915Z",
     "iopub.status.busy": "2023-04-09T19:20:29.550191Z",
     "iopub.status.idle": "2023-04-09T19:20:29.558559Z",
     "shell.execute_reply": "2023-04-09T19:20:29.557301Z"
    },
    "papermill": {
     "duration": 0.017018,
     "end_time": "2023-04-09T19:20:29.561035",
     "exception": false,
     "start_time": "2023-04-09T19:20:29.544017",
     "status": "completed"
    },
    "tags": []
   },
   "outputs": [
    {
     "data": {
      "text/plain": [
       "26"
      ]
     },
     "execution_count": 7,
     "metadata": {},
     "output_type": "execute_result"
    }
   ],
   "source": [
    "min(group_num.values()) #독립변수가 26보다 작아야함."
   ]
  },
  {
   "cell_type": "code",
   "execution_count": 8,
   "id": "41cfa7d6",
   "metadata": {
    "execution": {
     "iopub.execute_input": "2023-04-09T19:20:29.572938Z",
     "iopub.status.busy": "2023-04-09T19:20:29.572222Z",
     "iopub.status.idle": "2023-04-09T19:20:30.809905Z",
     "shell.execute_reply": "2023-04-09T19:20:30.808935Z"
    },
    "papermill": {
     "duration": 1.246838,
     "end_time": "2023-04-09T19:20:30.812810",
     "exception": false,
     "start_time": "2023-04-09T19:20:29.565972",
     "status": "completed"
    },
    "tags": []
   },
   "outputs": [],
   "source": [
    "from sklearn.model_selection import train_test_split \n",
    "from sklearn.preprocessing import StandardScaler\n",
    "from sklearn.discriminant_analysis import LinearDiscriminantAnalysis\n",
    "from sklearn.metrics import accuracy_score"
   ]
  },
  {
   "cell_type": "code",
   "execution_count": 9,
   "id": "6efe8fd2",
   "metadata": {
    "execution": {
     "iopub.execute_input": "2023-04-09T19:20:30.824766Z",
     "iopub.status.busy": "2023-04-09T19:20:30.824352Z",
     "iopub.status.idle": "2023-04-09T19:20:30.830480Z",
     "shell.execute_reply": "2023-04-09T19:20:30.829339Z"
    },
    "papermill": {
     "duration": 0.015105,
     "end_time": "2023-04-09T19:20:30.833029",
     "exception": false,
     "start_time": "2023-04-09T19:20:30.817924",
     "status": "completed"
    },
    "tags": []
   },
   "outputs": [],
   "source": [
    "def get_random_columns(df, n):\n",
    "    \"\"\"\n",
    "    주어진 데이터프레임에서 랜덤으로 n개의 칼럼을 선택하여 반환하는 함수입니다.\n",
    "    \n",
    "    Parameters:\n",
    "        - df: 데이터프레임\n",
    "        - n: 선택할 칼럼의 수\n",
    "        \n",
    "    Returns:\n",
    "        - 선택된 칼럼들로 이루어진 새로운 데이터프레임\n",
    "    \"\"\"\n",
    "    cols = df.columns.tolist()\n",
    "    random.shuffle(cols)  # 칼럼들을 랜덤하게 섞음\n",
    "    return df[cols[:n]]  # 상위 n개의 칼럼만 선택하여 반환"
   ]
  },
  {
   "cell_type": "code",
   "execution_count": 10,
   "id": "16262a7c",
   "metadata": {
    "execution": {
     "iopub.execute_input": "2023-04-09T19:20:30.844769Z",
     "iopub.status.busy": "2023-04-09T19:20:30.844390Z",
     "iopub.status.idle": "2023-04-09T19:20:30.852241Z",
     "shell.execute_reply": "2023-04-09T19:20:30.850923Z"
    },
    "papermill": {
     "duration": 0.016767,
     "end_time": "2023-04-09T19:20:30.854961",
     "exception": false,
     "start_time": "2023-04-09T19:20:30.838194",
     "status": "completed"
    },
    "tags": []
   },
   "outputs": [],
   "source": [
    "def get_LDA(x,y):\n",
    "    X_train,X_test,Y_train,Y_test=train_test_split(x,y, test_size=0.2, random_state=42, stratify=y)\n",
    "    \n",
    "    ss = StandardScaler()\n",
    "    X_train_ss = ss.fit_transform(X_train)\n",
    "    X_test_ss = ss.transform(X_test)\n",
    "    \n",
    "    lda_ss = LinearDiscriminantAnalysis()\n",
    "    lda_ss.fit(X_train_ss, Y_train) # LDA 학습\n",
    "    X_train_ss_pred = lda_ss.predict(X_train_ss)\n",
    "    X_test_ss_pred = lda_ss.predict(X_test_ss)\n",
    "    \n",
    "    return accuracy_score(Y_train, X_train_ss_pred),accuracy_score(Y_test, X_test_ss_pred)"
   ]
  },
  {
   "cell_type": "code",
   "execution_count": 11,
   "id": "62b8f598",
   "metadata": {
    "execution": {
     "iopub.execute_input": "2023-04-09T19:20:30.866871Z",
     "iopub.status.busy": "2023-04-09T19:20:30.866475Z",
     "iopub.status.idle": "2023-04-09T19:20:30.871709Z",
     "shell.execute_reply": "2023-04-09T19:20:30.870448Z"
    },
    "papermill": {
     "duration": 0.014088,
     "end_time": "2023-04-09T19:20:30.874200",
     "exception": false,
     "start_time": "2023-04-09T19:20:30.860112",
     "status": "completed"
    },
    "tags": []
   },
   "outputs": [],
   "source": [
    "col_count = [25, 75, 125, 175, 225]"
   ]
  },
  {
   "cell_type": "code",
   "execution_count": 12,
   "id": "fdc1388d",
   "metadata": {
    "execution": {
     "iopub.execute_input": "2023-04-09T19:20:30.885604Z",
     "iopub.status.busy": "2023-04-09T19:20:30.885233Z",
     "iopub.status.idle": "2023-04-09T19:24:05.830588Z",
     "shell.execute_reply": "2023-04-09T19:24:05.829128Z"
    },
    "papermill": {
     "duration": 214.976572,
     "end_time": "2023-04-09T19:24:05.855721",
     "exception": false,
     "start_time": "2023-04-09T19:20:30.879149",
     "status": "completed"
    },
    "tags": []
   },
   "outputs": [
    {
     "name": "stdout",
     "output_type": "stream",
     "text": [
      "num of columns : 25 \n",
      "\n",
      "renewal 0.3442356342609324 0.33532068654019875 \n",
      " Index(['75', '217', '50', '161', '115', '154', '76', '197', '31', '231'], dtype='object')\n",
      "renewal 0.38995301770870977 0.37651309846431796 \n",
      " Index(['178', '99', '237', '139', '0', '143', '64', '253', '103', '49'], dtype='object')\n",
      "renewal 0.4041832309360318 0.3992773261065944 \n",
      " Index(['123', '27', '231', '95', '39', '72', '14', '166', '22', '138'], dtype='object')\n",
      "renewal 0.4007047343693531 0.4041553748870822 \n",
      " Index(['80', '135', '40', '50', '11', '15', '44', '23', '105', '2'], dtype='object')\n",
      "renewal 0.42397000361402243 0.41806684733514 \n",
      " Index(['154', '11', '134', '0', '218', '149', '32', '175', '61', '36'], dtype='object')\n",
      "\n",
      "num of columns : 75 \n",
      "\n",
      "renewal 0.49733465847488256 0.46648599819331527 \n",
      " Index(['148', '178', '250', '227', '110', '151', '157', '127', '17', '10'], dtype='object')\n",
      "renewal 0.5401608239971087 0.5004516711833785 \n",
      " Index(['73', '80', '207', '189', '153', '158', '59', '246', '89', '177'], dtype='object')\n",
      "renewal 0.5431875677629201 0.5183378500451671 \n",
      " Index(['179', '249', '82', '42', '47', '35', '61', '64', '132', '19'], dtype='object')\n",
      "renewal 0.5589537405131911 0.5315266485998194 \n",
      " Index(['231', '140', '36', '206', '154', '35', '214', '26', '152', '119'], dtype='object')\n",
      "renewal 0.5642844235634261 0.5374887082204155 \n",
      " Index(['135', '89', '114', '39', '151', '233', '226', '206', '156', '163'], dtype='object')\n",
      "\n",
      "num of columns : 125 \n",
      "\n",
      "renewal 0.6169136248644742 0.5555555555555556 \n",
      " Index(['7', '160', '228', '136', '148', '192', '145', '207', '222', '232'], dtype='object')\n",
      "renewal 0.614880737260571 0.5669376693766938 \n",
      " Index(['204', '7', '174', '86', '4', '17', '200', '54', '181', '32'], dtype='object')\n",
      "\n",
      "num of columns : 175 \n",
      "\n",
      "renewal 0.6413082761113119 0.5723577235772358 \n",
      " Index(['112', '162', '37', '111', '43', '31', '108', '86', '22', '12'], dtype='object')\n",
      "renewal 0.64867184676545 0.5757904245709123 \n",
      " Index(['28', '253', '190', '189', '129', '187', '233', '133', '188', '185'], dtype='object')\n",
      "renewal 0.6519696422117817 0.5779584462511291 \n",
      " Index(['237', '62', '87', '131', '128', '246', '176', '162', '126', '245'], dtype='object')\n",
      "renewal 0.6530990242139502 0.5815718157181572 \n",
      " Index(['125', '75', '51', '150', '33', '245', '222', '198', '88', '68'], dtype='object')\n",
      "\n",
      "num of columns : 225 \n",
      "\n",
      "renewal 0.6689103722443079 0.5824751580849142 \n",
      " Index(['91', '154', '19', '67', '104', '222', '249', '42', '89', '240'], dtype='object')\n",
      "renewal 0.6726147452114203 0.5833785004516712 \n",
      " Index(['181', '112', '148', '162', '201', '74', '103', '58', '130', '125'], dtype='object')\n",
      "renewal 0.6677358149620528 0.5848238482384824 \n",
      " Index(['236', '173', '57', '27', '252', '176', '159', '101', '12', '46'], dtype='object')\n",
      "renewal 0.667871340802313 0.5850045167118337 \n",
      " Index(['129', '61', '161', '13', '106', '2', '246', '120', '146', '228'], dtype='object')\n",
      "renewal 0.6691362486447416 0.5880758807588076 \n",
      " Index(['57', '147', '17', '1', '41', '205', '201', '64', '229', '89'], dtype='object')\n",
      "\n"
     ]
    }
   ],
   "source": [
    "the_best_acc = 0\n",
    "for i in col_count:\n",
    "    print(\"num of columns :\", i,'\\n')\n",
    "    for _ in range(50):\n",
    "        sel_x = get_random_columns(x,i)\n",
    "        acc1, acc2 = get_LDA(sel_x,y)\n",
    "        if the_best_acc < acc2:\n",
    "            the_best_acc = acc2\n",
    "            best_x = sel_x\n",
    "            print(\"renewal\",acc1, acc2,\"\\n\",sel_x.columns[:10])\n",
    "    print()"
   ]
  },
  {
   "cell_type": "code",
   "execution_count": 13,
   "id": "b50180f1",
   "metadata": {
    "execution": {
     "iopub.execute_input": "2023-04-09T19:24:05.893171Z",
     "iopub.status.busy": "2023-04-09T19:24:05.892388Z",
     "iopub.status.idle": "2023-04-09T19:24:06.036931Z",
     "shell.execute_reply": "2023-04-09T19:24:06.035488Z"
    },
    "papermill": {
     "duration": 0.166618,
     "end_time": "2023-04-09T19:24:06.039946",
     "exception": false,
     "start_time": "2023-04-09T19:24:05.873328",
     "status": "completed"
    },
    "tags": []
   },
   "outputs": [],
   "source": [
    "from sklearn.preprocessing import StandardScaler\n",
    "ss2 = StandardScaler()\n",
    "best_x_ss = ss2.fit_transform(best_x)\n",
    "test_ss = ss2.transform(test[best_x.columns])"
   ]
  },
  {
   "cell_type": "code",
   "execution_count": 14,
   "id": "9f7c015a",
   "metadata": {
    "execution": {
     "iopub.execute_input": "2023-04-09T19:24:06.055637Z",
     "iopub.status.busy": "2023-04-09T19:24:06.055202Z",
     "iopub.status.idle": "2023-04-09T19:24:07.431516Z",
     "shell.execute_reply": "2023-04-09T19:24:07.429659Z"
    },
    "papermill": {
     "duration": 1.389574,
     "end_time": "2023-04-09T19:24:07.436378",
     "exception": false,
     "start_time": "2023-04-09T19:24:06.046804",
     "status": "completed"
    },
    "tags": []
   },
   "outputs": [],
   "source": [
    "lda = LinearDiscriminantAnalysis()\n",
    "lda.fit(best_x_ss, y) # LDA 학습\n",
    "pred = lda.predict(test_ss)"
   ]
  },
  {
   "cell_type": "code",
   "execution_count": 15,
   "id": "1ff5f7c7",
   "metadata": {
    "execution": {
     "iopub.execute_input": "2023-04-09T19:24:07.473595Z",
     "iopub.status.busy": "2023-04-09T19:24:07.472821Z",
     "iopub.status.idle": "2023-04-09T19:24:07.533543Z",
     "shell.execute_reply": "2023-04-09T19:24:07.532584Z"
    },
    "papermill": {
     "duration": 0.082748,
     "end_time": "2023-04-09T19:24:07.536302",
     "exception": false,
     "start_time": "2023-04-09T19:24:07.453554",
     "status": "completed"
    },
    "tags": []
   },
   "outputs": [],
   "source": [
    "submit['label'] = pred\n",
    "submit.to_csv(\"submit.csv\", mode='w', header= True, index= False)"
   ]
  },
  {
   "cell_type": "code",
   "execution_count": null,
   "id": "67ece71a",
   "metadata": {
    "execution": {
     "iopub.execute_input": "2023-04-06T03:30:46.530985Z",
     "iopub.status.busy": "2023-04-06T03:30:46.530572Z",
     "iopub.status.idle": "2023-04-06T03:30:46.539162Z",
     "shell.execute_reply": "2023-04-06T03:30:46.537992Z",
     "shell.execute_reply.started": "2023-04-06T03:30:46.530950Z"
    },
    "papermill": {
     "duration": 0.006291,
     "end_time": "2023-04-09T19:24:07.549212",
     "exception": false,
     "start_time": "2023-04-09T19:24:07.542921",
     "status": "completed"
    },
    "tags": []
   },
   "outputs": [],
   "source": []
  },
  {
   "cell_type": "code",
   "execution_count": null,
   "id": "09601738",
   "metadata": {
    "papermill": {
     "duration": 0.006369,
     "end_time": "2023-04-09T19:24:07.562213",
     "exception": false,
     "start_time": "2023-04-09T19:24:07.555844",
     "status": "completed"
    },
    "tags": []
   },
   "outputs": [],
   "source": []
  }
 ],
 "metadata": {
  "kernelspec": {
   "display_name": "Python 3",
   "language": "python",
   "name": "python3"
  },
  "language_info": {
   "codemirror_mode": {
    "name": "ipython",
    "version": 3
   },
   "file_extension": ".py",
   "mimetype": "text/x-python",
   "name": "python",
   "nbconvert_exporter": "python",
   "pygments_lexer": "ipython3",
   "version": "3.7.12"
  },
  "papermill": {
   "default_parameters": {},
   "duration": 235.533586,
   "end_time": "2023-04-09T19:24:08.392959",
   "environment_variables": {},
   "exception": null,
   "input_path": "__notebook__.ipynb",
   "output_path": "__notebook__.ipynb",
   "parameters": {},
   "start_time": "2023-04-09T19:20:12.859373",
   "version": "2.4.0"
  }
 },
 "nbformat": 4,
 "nbformat_minor": 5
}
