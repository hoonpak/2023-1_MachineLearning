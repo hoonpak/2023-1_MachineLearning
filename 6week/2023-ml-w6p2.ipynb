{
 "cells": [
  {
   "cell_type": "code",
   "execution_count": 1,
   "id": "02c6004e",
   "metadata": {
    "_cell_guid": "b1076dfc-b9ad-4769-8c92-a6c4dae69d19",
    "_uuid": "8f2839f25d086af736a60e9eeb907d3b93b6e0e5",
    "execution": {
     "iopub.execute_input": "2023-04-09T20:13:28.626588Z",
     "iopub.status.busy": "2023-04-09T20:13:28.625514Z",
     "iopub.status.idle": "2023-04-09T20:13:28.642361Z",
     "shell.execute_reply": "2023-04-09T20:13:28.641034Z"
    },
    "papermill": {
     "duration": 0.02736,
     "end_time": "2023-04-09T20:13:28.645350",
     "exception": false,
     "start_time": "2023-04-09T20:13:28.617990",
     "status": "completed"
    },
    "tags": []
   },
   "outputs": [
    {
     "name": "stdout",
     "output_type": "stream",
     "text": [
      "/kaggle/input/2023-ml-w6p2/submit.csv\n",
      "/kaggle/input/2023-ml-w6p2/train.csv\n",
      "/kaggle/input/2023-ml-w6p2/test.csv\n"
     ]
    }
   ],
   "source": [
    "## This Python 3 environment comes with many helpful analytics libraries installed\n",
    "# It is defined by the kaggle/python Docker image: https://github.com/kaggle/docker-python\n",
    "# For example, here's several helpful packages to load\n",
    "\n",
    "import numpy as np # linear algebra\n",
    "import pandas as pd # data processing, CSV file I/O (e.g. pd.read_csv)\n",
    "\n",
    "# Input data files are available in the read-only \"../input/\" directory\n",
    "# For example, running this (by clicking run or pressing Shift+Enter) will list all files under the input directory\n",
    "\n",
    "import os\n",
    "for dirname, _, filenames in os.walk('/kaggle/input'):\n",
    "    for filename in filenames:\n",
    "        print(os.path.join(dirname, filename))\n",
    "\n",
    "# You can write up to 20GB to the current directory (/kaggle/working/) that gets preserved as output when you create a version using \"Save & Run All\" \n",
    "# You can also write temporary files to /kaggle/temp/, but they won't be saved outside of the current session"
   ]
  },
  {
   "cell_type": "code",
   "execution_count": 2,
   "id": "8fb6ddc3",
   "metadata": {
    "execution": {
     "iopub.execute_input": "2023-04-09T20:13:28.658029Z",
     "iopub.status.busy": "2023-04-09T20:13:28.657318Z",
     "iopub.status.idle": "2023-04-09T20:13:28.685763Z",
     "shell.execute_reply": "2023-04-09T20:13:28.684729Z"
    },
    "papermill": {
     "duration": 0.037229,
     "end_time": "2023-04-09T20:13:28.688435",
     "exception": false,
     "start_time": "2023-04-09T20:13:28.651206",
     "status": "completed"
    },
    "tags": []
   },
   "outputs": [],
   "source": [
    "train = pd.read_csv(\"/kaggle/input/2023-ml-w6p2/train.csv\")\n",
    "test = pd.read_csv(\"/kaggle/input/2023-ml-w6p2/test.csv\")\n",
    "submit = pd.read_csv(\"/kaggle/input/2023-ml-w6p2/submit.csv\")"
   ]
  },
  {
   "cell_type": "code",
   "execution_count": 3,
   "id": "69fde2bb",
   "metadata": {
    "execution": {
     "iopub.execute_input": "2023-04-09T20:13:28.700609Z",
     "iopub.status.busy": "2023-04-09T20:13:28.699794Z",
     "iopub.status.idle": "2023-04-09T20:13:28.727131Z",
     "shell.execute_reply": "2023-04-09T20:13:28.726161Z"
    },
    "papermill": {
     "duration": 0.035954,
     "end_time": "2023-04-09T20:13:28.729490",
     "exception": false,
     "start_time": "2023-04-09T20:13:28.693536",
     "status": "completed"
    },
    "tags": []
   },
   "outputs": [
    {
     "data": {
      "text/html": [
       "<div>\n",
       "<style scoped>\n",
       "    .dataframe tbody tr th:only-of-type {\n",
       "        vertical-align: middle;\n",
       "    }\n",
       "\n",
       "    .dataframe tbody tr th {\n",
       "        vertical-align: top;\n",
       "    }\n",
       "\n",
       "    .dataframe thead th {\n",
       "        text-align: right;\n",
       "    }\n",
       "</style>\n",
       "<table border=\"1\" class=\"dataframe\">\n",
       "  <thead>\n",
       "    <tr style=\"text-align: right;\">\n",
       "      <th></th>\n",
       "      <th>Pregnancies</th>\n",
       "      <th>Glucose</th>\n",
       "      <th>BloodPressure</th>\n",
       "      <th>SkinThickness</th>\n",
       "      <th>Insulin</th>\n",
       "      <th>BMI</th>\n",
       "      <th>DiabetesPedigreeFunction</th>\n",
       "      <th>Age</th>\n",
       "      <th>Diabetes</th>\n",
       "    </tr>\n",
       "  </thead>\n",
       "  <tbody>\n",
       "    <tr>\n",
       "      <th>0</th>\n",
       "      <td>1</td>\n",
       "      <td>95</td>\n",
       "      <td>60</td>\n",
       "      <td>18</td>\n",
       "      <td>58</td>\n",
       "      <td>23.9</td>\n",
       "      <td>0.260</td>\n",
       "      <td>22</td>\n",
       "      <td>0</td>\n",
       "    </tr>\n",
       "    <tr>\n",
       "      <th>1</th>\n",
       "      <td>5</td>\n",
       "      <td>105</td>\n",
       "      <td>72</td>\n",
       "      <td>29</td>\n",
       "      <td>325</td>\n",
       "      <td>36.9</td>\n",
       "      <td>0.159</td>\n",
       "      <td>28</td>\n",
       "      <td>0</td>\n",
       "    </tr>\n",
       "    <tr>\n",
       "      <th>2</th>\n",
       "      <td>0</td>\n",
       "      <td>135</td>\n",
       "      <td>68</td>\n",
       "      <td>42</td>\n",
       "      <td>250</td>\n",
       "      <td>42.3</td>\n",
       "      <td>0.365</td>\n",
       "      <td>24</td>\n",
       "      <td>1</td>\n",
       "    </tr>\n",
       "    <tr>\n",
       "      <th>3</th>\n",
       "      <td>4</td>\n",
       "      <td>131</td>\n",
       "      <td>68</td>\n",
       "      <td>21</td>\n",
       "      <td>166</td>\n",
       "      <td>33.1</td>\n",
       "      <td>0.160</td>\n",
       "      <td>28</td>\n",
       "      <td>0</td>\n",
       "    </tr>\n",
       "    <tr>\n",
       "      <th>4</th>\n",
       "      <td>1</td>\n",
       "      <td>103</td>\n",
       "      <td>30</td>\n",
       "      <td>38</td>\n",
       "      <td>83</td>\n",
       "      <td>43.3</td>\n",
       "      <td>0.183</td>\n",
       "      <td>33</td>\n",
       "      <td>0</td>\n",
       "    </tr>\n",
       "  </tbody>\n",
       "</table>\n",
       "</div>"
      ],
      "text/plain": [
       "   Pregnancies  Glucose  BloodPressure  SkinThickness  Insulin   BMI  \\\n",
       "0            1       95             60             18       58  23.9   \n",
       "1            5      105             72             29      325  36.9   \n",
       "2            0      135             68             42      250  42.3   \n",
       "3            4      131             68             21      166  33.1   \n",
       "4            1      103             30             38       83  43.3   \n",
       "\n",
       "   DiabetesPedigreeFunction  Age  Diabetes  \n",
       "0                     0.260   22         0  \n",
       "1                     0.159   28         0  \n",
       "2                     0.365   24         1  \n",
       "3                     0.160   28         0  \n",
       "4                     0.183   33         0  "
      ]
     },
     "execution_count": 3,
     "metadata": {},
     "output_type": "execute_result"
    }
   ],
   "source": [
    "train.head()"
   ]
  },
  {
   "cell_type": "code",
   "execution_count": 4,
   "id": "b2d2717f",
   "metadata": {
    "execution": {
     "iopub.execute_input": "2023-04-09T20:13:28.742043Z",
     "iopub.status.busy": "2023-04-09T20:13:28.741100Z",
     "iopub.status.idle": "2023-04-09T20:13:28.764928Z",
     "shell.execute_reply": "2023-04-09T20:13:28.763384Z"
    },
    "papermill": {
     "duration": 0.03258,
     "end_time": "2023-04-09T20:13:28.767328",
     "exception": false,
     "start_time": "2023-04-09T20:13:28.734748",
     "status": "completed"
    },
    "tags": []
   },
   "outputs": [
    {
     "name": "stdout",
     "output_type": "stream",
     "text": [
      "<class 'pandas.core.frame.DataFrame'>\n",
      "RangeIndex: 537 entries, 0 to 536\n",
      "Data columns (total 9 columns):\n",
      " #   Column                    Non-Null Count  Dtype  \n",
      "---  ------                    --------------  -----  \n",
      " 0   Pregnancies               537 non-null    int64  \n",
      " 1   Glucose                   537 non-null    int64  \n",
      " 2   BloodPressure             537 non-null    int64  \n",
      " 3   SkinThickness             537 non-null    int64  \n",
      " 4   Insulin                   537 non-null    int64  \n",
      " 5   BMI                       537 non-null    float64\n",
      " 6   DiabetesPedigreeFunction  537 non-null    float64\n",
      " 7   Age                       537 non-null    int64  \n",
      " 8   Diabetes                  537 non-null    int64  \n",
      "dtypes: float64(2), int64(7)\n",
      "memory usage: 37.9 KB\n"
     ]
    }
   ],
   "source": [
    "train.info()"
   ]
  },
  {
   "cell_type": "code",
   "execution_count": 5,
   "id": "c6821504",
   "metadata": {
    "execution": {
     "iopub.execute_input": "2023-04-09T20:13:28.779598Z",
     "iopub.status.busy": "2023-04-09T20:13:28.778856Z",
     "iopub.status.idle": "2023-04-09T20:13:28.787240Z",
     "shell.execute_reply": "2023-04-09T20:13:28.785931Z"
    },
    "papermill": {
     "duration": 0.01747,
     "end_time": "2023-04-09T20:13:28.789992",
     "exception": false,
     "start_time": "2023-04-09T20:13:28.772522",
     "status": "completed"
    },
    "tags": []
   },
   "outputs": [],
   "source": [
    "x = train.drop([\"Diabetes\"],axis=1)\n",
    "y = train[\"Diabetes\"]"
   ]
  },
  {
   "cell_type": "code",
   "execution_count": 6,
   "id": "34e8faed",
   "metadata": {
    "execution": {
     "iopub.execute_input": "2023-04-09T20:13:28.802422Z",
     "iopub.status.busy": "2023-04-09T20:13:28.801985Z",
     "iopub.status.idle": "2023-04-09T20:13:28.807354Z",
     "shell.execute_reply": "2023-04-09T20:13:28.806158Z"
    },
    "papermill": {
     "duration": 0.014556,
     "end_time": "2023-04-09T20:13:28.809791",
     "exception": false,
     "start_time": "2023-04-09T20:13:28.795235",
     "status": "completed"
    },
    "tags": []
   },
   "outputs": [],
   "source": [
    "y = np.squeeze(y)"
   ]
  },
  {
   "cell_type": "code",
   "execution_count": 7,
   "id": "29e3b302",
   "metadata": {
    "execution": {
     "iopub.execute_input": "2023-04-09T20:13:28.822263Z",
     "iopub.status.busy": "2023-04-09T20:13:28.821834Z",
     "iopub.status.idle": "2023-04-09T20:13:28.830056Z",
     "shell.execute_reply": "2023-04-09T20:13:28.828785Z"
    },
    "papermill": {
     "duration": 0.017214,
     "end_time": "2023-04-09T20:13:28.832435",
     "exception": false,
     "start_time": "2023-04-09T20:13:28.815221",
     "status": "completed"
    },
    "tags": []
   },
   "outputs": [
    {
     "data": {
      "text/plain": [
       "349"
      ]
     },
     "execution_count": 7,
     "metadata": {},
     "output_type": "execute_result"
    }
   ],
   "source": [
    "np.sum(y == 0)"
   ]
  },
  {
   "cell_type": "code",
   "execution_count": 8,
   "id": "50ffa14d",
   "metadata": {
    "execution": {
     "iopub.execute_input": "2023-04-09T20:13:28.844554Z",
     "iopub.status.busy": "2023-04-09T20:13:28.844173Z",
     "iopub.status.idle": "2023-04-09T20:13:28.851920Z",
     "shell.execute_reply": "2023-04-09T20:13:28.850725Z"
    },
    "papermill": {
     "duration": 0.016475,
     "end_time": "2023-04-09T20:13:28.854107",
     "exception": false,
     "start_time": "2023-04-09T20:13:28.837632",
     "status": "completed"
    },
    "tags": []
   },
   "outputs": [
    {
     "data": {
      "text/plain": [
       "188"
      ]
     },
     "execution_count": 8,
     "metadata": {},
     "output_type": "execute_result"
    }
   ],
   "source": [
    "np.sum(y == 1)"
   ]
  },
  {
   "cell_type": "code",
   "execution_count": 9,
   "id": "3599881c",
   "metadata": {
    "execution": {
     "iopub.execute_input": "2023-04-09T20:13:28.866506Z",
     "iopub.status.busy": "2023-04-09T20:13:28.866106Z",
     "iopub.status.idle": "2023-04-09T20:13:28.872160Z",
     "shell.execute_reply": "2023-04-09T20:13:28.870854Z"
    },
    "papermill": {
     "duration": 0.014803,
     "end_time": "2023-04-09T20:13:28.874254",
     "exception": false,
     "start_time": "2023-04-09T20:13:28.859451",
     "status": "completed"
    },
    "tags": []
   },
   "outputs": [
    {
     "name": "stdout",
     "output_type": "stream",
     "text": [
      "0.6499068901303539 0.3500931098696462\n"
     ]
    }
   ],
   "source": [
    "print(349/(349+188),188/(349+188))"
   ]
  },
  {
   "cell_type": "code",
   "execution_count": 10,
   "id": "83cc59f8",
   "metadata": {
    "execution": {
     "iopub.execute_input": "2023-04-09T20:13:28.886817Z",
     "iopub.status.busy": "2023-04-09T20:13:28.886367Z",
     "iopub.status.idle": "2023-04-09T20:13:29.828713Z",
     "shell.execute_reply": "2023-04-09T20:13:29.827347Z"
    },
    "papermill": {
     "duration": 0.951872,
     "end_time": "2023-04-09T20:13:29.831463",
     "exception": false,
     "start_time": "2023-04-09T20:13:28.879591",
     "status": "completed"
    },
    "tags": []
   },
   "outputs": [],
   "source": [
    "from sklearn.preprocessing import StandardScaler\n",
    "ss = StandardScaler()\n",
    "ss.fit(x)\n",
    "x = ss.transform(x)\n",
    "test = ss.transform(test)"
   ]
  },
  {
   "cell_type": "code",
   "execution_count": 11,
   "id": "15e5b8d6",
   "metadata": {
    "execution": {
     "iopub.execute_input": "2023-04-09T20:13:29.845073Z",
     "iopub.status.busy": "2023-04-09T20:13:29.844584Z",
     "iopub.status.idle": "2023-04-09T20:13:30.814002Z",
     "shell.execute_reply": "2023-04-09T20:13:30.812909Z"
    },
    "papermill": {
     "duration": 0.979111,
     "end_time": "2023-04-09T20:13:30.816453",
     "exception": false,
     "start_time": "2023-04-09T20:13:29.837342",
     "status": "completed"
    },
    "tags": []
   },
   "outputs": [
    {
     "data": {
      "image/png": "[encoded data removed]",
      "text/plain": [
       "<Figure size 640x480 with 2 Axes>"
      ]
     },
     "metadata": {},
     "output_type": "display_data"
    }
   ],
   "source": [
    "import matplotlib.pyplot as plt\n",
    "import seaborn as sns\n",
    "\n",
    "sns.heatmap(train.corr(), annot=True)\n",
    "plt.show()"
   ]
  },
  {
   "cell_type": "code",
   "execution_count": 12,
   "id": "2b3f31e2",
   "metadata": {
    "execution": {
     "iopub.execute_input": "2023-04-09T20:13:30.833499Z",
     "iopub.status.busy": "2023-04-09T20:13:30.832521Z",
     "iopub.status.idle": "2023-04-09T20:13:30.900469Z",
     "shell.execute_reply": "2023-04-09T20:13:30.899446Z"
    },
    "papermill": {
     "duration": 0.079523,
     "end_time": "2023-04-09T20:13:30.903345",
     "exception": false,
     "start_time": "2023-04-09T20:13:30.823822",
     "status": "completed"
    },
    "tags": []
   },
   "outputs": [],
   "source": [
    "from sklearn.model_selection import train_test_split \n",
    "X_train,X_test,Y_train,Y_test=train_test_split(x,y, test_size=0.3, random_state=4, stratify=y)"
   ]
  },
  {
   "cell_type": "code",
   "execution_count": 13,
   "id": "9f566b65",
   "metadata": {
    "execution": {
     "iopub.execute_input": "2023-04-09T20:13:30.920468Z",
     "iopub.status.busy": "2023-04-09T20:13:30.919301Z",
     "iopub.status.idle": "2023-04-09T20:13:31.082768Z",
     "shell.execute_reply": "2023-04-09T20:13:31.081160Z"
    },
    "papermill": {
     "duration": 0.175375,
     "end_time": "2023-04-09T20:13:31.085980",
     "exception": false,
     "start_time": "2023-04-09T20:13:30.910605",
     "status": "completed"
    },
    "tags": []
   },
   "outputs": [
    {
     "name": "stdout",
     "output_type": "stream",
     "text": [
      "i : 1\n",
      "\n",
      "j : 1\n",
      "0.6506666666666666\n",
      "0.7222222222222222\n",
      "\n",
      "j : 2\n",
      "0.624\n",
      "0.6728395061728395\n",
      "\n",
      "j : 3\n",
      "0.5973333333333334\n",
      "0.6296296296296297\n",
      "\n",
      "j : 4\n",
      "0.5733333333333334\n",
      "0.6234567901234568\n",
      "\n",
      "j : 5\n",
      "0.56\n",
      "0.6049382716049383\n",
      "\n",
      "\n",
      "i : 2\n",
      "\n",
      "j : 1\n",
      "0.72\n",
      "0.7222222222222222\n",
      "\n",
      "j : 2\n",
      "0.7173333333333334\n",
      "0.7407407407407407\n",
      "\n",
      "j : 3\n",
      "0.7013333333333334\n",
      "0.7654320987654321\n",
      "\n",
      "j : 4\n",
      "0.696\n",
      "0.7530864197530864\n",
      "\n",
      "j : 5\n",
      "0.6853333333333333\n",
      "0.7592592592592593\n",
      "\n",
      "\n",
      "i : 3\n",
      "\n",
      "j : 1\n",
      "0.7946666666666666\n",
      "0.7160493827160493\n",
      "\n",
      "j : 2\n",
      "0.8\n",
      "0.7283950617283951\n",
      "\n",
      "j : 3\n",
      "0.784\n",
      "0.7407407407407407\n",
      "\n",
      "j : 4\n",
      "0.7573333333333333\n",
      "0.7530864197530864\n",
      "\n",
      "j : 5\n",
      "0.7333333333333333\n",
      "0.7592592592592593\n",
      "\n",
      "\n",
      "i : 4\n",
      "\n",
      "j : 1\n",
      "0.7813333333333333\n",
      "0.7222222222222222\n",
      "\n",
      "j : 2\n",
      "0.7866666666666666\n",
      "0.7222222222222222\n",
      "\n",
      "j : 3\n",
      "0.784\n",
      "0.7283950617283951\n",
      "\n",
      "j : 4\n",
      "0.776\n",
      "0.7345679012345679\n",
      "\n",
      "j : 5\n",
      "0.7653333333333333\n",
      "0.7469135802469136\n",
      "\n",
      "\n",
      "i : 5\n",
      "\n",
      "j : 1\n",
      "0.784\n",
      "0.7283950617283951\n",
      "\n",
      "j : 2\n",
      "0.7786666666666666\n",
      "0.7469135802469136\n",
      "\n",
      "j : 3\n",
      "0.76\n",
      "0.7407407407407407\n",
      "\n",
      "j : 4\n",
      "0.752\n",
      "0.7469135802469136\n",
      "\n",
      "j : 5\n",
      "0.7546666666666667\n",
      "0.7530864197530864\n",
      "\n",
      "\n"
     ]
    }
   ],
   "source": [
    "from sklearn.discriminant_analysis import QuadraticDiscriminantAnalysis\n",
    "from sklearn.metrics import accuracy_score\n",
    "\n",
    "for i in range(1,6):\n",
    "    print(\"i :\", i)\n",
    "    print()\n",
    "    for j in range(1,6):\n",
    "        qda=QuadraticDiscriminantAnalysis(priors = [i*0.16, (1-i*0.16)],reg_param=0.2*j)\n",
    "\n",
    "        qda.fit(X_train, Y_train)\n",
    "        Y_train_pred=qda.predict(X_train)\n",
    "        Y_test_pred=qda.predict(X_test)\n",
    "\n",
    "        print(\"j :\", j)\n",
    "        print(accuracy_score(Y_train, Y_train_pred)) # train data에 대한 accuracy\n",
    "        print(accuracy_score(Y_test, Y_test_pred)) \n",
    "        print()\n",
    "    print()"
   ]
  },
  {
   "cell_type": "code",
   "execution_count": 14,
   "id": "c51768db",
   "metadata": {
    "execution": {
     "iopub.execute_input": "2023-04-09T20:13:31.102644Z",
     "iopub.status.busy": "2023-04-09T20:13:31.101741Z",
     "iopub.status.idle": "2023-04-09T20:13:31.116201Z",
     "shell.execute_reply": "2023-04-09T20:13:31.115098Z"
    },
    "papermill": {
     "duration": 0.025706,
     "end_time": "2023-04-09T20:13:31.118935",
     "exception": false,
     "start_time": "2023-04-09T20:13:31.093229",
     "status": "completed"
    },
    "tags": []
   },
   "outputs": [],
   "source": [
    "qda=QuadraticDiscriminantAnalysis(priors = [4*0.16, (1-4*0.16)],reg_param=0.2*1)\n",
    "\n",
    "qda.fit(x, y)\n",
    "test_pred=qda.predict(test)\n",
    "\n",
    "submit['Diabetes'] = test_pred\n",
    "submit.to_csv(\"submit.csv\", mode='w', header= True, index= False)"
   ]
  },
  {
   "cell_type": "code",
   "execution_count": 15,
   "id": "cfc451b6",
   "metadata": {
    "execution": {
     "iopub.execute_input": "2023-04-09T20:13:31.135172Z",
     "iopub.status.busy": "2023-04-09T20:13:31.134761Z",
     "iopub.status.idle": "2023-04-09T20:13:31.148409Z",
     "shell.execute_reply": "2023-04-09T20:13:31.147189Z"
    },
    "papermill": {
     "duration": 0.024652,
     "end_time": "2023-04-09T20:13:31.150877",
     "exception": false,
     "start_time": "2023-04-09T20:13:31.126225",
     "status": "completed"
    },
    "tags": []
   },
   "outputs": [
    {
     "data": {
      "text/html": [
       "<div>\n",
       "<style scoped>\n",
       "    .dataframe tbody tr th:only-of-type {\n",
       "        vertical-align: middle;\n",
       "    }\n",
       "\n",
       "    .dataframe tbody tr th {\n",
       "        vertical-align: top;\n",
       "    }\n",
       "\n",
       "    .dataframe thead th {\n",
       "        text-align: right;\n",
       "    }\n",
       "</style>\n",
       "<table border=\"1\" class=\"dataframe\">\n",
       "  <thead>\n",
       "    <tr style=\"text-align: right;\">\n",
       "      <th></th>\n",
       "      <th>ID</th>\n",
       "      <th>Diabetes</th>\n",
       "    </tr>\n",
       "  </thead>\n",
       "  <tbody>\n",
       "    <tr>\n",
       "      <th>0</th>\n",
       "      <td>0</td>\n",
       "      <td>0</td>\n",
       "    </tr>\n",
       "    <tr>\n",
       "      <th>1</th>\n",
       "      <td>1</td>\n",
       "      <td>0</td>\n",
       "    </tr>\n",
       "    <tr>\n",
       "      <th>2</th>\n",
       "      <td>2</td>\n",
       "      <td>0</td>\n",
       "    </tr>\n",
       "    <tr>\n",
       "      <th>3</th>\n",
       "      <td>3</td>\n",
       "      <td>0</td>\n",
       "    </tr>\n",
       "    <tr>\n",
       "      <th>4</th>\n",
       "      <td>4</td>\n",
       "      <td>0</td>\n",
       "    </tr>\n",
       "    <tr>\n",
       "      <th>...</th>\n",
       "      <td>...</td>\n",
       "      <td>...</td>\n",
       "    </tr>\n",
       "    <tr>\n",
       "      <th>226</th>\n",
       "      <td>226</td>\n",
       "      <td>1</td>\n",
       "    </tr>\n",
       "    <tr>\n",
       "      <th>227</th>\n",
       "      <td>227</td>\n",
       "      <td>0</td>\n",
       "    </tr>\n",
       "    <tr>\n",
       "      <th>228</th>\n",
       "      <td>228</td>\n",
       "      <td>0</td>\n",
       "    </tr>\n",
       "    <tr>\n",
       "      <th>229</th>\n",
       "      <td>229</td>\n",
       "      <td>0</td>\n",
       "    </tr>\n",
       "    <tr>\n",
       "      <th>230</th>\n",
       "      <td>230</td>\n",
       "      <td>0</td>\n",
       "    </tr>\n",
       "  </tbody>\n",
       "</table>\n",
       "<p>231 rows × 2 columns</p>\n",
       "</div>"
      ],
      "text/plain": [
       "      ID  Diabetes\n",
       "0      0         0\n",
       "1      1         0\n",
       "2      2         0\n",
       "3      3         0\n",
       "4      4         0\n",
       "..   ...       ...\n",
       "226  226         1\n",
       "227  227         0\n",
       "228  228         0\n",
       "229  229         0\n",
       "230  230         0\n",
       "\n",
       "[231 rows x 2 columns]"
      ]
     },
     "execution_count": 15,
     "metadata": {},
     "output_type": "execute_result"
    }
   ],
   "source": [
    "submit"
   ]
  },
  {
   "cell_type": "code",
   "execution_count": null,
   "id": "8d648cb5",
   "metadata": {
    "papermill": {
     "duration": 0.007048,
     "end_time": "2023-04-09T20:13:31.165437",
     "exception": false,
     "start_time": "2023-04-09T20:13:31.158389",
     "status": "completed"
    },
    "tags": []
   },
   "outputs": [],
   "source": []
  },
  {
   "cell_type": "code",
   "execution_count": null,
   "id": "d82e92f9",
   "metadata": {
    "papermill": {
     "duration": 0.0074,
     "end_time": "2023-04-09T20:13:31.180238",
     "exception": false,
     "start_time": "2023-04-09T20:13:31.172838",
     "status": "completed"
    },
    "tags": []
   },
   "outputs": [],
   "source": []
  }
 ],
 "metadata": {
  "kernelspec": {
   "display_name": "Python 3",
   "language": "python",
   "name": "python3"
  },
  "language_info": {
   "codemirror_mode": {
    "name": "ipython",
    "version": 3
   },
   "file_extension": ".py",
   "mimetype": "text/x-python",
   "name": "python",
   "nbconvert_exporter": "python",
   "pygments_lexer": "ipython3",
   "version": "3.7.12"
  },
  "papermill": {
   "default_parameters": {},
   "duration": 14.322791,
   "end_time": "2023-04-09T20:13:32.010567",
   "environment_variables": {},
   "exception": null,
   "input_path": "__notebook__.ipynb",
   "output_path": "__notebook__.ipynb",
   "parameters": {},
   "start_time": "2023-04-09T20:13:17.687776",
   "version": "2.4.0"
  }
 },
 "nbformat": 4,
 "nbformat_minor": 5
}
