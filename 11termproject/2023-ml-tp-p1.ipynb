{
 "cells": [
  {
   "cell_type": "code",
   "execution_count": 1,
   "id": "06d705cb",
   "metadata": {
    "execution": {
     "iopub.execute_input": "2023-06-04T11:54:48.329421Z",
     "iopub.status.busy": "2023-06-04T11:54:48.328405Z",
     "iopub.status.idle": "2023-06-04T11:55:00.941064Z",
     "shell.execute_reply": "2023-06-04T11:55:00.938909Z"
    },
    "papermill": {
     "duration": 12.6278,
     "end_time": "2023-06-04T11:55:00.944051",
     "exception": false,
     "start_time": "2023-06-04T11:54:48.316251",
     "status": "completed"
    },
    "tags": []
   },
   "outputs": [
    {
     "name": "stdout",
     "output_type": "stream",
     "text": [
      "Collecting konlpy\r\n",
      "  Downloading konlpy-0.6.0-py2.py3-none-any.whl (19.4 MB)\r\n",
      "\u001b[2K     \u001b[90m━━━━━━━━━━━━━━━━━━━━━━━━━━━━━━━━━━━━━━━━\u001b[0m \u001b[32m19.4/19.4 MB\u001b[0m \u001b[31m65.9 MB/s\u001b[0m eta \u001b[36m0:00:00\u001b[0m\r\n",
      "\u001b[?25hRequirement already satisfied: lxml>=4.1.0 in /opt/conda/lib/python3.10/site-packages (from konlpy) (4.9.2)\r\n",
      "Requirement already satisfied: numpy>=1.6 in /opt/conda/lib/python3.10/site-packages (from konlpy) (1.23.5)\r\n",
      "Collecting JPype1>=0.7.0\r\n",
      "  Downloading JPype1-1.4.1-cp310-cp310-manylinux_2_12_x86_64.manylinux2010_x86_64.whl (465 kB)\r\n",
      "\u001b[2K     \u001b[90m━━━━━━━━━━━━━━━━━━━━━━━━━━━━━━━━━━━━━━\u001b[0m \u001b[32m465.3/465.3 kB\u001b[0m \u001b[31m32.5 MB/s\u001b[0m eta \u001b[36m0:00:00\u001b[0m\r\n",
      "\u001b[?25hRequirement already satisfied: packaging in /opt/conda/lib/python3.10/site-packages (from JPype1>=0.7.0->konlpy) (21.3)\r\n",
      "Requirement already satisfied: pyparsing!=3.0.5,>=2.0.2 in /opt/conda/lib/python3.10/site-packages (from packaging->JPype1>=0.7.0->konlpy) (3.0.9)\r\n",
      "Installing collected packages: JPype1, konlpy\r\n",
      "Successfully installed JPype1-1.4.1 konlpy-0.6.0\r\n",
      "\u001b[33mWARNING: Running pip as the 'root' user can result in broken permissions and conflicting behaviour with the system package manager. It is recommended to use a virtual environment instead: https://pip.pypa.io/warnings/venv\u001b[0m\u001b[33m\r\n",
      "\u001b[0m"
     ]
    }
   ],
   "source": [
    "!pip install konlpy  # 토큰화에 사용할 konlpy 라이브러리 설치"
   ]
  },
  {
   "cell_type": "code",
   "execution_count": 2,
   "id": "5b45320e",
   "metadata": {
    "execution": {
     "iopub.execute_input": "2023-06-04T11:55:00.961346Z",
     "iopub.status.busy": "2023-06-04T11:55:00.960981Z",
     "iopub.status.idle": "2023-06-04T11:55:00.969257Z",
     "shell.execute_reply": "2023-06-04T11:55:00.967062Z"
    },
    "papermill": {
     "duration": 0.020054,
     "end_time": "2023-06-04T11:55:00.972087",
     "exception": false,
     "start_time": "2023-06-04T11:55:00.952033",
     "status": "completed"
    },
    "tags": []
   },
   "outputs": [],
   "source": [
    "import numpy as np\n",
    "import pandas as pd\n",
    "import os, random\n",
    "from tqdm import tqdm # 진행도 시각화를 위한 라이브러리\n",
    "\n",
    "seed=42\n",
    "os.environ['PYTHONHASHSEED'] = str(seed)\n",
    "random.seed(seed)\n",
    "np.random.seed(seed)"
   ]
  },
  {
   "cell_type": "markdown",
   "id": "fa74935c",
   "metadata": {
    "papermill": {
     "duration": 0.007523,
     "end_time": "2023-06-04T11:55:00.987627",
     "exception": false,
     "start_time": "2023-06-04T11:55:00.980104",
     "status": "completed"
    },
    "tags": []
   },
   "source": [
    "# 데이터 불러오기"
   ]
  },
  {
   "cell_type": "code",
   "execution_count": 3,
   "id": "5a8997a4",
   "metadata": {
    "execution": {
     "iopub.execute_input": "2023-06-04T11:55:01.004774Z",
     "iopub.status.busy": "2023-06-04T11:55:01.004354Z",
     "iopub.status.idle": "2023-06-04T11:55:01.916377Z",
     "shell.execute_reply": "2023-06-04T11:55:01.915323Z"
    },
    "papermill": {
     "duration": 0.924291,
     "end_time": "2023-06-04T11:55:01.919800",
     "exception": false,
     "start_time": "2023-06-04T11:55:00.995509",
     "status": "completed"
    },
    "tags": []
   },
   "outputs": [
    {
     "name": "stdout",
     "output_type": "stream",
     "text": [
      "(149993, 2)\n",
      "(49999, 1)\n"
     ]
    }
   ],
   "source": [
    "train_data = pd.read_csv(\"/kaggle/input/2023-ml-project1/nsmc_train.csv\", index_col=0)\n",
    "test_data = pd.read_csv(\"/kaggle/input/2023-ml-project1/nsmc_test.csv\", index_col=0)\n",
    "print(train_data.shape)\n",
    "print(test_data.shape)"
   ]
  },
  {
   "cell_type": "code",
   "execution_count": 4,
   "id": "9350bd79",
   "metadata": {
    "execution": {
     "iopub.execute_input": "2023-06-04T11:55:01.938226Z",
     "iopub.status.busy": "2023-06-04T11:55:01.937822Z",
     "iopub.status.idle": "2023-06-04T11:55:01.966365Z",
     "shell.execute_reply": "2023-06-04T11:55:01.965108Z"
    },
    "papermill": {
     "duration": 0.040853,
     "end_time": "2023-06-04T11:55:01.969475",
     "exception": false,
     "start_time": "2023-06-04T11:55:01.928622",
     "status": "completed"
    },
    "tags": []
   },
   "outputs": [
    {
     "data": {
      "text/html": [
       "<div>\n",
       "<style scoped>\n",
       "    .dataframe tbody tr th:only-of-type {\n",
       "        vertical-align: middle;\n",
       "    }\n",
       "\n",
       "    .dataframe tbody tr th {\n",
       "        vertical-align: top;\n",
       "    }\n",
       "\n",
       "    .dataframe thead th {\n",
       "        text-align: right;\n",
       "    }\n",
       "</style>\n",
       "<table border=\"1\" class=\"dataframe\">\n",
       "  <thead>\n",
       "    <tr style=\"text-align: right;\">\n",
       "      <th></th>\n",
       "      <th>review</th>\n",
       "      <th>rating</th>\n",
       "    </tr>\n",
       "    <tr>\n",
       "      <th>id</th>\n",
       "      <th></th>\n",
       "      <th></th>\n",
       "    </tr>\n",
       "  </thead>\n",
       "  <tbody>\n",
       "    <tr>\n",
       "      <th>9324809</th>\n",
       "      <td>배우들의 인생연기가 돋보였던... 최고의 드라마</td>\n",
       "      <td>1</td>\n",
       "    </tr>\n",
       "    <tr>\n",
       "      <th>9305425</th>\n",
       "      <td>아 혜리 보고싶다 ... 여군좀 ㅠ</td>\n",
       "      <td>0</td>\n",
       "    </tr>\n",
       "    <tr>\n",
       "      <th>5239110</th>\n",
       "      <td>눈이 팅팅..... 정말 ,..... 대박이다......</td>\n",
       "      <td>1</td>\n",
       "    </tr>\n",
       "    <tr>\n",
       "      <th>9148159</th>\n",
       "      <td>캐슬린 터너의 보디는 볼만했다</td>\n",
       "      <td>0</td>\n",
       "    </tr>\n",
       "    <tr>\n",
       "      <th>6144938</th>\n",
       "      <td>진짜 최고였다.</td>\n",
       "      <td>1</td>\n",
       "    </tr>\n",
       "  </tbody>\n",
       "</table>\n",
       "</div>"
      ],
      "text/plain": [
       "                                  review  rating\n",
       "id                                              \n",
       "9324809       배우들의 인생연기가 돋보였던... 최고의 드라마       1\n",
       "9305425              아 혜리 보고싶다 ... 여군좀 ㅠ       0\n",
       "5239110  눈이 팅팅..... 정말 ,..... 대박이다......       1\n",
       "9148159                 캐슬린 터너의 보디는 볼만했다       0\n",
       "6144938                         진짜 최고였다.       1"
      ]
     },
     "execution_count": 4,
     "metadata": {},
     "output_type": "execute_result"
    }
   ],
   "source": [
    "train_data.head()"
   ]
  },
  {
   "cell_type": "code",
   "execution_count": 5,
   "id": "f645101e",
   "metadata": {
    "execution": {
     "iopub.execute_input": "2023-06-04T11:55:01.989448Z",
     "iopub.status.busy": "2023-06-04T11:55:01.989007Z",
     "iopub.status.idle": "2023-06-04T11:55:01.996226Z",
     "shell.execute_reply": "2023-06-04T11:55:01.994169Z"
    },
    "papermill": {
     "duration": 0.019692,
     "end_time": "2023-06-04T11:55:01.999152",
     "exception": false,
     "start_time": "2023-06-04T11:55:01.979460",
     "status": "completed"
    },
    "tags": []
   },
   "outputs": [],
   "source": [
    "x_train = train_data[\"review\"]\n",
    "y_train = np.array(train_data[\"rating\"])"
   ]
  },
  {
   "cell_type": "markdown",
   "id": "5ddb8409",
   "metadata": {
    "papermill": {
     "duration": 0.007802,
     "end_time": "2023-06-04T11:55:02.015104",
     "exception": false,
     "start_time": "2023-06-04T11:55:02.007302",
     "status": "completed"
    },
    "tags": []
   },
   "source": [
    "# 자연어 전처리\n",
    "## \\[Empty Module #1\\] 데이터 전처리\n",
    "### 데이터 전처리 수행\n",
    "> 먼저, 리뷰를 분류하는데 도움이 되거나, 머신러닝 처리에 어려운 단어들을 제거해봅시다.\n",
    "1. 아래 조건에 맞는 정규표현식을 작성하여 영어와 한글 문자를 제외한 특수문자나 이모지, 숫자 등을 제거해봅시다.\n",
    "  - <mark>한글 문자(초성 제외), 영어 대문자, 영어 소문자, 띄어쓰기 이외의 문자를 제외</mark>하는 정규표현식 작성\n",
    "2. 영어 단어의 경우 같은 단어들이 같은 토큰으로 분류될 수 있도록 <mark>대문자로 통일</mark>해줍니다."
   ]
  },
  {
   "cell_type": "code",
   "execution_count": 6,
   "id": "54ab598d",
   "metadata": {
    "execution": {
     "iopub.execute_input": "2023-06-04T11:55:02.032728Z",
     "iopub.status.busy": "2023-06-04T11:55:02.032304Z",
     "iopub.status.idle": "2023-06-04T11:55:02.543519Z",
     "shell.execute_reply": "2023-06-04T11:55:02.542454Z"
    },
    "papermill": {
     "duration": 0.523926,
     "end_time": "2023-06-04T11:55:02.547118",
     "exception": false,
     "start_time": "2023-06-04T11:55:02.023192",
     "status": "completed"
    },
    "tags": []
   },
   "outputs": [
    {
     "name": "stderr",
     "output_type": "stream",
     "text": [
      "/tmp/ipykernel_20/549623988.py:19: FutureWarning: iteritems is deprecated and will be removed in a future version. Use .items instead.\n",
      "  x_train_preprocessed = [apply_regex(pattern, str(x[1])) for x in tqdm(x_train.iteritems(), total=len(x_train), desc=\"pre-processing data\")]\n",
      "pre-processing data: 100%|██████████| 149993/149993 [00:00<00:00, 305602.44it/s]\n"
     ]
    }
   ],
   "source": [
    "##########################################################################################\n",
    "# Empty Module #1\n",
    "# 입력: 자연어 상태의 리뷰 텍스트\n",
    "# 출력: 한글(초성 제외), 영어 대문자, 띄어쓰기로만 구성된 텍스트 \n",
    "# 입력 예시: \"안녕 Hello!!!:)ㅎㅎ반갑다.\"\n",
    "# 출력 예시: \"안녕 HELLO반갑다\"\n",
    "##########################################################################################\n",
    "import re\n",
    "\n",
    "# 여기에 정규표현식 코드 작성\n",
    "pattern = r'[^가-힣a-zA-Z\\s]'#\"^\" : 제외, \"가-힣\": 한글의 모든 코드(초성 제외), \"a-zA-Z\": 대문자, 소문자, \"\\s\": 공백 문자\n",
    "\n",
    "def apply_regex(pattern, text):  # 정규표현식을 이용한 필터링 적용\n",
    "    text = re.sub(pattern, \" \", text)  # 정규표현식 패턴에 맞는 값들을 텍스트에서 제거\n",
    "    text = text.upper() # 영어들을 찾아 대문자로 치환하는 코드 작성\n",
    "\n",
    "    return text\n",
    "\n",
    "x_train_preprocessed = [apply_regex(pattern, str(x[1])) for x in tqdm(x_train.iteritems(), total=len(x_train), desc=\"pre-processing data\")]"
   ]
  },
  {
   "cell_type": "code",
   "execution_count": 7,
   "id": "0aa6d68e",
   "metadata": {
    "execution": {
     "iopub.execute_input": "2023-06-04T11:55:02.566437Z",
     "iopub.status.busy": "2023-06-04T11:55:02.566033Z",
     "iopub.status.idle": "2023-06-04T11:55:02.574141Z",
     "shell.execute_reply": "2023-06-04T11:55:02.572612Z"
    },
    "papermill": {
     "duration": 0.020509,
     "end_time": "2023-06-04T11:55:02.576657",
     "exception": false,
     "start_time": "2023-06-04T11:55:02.556148",
     "status": "completed"
    },
    "tags": []
   },
   "outputs": [
    {
     "data": {
      "text/plain": [
       "['사람은 태어나면 죽는다   영화를 찍은 배우들의 삶의 시간이 아까울정도다 ',\n",
       " '무슨 마약하셨길래 이런생각을 했어요 ',\n",
       " '영애씨 재밌어요계속기대됩니다 ',\n",
       " '김지영넘불상해서 보기싫어지는 드라마다 현지X년 연기정말 못한다 꼴보기싫타 생긴것도 다성형한것같아 미친XXX년같다 당정하차시켜라  작가는 더미친XXX다 좀 잘쓰라',\n",
       " '강시라는 엄청난 소재를 가지고 이렇게 밖에 못만들다니   어릴적 강시에 대한 기대감으로 봤는데 실망이 이만저만    한정적인 공간과 본연의 강시의 공포를 끌어내지도 못하고 터무니 없는 액션으로 쓰레기 영화 인증해버림',\n",
       " '마녀 이후로 티비엔 호청자가 됐긔 그래서 로필   나인 전부 다봤긔',\n",
       " '영화관에서볼만한건아니였지만 재밌었음 후반에 실망감이 조금',\n",
       " '재미없다 ',\n",
       " '정말멋진지구다큐맨터리 화질정말끝내주네   ',\n",
       " '이거슨 명작이다   ']"
      ]
     },
     "execution_count": 7,
     "metadata": {},
     "output_type": "execute_result"
    }
   ],
   "source": [
    "#잘 처리 되었는지 확인\n",
    "x_train_preprocessed[60:70]"
   ]
  },
  {
   "cell_type": "markdown",
   "id": "0a83337a",
   "metadata": {
    "papermill": {
     "duration": 0.009674,
     "end_time": "2023-06-04T11:55:02.595045",
     "exception": false,
     "start_time": "2023-06-04T11:55:02.585371",
     "status": "completed"
    },
    "tags": []
   },
   "source": [
    "## \\[Empty Module #2\\] 단어 토큰화\n",
    "### Open Korean Text(OKT)를 이용한 단어 토큰화(Tokenization)\n",
    "- 한국어 자연어 처리 라이브러리인 konlpy의 OKT 래퍼를 통하여 문장을 단어로 토큰화해봅시다.\n",
    "- 아래 도큐먼트를 참고하여 토큰화를 수행합니다.\n",
    "  - <mark>이때, OKT 클래스의 특정 매개변수를 이용해 어근화를 진행해줍니다. (도큐먼트 참고)</mark>\n",
    "- konlpy 도큐먼트: https://konlpy.org/ko/latest/api/konlpy.tag/#okt-class\n",
    "- OKT 도큐먼트: https://github.com/open-korean-text/open-korean-text"
   ]
  },
  {
   "cell_type": "code",
   "execution_count": 8,
   "id": "e386601d",
   "metadata": {
    "execution": {
     "iopub.execute_input": "2023-06-04T11:55:02.614913Z",
     "iopub.status.busy": "2023-06-04T11:55:02.614484Z",
     "iopub.status.idle": "2023-06-04T11:55:04.083849Z",
     "shell.execute_reply": "2023-06-04T11:55:04.082191Z"
    },
    "papermill": {
     "duration": 1.482161,
     "end_time": "2023-06-04T11:55:04.086481",
     "exception": false,
     "start_time": "2023-06-04T11:55:02.604320",
     "status": "completed"
    },
    "tags": []
   },
   "outputs": [],
   "source": [
    "##########################################################################################\n",
    "# Empty Module #2\n",
    "# 입력: 자연어 상태의 리뷰 데이터\n",
    "# 출력: 토큰화와 과정을 거쳐 단어들의 리스트로 변환된 데이터\n",
    "# 입력 예시: \"커피는 역시 학생회관 커피\"\n",
    "# 출력 예시: [\"커피\", \"는\", \"역시\", \"학생\", \"회관\", \"커피\"]\n",
    "##########################################################################################\n",
    "from konlpy.tag import Okt\n",
    "okt = Okt()\n",
    "\n",
    "def tokenize_words(sentence):\n",
    "    sentence_tokenized = okt.morphs(sentence, norm=True, stem=True)#morphs: 입력받은 문자를 형태소 분석, norm: 정규화, stem: 어간 추출\n",
    "    return sentence_tokenized"
   ]
  },
  {
   "cell_type": "code",
   "execution_count": 9,
   "id": "43e1425e",
   "metadata": {
    "execution": {
     "iopub.execute_input": "2023-06-04T11:55:04.105911Z",
     "iopub.status.busy": "2023-06-04T11:55:04.105283Z",
     "iopub.status.idle": "2023-06-04T12:07:33.677146Z",
     "shell.execute_reply": "2023-06-04T12:07:33.676432Z"
    },
    "papermill": {
     "duration": 749.583805,
     "end_time": "2023-06-04T12:07:33.678936",
     "exception": false,
     "start_time": "2023-06-04T11:55:04.095131",
     "status": "completed"
    },
    "tags": []
   },
   "outputs": [
    {
     "name": "stderr",
     "output_type": "stream",
     "text": [
      "tokenizing data: 100%|██████████| 149993/149993 [12:29<00:00, 200.11it/s]\n"
     ]
    }
   ],
   "source": [
    "# 약 10-15분 정도 소요됩니다. \n",
    "x_train_tokenized = [tokenize_words(x) for x in tqdm(x_train_preprocessed, desc=\"tokenizing data\")]"
   ]
  },
  {
   "cell_type": "markdown",
   "id": "ea6e1449",
   "metadata": {
    "papermill": {
     "duration": 0.309067,
     "end_time": "2023-06-04T12:07:34.211497",
     "exception": false,
     "start_time": "2023-06-04T12:07:33.902430",
     "status": "completed"
    },
    "tags": []
   },
   "source": [
    "## \\[Empty Module #3\\] 불용어 제거\n",
    "- 조사를 비롯한 불용어들은 많은 횟수 등장하지만, 리뷰의 긍정과 부정 여부를 판단하는데는 도움이 되지 않습니다.\n",
    "- 데이터에서 아래 리스트로 정의된 불용어들을 제거해줍니다."
   ]
  },
  {
   "cell_type": "code",
   "execution_count": 10,
   "id": "212742bd",
   "metadata": {
    "execution": {
     "iopub.execute_input": "2023-06-04T12:07:34.677033Z",
     "iopub.status.busy": "2023-06-04T12:07:34.675870Z",
     "iopub.status.idle": "2023-06-04T12:07:35.624801Z",
     "shell.execute_reply": "2023-06-04T12:07:35.623847Z"
    },
    "papermill": {
     "duration": 1.1809,
     "end_time": "2023-06-04T12:07:35.627194",
     "exception": false,
     "start_time": "2023-06-04T12:07:34.446294",
     "status": "completed"
    },
    "tags": []
   },
   "outputs": [],
   "source": [
    "stopwords = ['의','가','이','은','들','는','좀','잘','걍','과','도','를','으로','자','에','와','한','하다']  #별다른 의미가 없는 불용어들\n",
    "\n",
    "def exclude_stopwords(text):\n",
    "    # 위 리스트에 포함된 불용어들을 제거하는 코드 작성\n",
    "    ex_stop_text = [word for word in text if word not in stopwords] #리스트 컴프리헨션을 이용해 stopwords에 포함되지 않는 단어들만 리스트에 저장\n",
    "    return ex_stop_text\n",
    "\n",
    "x_train_stopwords_excluded = [exclude_stopwords(x) for x in x_train_tokenized]"
   ]
  },
  {
   "cell_type": "markdown",
   "id": "ebbc9cbb",
   "metadata": {
    "papermill": {
     "duration": 0.219948,
     "end_time": "2023-06-04T12:07:36.067762",
     "exception": false,
     "start_time": "2023-06-04T12:07:35.847814",
     "status": "completed"
    },
    "tags": []
   },
   "source": [
    "## \\[Empty Module #4\\] 단어 임베딩\n",
    "### 단어 임베딩 코드 구현\n",
    "- 토큰화를 거쳐 분리된 단어들을 하나의 정수 값으로 매핑해주는 희소 표현법을 직접 구현해봅시다.\n",
    "- 입력된 단어가 새로운 단어라면 새로운 정수 값을 할당하고, 이전에 등장한 단어라면 이전에 할당한 정수를 할당하는 함수를 작성합니다.\n",
    "  - 단, <mark>테스트 데이터에 대해서는 새로운 단어가 등장하면 값을 할당하지 않습니다.</mark>"
   ]
  },
  {
   "cell_type": "code",
   "execution_count": 11,
   "id": "d2353754",
   "metadata": {
    "execution": {
     "iopub.execute_input": "2023-06-04T12:07:36.514158Z",
     "iopub.status.busy": "2023-06-04T12:07:36.513779Z",
     "iopub.status.idle": "2023-06-04T12:07:36.521421Z",
     "shell.execute_reply": "2023-06-04T12:07:36.520083Z"
    },
    "papermill": {
     "duration": 0.233097,
     "end_time": "2023-06-04T12:07:36.523934",
     "exception": false,
     "start_time": "2023-06-04T12:07:36.290837",
     "status": "completed"
    },
    "tags": []
   },
   "outputs": [],
   "source": [
    "##########################################################################################\n",
    "# Empty Module #4\n",
    "# 입력: 단어 토큰화된 데이터\n",
    "# 출력: 임베딩 과정을 거쳐, 각 단어가 하나의 실수 값으로 표현된 데이터\n",
    "# 입력 예시: [\"커피\", \"역시\", \"학생\", \"회관\", \"커피\"]\n",
    "# 출력 예시: [0, 1, 2, 3, 0]\n",
    "##########################################################################################\n",
    "\n",
    "embedding_dict = dict()  # 단어 임베딩을 위한 딕셔너리\n",
    "embedding_value = 0\n",
    "\n",
    "def embed_tokens(sentence_tokenized, mode):\n",
    "    assert mode.upper() in [\"TRAIN\", \"TEST\"]\n",
    "    global embedding_value\n",
    "    \n",
    "    sentence_embedded = list()#반환값을 저장할 리스트 생성\n",
    "    for word in sentence_tokenized:\n",
    "        # 코드 작성\n",
    "        if mode == \"TRAIN\": #train 모드일때\n",
    "            if word not in embedding_dict.keys(): #embedding_dict에 없는 새로운 단어라면\n",
    "                embedding_dict[word] = embedding_value #embedding_dict에 word를 키, embedding_value를 value로 추가\n",
    "                embedding_value += 1 #embedding_value에 값을 추가\n",
    "            sentence_embedded.append(embedding_dict[word]) #sentence_embedded에 word의 embedding_value를 순서대로 저장\n",
    "        else: #test 모드일때\n",
    "            if word in embedding_dict.keys(): #embedding_dict에 단어가 존재할 때만\n",
    "                sentence_embedded.append(embedding_dict[word]) #sentence_embedded에 word의 embedding_value를 순서대로 저장\n",
    "            else: pass\n",
    "    \n",
    "    return sentence_embedded"
   ]
  },
  {
   "cell_type": "code",
   "execution_count": 12,
   "id": "6fce3c56",
   "metadata": {
    "execution": {
     "iopub.execute_input": "2023-06-04T12:07:36.972515Z",
     "iopub.status.busy": "2023-06-04T12:07:36.972112Z",
     "iopub.status.idle": "2023-06-04T12:07:38.056154Z",
     "shell.execute_reply": "2023-06-04T12:07:38.054865Z"
    },
    "papermill": {
     "duration": 1.313265,
     "end_time": "2023-06-04T12:07:38.059155",
     "exception": false,
     "start_time": "2023-06-04T12:07:36.745890",
     "status": "completed"
    },
    "tags": []
   },
   "outputs": [
    {
     "name": "stderr",
     "output_type": "stream",
     "text": [
      "embedding data: 100%|██████████| 149993/149993 [00:01<00:00, 139563.87it/s]"
     ]
    },
    {
     "name": "stdout",
     "output_type": "stream",
     "text": [
      "[[0, 1, 2, 3, 4, 5], [6, 7, 8, 9], [10, 11, 12, 13, 14], [15, 16, 17, 18, 19, 20], [21, 4, 14]]\n",
      "총 44229개의 단어가 임베딩되었습니다.\n"
     ]
    },
    {
     "name": "stderr",
     "output_type": "stream",
     "text": [
      "\n"
     ]
    }
   ],
   "source": [
    "# 실행 시간이 제법 소요됩니다. 비정상이 아니니 걱정하지 않으셔도 됩니다.\n",
    "x_train_embedded = [embed_tokens(x, mode=\"TRAIN\") for x in tqdm(x_train_stopwords_excluded, desc=\"embedding data\")]\n",
    "print(x_train_embedded[:5])\n",
    "print(\"총 %d개의 단어가 임베딩되었습니다.\"%(embedding_value))"
   ]
  },
  {
   "cell_type": "markdown",
   "id": "7450a6fb",
   "metadata": {
    "papermill": {
     "duration": 0.223289,
     "end_time": "2023-06-04T12:07:38.578630",
     "exception": false,
     "start_time": "2023-06-04T12:07:38.355341",
     "status": "completed"
    },
    "tags": []
   },
   "source": [
    "## \\[Empty Module #5\\] 문장 벡터화\n",
    "### Bag of Words 방법을 사용한 문장 벡터화\n",
    "- 캐글 프로젝트 설명 페이지의 Bag of Words 방법 설명을 참고하여 Bag of Words 방법을 직접 구현해봅시다."
   ]
  },
  {
   "cell_type": "code",
   "execution_count": 13,
   "id": "b71542db",
   "metadata": {
    "execution": {
     "iopub.execute_input": "2023-06-04T12:07:39.026710Z",
     "iopub.status.busy": "2023-06-04T12:07:39.025610Z",
     "iopub.status.idle": "2023-06-04T12:07:41.429605Z",
     "shell.execute_reply": "2023-06-04T12:07:41.427656Z"
    },
    "papermill": {
     "duration": 2.630369,
     "end_time": "2023-06-04T12:07:41.432307",
     "exception": false,
     "start_time": "2023-06-04T12:07:38.801938",
     "status": "completed"
    },
    "tags": []
   },
   "outputs": [
    {
     "name": "stderr",
     "output_type": "stream",
     "text": [
      "making BoW representation: 100%|██████████| 149993/149993 [00:02<00:00, 62726.32it/s]\n"
     ]
    }
   ],
   "source": [
    "##########################################################################################\n",
    "# Empty Module #5\n",
    "# 입력: 임베딩 과정을 거친 데이터\n",
    "# 출력: BoW 형태로 변환되어, M차원의 고정된 크기를 가진 벡터로 변환된 데이터\n",
    "# 힌트: np.zeros((2, 3))는 [2, 3] 크기의 0으로 가득 찬 행렬을 생성합니다.\n",
    "##########################################################################################\n",
    "M = embedding_value# 전체 단어의 수\n",
    "\n",
    "def to_BoW_representation(x):\n",
    "    shape = (len(x),M)# BoW는 어떤 shape를 가져야 할까요? BoW는 행으로 전체 doc의 개수를 열로 전체 단어의 수를 가져야 합니다.\n",
    "    x_BoW = np.zeros(shape)\n",
    "    for i in tqdm(range(len(x)), desc=\"making BoW representation\"):\n",
    "        # 여기에 BoW 구현\n",
    "        for word in x[i]:#하나의 doc list 안에 있는 word index를 가지고\n",
    "            x_BoW[i, word] += 1 #해당하는 doc의 word columns 값에 맞는 자리에 1을 더해서 개수를 알려주겠다\n",
    "    return x_BoW\n",
    "x_train_BoW = to_BoW_representation(x_train_embedded)"
   ]
  },
  {
   "cell_type": "markdown",
   "id": "ddf4c6cf",
   "metadata": {
    "papermill": {
     "duration": 0.230279,
     "end_time": "2023-06-04T12:07:41.901263",
     "exception": false,
     "start_time": "2023-06-04T12:07:41.670984",
     "status": "completed"
    },
    "tags": []
   },
   "source": [
    "## \\[Empty Module #6\\] 차원 축소\n",
    "- 우리가 만든 BoW는 수많은 리뷰에 등장하는 모든 단어들을 사용하여 만들어졌기 때문에, 엄청난 양의 단어들을 가지고 있습니다.\n",
    "- 그러나, 실제로 영화 리뷰에 쓰이는 단어들은 이보다 적기 때문에, 많은 단어들이 전체 데이터에서 실제로는 한번도 등장하지 않거나, 매우 조금 등장하면서 공간을 차지하고 있을 것 입니다.\n",
    "- 데이터의 크기를 줄여 머신러닝 모델이 중요한 정보에 집중할 수 있도록 해봅시다.\n",
    "- <mark>학습 데이터에서 50번 미만으로 등장한 단어들을 제외</mark>해줍니다."
   ]
  },
  {
   "cell_type": "code",
   "execution_count": 14,
   "id": "64f2f7a3",
   "metadata": {
    "execution": {
     "iopub.execute_input": "2023-06-04T12:07:42.356054Z",
     "iopub.status.busy": "2023-06-04T12:07:42.355756Z",
     "iopub.status.idle": "2023-06-04T12:07:42.360139Z",
     "shell.execute_reply": "2023-06-04T12:07:42.359122Z"
    },
    "papermill": {
     "duration": 0.235557,
     "end_time": "2023-06-04T12:07:42.361866",
     "exception": false,
     "start_time": "2023-06-04T12:07:42.126309",
     "status": "completed"
    },
    "tags": []
   },
   "outputs": [],
   "source": [
    "##########################################################################################\n",
    "# Empty Module #6\n",
    "# 입력: BoW 형태로 변환된 (N, M) 크기의 데이터\n",
    "# 출력: 등장 빈도가 적은 단어들을 제외한 (N, m) 크기의 더 작은 데이터\n",
    "##########################################################################################"
   ]
  },
  {
   "cell_type": "code",
   "execution_count": 15,
   "id": "03444430",
   "metadata": {
    "execution": {
     "iopub.execute_input": "2023-06-04T12:07:42.884016Z",
     "iopub.status.busy": "2023-06-04T12:07:42.883488Z",
     "iopub.status.idle": "2023-06-04T12:07:42.888501Z",
     "shell.execute_reply": "2023-06-04T12:07:42.887101Z"
    },
    "papermill": {
     "duration": 0.304315,
     "end_time": "2023-06-04T12:07:42.890852",
     "exception": false,
     "start_time": "2023-06-04T12:07:42.586537",
     "status": "completed"
    },
    "tags": []
   },
   "outputs": [],
   "source": [
    "# 힌트\n",
    "# 1. 먼저 전체 데이터에서 각 단어가 등장한 횟수를 세어보세요.\n",
    "# 2. 그 다음, 등장 횟수가 50회 미만인 단어들을 찾습니다.\n",
    "# 3. 해당 단어들을 데이터에서 제거하는 코드를 작성합니다.\n",
    "# 4. 설계를 잘 하고 구현을 시작해야 어렵지 않습니다."
   ]
  },
  {
   "cell_type": "code",
   "execution_count": 16,
   "id": "887861c8",
   "metadata": {
    "execution": {
     "iopub.execute_input": "2023-06-04T12:07:43.344532Z",
     "iopub.status.busy": "2023-06-04T12:07:43.343970Z",
     "iopub.status.idle": "2023-06-04T12:09:13.695548Z",
     "shell.execute_reply": "2023-06-04T12:09:13.693870Z"
    },
    "papermill": {
     "duration": 90.581836,
     "end_time": "2023-06-04T12:09:13.697678",
     "exception": false,
     "start_time": "2023-06-04T12:07:43.115842",
     "status": "completed"
    },
    "tags": []
   },
   "outputs": [
    {
     "name": "stderr",
     "output_type": "stream",
     "text": [
      "100%|██████████| 44229/44229 [01:20<00:00, 546.87it/s]\n"
     ]
    },
    {
     "name": "stdout",
     "output_type": "stream",
     "text": [
      "원본 BoW 크기: (149993, 44229)\n",
      "차원 축소 후 크기: (149993, 3112)\n"
     ]
    }
   ],
   "source": [
    "# 여기에 코드 작성\n",
    "save_columns = list() #뽑아낼 열 index를 저장할 리스트\n",
    "for word_num in tqdm(range(embedding_value)): #각 열의 값을 모두 더하면\n",
    "    count = np.sum(x_train_BoW[:,word_num]) #해당 열에 해당하는 단어가 총 몇 번 나왔는지 알 수 있음\n",
    "    if count >= 50: #50개 이상일 경우\n",
    "        save_columns.append(word_num)#앞서 언급한 리스트에 해당 열 index를 저장\n",
    "\n",
    "x_train_BoW_reduced = x_train_BoW[:,save_columns]#해당 열 index에 맞는 열만 있는 차원이 축소된 새로운 데이터 생성\n",
    "print(\"원본 BoW 크기:\", x_train_BoW.shape)\n",
    "print(\"차원 축소 후 크기:\", x_train_BoW_reduced.shape)"
   ]
  },
  {
   "cell_type": "markdown",
   "id": "38550daf",
   "metadata": {
    "papermill": {
     "duration": 0.261698,
     "end_time": "2023-06-04T12:09:14.224215",
     "exception": false,
     "start_time": "2023-06-04T12:09:13.962517",
     "status": "completed"
    },
    "tags": []
   },
   "source": [
    "## \\[Empty Module #7\\]  분류 수행 및 제출: Bag of Words\n",
    "- 이제 모든 문장이 고정된 크기 $m$ 차원의 벡터로 변환되었습니다.\n",
    "- 원하는 모델을 사용하여, 각 문장의 영화에 대한 긍정적인 리뷰인지, 부정적인 리뷰인지 분류해봅시다.(Baseline 모델은 로지스틱 회귀입니다)\n",
    "- 그 다음, 결과를 기록하여 Kaggle에 제출해봅시다!"
   ]
  },
  {
   "cell_type": "code",
   "execution_count": 17,
   "id": "75f7482b",
   "metadata": {
    "execution": {
     "iopub.execute_input": "2023-06-04T12:09:14.820799Z",
     "iopub.status.busy": "2023-06-04T12:09:14.820390Z",
     "iopub.status.idle": "2023-06-04T12:09:14.824296Z",
     "shell.execute_reply": "2023-06-04T12:09:14.823163Z"
    },
    "papermill": {
     "duration": 0.271293,
     "end_time": "2023-06-04T12:09:14.826793",
     "exception": false,
     "start_time": "2023-06-04T12:09:14.555500",
     "status": "completed"
    },
    "tags": []
   },
   "outputs": [],
   "source": [
    "##########################################################################################\n",
    "# Empty Module #7\n",
    "# 지금까지 전처리한 데이터로 분류를 수행하여, kaggle에 제출해봅시다.\n",
    "# Baseline은 로지스틱 회귀입니다.\n",
    "##########################################################################################\n",
    "# 분류기 정의 및 학습 수행 코드 작성"
   ]
  },
  {
   "cell_type": "code",
   "execution_count": 18,
   "id": "280cbe9d",
   "metadata": {
    "execution": {
     "iopub.execute_input": "2023-06-04T12:09:15.350479Z",
     "iopub.status.busy": "2023-06-04T12:09:15.350155Z",
     "iopub.status.idle": "2023-06-04T12:14:48.543390Z",
     "shell.execute_reply": "2023-06-04T12:14:48.541887Z"
    },
    "papermill": {
     "duration": 333.45876,
     "end_time": "2023-06-04T12:14:48.545811",
     "exception": false,
     "start_time": "2023-06-04T12:09:15.087051",
     "status": "completed"
    },
    "tags": []
   },
   "outputs": [
    {
     "name": "stderr",
     "output_type": "stream",
     "text": [
      "/tmp/ipykernel_20/2702516150.py:3: FutureWarning: iteritems is deprecated and will be removed in a future version. Use .items instead.\n",
      "  x_test_preprocessed = [apply_regex(pattern, str(x[1])) for x in tqdm(x_test.iteritems(), total=len(x_test), desc=\"pre-processing data\")]\n",
      "pre-processing data: 100%|██████████| 49999/49999 [00:00<00:00, 335697.67it/s]\n",
      "tokenizing data: 100%|██████████| 49999/49999 [05:28<00:00, 151.99it/s]\n",
      "embedding data: 100%|██████████| 49999/49999 [00:00<00:00, 177865.74it/s]\n",
      "making BoW representation: 100%|██████████| 49999/49999 [00:00<00:00, 60234.19it/s]\n"
     ]
    }
   ],
   "source": [
    "# TEST 데이터를 전처리\n",
    "x_test = test_data[\"review\"]\n",
    "x_test_preprocessed = [apply_regex(pattern, str(x[1])) for x in tqdm(x_test.iteritems(), total=len(x_test), desc=\"pre-processing data\")]\n",
    "x_test_tokenized = [tokenize_words(x) for x in tqdm(x_test_preprocessed, desc=\"tokenizing data\")]\n",
    "x_test_stopwords_excluded = [exclude_stopwords(x) for x in x_test_tokenized]\n",
    "x_test_embedded = [embed_tokens(x, mode=\"TEST\") for x in tqdm(x_test_stopwords_excluded, desc=\"embedding data\")]\n",
    "x_test_BoW = to_BoW_representation(x_test_embedded)\n",
    "x_test_BoW_reduced = x_test_BoW[:,save_columns]"
   ]
  },
  {
   "cell_type": "code",
   "execution_count": 19,
   "id": "5dd88861",
   "metadata": {
    "execution": {
     "iopub.execute_input": "2023-06-04T12:14:49.247882Z",
     "iopub.status.busy": "2023-06-04T12:14:49.247201Z",
     "iopub.status.idle": "2023-06-04T12:16:15.323156Z",
     "shell.execute_reply": "2023-06-04T12:16:15.322286Z"
    },
    "papermill": {
     "duration": 86.433824,
     "end_time": "2023-06-04T12:16:15.325487",
     "exception": false,
     "start_time": "2023-06-04T12:14:48.891663",
     "status": "completed"
    },
    "tags": []
   },
   "outputs": [
    {
     "name": "stderr",
     "output_type": "stream",
     "text": [
      "/opt/conda/lib/python3.10/site-packages/scipy/__init__.py:146: UserWarning: A NumPy version >=1.16.5 and <1.23.0 is required for this version of SciPy (detected version 1.23.5\n",
      "  warnings.warn(f\"A NumPy version >={np_minversion} and <{np_maxversion}\"\n"
     ]
    }
   ],
   "source": [
    "# TEST 데이터에 대한 예측 수행 코드 작성\n",
    "from sklearn.linear_model import LogisticRegression #로지스틱 회귀를 통해 예측할 것이다.\n",
    "model = LogisticRegression(max_iter = 1000) #수렴할 수 있도록 충분한 iteration값을 줌\n",
    "model.fit(x_train_BoW_reduced,y_train)#학습데이터로 학습\n",
    "predict = model.predict(x_test_BoW_reduced)#테스트 데이터로 예측"
   ]
  },
  {
   "cell_type": "code",
   "execution_count": 20,
   "id": "27de5340",
   "metadata": {
    "execution": {
     "iopub.execute_input": "2023-06-04T12:16:16.118954Z",
     "iopub.status.busy": "2023-06-04T12:16:16.118631Z",
     "iopub.status.idle": "2023-06-04T12:16:16.204503Z",
     "shell.execute_reply": "2023-06-04T12:16:16.202835Z"
    },
    "papermill": {
     "duration": 0.513612,
     "end_time": "2023-06-04T12:16:16.207512",
     "exception": false,
     "start_time": "2023-06-04T12:16:15.693900",
     "status": "completed"
    },
    "tags": []
   },
   "outputs": [],
   "source": [
    "submit = pd.read_csv(\"/kaggle/input/2023-ml-project1/sample_submission.csv\", index_col=0)\n",
    "# TEST 데이터에 대한 예측 값을 csv로 저장하는 코드 작성\n",
    "submit['rating'] = predict #예측한 값 저장\n",
    "submit.to_csv(\"bow_submit.csv\",header=True,index=True)#예측한 값 csv로 저장"
   ]
  },
  {
   "cell_type": "markdown",
   "id": "78269a0d",
   "metadata": {
    "papermill": {
     "duration": 0.343026,
     "end_time": "2023-06-04T12:16:16.891401",
     "exception": false,
     "start_time": "2023-06-04T12:16:16.548375",
     "status": "completed"
    },
    "tags": []
   },
   "source": [
    "## \\[Empty Module #8\\] TF-IDF 적용\n",
    "- BoW에서는 고려하지 않는 각 단어들의 중요도를 고려하기 위해, TF-IDF를 적용해봅시다.\n",
    "- 캐글 프로젝트 설명 페이지의 설명을 참고하여 빈칸을 채워, TF-IDF를 구현해봅시다."
   ]
  },
  {
   "cell_type": "code",
   "execution_count": 21,
   "id": "4f008cce",
   "metadata": {
    "execution": {
     "iopub.execute_input": "2023-06-04T12:16:17.568887Z",
     "iopub.status.busy": "2023-06-04T12:16:17.568203Z",
     "iopub.status.idle": "2023-06-04T12:16:54.267052Z",
     "shell.execute_reply": "2023-06-04T12:16:54.265688Z"
    },
    "papermill": {
     "duration": 37.037974,
     "end_time": "2023-06-04T12:16:54.269058",
     "exception": false,
     "start_time": "2023-06-04T12:16:17.231084",
     "status": "completed"
    },
    "tags": []
   },
   "outputs": [
    {
     "name": "stderr",
     "output_type": "stream",
     "text": [
      "100%|██████████| 3112/3112 [00:36<00:00, 86.41it/s]\n"
     ]
    }
   ],
   "source": [
    "##########################################################################################\n",
    "# Empty Module #8\n",
    "# 빈칸을 적절히 채워넣어 TF-IDF를 위한 Inverse Document Frequency를 계산해봅시다.\n",
    "##########################################################################################\n",
    "N = len(x_train_BoW)  # 총 데이터 샘플의 수\n",
    "\n",
    "def calculate_document_frequency(x):\n",
    "    # 어떤 단어가 등장하는 데이터 샘플(문서)의 수(DF)를 계산하는 코드 작성\n",
    "    x=np.array(x)#들어오는 데이터를 넘파이 배열로 변경\n",
    "    document_frequency=[]#df를 저장할 리스트 생성\n",
    "    for inx in tqdm(range(x.shape[1])):#데이터의 열값, 즉 단어에 따라\n",
    "        DF = len([doc for doc in x[:,inx] if doc != 0])#문서에 해당하는 값이 0이 아니라면 리스트에 저장하고 0이 아닌 값들의 개수를 세어줌.\n",
    "        document_frequency.append(DF)#열 순서로 저장\n",
    "    return document_frequency#반환\n",
    "    \n",
    "def calculate_inverse_document_frequency(document_frequency):\n",
    "    # DF에 반비례하는 IDF를 계산하는 코드 작성\n",
    "    return [np.log(N/(df+1)) for df in document_frequency]#각 열에 따라 IDF를 계산하는 수식을 대입한 값을 반환\n",
    "\n",
    "document_frequency = calculate_document_frequency(x_train_BoW_reduced) # 여기에 코드 작성\n",
    "inverse_document_frequency = calculate_inverse_document_frequency(document_frequency) # 여기에 코드 작성"
   ]
  },
  {
   "cell_type": "code",
   "execution_count": 22,
   "id": "777a8a44",
   "metadata": {
    "execution": {
     "iopub.execute_input": "2023-06-04T12:16:54.992248Z",
     "iopub.status.busy": "2023-06-04T12:16:54.991655Z",
     "iopub.status.idle": "2023-06-04T12:16:56.968601Z",
     "shell.execute_reply": "2023-06-04T12:16:56.967491Z"
    },
    "papermill": {
     "duration": 2.344096,
     "end_time": "2023-06-04T12:16:56.970957",
     "exception": false,
     "start_time": "2023-06-04T12:16:54.626861",
     "status": "completed"
    },
    "tags": []
   },
   "outputs": [],
   "source": [
    "x_train_tfidf = np.array([x_train_BoW_reduced[:,indx]*inverse_document_frequency[indx] for indx in range(len(inverse_document_frequency))]).T # 해당 단어에 맞게 데이터에 IDF값을 곱해줌."
   ]
  },
  {
   "cell_type": "markdown",
   "id": "85085eff",
   "metadata": {
    "papermill": {
     "duration": 0.358691,
     "end_time": "2023-06-04T12:16:57.691613",
     "exception": false,
     "start_time": "2023-06-04T12:16:57.332922",
     "status": "completed"
    },
    "tags": []
   },
   "source": [
    "## \\[Empty Module #9\\]  분류 수행 및 제출: TF-IDF\n",
    "- TF-IDF를 적용한 결과를 기록하여 Kaggle에 제출해봅시다!"
   ]
  },
  {
   "cell_type": "code",
   "execution_count": 23,
   "id": "46665019",
   "metadata": {
    "execution": {
     "iopub.execute_input": "2023-06-04T12:16:58.482979Z",
     "iopub.status.busy": "2023-06-04T12:16:58.482598Z",
     "iopub.status.idle": "2023-06-04T12:17:32.301042Z",
     "shell.execute_reply": "2023-06-04T12:17:32.299822Z"
    },
    "papermill": {
     "duration": 34.652966,
     "end_time": "2023-06-04T12:17:32.706024",
     "exception": false,
     "start_time": "2023-06-04T12:16:58.053058",
     "status": "completed"
    },
    "tags": []
   },
   "outputs": [
    {
     "data": {
      "text/html": [
       "<style>#sk-container-id-1 {color: black;background-color: white;}#sk-container-id-1 pre{padding: 0;}#sk-container-id-1 div.sk-toggleable {background-color: white;}#sk-container-id-1 label.sk-toggleable__label {cursor: pointer;display: block;width: 100%;margin-bottom: 0;padding: 0.3em;box-sizing: border-box;text-align: center;}#sk-container-id-1 label.sk-toggleable__label-arrow:before {content: \"▸\";float: left;margin-right: 0.25em;color: #696969;}#sk-container-id-1 label.sk-toggleable__label-arrow:hover:before {color: black;}#sk-container-id-1 div.sk-estimator:hover label.sk-toggleable__label-arrow:before {color: black;}#sk-container-id-1 div.sk-toggleable__content {max-height: 0;max-width: 0;overflow: hidden;text-align: left;background-color: #f0f8ff;}#sk-container-id-1 div.sk-toggleable__content pre {margin: 0.2em;color: black;border-radius: 0.25em;background-color: #f0f8ff;}#sk-container-id-1 input.sk-toggleable__control:checked~div.sk-toggleable__content {max-height: 200px;max-width: 100%;overflow: auto;}#sk-container-id-1 input.sk-toggleable__control:checked~label.sk-toggleable__label-arrow:before {content: \"▾\";}#sk-container-id-1 div.sk-estimator input.sk-toggleable__control:checked~label.sk-toggleable__label {background-color: #d4ebff;}#sk-container-id-1 div.sk-label input.sk-toggleable__control:checked~label.sk-toggleable__label {background-color: #d4ebff;}#sk-container-id-1 input.sk-hidden--visually {border: 0;clip: rect(1px 1px 1px 1px);clip: rect(1px, 1px, 1px, 1px);height: 1px;margin: -1px;overflow: hidden;padding: 0;position: absolute;width: 1px;}#sk-container-id-1 div.sk-estimator {font-family: monospace;background-color: #f0f8ff;border: 1px dotted black;border-radius: 0.25em;box-sizing: border-box;margin-bottom: 0.5em;}#sk-container-id-1 div.sk-estimator:hover {background-color: #d4ebff;}#sk-container-id-1 div.sk-parallel-item::after {content: \"\";width: 100%;border-bottom: 1px solid gray;flex-grow: 1;}#sk-container-id-1 div.sk-label:hover label.sk-toggleable__label {background-color: #d4ebff;}#sk-container-id-1 div.sk-serial::before {content: \"\";position: absolute;border-left: 1px solid gray;box-sizing: border-box;top: 0;bottom: 0;left: 50%;z-index: 0;}#sk-container-id-1 div.sk-serial {display: flex;flex-direction: column;align-items: center;background-color: white;padding-right: 0.2em;padding-left: 0.2em;position: relative;}#sk-container-id-1 div.sk-item {position: relative;z-index: 1;}#sk-container-id-1 div.sk-parallel {display: flex;align-items: stretch;justify-content: center;background-color: white;position: relative;}#sk-container-id-1 div.sk-item::before, #sk-container-id-1 div.sk-parallel-item::before {content: \"\";position: absolute;border-left: 1px solid gray;box-sizing: border-box;top: 0;bottom: 0;left: 50%;z-index: -1;}#sk-container-id-1 div.sk-parallel-item {display: flex;flex-direction: column;z-index: 1;position: relative;background-color: white;}#sk-container-id-1 div.sk-parallel-item:first-child::after {align-self: flex-end;width: 50%;}#sk-container-id-1 div.sk-parallel-item:last-child::after {align-self: flex-start;width: 50%;}#sk-container-id-1 div.sk-parallel-item:only-child::after {width: 0;}#sk-container-id-1 div.sk-dashed-wrapped {border: 1px dashed gray;margin: 0 0.4em 0.5em 0.4em;box-sizing: border-box;padding-bottom: 0.4em;background-color: white;}#sk-container-id-1 div.sk-label label {font-family: monospace;font-weight: bold;display: inline-block;line-height: 1.2em;}#sk-container-id-1 div.sk-label-container {text-align: center;}#sk-container-id-1 div.sk-container {/* jupyter's `normalize.less` sets `[hidden] { display: none; }` but bootstrap.min.css set `[hidden] { display: none !important; }` so we also need the `!important` here to be able to override the default hidden behavior on the sphinx rendered scikit-learn.org. See: https://github.com/scikit-learn/scikit-learn/issues/21755 */display: inline-block !important;position: relative;}#sk-container-id-1 div.sk-text-repr-fallback {display: none;}</style><div id=\"sk-container-id-1\" class=\"sk-top-container\"><div class=\"sk-text-repr-fallback\"><pre>LogisticRegression(max_iter=1000)</pre><b>In a Jupyter environment, please rerun this cell to show the HTML representation or trust the notebook. <br />On GitHub, the HTML representation is unable to render, please try loading this page with nbviewer.org.</b></div><div class=\"sk-container\" hidden><div class=\"sk-item\"><div class=\"sk-estimator sk-toggleable\"><input class=\"sk-toggleable__control sk-hidden--visually\" id=\"sk-estimator-id-1\" type=\"checkbox\" checked><label for=\"sk-estimator-id-1\" class=\"sk-toggleable__label sk-toggleable__label-arrow\">LogisticRegression</label><div class=\"sk-toggleable__content\"><pre>LogisticRegression(max_iter=1000)</pre></div></div></div></div></div>"
      ],
      "text/plain": [
       "LogisticRegression(max_iter=1000)"
      ]
     },
     "execution_count": 23,
     "metadata": {},
     "output_type": "execute_result"
    }
   ],
   "source": [
    "##########################################################################################\n",
    "# Empty Module #9\n",
    "# TEST 데이터에 TF-IDF를 적용하여 모델을 학습, 예측을 수행하고 kaggle에 제출해봅시다.\n",
    "# 이때, BoW와 같은 모델을 사용하여 성능을 비교해봅시다.\n",
    "##########################################################################################\n",
    "# 분류기 정의 및 학습 수행 코드 작성\n",
    "model = LogisticRegression(max_iter = 1000) #수렴할 수 있도록 충분한 iteration값을 줌\n",
    "model.fit(x_train_tfidf,y_train) #학습데이터로 학습"
   ]
  },
  {
   "cell_type": "code",
   "execution_count": 24,
   "id": "86e33b31",
   "metadata": {
    "execution": {
     "iopub.execute_input": "2023-06-04T12:17:33.446636Z",
     "iopub.status.busy": "2023-06-04T12:17:33.446167Z",
     "iopub.status.idle": "2023-06-04T12:17:46.810858Z",
     "shell.execute_reply": "2023-06-04T12:17:46.809226Z"
    },
    "papermill": {
     "duration": 13.737414,
     "end_time": "2023-06-04T12:17:46.814312",
     "exception": false,
     "start_time": "2023-06-04T12:17:33.076898",
     "status": "completed"
    },
    "tags": []
   },
   "outputs": [
    {
     "name": "stderr",
     "output_type": "stream",
     "text": [
      "100%|██████████| 3112/3112 [00:12<00:00, 257.60it/s]\n"
     ]
    }
   ],
   "source": [
    "# TEST 데이터를 전처리하는 코드 작성\n",
    "test_document_frequency = calculate_document_frequency(x_test_BoW_reduced) # 여기에 코드 작성\n",
    "test_inverse_document_frequency = calculate_inverse_document_frequency(document_frequency) # 여기에 코드 작성\n",
    "x_test_tfidf = np.array([x_test_BoW_reduced[:,indx]*test_inverse_document_frequency[indx] for indx in range(len(test_inverse_document_frequency))]).T# 데이터에 위에서 구한 IDF를 곱하는 코드 작성"
   ]
  },
  {
   "cell_type": "code",
   "execution_count": 25,
   "id": "3fd9656a",
   "metadata": {
    "execution": {
     "iopub.execute_input": "2023-06-04T12:17:47.657350Z",
     "iopub.status.busy": "2023-06-04T12:17:47.656936Z",
     "iopub.status.idle": "2023-06-04T12:17:47.777735Z",
     "shell.execute_reply": "2023-06-04T12:17:47.776852Z"
    },
    "papermill": {
     "duration": 0.497437,
     "end_time": "2023-06-04T12:17:47.780075",
     "exception": false,
     "start_time": "2023-06-04T12:17:47.282638",
     "status": "completed"
    },
    "tags": []
   },
   "outputs": [],
   "source": [
    "# 예측을 수행하는 코드 작성\n",
    "predict = model.predict(x_test_tfidf)#테스트 데이터로 예측"
   ]
  },
  {
   "cell_type": "code",
   "execution_count": 26,
   "id": "48fb1253",
   "metadata": {
    "execution": {
     "iopub.execute_input": "2023-06-04T12:17:48.617449Z",
     "iopub.status.busy": "2023-06-04T12:17:48.617088Z",
     "iopub.status.idle": "2023-06-04T12:17:48.687609Z",
     "shell.execute_reply": "2023-06-04T12:17:48.686103Z"
    },
    "papermill": {
     "duration": 0.517811,
     "end_time": "2023-06-04T12:17:48.690449",
     "exception": false,
     "start_time": "2023-06-04T12:17:48.172638",
     "status": "completed"
    },
    "tags": []
   },
   "outputs": [],
   "source": [
    "submit = pd.read_csv(\"/kaggle/input/2023-ml-project1/sample_submission.csv\", index_col=0)\n",
    "# TEST 데이터에 대한 예측 값을 csv로 저장하는 코드 작성\n",
    "submit['rating'] = predict #예측한 값 저장\n",
    "submit.to_csv(\"tfidf_submit.csv\",header=True,index=True)#예측한 값 csv로 저장"
   ]
  },
  {
   "cell_type": "markdown",
   "id": "cdea92bc",
   "metadata": {
    "papermill": {
     "duration": 0.373983,
     "end_time": "2023-06-04T12:17:49.433013",
     "exception": false,
     "start_time": "2023-06-04T12:17:49.059030",
     "status": "completed"
    },
    "tags": []
   },
   "source": [
    "## 결과 비교 TIP\n",
    "- BoW와 TF-IDF에 같은 모델을 적용하여 성능의 차이를 비교해봅시다.\n",
    "- 각각의 방법론에 여러가지 모델을 적용하며, 사용한 방법에 따라 더 적절한 모델이 있는지 고려해봅시다.\n",
    "- 실험 결과들을 토대로, 왜 이런 결과가 도출되었는지 고민해봅시다."
   ]
  },
  {
   "cell_type": "code",
   "execution_count": 27,
   "id": "7d0950b7",
   "metadata": {
    "execution": {
     "iopub.execute_input": "2023-06-04T12:17:50.184815Z",
     "iopub.status.busy": "2023-06-04T12:17:50.184410Z",
     "iopub.status.idle": "2023-06-04T12:17:50.190125Z",
     "shell.execute_reply": "2023-06-04T12:17:50.188525Z"
    },
    "papermill": {
     "duration": 0.390484,
     "end_time": "2023-06-04T12:17:50.193100",
     "exception": false,
     "start_time": "2023-06-04T12:17:49.802616",
     "status": "completed"
    },
    "tags": []
   },
   "outputs": [],
   "source": [
    "# from sklearn.naive_bayes import BernoulliNB\n",
    "# model = BernoulliNB()\n",
    "# model.fit(x_train_tfidf,y_train)\n",
    "# predict = model.predict(x_test_tfidf)\n",
    "\n",
    "# submit = pd.read_csv(\"/kaggle/input/2023-ml-project1/sample_submission.csv\", index_col=0)\n",
    "# # TEST 데이터에 대한 예측 값을 csv로 저장하는 코드 작성\n",
    "# submit['rating'] = predict\n",
    "# submit.to_csv(\"tfidf_naive_submit.csv\",header=True,index=True)"
   ]
  },
  {
   "cell_type": "code",
   "execution_count": 28,
   "id": "879981e5",
   "metadata": {
    "execution": {
     "iopub.execute_input": "2023-06-04T12:17:51.019025Z",
     "iopub.status.busy": "2023-06-04T12:17:51.018612Z",
     "iopub.status.idle": "2023-06-04T12:17:51.023017Z",
     "shell.execute_reply": "2023-06-04T12:17:51.021828Z"
    },
    "papermill": {
     "duration": 0.378279,
     "end_time": "2023-06-04T12:17:51.025425",
     "exception": false,
     "start_time": "2023-06-04T12:17:50.647146",
     "status": "completed"
    },
    "tags": []
   },
   "outputs": [],
   "source": [
    "# from sklearn.naive_bayes import BernoulliNB\n",
    "# model = BernoulliNB()\n",
    "# model.fit(x_train_BoW_reduced,y_train)\n",
    "# predict = model.predict(x_test_BoW_reduced)\n",
    "\n",
    "# submit = pd.read_csv(\"/kaggle/input/2023-ml-project1/sample_submission.csv\", index_col=0)\n",
    "# # TEST 데이터에 대한 예측 값을 csv로 저장하는 코드 작성\n",
    "# submit['rating'] = predict\n",
    "# submit.to_csv(\"naive_submit.csv\",header=True,index=True)"
   ]
  },
  {
   "cell_type": "code",
   "execution_count": 29,
   "id": "c9d5c838",
   "metadata": {
    "execution": {
     "iopub.execute_input": "2023-06-04T12:17:51.774531Z",
     "iopub.status.busy": "2023-06-04T12:17:51.774083Z",
     "iopub.status.idle": "2023-06-04T12:17:51.779697Z",
     "shell.execute_reply": "2023-06-04T12:17:51.778063Z"
    },
    "papermill": {
     "duration": 0.387584,
     "end_time": "2023-06-04T12:17:51.782518",
     "exception": false,
     "start_time": "2023-06-04T12:17:51.394934",
     "status": "completed"
    },
    "tags": []
   },
   "outputs": [],
   "source": [
    "# from sklearn.neighbors import KNeighborsClassifier\n",
    "# model = KNeighborsClassifier()\n",
    "# model.fit(x_train_BoW_reduced,y_train)\n",
    "# predict = model.predict(x_test_BoW_reduced)\n",
    "\n",
    "# submit = pd.read_csv(\"/kaggle/input/2023-ml-project1/sample_submission.csv\", index_col=0)\n",
    "# # TEST 데이터에 대한 예측 값을 csv로 저장하는 코드 작성\n",
    "# submit['rating'] = predict\n",
    "# submit.to_csv(\"bow_knc_submit.csv\",header=True,index=True)"
   ]
  },
  {
   "cell_type": "code",
   "execution_count": null,
   "id": "2cbad907",
   "metadata": {
    "papermill": {
     "duration": 0.457042,
     "end_time": "2023-06-04T12:17:52.613450",
     "exception": false,
     "start_time": "2023-06-04T12:17:52.156408",
     "status": "completed"
    },
    "tags": []
   },
   "outputs": [],
   "source": []
  }
 ],
 "metadata": {
  "kernelspec": {
   "display_name": "Python 3",
   "language": "python",
   "name": "python3"
  },
  "language_info": {
   "codemirror_mode": {
    "name": "ipython",
    "version": 3
   },
   "file_extension": ".py",
   "mimetype": "text/x-python",
   "name": "python",
   "nbconvert_exporter": "python",
   "pygments_lexer": "ipython3",
   "version": "3.10.10"
  },
  "papermill": {
   "default_parameters": {},
   "duration": 1399.098894,
   "end_time": "2023-06-04T12:17:55.030104",
   "environment_variables": {},
   "exception": null,
   "input_path": "__notebook__.ipynb",
   "output_path": "__notebook__.ipynb",
   "parameters": {},
   "start_time": "2023-06-04T11:54:35.931210",
   "version": "2.4.0"
  }
 },
 "nbformat": 4,
 "nbformat_minor": 5
}
